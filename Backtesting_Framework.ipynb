{
 "cells": [
  {
   "cell_type": "markdown",
   "metadata": {
    "id": "GaoXvF4UjC6u"
   },
   "source": [
    "# Import packages"
   ]
  },
  {
   "cell_type": "code",
   "execution_count": 2,
   "metadata": {
    "tags": []
   },
   "outputs": [],
   "source": [
    "!pip install -qU newsapi-python\n",
    "!pip install -qU vaderSentiment\n",
    "!pip install -qU yfinance"
   ]
  },
  {
   "cell_type": "code",
   "execution_count": 3,
   "metadata": {
    "tags": []
   },
   "outputs": [],
   "source": [
    "# !pip install black[jupyter]\n",
    "## run source activate python3\n",
    "## black Backtesting_Framework.ipynb in terminal"
   ]
  },
  {
   "cell_type": "code",
   "execution_count": 4,
   "metadata": {
    "id": "BLi2PSllFjLq",
    "tags": []
   },
   "outputs": [
    {
     "name": "stderr",
     "output_type": "stream",
     "text": [
      "Matplotlib is building the font cache; this may take a moment.\n"
     ]
    }
   ],
   "source": [
    "import yfinance as yf\n",
    "import numpy as np\n",
    "import pandas as pd\n",
    "import matplotlib.pyplot as plt\n",
    "import seaborn as sns\n",
    "from abc import ABCMeta, abstractmethod\n",
    "import requests\n",
    "from pandas.tseries.offsets import BDay\n",
    "from newsapi import NewsApiClient\n",
    "from vaderSentiment.vaderSentiment import SentimentIntensityAnalyzer\n",
    "import boto3\n",
    "from botocore.exceptions import ClientError\n",
    "import json\n",
    "\n",
    "%matplotlib inline"
   ]
  },
  {
   "cell_type": "markdown",
   "metadata": {},
   "source": [
    "# Dataloader"
   ]
  },
  {
   "cell_type": "code",
   "execution_count": 5,
   "metadata": {
    "tags": []
   },
   "outputs": [],
   "source": [
    "## Load from Alpaca\n",
    "class DataLoader:\n",
    "    def __init__(self, stock_client):\n",
    "        self.stock_client = stock_client\n",
    "        \n",
    "    def fetch_historical_data(self, symbol, start_date=None, end_date=None):\n",
    "        request_params = StockBarsRequest(\n",
    "                                symbol_or_symbols=[symbol],\n",
    "                                timeframe=TimeFrame.Day,\n",
    "                                start=start_date\n",
    "                        )\n",
    "        bars = self.stock_client.get_stock_bars(request_params)\n",
    "        bars_df = bars.df\n",
    "\n",
    "        bars_df = (\n",
    "            bars_df[['open', 'high', 'low', 'close', 'volume']]\n",
    "            .reset_index().drop('symbol', axis=1)\n",
    "        )\n",
    "\n",
    "        bars = (\n",
    "            bars_df\n",
    "            .set_index(pd.to_datetime(bars_df['timestamp']))\n",
    "            .rename(columns={\n",
    "                'open': 'Open', \n",
    "                'high': 'High', \n",
    "                'low': 'Low', \n",
    "                'close': 'Close', \n",
    "                'volume': 'Volume'\n",
    "                })\n",
    "        )\n",
    "\n",
    "        bars.index = bars.index.strftime('%Y-%m-%d')\n",
    "        bars.index.name = 'Date'\n",
    "\n",
    "        return bars"
   ]
  },
  {
   "cell_type": "markdown",
   "metadata": {
    "id": "JEvpIS8ajFuZ"
   },
   "source": [
    "# Abstract classes"
   ]
  },
  {
   "cell_type": "markdown",
   "metadata": {
    "id": "eVI4kLMnqILg"
   },
   "source": [
    "## Strategy"
   ]
  },
  {
   "cell_type": "code",
   "execution_count": 6,
   "metadata": {
    "id": "dNZ9ht3VsFFm"
   },
   "outputs": [],
   "source": [
    "class Strategy(object):\n",
    "    \"\"\"Strategy is an abstract base class providing an interface for\n",
    "    all subsequent (inherited) trading strategies.\n",
    "\n",
    "    The goal of a (derived) Strategy object is to output a list of signals,\n",
    "    which has the form of a time series indexed pandas DataFrame.\n",
    "\n",
    "    In this instance only a single symbol/instrument is supported.\"\"\"\n",
    "\n",
    "    __metaclass__ = ABCMeta\n",
    "\n",
    "    @abstractmethod\n",
    "    def generate_signals(self):\n",
    "        \"\"\"An implementation is required to return the DataFrame of symbols\n",
    "        containing the signals to go long, short or hold (1, -1 or 0).\"\"\"\n",
    "        raise NotImplementedError(\"Should implement generate_signals()!\")"
   ]
  },
  {
   "cell_type": "markdown",
   "metadata": {
    "id": "0aZKfc2SqJfM"
   },
   "source": [
    "## Portfolio"
   ]
  },
  {
   "cell_type": "code",
   "execution_count": 7,
   "metadata": {
    "id": "OQfykoBgvwve",
    "tags": []
   },
   "outputs": [],
   "source": [
    "class Portfolio(object):\n",
    "    \"\"\"An abstract base class representing a portfolio of\n",
    "    positions (including both instruments and cash), determined\n",
    "    on the basis of a set of signals provided by a Strategy.\"\"\"\n",
    "\n",
    "    __metaclass__ = ABCMeta\n",
    "\n",
    "    @abstractmethod\n",
    "    def generate_positions(self):\n",
    "        \"\"\"Provides the logic to determine how the portfolio\n",
    "        positions are allocated on the basis of forecasting\n",
    "        signals and available cash.\"\"\"\n",
    "        raise NotImplementedError(\"Should implement generate_positions()!\")\n",
    "\n",
    "    @abstractmethod\n",
    "    def backtest_portfolio(self):\n",
    "        \"\"\"Provides the logic to generate the trading orders\n",
    "        and subsequent equity curve (i.e. growth of total equity),\n",
    "        as a sum of holdings and cash, and the bar-period returns\n",
    "        associated with this curve based on the 'positions' DataFrame.\n",
    "\n",
    "        Produces a portfolio object that can be examined by\n",
    "        other classes/functions.\"\"\"\n",
    "        raise NotImplementedError(\"Should implement backtest_portfolio()!\")"
   ]
  },
  {
   "cell_type": "markdown",
   "metadata": {
    "id": "yQk8oiSejIjb"
   },
   "source": [
    "# Strategy subclasses"
   ]
  },
  {
   "cell_type": "markdown",
   "metadata": {
    "id": "r-OVZoUbqDgw"
   },
   "source": [
    "## Random Strategy"
   ]
  },
  {
   "cell_type": "code",
   "execution_count": 8,
   "metadata": {
    "id": "FHOGu63kqAP6"
   },
   "outputs": [],
   "source": [
    "class RandomForecastingStrategy(Strategy):\n",
    "    \"\"\"Derives from Strategy to produce a set of signals that\n",
    "    are randomly generated long/shorts. Clearly a nonsensical\n",
    "    strategy, but perfectly acceptable for demonstrating the\n",
    "    backtesting infrastructure!\"\"\"\n",
    "\n",
    "    def __init__(self, symbol, bars):\n",
    "        \"\"\"Requires the symbol ticker and the pandas DataFrame of bars\"\"\"\n",
    "        self.symbol = symbol\n",
    "        self.bars = bars\n",
    "\n",
    "    def generate_signals(self):\n",
    "        \"\"\"Creates a pandas DataFrame of random signals.\"\"\"\n",
    "        signals = pd.DataFrame(index=self.bars.index)\n",
    "        signals[\"signal\"] = np.sign(np.random.randn(len(signals)))\n",
    "\n",
    "        # The first five elements are set to zero in order to minimise\n",
    "        # upstream NaN errors in the forecaster.\n",
    "        signals[\"signal\"][0:5] = 0.0\n",
    "        return signals"
   ]
  },
  {
   "cell_type": "markdown",
   "metadata": {
    "id": "6pXIRWC2AIVS"
   },
   "source": [
    "## MovingAverageCrossStrategy"
   ]
  },
  {
   "cell_type": "code",
   "execution_count": 289,
   "metadata": {
    "id": "Y0POP9Lcws40",
    "tags": []
   },
   "outputs": [],
   "source": [
    "class MovingAverageCrossStrategy(Strategy):\n",
    "    def __init__(self, symbol, bars, short_window=2, long_window=5):\n",
    "        self.symbol = symbol\n",
    "        self.bars = bars\n",
    "        self.short_window = short_window\n",
    "        self.long_window = long_window\n",
    "\n",
    "    def generate_signals(self):\n",
    "        signals = pd.DataFrame(index=self.bars.index)\n",
    "        signals[\"signal\"] = 0.0\n",
    "\n",
    "        signals[\"short_mavg\"] = (\n",
    "            self.bars[\"Close\"].rolling(self.short_window, min_periods=1).mean()\n",
    "        )\n",
    "        signals[\"long_mavg\"] = (\n",
    "            self.bars[\"Close\"].rolling(self.long_window, min_periods=1).mean()\n",
    "        )\n",
    "\n",
    "        # print(signals['short_mavg'][self.short_window:].shift(1) < signals['long_mavg'][self.short_window:].shift(1))\n",
    "\n",
    "        \n",
    "        signals[\"signal\"][self.short_window :] = np.where(\n",
    "            (\n",
    "                (\n",
    "                    signals[\"short_mavg\"][self.short_window :]\n",
    "                    > signals[\"long_mavg\"][self.short_window :]\n",
    "                )\n",
    "                & (\n",
    "                    signals[\"short_mavg\"][self.short_window :].shift(1)\n",
    "                    < signals[\"long_mavg\"][self.short_window :].shift(1)\n",
    "                )\n",
    "            ),\n",
    "            1.0,\n",
    "            0.0,\n",
    "        )\n",
    "\n",
    "        signals[\"signal\"][self.short_window :] = np.where(\n",
    "            (\n",
    "                (\n",
    "                    signals[\"short_mavg\"][self.short_window :]\n",
    "                    < signals[\"long_mavg\"][self.short_window :]\n",
    "                )\n",
    "                & (\n",
    "                    signals[\"short_mavg\"][self.short_window :].shift(1)\n",
    "                    > signals[\"long_mavg\"][self.short_window :].shift(1)\n",
    "                )\n",
    "            ),\n",
    "            -1.0,\n",
    "            signals[\"signal\"][self.short_window:],\n",
    "        )\n",
    "\n",
    "        # # signals['positions'] = signals['signal'].diff()\n",
    "        # signals['positions'] = signals['signal'].cumsum()\n",
    "\n",
    "        return signals"
   ]
  },
  {
   "cell_type": "markdown",
   "metadata": {
    "id": "t1EyyiM69L1S",
    "tags": []
   },
   "source": [
    "## Sentiment Analysis strategy"
   ]
  },
  {
   "cell_type": "markdown",
   "metadata": {},
   "source": [
    "### TradingDateCalculator"
   ]
  },
  {
   "cell_type": "code",
   "execution_count": 10,
   "metadata": {
    "id": "u5wIK6Aj7rRH"
   },
   "outputs": [],
   "source": [
    "class TradingDateCalculator:\n",
    "    @staticmethod\n",
    "    def get_trade_open(date):\n",
    "        curr_date_open = pd.to_datetime(date).floor(\"d\").replace(\n",
    "            hour=13, minute=30\n",
    "        ) - BDay(0)\n",
    "        curr_date_close = pd.to_datetime(date).floor(\"d\").replace(\n",
    "            hour=20, minute=0\n",
    "        ) - BDay(0)\n",
    "\n",
    "        prev_date_close = (curr_date_open - BDay()).replace(hour=20, minute=0)\n",
    "        next_date_open = (curr_date_close + BDay()).replace(hour=13, minute=30)\n",
    "\n",
    "        if (pd.to_datetime(date) >= prev_date_close) & (\n",
    "            pd.to_datetime(date) < curr_date_open\n",
    "        ):\n",
    "            return curr_date_open\n",
    "        elif (pd.to_datetime(date) >= curr_date_close) & (\n",
    "            pd.to_datetime(date) < next_date_open\n",
    "        ):\n",
    "            return next_date_open\n",
    "        else:\n",
    "            return None\n",
    "\n",
    "\n",
    "class NewsLoader:\n",
    "    def __init__(self, news_api_key):\n",
    "        self.news_api_key = news_api_key\n",
    "        self.url = \"https://newsapi.org/v2/everything?\"\n",
    "\n",
    "    def load_news(self, symbol, pageSize=100):  # Timeframe,\n",
    "        parameters = {\n",
    "            \"q\": symbol,\n",
    "            \"sortBy\": \"popularity\",\n",
    "            \"pageSize\": pageSize,\n",
    "            \"apiKey\": self.news_api_key,\n",
    "        }\n",
    "\n",
    "        response = requests.get(self.url, params=parameters)\n",
    "        data = pd.DataFrame(response.json())\n",
    "\n",
    "        # Transformation to data for use\n",
    "        news_df = pd.concat([data[\"articles\"].apply(pd.Series)], axis=1)\n",
    "\n",
    "        # This is sentiment analysi regarding to headlines\n",
    "        final_news = news_df[[\"publishedAt\", \"title\"]].copy(deep=True)\n",
    "        final_news[\"publishedAt\"] = pd.to_datetime(final_news[\"publishedAt\"])\n",
    "        final_news = final_news.sort_values(by=\"publishedAt\").reset_index(drop=True)\n",
    "\n",
    "        # Change according to business day\n",
    "        final_news.loc[:, \"trading_time\"] = final_news[\"publishedAt\"].apply(\n",
    "            TradingDateCalculator.get_trade_open\n",
    "        )  # def get_trade_open(date):\n",
    "        final_news = final_news[final_news[\"trading_time\"].notnull()].copy()\n",
    "        final_news.loc[:, \"Date\"] = pd.to_datetime(final_news[\"trading_time\"]).dt.date\n",
    "        final_news = final_news.drop(labels=[\"publishedAt\", \"trading_time\"], axis=1)\n",
    "\n",
    "        return final_news"
   ]
  },
  {
   "cell_type": "markdown",
   "metadata": {},
   "source": [
    "### SentimentAnalysis"
   ]
  },
  {
   "cell_type": "code",
   "execution_count": 11,
   "metadata": {
    "id": "dd5tkiBkDQy9",
    "tags": []
   },
   "outputs": [],
   "source": [
    "class SentimentAnalyzer:\n",
    "    def __init__(self):\n",
    "        self.sentiment_analyzer = SentimentIntensityAnalyzer()\n",
    "\n",
    "    def score_each_article(self, final_news):\n",
    "        cs = []\n",
    "        for idx, row in final_news.iterrows():\n",
    "            cs.append(self.sentiment_analyzer.polarity_scores(row[\"title\"])[\"compound\"])\n",
    "\n",
    "        final_news.loc[:, \"compound_vader_score\"] = cs\n",
    "        article_score = final_news[\n",
    "            (final_news[[\"compound_vader_score\"]] != 0).all(axis=1)\n",
    "        ].reset_index(drop=True)\n",
    "\n",
    "        return article_score\n",
    "\n",
    "    def daily_compound_sentiment_score(self, final_news):\n",
    "        \"\"\"\n",
    "        Input: DataFrame; |publishedAt|title|\n",
    "        Output: DataFrame; |Date|Score|\n",
    "        \"\"\"\n",
    "        article_score = self.score_each_article(final_news)\n",
    "\n",
    "        # Get unique dates\n",
    "        unique_dates = article_score[\"Date\"].unique()\n",
    "        grouped_dates = article_score.groupby([\"Date\"])\n",
    "        keys_dates = list(grouped_dates.groups.keys())\n",
    "\n",
    "        # get max/min score daily\n",
    "        max_cs = []\n",
    "        min_cs = []\n",
    "\n",
    "        for key in keys_dates:\n",
    "            data = grouped_dates.get_group(key)\n",
    "            if data[\"compound_vader_score\"].max() > 0:\n",
    "                max_cs.append(data[\"compound_vader_score\"].max())\n",
    "            elif data[\"compound_vader_score\"].max() < 0:\n",
    "                max_cs.append(0)\n",
    "\n",
    "            if data[\"compound_vader_score\"].min() < 0:\n",
    "                min_cs.append(data[\"compound_vader_score\"].min())\n",
    "            elif data[\"compound_vader_score\"].min() > 0:\n",
    "                min_cs.append(0)\n",
    "\n",
    "        # figure compound socre\n",
    "        extreme_scores_dict = {\n",
    "            \"Date\": keys_dates,\n",
    "            \"max_scores\": max_cs,\n",
    "            \"min_scores\": min_cs,\n",
    "        }\n",
    "        extreme_scores_df = pd.DataFrame(extreme_scores_dict)\n",
    "\n",
    "        final_scores = []\n",
    "        for i in range(len(extreme_scores_df)):\n",
    "            final_scores.append(\n",
    "                extreme_scores_df[\"max_scores\"][i] + extreme_scores_df[\"min_scores\"][i]\n",
    "            )\n",
    "\n",
    "        daily_score = pd.DataFrame({\"Date\": keys_dates, \"Score\": final_scores})\n",
    "\n",
    "        return daily_score"
   ]
  },
  {
   "cell_type": "code",
   "execution_count": 12,
   "metadata": {
    "id": "58FSFAjw9baK"
   },
   "outputs": [],
   "source": [
    "class NewsSentimentAnalysis:\n",
    "    def __init__(self, news_api_key):\n",
    "        self.news_loader = NewsLoader(news_api_key)\n",
    "        self.sentiment_analyzer = SentimentAnalyzer()\n",
    "\n",
    "    def analyze_sentiment(self, symbol, pageSize=100):\n",
    "        final_news = self.news_loader.load_news(symbol, pageSize)\n",
    "        return self.sentiment_analyzer.daily_compound_sentiment_score(final_news)"
   ]
  },
  {
   "cell_type": "markdown",
   "metadata": {},
   "source": [
    "### SentimentAnalysis Strategy"
   ]
  },
  {
   "cell_type": "code",
   "execution_count": 13,
   "metadata": {
    "id": "7Z7R-nQ58GyE"
   },
   "outputs": [],
   "source": [
    "class SentimentAnalysisStrategy(Strategy):\n",
    "    def __init__(self, symbol, bars, threshold, news_api_key):\n",
    "        self.symbol = symbol\n",
    "        self.bars = bars\n",
    "        self.threshold = threshold  # 0.2\n",
    "        self.news_loader = NewsLoader(news_api_key)\n",
    "        self.sentiment_analyzer = SentimentAnalyzer()\n",
    "\n",
    "    def generate_news_signals(self):\n",
    "        score_df = self.sentiment_analyzer.daily_compound_sentiment_score(\n",
    "            self.news_loader.load_news(self.symbol)\n",
    "        )\n",
    "\n",
    "        vader_Buy, vader_Sell = [], []\n",
    "        for i in range(len(score_df)):\n",
    "            if score_df[\"Score\"].values[i] > self.threshold:\n",
    "                # print(f\"Trade Call for {extreme_scores_df['Date'][i]} is Buy.\")\n",
    "                vader_Buy.append(score_df[\"Date\"][i])\n",
    "            elif score_df[\"Score\"].values[i] < -self.threshold:\n",
    "                # print(f\"Trade Call for {extreme_scores_df['Date'][i]} is Sell.\")\n",
    "                vader_Sell.append(score_df[\"Date\"][i])\n",
    "        return vader_Buy, vader_Sell\n",
    "\n",
    "    def generate_signals(self):\n",
    "        signals = pd.DataFrame(index=self.bars.index)\n",
    "        signals[\"signal\"] = 0.0\n",
    "\n",
    "        vader_Buy, vader_Sell = self.generate_news_signals()\n",
    "\n",
    "        for i in range(len(self.bars)):\n",
    "            if self.bars.index[i].date() in vader_Buy:\n",
    "                signals.iloc[i, :] = 1.0\n",
    "\n",
    "        for i in range(len(self.bars)):\n",
    "            if self.bars.index[i].date() in vader_Sell:\n",
    "                signals.iloc[i, :] = -1.0\n",
    "\n",
    "        return signals"
   ]
  },
  {
   "cell_type": "markdown",
   "metadata": {},
   "source": [
    "## Logistic Regression"
   ]
  },
  {
   "cell_type": "code",
   "execution_count": 152,
   "metadata": {
    "tags": []
   },
   "outputs": [],
   "source": [
    "class LogisticRegressionStrategy(Strategy):\n",
    "    def __init__(self, threshold, symbol, full_bars, model):\n",
    "        self.symbol = symbol\n",
    "        self.bars = full_bars\n",
    "        self.threshold = threshold\n",
    "        self.model = model\n",
    "    \n",
    "    def generate_signals(self):\n",
    "        signals = pd.DataFrame(index=self.bars.index)\n",
    "        # signals[\"signal\"] = 0.0\n",
    "        \n",
    "        ss = MinMaxScaler()\n",
    "        scaled_bars = ss.fit_transform(self.bars)\n",
    "        pred_prob = self.model.predict_proba(np.array(scaled_bars))\n",
    "        signals[\"signal\"] = pd.DataFrame(pred_prob).apply(lambda x: 1 if x[1] > self.threshold else 0, axis=1).tolist()\n",
    "        \n",
    "        return signals"
   ]
  },
  {
   "cell_type": "code",
   "execution_count": 153,
   "metadata": {
    "tags": []
   },
   "outputs": [],
   "source": [
    "# load the model from disk\n",
    "clf_pred = pickle.load(open(filename, 'rb'))"
   ]
  },
  {
   "cell_type": "code",
   "execution_count": 154,
   "metadata": {
    "tags": []
   },
   "outputs": [
    {
     "data": {
      "text/plain": [
       "1    2169\n",
       "0       3\n",
       "Name: count, dtype: int64"
      ]
     },
     "execution_count": 154,
     "metadata": {},
     "output_type": "execute_result"
    }
   ],
   "source": [
    "pd.DataFrame(pred_prob).apply(lambda x: 1 if x[1] > 0.527 else 0, axis=1).value_counts()"
   ]
  },
  {
   "cell_type": "code",
   "execution_count": 155,
   "metadata": {
    "tags": []
   },
   "outputs": [
    {
     "ename": "ValueError",
     "evalue": "Input X contains NaN.\nLogisticRegression does not accept missing values encoded as NaN natively. For supervised learning, you might want to consider sklearn.ensemble.HistGradientBoostingClassifier and Regressor which accept missing values encoded as NaNs natively. Alternatively, it is possible to preprocess the data, for instance by using an imputer transformer in a pipeline or drop samples with missing values. See https://scikit-learn.org/stable/modules/impute.html You can find a list of all estimators that handle NaN values at the following page: https://scikit-learn.org/stable/modules/impute.html#estimators-that-handle-nan-values",
     "output_type": "error",
     "traceback": [
      "\u001b[0;31m---------------------------------------------------------------------------\u001b[0m",
      "\u001b[0;31mValueError\u001b[0m                                Traceback (most recent call last)",
      "Cell \u001b[0;32mIn[155], line 6\u001b[0m\n\u001b[1;32m      4\u001b[0m ss \u001b[38;5;241m=\u001b[39m MinMaxScaler()\n\u001b[1;32m      5\u001b[0m scaled_bars \u001b[38;5;241m=\u001b[39m ss\u001b[38;5;241m.\u001b[39mfit_transform(full_data)\n\u001b[0;32m----> 6\u001b[0m pred_prob \u001b[38;5;241m=\u001b[39m \u001b[43mclf_pred\u001b[49m\u001b[38;5;241;43m.\u001b[39;49m\u001b[43mpredict_proba\u001b[49m\u001b[43m(\u001b[49m\u001b[43mnp\u001b[49m\u001b[38;5;241;43m.\u001b[39;49m\u001b[43marray\u001b[49m\u001b[43m(\u001b[49m\u001b[43mscaled_bars\u001b[49m\u001b[43m)\u001b[49m\u001b[43m)\u001b[49m\n\u001b[1;32m      7\u001b[0m signals[\u001b[38;5;124m\"\u001b[39m\u001b[38;5;124msignal\u001b[39m\u001b[38;5;124m\"\u001b[39m] \u001b[38;5;241m=\u001b[39m pd\u001b[38;5;241m.\u001b[39mDataFrame(pred_prob)\u001b[38;5;241m.\u001b[39mapply(\u001b[38;5;28;01mlambda\u001b[39;00m x: \u001b[38;5;241m1\u001b[39m \u001b[38;5;28;01mif\u001b[39;00m x[\u001b[38;5;241m1\u001b[39m] \u001b[38;5;241m>\u001b[39m \u001b[38;5;241m0.527\u001b[39m \u001b[38;5;28;01melse\u001b[39;00m \u001b[38;5;241m0\u001b[39m, axis\u001b[38;5;241m=\u001b[39m\u001b[38;5;241m1\u001b[39m)\u001b[38;5;241m.\u001b[39mtolist()\n\u001b[1;32m      9\u001b[0m signals\n",
      "File \u001b[0;32m~/anaconda3/envs/python3/lib/python3.10/site-packages/sklearn/linear_model/_logistic.py:1431\u001b[0m, in \u001b[0;36mLogisticRegression.predict_proba\u001b[0;34m(self, X)\u001b[0m\n\u001b[1;32m   1423\u001b[0m ovr \u001b[38;5;241m=\u001b[39m \u001b[38;5;28mself\u001b[39m\u001b[38;5;241m.\u001b[39mmulti_class \u001b[38;5;129;01min\u001b[39;00m [\u001b[38;5;124m\"\u001b[39m\u001b[38;5;124movr\u001b[39m\u001b[38;5;124m\"\u001b[39m, \u001b[38;5;124m\"\u001b[39m\u001b[38;5;124mwarn\u001b[39m\u001b[38;5;124m\"\u001b[39m] \u001b[38;5;129;01mor\u001b[39;00m (\n\u001b[1;32m   1424\u001b[0m     \u001b[38;5;28mself\u001b[39m\u001b[38;5;241m.\u001b[39mmulti_class \u001b[38;5;129;01min\u001b[39;00m [\u001b[38;5;124m\"\u001b[39m\u001b[38;5;124mauto\u001b[39m\u001b[38;5;124m\"\u001b[39m, \u001b[38;5;124m\"\u001b[39m\u001b[38;5;124mdeprecated\u001b[39m\u001b[38;5;124m\"\u001b[39m]\n\u001b[1;32m   1425\u001b[0m     \u001b[38;5;129;01mand\u001b[39;00m (\n\u001b[0;32m   (...)\u001b[0m\n\u001b[1;32m   1428\u001b[0m     )\n\u001b[1;32m   1429\u001b[0m )\n\u001b[1;32m   1430\u001b[0m \u001b[38;5;28;01mif\u001b[39;00m ovr:\n\u001b[0;32m-> 1431\u001b[0m     \u001b[38;5;28;01mreturn\u001b[39;00m \u001b[38;5;28;43msuper\u001b[39;49m\u001b[43m(\u001b[49m\u001b[43m)\u001b[49m\u001b[38;5;241;43m.\u001b[39;49m\u001b[43m_predict_proba_lr\u001b[49m\u001b[43m(\u001b[49m\u001b[43mX\u001b[49m\u001b[43m)\u001b[49m\n\u001b[1;32m   1432\u001b[0m \u001b[38;5;28;01melse\u001b[39;00m:\n\u001b[1;32m   1433\u001b[0m     decision \u001b[38;5;241m=\u001b[39m \u001b[38;5;28mself\u001b[39m\u001b[38;5;241m.\u001b[39mdecision_function(X)\n",
      "File \u001b[0;32m~/anaconda3/envs/python3/lib/python3.10/site-packages/sklearn/linear_model/_base.py:397\u001b[0m, in \u001b[0;36mLinearClassifierMixin._predict_proba_lr\u001b[0;34m(self, X)\u001b[0m\n\u001b[1;32m    390\u001b[0m \u001b[38;5;28;01mdef\u001b[39;00m \u001b[38;5;21m_predict_proba_lr\u001b[39m(\u001b[38;5;28mself\u001b[39m, X):\n\u001b[1;32m    391\u001b[0m \u001b[38;5;250m    \u001b[39m\u001b[38;5;124;03m\"\"\"Probability estimation for OvR logistic regression.\u001b[39;00m\n\u001b[1;32m    392\u001b[0m \n\u001b[1;32m    393\u001b[0m \u001b[38;5;124;03m    Positive class probabilities are computed as\u001b[39;00m\n\u001b[1;32m    394\u001b[0m \u001b[38;5;124;03m    1. / (1. + np.exp(-self.decision_function(X)));\u001b[39;00m\n\u001b[1;32m    395\u001b[0m \u001b[38;5;124;03m    multiclass is handled by normalizing that over all classes.\u001b[39;00m\n\u001b[1;32m    396\u001b[0m \u001b[38;5;124;03m    \"\"\"\u001b[39;00m\n\u001b[0;32m--> 397\u001b[0m     prob \u001b[38;5;241m=\u001b[39m \u001b[38;5;28;43mself\u001b[39;49m\u001b[38;5;241;43m.\u001b[39;49m\u001b[43mdecision_function\u001b[49m\u001b[43m(\u001b[49m\u001b[43mX\u001b[49m\u001b[43m)\u001b[49m\n\u001b[1;32m    398\u001b[0m     expit(prob, out\u001b[38;5;241m=\u001b[39mprob)\n\u001b[1;32m    399\u001b[0m     \u001b[38;5;28;01mif\u001b[39;00m prob\u001b[38;5;241m.\u001b[39mndim \u001b[38;5;241m==\u001b[39m \u001b[38;5;241m1\u001b[39m:\n",
      "File \u001b[0;32m~/anaconda3/envs/python3/lib/python3.10/site-packages/sklearn/linear_model/_base.py:363\u001b[0m, in \u001b[0;36mLinearClassifierMixin.decision_function\u001b[0;34m(self, X)\u001b[0m\n\u001b[1;32m    360\u001b[0m check_is_fitted(\u001b[38;5;28mself\u001b[39m)\n\u001b[1;32m    361\u001b[0m xp, _ \u001b[38;5;241m=\u001b[39m get_namespace(X)\n\u001b[0;32m--> 363\u001b[0m X \u001b[38;5;241m=\u001b[39m \u001b[38;5;28;43mself\u001b[39;49m\u001b[38;5;241;43m.\u001b[39;49m\u001b[43m_validate_data\u001b[49m\u001b[43m(\u001b[49m\u001b[43mX\u001b[49m\u001b[43m,\u001b[49m\u001b[43m \u001b[49m\u001b[43maccept_sparse\u001b[49m\u001b[38;5;241;43m=\u001b[39;49m\u001b[38;5;124;43m\"\u001b[39;49m\u001b[38;5;124;43mcsr\u001b[39;49m\u001b[38;5;124;43m\"\u001b[39;49m\u001b[43m,\u001b[49m\u001b[43m \u001b[49m\u001b[43mreset\u001b[49m\u001b[38;5;241;43m=\u001b[39;49m\u001b[38;5;28;43;01mFalse\u001b[39;49;00m\u001b[43m)\u001b[49m\n\u001b[1;32m    364\u001b[0m scores \u001b[38;5;241m=\u001b[39m safe_sparse_dot(X, \u001b[38;5;28mself\u001b[39m\u001b[38;5;241m.\u001b[39mcoef_\u001b[38;5;241m.\u001b[39mT, dense_output\u001b[38;5;241m=\u001b[39m\u001b[38;5;28;01mTrue\u001b[39;00m) \u001b[38;5;241m+\u001b[39m \u001b[38;5;28mself\u001b[39m\u001b[38;5;241m.\u001b[39mintercept_\n\u001b[1;32m    365\u001b[0m \u001b[38;5;28;01mreturn\u001b[39;00m xp\u001b[38;5;241m.\u001b[39mreshape(scores, (\u001b[38;5;241m-\u001b[39m\u001b[38;5;241m1\u001b[39m,)) \u001b[38;5;28;01mif\u001b[39;00m scores\u001b[38;5;241m.\u001b[39mshape[\u001b[38;5;241m1\u001b[39m] \u001b[38;5;241m==\u001b[39m \u001b[38;5;241m1\u001b[39m \u001b[38;5;28;01melse\u001b[39;00m scores\n",
      "File \u001b[0;32m~/anaconda3/envs/python3/lib/python3.10/site-packages/sklearn/base.py:633\u001b[0m, in \u001b[0;36mBaseEstimator._validate_data\u001b[0;34m(self, X, y, reset, validate_separately, cast_to_ndarray, **check_params)\u001b[0m\n\u001b[1;32m    631\u001b[0m         out \u001b[38;5;241m=\u001b[39m X, y\n\u001b[1;32m    632\u001b[0m \u001b[38;5;28;01melif\u001b[39;00m \u001b[38;5;129;01mnot\u001b[39;00m no_val_X \u001b[38;5;129;01mand\u001b[39;00m no_val_y:\n\u001b[0;32m--> 633\u001b[0m     out \u001b[38;5;241m=\u001b[39m \u001b[43mcheck_array\u001b[49m\u001b[43m(\u001b[49m\u001b[43mX\u001b[49m\u001b[43m,\u001b[49m\u001b[43m \u001b[49m\u001b[43minput_name\u001b[49m\u001b[38;5;241;43m=\u001b[39;49m\u001b[38;5;124;43m\"\u001b[39;49m\u001b[38;5;124;43mX\u001b[39;49m\u001b[38;5;124;43m\"\u001b[39;49m\u001b[43m,\u001b[49m\u001b[43m \u001b[49m\u001b[38;5;241;43m*\u001b[39;49m\u001b[38;5;241;43m*\u001b[39;49m\u001b[43mcheck_params\u001b[49m\u001b[43m)\u001b[49m\n\u001b[1;32m    634\u001b[0m \u001b[38;5;28;01melif\u001b[39;00m no_val_X \u001b[38;5;129;01mand\u001b[39;00m \u001b[38;5;129;01mnot\u001b[39;00m no_val_y:\n\u001b[1;32m    635\u001b[0m     out \u001b[38;5;241m=\u001b[39m _check_y(y, \u001b[38;5;241m*\u001b[39m\u001b[38;5;241m*\u001b[39mcheck_params)\n",
      "File \u001b[0;32m~/anaconda3/envs/python3/lib/python3.10/site-packages/sklearn/utils/validation.py:1064\u001b[0m, in \u001b[0;36mcheck_array\u001b[0;34m(array, accept_sparse, accept_large_sparse, dtype, order, copy, force_writeable, force_all_finite, ensure_2d, allow_nd, ensure_min_samples, ensure_min_features, estimator, input_name)\u001b[0m\n\u001b[1;32m   1058\u001b[0m     \u001b[38;5;28;01mraise\u001b[39;00m \u001b[38;5;167;01mValueError\u001b[39;00m(\n\u001b[1;32m   1059\u001b[0m         \u001b[38;5;124m\"\u001b[39m\u001b[38;5;124mFound array with dim \u001b[39m\u001b[38;5;132;01m%d\u001b[39;00m\u001b[38;5;124m. \u001b[39m\u001b[38;5;132;01m%s\u001b[39;00m\u001b[38;5;124m expected <= 2.\u001b[39m\u001b[38;5;124m\"\u001b[39m\n\u001b[1;32m   1060\u001b[0m         \u001b[38;5;241m%\u001b[39m (array\u001b[38;5;241m.\u001b[39mndim, estimator_name)\n\u001b[1;32m   1061\u001b[0m     )\n\u001b[1;32m   1063\u001b[0m \u001b[38;5;28;01mif\u001b[39;00m force_all_finite:\n\u001b[0;32m-> 1064\u001b[0m     \u001b[43m_assert_all_finite\u001b[49m\u001b[43m(\u001b[49m\n\u001b[1;32m   1065\u001b[0m \u001b[43m        \u001b[49m\u001b[43marray\u001b[49m\u001b[43m,\u001b[49m\n\u001b[1;32m   1066\u001b[0m \u001b[43m        \u001b[49m\u001b[43minput_name\u001b[49m\u001b[38;5;241;43m=\u001b[39;49m\u001b[43minput_name\u001b[49m\u001b[43m,\u001b[49m\n\u001b[1;32m   1067\u001b[0m \u001b[43m        \u001b[49m\u001b[43mestimator_name\u001b[49m\u001b[38;5;241;43m=\u001b[39;49m\u001b[43mestimator_name\u001b[49m\u001b[43m,\u001b[49m\n\u001b[1;32m   1068\u001b[0m \u001b[43m        \u001b[49m\u001b[43mallow_nan\u001b[49m\u001b[38;5;241;43m=\u001b[39;49m\u001b[43mforce_all_finite\u001b[49m\u001b[43m \u001b[49m\u001b[38;5;241;43m==\u001b[39;49m\u001b[43m \u001b[49m\u001b[38;5;124;43m\"\u001b[39;49m\u001b[38;5;124;43mallow-nan\u001b[39;49m\u001b[38;5;124;43m\"\u001b[39;49m\u001b[43m,\u001b[49m\n\u001b[1;32m   1069\u001b[0m \u001b[43m    \u001b[49m\u001b[43m)\u001b[49m\n\u001b[1;32m   1071\u001b[0m \u001b[38;5;28;01mif\u001b[39;00m copy:\n\u001b[1;32m   1072\u001b[0m     \u001b[38;5;28;01mif\u001b[39;00m _is_numpy_namespace(xp):\n\u001b[1;32m   1073\u001b[0m         \u001b[38;5;66;03m# only make a copy if `array` and `array_orig` may share memory`\u001b[39;00m\n",
      "File \u001b[0;32m~/anaconda3/envs/python3/lib/python3.10/site-packages/sklearn/utils/validation.py:123\u001b[0m, in \u001b[0;36m_assert_all_finite\u001b[0;34m(X, allow_nan, msg_dtype, estimator_name, input_name)\u001b[0m\n\u001b[1;32m    120\u001b[0m \u001b[38;5;28;01mif\u001b[39;00m first_pass_isfinite:\n\u001b[1;32m    121\u001b[0m     \u001b[38;5;28;01mreturn\u001b[39;00m\n\u001b[0;32m--> 123\u001b[0m \u001b[43m_assert_all_finite_element_wise\u001b[49m\u001b[43m(\u001b[49m\n\u001b[1;32m    124\u001b[0m \u001b[43m    \u001b[49m\u001b[43mX\u001b[49m\u001b[43m,\u001b[49m\n\u001b[1;32m    125\u001b[0m \u001b[43m    \u001b[49m\u001b[43mxp\u001b[49m\u001b[38;5;241;43m=\u001b[39;49m\u001b[43mxp\u001b[49m\u001b[43m,\u001b[49m\n\u001b[1;32m    126\u001b[0m \u001b[43m    \u001b[49m\u001b[43mallow_nan\u001b[49m\u001b[38;5;241;43m=\u001b[39;49m\u001b[43mallow_nan\u001b[49m\u001b[43m,\u001b[49m\n\u001b[1;32m    127\u001b[0m \u001b[43m    \u001b[49m\u001b[43mmsg_dtype\u001b[49m\u001b[38;5;241;43m=\u001b[39;49m\u001b[43mmsg_dtype\u001b[49m\u001b[43m,\u001b[49m\n\u001b[1;32m    128\u001b[0m \u001b[43m    \u001b[49m\u001b[43mestimator_name\u001b[49m\u001b[38;5;241;43m=\u001b[39;49m\u001b[43mestimator_name\u001b[49m\u001b[43m,\u001b[49m\n\u001b[1;32m    129\u001b[0m \u001b[43m    \u001b[49m\u001b[43minput_name\u001b[49m\u001b[38;5;241;43m=\u001b[39;49m\u001b[43minput_name\u001b[49m\u001b[43m,\u001b[49m\n\u001b[1;32m    130\u001b[0m \u001b[43m\u001b[49m\u001b[43m)\u001b[49m\n",
      "File \u001b[0;32m~/anaconda3/envs/python3/lib/python3.10/site-packages/sklearn/utils/validation.py:172\u001b[0m, in \u001b[0;36m_assert_all_finite_element_wise\u001b[0;34m(X, xp, allow_nan, msg_dtype, estimator_name, input_name)\u001b[0m\n\u001b[1;32m    155\u001b[0m \u001b[38;5;28;01mif\u001b[39;00m estimator_name \u001b[38;5;129;01mand\u001b[39;00m input_name \u001b[38;5;241m==\u001b[39m \u001b[38;5;124m\"\u001b[39m\u001b[38;5;124mX\u001b[39m\u001b[38;5;124m\"\u001b[39m \u001b[38;5;129;01mand\u001b[39;00m has_nan_error:\n\u001b[1;32m    156\u001b[0m     \u001b[38;5;66;03m# Improve the error message on how to handle missing values in\u001b[39;00m\n\u001b[1;32m    157\u001b[0m     \u001b[38;5;66;03m# scikit-learn.\u001b[39;00m\n\u001b[1;32m    158\u001b[0m     msg_err \u001b[38;5;241m+\u001b[39m\u001b[38;5;241m=\u001b[39m (\n\u001b[1;32m    159\u001b[0m         \u001b[38;5;124mf\u001b[39m\u001b[38;5;124m\"\u001b[39m\u001b[38;5;130;01m\\n\u001b[39;00m\u001b[38;5;132;01m{\u001b[39;00mestimator_name\u001b[38;5;132;01m}\u001b[39;00m\u001b[38;5;124m does not accept missing values\u001b[39m\u001b[38;5;124m\"\u001b[39m\n\u001b[1;32m    160\u001b[0m         \u001b[38;5;124m\"\u001b[39m\u001b[38;5;124m encoded as NaN natively. For supervised learning, you might want\u001b[39m\u001b[38;5;124m\"\u001b[39m\n\u001b[0;32m   (...)\u001b[0m\n\u001b[1;32m    170\u001b[0m         \u001b[38;5;124m\"\u001b[39m\u001b[38;5;124m#estimators-that-handle-nan-values\u001b[39m\u001b[38;5;124m\"\u001b[39m\n\u001b[1;32m    171\u001b[0m     )\n\u001b[0;32m--> 172\u001b[0m \u001b[38;5;28;01mraise\u001b[39;00m \u001b[38;5;167;01mValueError\u001b[39;00m(msg_err)\n",
      "\u001b[0;31mValueError\u001b[0m: Input X contains NaN.\nLogisticRegression does not accept missing values encoded as NaN natively. For supervised learning, you might want to consider sklearn.ensemble.HistGradientBoostingClassifier and Regressor which accept missing values encoded as NaNs natively. Alternatively, it is possible to preprocess the data, for instance by using an imputer transformer in a pipeline or drop samples with missing values. See https://scikit-learn.org/stable/modules/impute.html You can find a list of all estimators that handle NaN values at the following page: https://scikit-learn.org/stable/modules/impute.html#estimators-that-handle-nan-values"
     ]
    }
   ],
   "source": [
    "signals = pd.DataFrame(index=full_data.index)\n",
    "# signals[\"signal\"] = 0.0\n",
    "\n",
    "ss = MinMaxScaler()\n",
    "scaled_bars = ss.fit_transform(full_data)\n",
    "pred_prob = clf_pred.predict_proba(np.array(scaled_bars))\n",
    "signals[\"signal\"] = pd.DataFrame(pred_prob).apply(lambda x: 1 if x[1] > 0.527 else 0, axis=1).tolist()\n",
    "\n",
    "signals"
   ]
  },
  {
   "cell_type": "code",
   "execution_count": 141,
   "metadata": {
    "tags": []
   },
   "outputs": [
    {
     "data": {
      "text/html": [
       "<div>\n",
       "<style scoped>\n",
       "    .dataframe tbody tr th:only-of-type {\n",
       "        vertical-align: middle;\n",
       "    }\n",
       "\n",
       "    .dataframe tbody tr th {\n",
       "        vertical-align: top;\n",
       "    }\n",
       "\n",
       "    .dataframe thead th {\n",
       "        text-align: right;\n",
       "    }\n",
       "</style>\n",
       "<table border=\"1\" class=\"dataframe\">\n",
       "  <thead>\n",
       "    <tr style=\"text-align: right;\">\n",
       "      <th></th>\n",
       "      <th>holdings</th>\n",
       "      <th>cash</th>\n",
       "      <th>total</th>\n",
       "      <th>returns</th>\n",
       "    </tr>\n",
       "    <tr>\n",
       "      <th>Date</th>\n",
       "      <th></th>\n",
       "      <th></th>\n",
       "      <th></th>\n",
       "      <th></th>\n",
       "    </tr>\n",
       "  </thead>\n",
       "  <tbody>\n",
       "    <tr>\n",
       "      <th>2016-01-04</th>\n",
       "      <td>NaN</td>\n",
       "      <td>NaN</td>\n",
       "      <td>NaN</td>\n",
       "      <td>NaN</td>\n",
       "    </tr>\n",
       "    <tr>\n",
       "      <th>2016-01-05</th>\n",
       "      <td>NaN</td>\n",
       "      <td>NaN</td>\n",
       "      <td>NaN</td>\n",
       "      <td>NaN</td>\n",
       "    </tr>\n",
       "    <tr>\n",
       "      <th>2016-01-06</th>\n",
       "      <td>NaN</td>\n",
       "      <td>NaN</td>\n",
       "      <td>NaN</td>\n",
       "      <td>NaN</td>\n",
       "    </tr>\n",
       "    <tr>\n",
       "      <th>2016-01-07</th>\n",
       "      <td>243.0</td>\n",
       "      <td>NaN</td>\n",
       "      <td>NaN</td>\n",
       "      <td>NaN</td>\n",
       "    </tr>\n",
       "    <tr>\n",
       "      <th>2016-01-08</th>\n",
       "      <td>472.0</td>\n",
       "      <td>99764.00</td>\n",
       "      <td>100236.00</td>\n",
       "      <td>NaN</td>\n",
       "    </tr>\n",
       "    <tr>\n",
       "      <th>...</th>\n",
       "      <td>...</td>\n",
       "      <td>...</td>\n",
       "      <td>...</td>\n",
       "      <td>...</td>\n",
       "    </tr>\n",
       "    <tr>\n",
       "      <th>2024-08-19</th>\n",
       "      <td>32135095.0</td>\n",
       "      <td>-13149397.27</td>\n",
       "      <td>18985697.73</td>\n",
       "      <td>0.032116</td>\n",
       "    </tr>\n",
       "    <tr>\n",
       "      <th>2024-08-20</th>\n",
       "      <td>33895734.0</td>\n",
       "      <td>-13165046.27</td>\n",
       "      <td>20730687.73</td>\n",
       "      <td>0.091911</td>\n",
       "    </tr>\n",
       "    <tr>\n",
       "      <th>2024-08-21</th>\n",
       "      <td>33831204.0</td>\n",
       "      <td>-13180658.27</td>\n",
       "      <td>20650545.73</td>\n",
       "      <td>-0.003866</td>\n",
       "    </tr>\n",
       "    <tr>\n",
       "      <th>2024-08-22</th>\n",
       "      <td>34443016.0</td>\n",
       "      <td>-13196545.27</td>\n",
       "      <td>21246470.73</td>\n",
       "      <td>0.028858</td>\n",
       "    </tr>\n",
       "    <tr>\n",
       "      <th>2024-08-23</th>\n",
       "      <td>33315840.0</td>\n",
       "      <td>-13211905.27</td>\n",
       "      <td>20103934.73</td>\n",
       "      <td>-0.053775</td>\n",
       "    </tr>\n",
       "  </tbody>\n",
       "</table>\n",
       "<p>2175 rows × 4 columns</p>\n",
       "</div>"
      ],
      "text/plain": [
       "              holdings         cash        total   returns\n",
       "Date                                                      \n",
       "2016-01-04         NaN          NaN          NaN       NaN\n",
       "2016-01-05         NaN          NaN          NaN       NaN\n",
       "2016-01-06         NaN          NaN          NaN       NaN\n",
       "2016-01-07       243.0          NaN          NaN       NaN\n",
       "2016-01-08       472.0     99764.00    100236.00       NaN\n",
       "...                ...          ...          ...       ...\n",
       "2024-08-19  32135095.0 -13149397.27  18985697.73  0.032116\n",
       "2024-08-20  33895734.0 -13165046.27  20730687.73  0.091911\n",
       "2024-08-21  33831204.0 -13180658.27  20650545.73 -0.003866\n",
       "2024-08-22  34443016.0 -13196545.27  21246470.73  0.028858\n",
       "2024-08-23  33315840.0 -13211905.27  20103934.73 -0.053775\n",
       "\n",
       "[2175 rows x 4 columns]"
      ]
     },
     "execution_count": 141,
     "metadata": {},
     "output_type": "execute_result"
    }
   ],
   "source": [
    "returns"
   ]
  },
  {
   "cell_type": "markdown",
   "metadata": {},
   "source": [
    "# ML strategies exploration"
   ]
  },
  {
   "cell_type": "code",
   "execution_count": 1,
   "metadata": {
    "tags": []
   },
   "outputs": [],
   "source": [
    "from sklearn.model_selection import train_test_split\n",
    "from sklearn.preprocessing import StandardScaler, OneHotEncoder, OrdinalEncoder\n",
    "from sklearn.metrics import r2_score\n",
    "from sklearn.compose import make_column_transformer\n",
    "from sklearn.pipeline import make_pipeline\n",
    "from sklearn.model_selection import cross_val_score\n",
    "from sklearn.model_selection import GridSearchCV\n",
    "from sklearn.svm import LinearSVC, SVC\n",
    "from sklearn.preprocessing import StandardScaler, MinMaxScaler\n",
    "from sklearn.linear_model import LogisticRegression"
   ]
  },
  {
   "cell_type": "code",
   "execution_count": 20,
   "metadata": {
    "tags": []
   },
   "outputs": [],
   "source": [
    "symbol = 'AMD'\n",
    "api_key = \"PK6IRONYS5AQ646ZTDKX\"\n",
    "api_secret = \"HEYwi2T3MzAmYgednADOq0g6pEjuULcEz0Hbdqg8\"\n",
    "client = StockHistoricalDataClient(api_key, api_secret)\n",
    "\n",
    "start_date = \"2014-01-01 00:00:00\"\n",
    "\n",
    "data_loader = DataLoader(client)\n",
    "bars = data_loader.fetch_historical_data(symbol, start_date=start_date)"
   ]
  },
  {
   "cell_type": "code",
   "execution_count": 21,
   "metadata": {
    "tags": []
   },
   "outputs": [
    {
     "data": {
      "text/html": [
       "<div>\n",
       "<style scoped>\n",
       "    .dataframe tbody tr th:only-of-type {\n",
       "        vertical-align: middle;\n",
       "    }\n",
       "\n",
       "    .dataframe tbody tr th {\n",
       "        vertical-align: top;\n",
       "    }\n",
       "\n",
       "    .dataframe thead th {\n",
       "        text-align: right;\n",
       "    }\n",
       "</style>\n",
       "<table border=\"1\" class=\"dataframe\">\n",
       "  <thead>\n",
       "    <tr style=\"text-align: right;\">\n",
       "      <th></th>\n",
       "      <th>timestamp</th>\n",
       "      <th>Open</th>\n",
       "      <th>High</th>\n",
       "      <th>Low</th>\n",
       "      <th>Close</th>\n",
       "      <th>Volume</th>\n",
       "    </tr>\n",
       "    <tr>\n",
       "      <th>Date</th>\n",
       "      <th></th>\n",
       "      <th></th>\n",
       "      <th></th>\n",
       "      <th></th>\n",
       "      <th></th>\n",
       "      <th></th>\n",
       "    </tr>\n",
       "  </thead>\n",
       "  <tbody>\n",
       "    <tr>\n",
       "      <th>2016-01-04</th>\n",
       "      <td>2016-01-04 05:00:00+00:00</td>\n",
       "      <td>2.77</td>\n",
       "      <td>2.820</td>\n",
       "      <td>2.63</td>\n",
       "      <td>2.770</td>\n",
       "      <td>33698464.0</td>\n",
       "    </tr>\n",
       "    <tr>\n",
       "      <th>2016-01-05</th>\n",
       "      <td>2016-01-05 05:00:00+00:00</td>\n",
       "      <td>2.77</td>\n",
       "      <td>2.800</td>\n",
       "      <td>2.64</td>\n",
       "      <td>2.750</td>\n",
       "      <td>13372522.0</td>\n",
       "    </tr>\n",
       "    <tr>\n",
       "      <th>2016-01-06</th>\n",
       "      <td>2016-01-06 05:00:00+00:00</td>\n",
       "      <td>2.66</td>\n",
       "      <td>2.710</td>\n",
       "      <td>2.47</td>\n",
       "      <td>2.505</td>\n",
       "      <td>24280750.0</td>\n",
       "    </tr>\n",
       "    <tr>\n",
       "      <th>2016-01-07</th>\n",
       "      <td>2016-01-07 05:00:00+00:00</td>\n",
       "      <td>2.43</td>\n",
       "      <td>2.480</td>\n",
       "      <td>2.26</td>\n",
       "      <td>2.275</td>\n",
       "      <td>22577907.0</td>\n",
       "    </tr>\n",
       "    <tr>\n",
       "      <th>2016-01-08</th>\n",
       "      <td>2016-01-08 05:00:00+00:00</td>\n",
       "      <td>2.36</td>\n",
       "      <td>2.425</td>\n",
       "      <td>2.10</td>\n",
       "      <td>2.140</td>\n",
       "      <td>34037306.0</td>\n",
       "    </tr>\n",
       "    <tr>\n",
       "      <th>...</th>\n",
       "      <td>...</td>\n",
       "      <td>...</td>\n",
       "      <td>...</td>\n",
       "      <td>...</td>\n",
       "      <td>...</td>\n",
       "      <td>...</td>\n",
       "    </tr>\n",
       "    <tr>\n",
       "      <th>2024-08-19</th>\n",
       "      <td>2024-08-19 04:00:00+00:00</td>\n",
       "      <td>148.43</td>\n",
       "      <td>155.365</td>\n",
       "      <td>147.72</td>\n",
       "      <td>155.280</td>\n",
       "      <td>60766854.0</td>\n",
       "    </tr>\n",
       "    <tr>\n",
       "      <th>2024-08-20</th>\n",
       "      <td>2024-08-20 04:00:00+00:00</td>\n",
       "      <td>156.49</td>\n",
       "      <td>162.040</td>\n",
       "      <td>154.51</td>\n",
       "      <td>156.400</td>\n",
       "      <td>76851158.0</td>\n",
       "    </tr>\n",
       "    <tr>\n",
       "      <th>2024-08-21</th>\n",
       "      <td>2024-08-21 04:00:00+00:00</td>\n",
       "      <td>156.12</td>\n",
       "      <td>158.650</td>\n",
       "      <td>155.07</td>\n",
       "      <td>157.810</td>\n",
       "      <td>42791246.0</td>\n",
       "    </tr>\n",
       "    <tr>\n",
       "      <th>2024-08-22</th>\n",
       "      <td>2024-08-22 04:00:00+00:00</td>\n",
       "      <td>158.87</td>\n",
       "      <td>159.840</td>\n",
       "      <td>151.01</td>\n",
       "      <td>151.700</td>\n",
       "      <td>45737257.0</td>\n",
       "    </tr>\n",
       "    <tr>\n",
       "      <th>2024-08-23</th>\n",
       "      <td>2024-08-23 04:00:00+00:00</td>\n",
       "      <td>153.60</td>\n",
       "      <td>156.400</td>\n",
       "      <td>151.83</td>\n",
       "      <td>154.980</td>\n",
       "      <td>43694642.0</td>\n",
       "    </tr>\n",
       "  </tbody>\n",
       "</table>\n",
       "<p>2175 rows × 6 columns</p>\n",
       "</div>"
      ],
      "text/plain": [
       "                           timestamp    Open     High     Low    Close  \\\n",
       "Date                                                                     \n",
       "2016-01-04 2016-01-04 05:00:00+00:00    2.77    2.820    2.63    2.770   \n",
       "2016-01-05 2016-01-05 05:00:00+00:00    2.77    2.800    2.64    2.750   \n",
       "2016-01-06 2016-01-06 05:00:00+00:00    2.66    2.710    2.47    2.505   \n",
       "2016-01-07 2016-01-07 05:00:00+00:00    2.43    2.480    2.26    2.275   \n",
       "2016-01-08 2016-01-08 05:00:00+00:00    2.36    2.425    2.10    2.140   \n",
       "...                              ...     ...      ...     ...      ...   \n",
       "2024-08-19 2024-08-19 04:00:00+00:00  148.43  155.365  147.72  155.280   \n",
       "2024-08-20 2024-08-20 04:00:00+00:00  156.49  162.040  154.51  156.400   \n",
       "2024-08-21 2024-08-21 04:00:00+00:00  156.12  158.650  155.07  157.810   \n",
       "2024-08-22 2024-08-22 04:00:00+00:00  158.87  159.840  151.01  151.700   \n",
       "2024-08-23 2024-08-23 04:00:00+00:00  153.60  156.400  151.83  154.980   \n",
       "\n",
       "                Volume  \n",
       "Date                    \n",
       "2016-01-04  33698464.0  \n",
       "2016-01-05  13372522.0  \n",
       "2016-01-06  24280750.0  \n",
       "2016-01-07  22577907.0  \n",
       "2016-01-08  34037306.0  \n",
       "...                ...  \n",
       "2024-08-19  60766854.0  \n",
       "2024-08-20  76851158.0  \n",
       "2024-08-21  42791246.0  \n",
       "2024-08-22  45737257.0  \n",
       "2024-08-23  43694642.0  \n",
       "\n",
       "[2175 rows x 6 columns]"
      ]
     },
     "execution_count": 21,
     "metadata": {},
     "output_type": "execute_result"
    }
   ],
   "source": [
    "bars"
   ]
  },
  {
   "cell_type": "code",
   "execution_count": 22,
   "metadata": {
    "tags": []
   },
   "outputs": [
    {
     "name": "stdout",
     "output_type": "stream",
     "text": [
      "Signal\n",
      "1    1430\n",
      "0     745\n",
      "Name: count, dtype: int64\n"
     ]
    },
    {
     "data": {
      "text/html": [
       "<div>\n",
       "<style scoped>\n",
       "    .dataframe tbody tr th:only-of-type {\n",
       "        vertical-align: middle;\n",
       "    }\n",
       "\n",
       "    .dataframe tbody tr th {\n",
       "        vertical-align: top;\n",
       "    }\n",
       "\n",
       "    .dataframe thead th {\n",
       "        text-align: right;\n",
       "    }\n",
       "</style>\n",
       "<table border=\"1\" class=\"dataframe\">\n",
       "  <thead>\n",
       "    <tr style=\"text-align: right;\">\n",
       "      <th></th>\n",
       "      <th>timestamp</th>\n",
       "      <th>Open</th>\n",
       "      <th>High</th>\n",
       "      <th>Low</th>\n",
       "      <th>Close</th>\n",
       "      <th>Volume</th>\n",
       "      <th>Signal</th>\n",
       "    </tr>\n",
       "    <tr>\n",
       "      <th>Date</th>\n",
       "      <th></th>\n",
       "      <th></th>\n",
       "      <th></th>\n",
       "      <th></th>\n",
       "      <th></th>\n",
       "      <th></th>\n",
       "      <th></th>\n",
       "    </tr>\n",
       "  </thead>\n",
       "  <tbody>\n",
       "    <tr>\n",
       "      <th>2016-01-04</th>\n",
       "      <td>2016-01-04 05:00:00+00:00</td>\n",
       "      <td>2.77</td>\n",
       "      <td>2.820</td>\n",
       "      <td>2.63</td>\n",
       "      <td>2.770</td>\n",
       "      <td>33698464.0</td>\n",
       "      <td>1</td>\n",
       "    </tr>\n",
       "    <tr>\n",
       "      <th>2016-01-05</th>\n",
       "      <td>2016-01-05 05:00:00+00:00</td>\n",
       "      <td>2.77</td>\n",
       "      <td>2.800</td>\n",
       "      <td>2.64</td>\n",
       "      <td>2.750</td>\n",
       "      <td>13372522.0</td>\n",
       "      <td>1</td>\n",
       "    </tr>\n",
       "    <tr>\n",
       "      <th>2016-01-06</th>\n",
       "      <td>2016-01-06 05:00:00+00:00</td>\n",
       "      <td>2.66</td>\n",
       "      <td>2.710</td>\n",
       "      <td>2.47</td>\n",
       "      <td>2.505</td>\n",
       "      <td>24280750.0</td>\n",
       "      <td>1</td>\n",
       "    </tr>\n",
       "    <tr>\n",
       "      <th>2016-01-07</th>\n",
       "      <td>2016-01-07 05:00:00+00:00</td>\n",
       "      <td>2.43</td>\n",
       "      <td>2.480</td>\n",
       "      <td>2.26</td>\n",
       "      <td>2.275</td>\n",
       "      <td>22577907.0</td>\n",
       "      <td>1</td>\n",
       "    </tr>\n",
       "    <tr>\n",
       "      <th>2016-01-08</th>\n",
       "      <td>2016-01-08 05:00:00+00:00</td>\n",
       "      <td>2.36</td>\n",
       "      <td>2.425</td>\n",
       "      <td>2.10</td>\n",
       "      <td>2.140</td>\n",
       "      <td>34037306.0</td>\n",
       "      <td>1</td>\n",
       "    </tr>\n",
       "    <tr>\n",
       "      <th>2016-01-11</th>\n",
       "      <td>2016-01-11 05:00:00+00:00</td>\n",
       "      <td>2.16</td>\n",
       "      <td>2.360</td>\n",
       "      <td>2.12</td>\n",
       "      <td>2.340</td>\n",
       "      <td>20210936.0</td>\n",
       "      <td>1</td>\n",
       "    </tr>\n",
       "    <tr>\n",
       "      <th>2016-01-12</th>\n",
       "      <td>2016-01-12 05:00:00+00:00</td>\n",
       "      <td>2.40</td>\n",
       "      <td>2.460</td>\n",
       "      <td>2.28</td>\n",
       "      <td>2.390</td>\n",
       "      <td>18704579.0</td>\n",
       "      <td>1</td>\n",
       "    </tr>\n",
       "    <tr>\n",
       "      <th>2016-01-13</th>\n",
       "      <td>2016-01-13 05:00:00+00:00</td>\n",
       "      <td>2.40</td>\n",
       "      <td>2.450</td>\n",
       "      <td>2.21</td>\n",
       "      <td>2.250</td>\n",
       "      <td>13427196.0</td>\n",
       "      <td>1</td>\n",
       "    </tr>\n",
       "    <tr>\n",
       "      <th>2016-01-14</th>\n",
       "      <td>2016-01-14 05:00:00+00:00</td>\n",
       "      <td>2.29</td>\n",
       "      <td>2.350</td>\n",
       "      <td>2.21</td>\n",
       "      <td>2.210</td>\n",
       "      <td>16790302.0</td>\n",
       "      <td>1</td>\n",
       "    </tr>\n",
       "    <tr>\n",
       "      <th>2016-01-15</th>\n",
       "      <td>2016-01-15 05:00:00+00:00</td>\n",
       "      <td>2.10</td>\n",
       "      <td>2.130</td>\n",
       "      <td>1.99</td>\n",
       "      <td>2.030</td>\n",
       "      <td>22272044.0</td>\n",
       "      <td>1</td>\n",
       "    </tr>\n",
       "  </tbody>\n",
       "</table>\n",
       "</div>"
      ],
      "text/plain": [
       "                           timestamp  Open   High   Low  Close      Volume  \\\n",
       "Date                                                                         \n",
       "2016-01-04 2016-01-04 05:00:00+00:00  2.77  2.820  2.63  2.770  33698464.0   \n",
       "2016-01-05 2016-01-05 05:00:00+00:00  2.77  2.800  2.64  2.750  13372522.0   \n",
       "2016-01-06 2016-01-06 05:00:00+00:00  2.66  2.710  2.47  2.505  24280750.0   \n",
       "2016-01-07 2016-01-07 05:00:00+00:00  2.43  2.480  2.26  2.275  22577907.0   \n",
       "2016-01-08 2016-01-08 05:00:00+00:00  2.36  2.425  2.10  2.140  34037306.0   \n",
       "2016-01-11 2016-01-11 05:00:00+00:00  2.16  2.360  2.12  2.340  20210936.0   \n",
       "2016-01-12 2016-01-12 05:00:00+00:00  2.40  2.460  2.28  2.390  18704579.0   \n",
       "2016-01-13 2016-01-13 05:00:00+00:00  2.40  2.450  2.21  2.250  13427196.0   \n",
       "2016-01-14 2016-01-14 05:00:00+00:00  2.29  2.350  2.21  2.210  16790302.0   \n",
       "2016-01-15 2016-01-15 05:00:00+00:00  2.10  2.130  1.99  2.030  22272044.0   \n",
       "\n",
       "            Signal  \n",
       "Date                \n",
       "2016-01-04       1  \n",
       "2016-01-05       1  \n",
       "2016-01-06       1  \n",
       "2016-01-07       1  \n",
       "2016-01-08       1  \n",
       "2016-01-11       1  \n",
       "2016-01-12       1  \n",
       "2016-01-13       1  \n",
       "2016-01-14       1  \n",
       "2016-01-15       1  "
      ]
     },
     "execution_count": 22,
     "metadata": {},
     "output_type": "execute_result"
    }
   ],
   "source": [
    "bars_cls = bars\n",
    "delta = 0.01\n",
    "bars_cls['Signal'] = [int(row['High'] >= (1 + delta) * row['Open']) for idx, row in bars_cls.iterrows()]\n",
    "print(bars_cls.Signal.value_counts())\n",
    "bars_cls.head(10)"
   ]
  },
  {
   "cell_type": "code",
   "execution_count": 23,
   "metadata": {
    "tags": []
   },
   "outputs": [
    {
     "data": {
      "text/html": [
       "<div>\n",
       "<style scoped>\n",
       "    .dataframe tbody tr th:only-of-type {\n",
       "        vertical-align: middle;\n",
       "    }\n",
       "\n",
       "    .dataframe tbody tr th {\n",
       "        vertical-align: top;\n",
       "    }\n",
       "\n",
       "    .dataframe thead th {\n",
       "        text-align: right;\n",
       "    }\n",
       "</style>\n",
       "<table border=\"1\" class=\"dataframe\">\n",
       "  <thead>\n",
       "    <tr style=\"text-align: right;\">\n",
       "      <th></th>\n",
       "      <th>Open_-1</th>\n",
       "      <th>High_-1</th>\n",
       "      <th>Low_-1</th>\n",
       "      <th>Close_-1</th>\n",
       "      <th>Volume_-1</th>\n",
       "      <th>Open_-2</th>\n",
       "      <th>High_-2</th>\n",
       "      <th>Low_-2</th>\n",
       "      <th>Close_-2</th>\n",
       "      <th>Volume_-2</th>\n",
       "      <th>Open_-3</th>\n",
       "      <th>High_-3</th>\n",
       "      <th>Low_-3</th>\n",
       "      <th>Close_-3</th>\n",
       "      <th>Volume_-3</th>\n",
       "      <th>Signal_next</th>\n",
       "    </tr>\n",
       "    <tr>\n",
       "      <th>Date</th>\n",
       "      <th></th>\n",
       "      <th></th>\n",
       "      <th></th>\n",
       "      <th></th>\n",
       "      <th></th>\n",
       "      <th></th>\n",
       "      <th></th>\n",
       "      <th></th>\n",
       "      <th></th>\n",
       "      <th></th>\n",
       "      <th></th>\n",
       "      <th></th>\n",
       "      <th></th>\n",
       "      <th></th>\n",
       "      <th></th>\n",
       "      <th></th>\n",
       "    </tr>\n",
       "  </thead>\n",
       "  <tbody>\n",
       "    <tr>\n",
       "      <th>2016-01-07</th>\n",
       "      <td>2.66</td>\n",
       "      <td>2.710</td>\n",
       "      <td>2.47</td>\n",
       "      <td>2.505</td>\n",
       "      <td>24280750.0</td>\n",
       "      <td>2.77</td>\n",
       "      <td>2.800</td>\n",
       "      <td>2.64</td>\n",
       "      <td>2.750</td>\n",
       "      <td>13372522.0</td>\n",
       "      <td>2.77</td>\n",
       "      <td>2.820</td>\n",
       "      <td>2.63</td>\n",
       "      <td>2.770</td>\n",
       "      <td>33698464.0</td>\n",
       "      <td>1.0</td>\n",
       "    </tr>\n",
       "    <tr>\n",
       "      <th>2016-01-08</th>\n",
       "      <td>2.43</td>\n",
       "      <td>2.480</td>\n",
       "      <td>2.26</td>\n",
       "      <td>2.275</td>\n",
       "      <td>22577907.0</td>\n",
       "      <td>2.66</td>\n",
       "      <td>2.710</td>\n",
       "      <td>2.47</td>\n",
       "      <td>2.505</td>\n",
       "      <td>24280750.0</td>\n",
       "      <td>2.77</td>\n",
       "      <td>2.800</td>\n",
       "      <td>2.64</td>\n",
       "      <td>2.750</td>\n",
       "      <td>13372522.0</td>\n",
       "      <td>1.0</td>\n",
       "    </tr>\n",
       "    <tr>\n",
       "      <th>2016-01-11</th>\n",
       "      <td>2.36</td>\n",
       "      <td>2.425</td>\n",
       "      <td>2.10</td>\n",
       "      <td>2.140</td>\n",
       "      <td>34037306.0</td>\n",
       "      <td>2.43</td>\n",
       "      <td>2.480</td>\n",
       "      <td>2.26</td>\n",
       "      <td>2.275</td>\n",
       "      <td>22577907.0</td>\n",
       "      <td>2.66</td>\n",
       "      <td>2.710</td>\n",
       "      <td>2.47</td>\n",
       "      <td>2.505</td>\n",
       "      <td>24280750.0</td>\n",
       "      <td>1.0</td>\n",
       "    </tr>\n",
       "    <tr>\n",
       "      <th>2016-01-12</th>\n",
       "      <td>2.16</td>\n",
       "      <td>2.360</td>\n",
       "      <td>2.12</td>\n",
       "      <td>2.340</td>\n",
       "      <td>20210936.0</td>\n",
       "      <td>2.36</td>\n",
       "      <td>2.425</td>\n",
       "      <td>2.10</td>\n",
       "      <td>2.140</td>\n",
       "      <td>34037306.0</td>\n",
       "      <td>2.43</td>\n",
       "      <td>2.480</td>\n",
       "      <td>2.26</td>\n",
       "      <td>2.275</td>\n",
       "      <td>22577907.0</td>\n",
       "      <td>1.0</td>\n",
       "    </tr>\n",
       "    <tr>\n",
       "      <th>2016-01-13</th>\n",
       "      <td>2.40</td>\n",
       "      <td>2.460</td>\n",
       "      <td>2.28</td>\n",
       "      <td>2.390</td>\n",
       "      <td>18704579.0</td>\n",
       "      <td>2.16</td>\n",
       "      <td>2.360</td>\n",
       "      <td>2.12</td>\n",
       "      <td>2.340</td>\n",
       "      <td>20210936.0</td>\n",
       "      <td>2.36</td>\n",
       "      <td>2.425</td>\n",
       "      <td>2.10</td>\n",
       "      <td>2.140</td>\n",
       "      <td>34037306.0</td>\n",
       "      <td>1.0</td>\n",
       "    </tr>\n",
       "  </tbody>\n",
       "</table>\n",
       "</div>"
      ],
      "text/plain": [
       "            Open_-1  High_-1  Low_-1  Close_-1   Volume_-1  Open_-2  High_-2  \\\n",
       "Date                                                                           \n",
       "2016-01-07     2.66    2.710    2.47     2.505  24280750.0     2.77    2.800   \n",
       "2016-01-08     2.43    2.480    2.26     2.275  22577907.0     2.66    2.710   \n",
       "2016-01-11     2.36    2.425    2.10     2.140  34037306.0     2.43    2.480   \n",
       "2016-01-12     2.16    2.360    2.12     2.340  20210936.0     2.36    2.425   \n",
       "2016-01-13     2.40    2.460    2.28     2.390  18704579.0     2.16    2.360   \n",
       "\n",
       "            Low_-2  Close_-2   Volume_-2  Open_-3  High_-3  Low_-3  Close_-3  \\\n",
       "Date                                                                           \n",
       "2016-01-07    2.64     2.750  13372522.0     2.77    2.820    2.63     2.770   \n",
       "2016-01-08    2.47     2.505  24280750.0     2.77    2.800    2.64     2.750   \n",
       "2016-01-11    2.26     2.275  22577907.0     2.66    2.710    2.47     2.505   \n",
       "2016-01-12    2.10     2.140  34037306.0     2.43    2.480    2.26     2.275   \n",
       "2016-01-13    2.12     2.340  20210936.0     2.36    2.425    2.10     2.140   \n",
       "\n",
       "             Volume_-3  Signal_next  \n",
       "Date                                 \n",
       "2016-01-07  33698464.0          1.0  \n",
       "2016-01-08  13372522.0          1.0  \n",
       "2016-01-11  24280750.0          1.0  \n",
       "2016-01-12  22577907.0          1.0  \n",
       "2016-01-13  34037306.0          1.0  "
      ]
     },
     "execution_count": 23,
     "metadata": {},
     "output_type": "execute_result"
    }
   ],
   "source": [
    "period = 3\n",
    "\n",
    "full_data = pd.DataFrame()\n",
    "\n",
    "full_data.index = bars_cls.index\n",
    "\n",
    "for i in range(1, period + 1):\n",
    "    for feature in ['Open','High','Low','Close','Volume']: # ['Close','Volume']:\n",
    "        full_data[f'{feature}_-{i}'] = bars_cls[feature].shift(i)\n",
    "\n",
    "full_data['Signal_next'] = bars_cls['Signal'].shift(-1)\n",
    "\n",
    "# full_data.dropna(inplace=True)\n",
    "full_data.head()"
   ]
  },
  {
   "cell_type": "code",
   "execution_count": 24,
   "metadata": {
    "tags": []
   },
   "outputs": [],
   "source": [
    "X = full_data.drop(columns = ['Signal_next'])\n",
    "y = full_data[\"Signal_next\"]\n",
    "\n",
    "# train_test_split \n",
    "dev_test_split = int(0.8*X.shape[0])\n",
    "X_dev_df, X_test_df, y_dev_df, y_test_df= X.iloc[:dev_test_split], X.iloc[dev_test_split:], y.iloc[:dev_test_split], y.iloc[dev_test_split:]\n",
    "\n",
    "\n",
    "train_val_split = int(0.75*X_dev_df.shape[0])\n",
    "X_train_df, X_val_df, y_train_df, y_val_df = X_dev_df.iloc[:train_val_split], X_dev_df.iloc[train_val_split:], y_dev_df.iloc[:train_val_split], y_dev_df.iloc[train_val_split:]\n",
    "                      "
   ]
  },
  {
   "cell_type": "code",
   "execution_count": 25,
   "metadata": {
    "tags": []
   },
   "outputs": [],
   "source": [
    "ss = MinMaxScaler()\n",
    "X_train_scaled = ss.fit_transform(X_train_df)\n",
    "X_val_scaled = ss.transform(X_val_df)\n",
    "X_test_scaled = ss.transform(X_test_df)"
   ]
  },
  {
   "cell_type": "code",
   "execution_count": null,
   "metadata": {
    "tags": []
   },
   "outputs": [],
   "source": [
    "def get_report(y_pred, y_test):\n",
    "    \"\"\"\n",
    "    function to Report the first 3 and last 3 predictions on X_test,\n",
    "    along with the actual labels in y_test.\n",
    "    \n",
    "    Returns a dataframe with 6 rows.\n",
    "    \"\"\"\n",
    "    preds = np.concatenate([y_pred[:3], y_pred[-3:]])\n",
    "    actuals = np.concatenate([y_test[:3], y_test[-3:]])\n",
    "    df_compare = pd.DataFrame({'Prediction': preds,\n",
    "                               'Actual':actuals})\n",
    "    df_compare['Position'] = [1, 2, 3, len(y_pred) - 2, len(y_pred) - 1, len(y_pred)]\n",
    "    df_compare = df_compare.set_index('Position')\n",
    "    return df_compare"
   ]
  },
  {
   "cell_type": "code",
   "execution_count": 34,
   "metadata": {
    "tags": []
   },
   "outputs": [
    {
     "data": {
      "text/plain": [
       "(1302, 15)"
      ]
     },
     "execution_count": 34,
     "metadata": {},
     "output_type": "execute_result"
    }
   ],
   "source": [
    "X_train_scaled.shape"
   ]
  },
  {
   "cell_type": "code",
   "execution_count": null,
   "metadata": {
    "tags": []
   },
   "outputs": [],
   "source": [
    "lgr.predict(X_train_scaled).shape"
   ]
  },
  {
   "cell_type": "code",
   "execution_count": 75,
   "metadata": {
    "tags": []
   },
   "outputs": [],
   "source": [
    "clf = LogisticRegression(random_state=42).fit(X_train_scaled, y_train_df)\n",
    "pred_prob = clf.predict_proba(X_train_scaled)"
   ]
  },
  {
   "cell_type": "code",
   "execution_count": 93,
   "metadata": {
    "tags": []
   },
   "outputs": [
    {
     "data": {
      "text/plain": [
       "array([0.5       , 0.5020202 , 0.5040404 , 0.50606061, 0.50808081,\n",
       "       0.51010101, 0.51212121, 0.51414141, 0.51616162, 0.51818182,\n",
       "       0.52020202, 0.52222222, 0.52424242, 0.52626263, 0.52828283,\n",
       "       0.53030303, 0.53232323, 0.53434343, 0.53636364, 0.53838384,\n",
       "       0.54040404, 0.54242424, 0.54444444, 0.54646465, 0.54848485,\n",
       "       0.55050505, 0.55252525, 0.55454545, 0.55656566, 0.55858586,\n",
       "       0.56060606, 0.56262626, 0.56464646, 0.56666667, 0.56868687,\n",
       "       0.57070707, 0.57272727, 0.57474747, 0.57676768, 0.57878788,\n",
       "       0.58080808, 0.58282828, 0.58484848, 0.58686869, 0.58888889,\n",
       "       0.59090909, 0.59292929, 0.59494949, 0.5969697 , 0.5989899 ,\n",
       "       0.6010101 , 0.6030303 , 0.60505051, 0.60707071, 0.60909091,\n",
       "       0.61111111, 0.61313131, 0.61515152, 0.61717172, 0.61919192,\n",
       "       0.62121212, 0.62323232, 0.62525253, 0.62727273, 0.62929293,\n",
       "       0.63131313, 0.63333333, 0.63535354, 0.63737374, 0.63939394,\n",
       "       0.64141414, 0.64343434, 0.64545455, 0.64747475, 0.64949495,\n",
       "       0.65151515, 0.65353535, 0.65555556, 0.65757576, 0.65959596,\n",
       "       0.66161616, 0.66363636, 0.66565657, 0.66767677, 0.66969697,\n",
       "       0.67171717, 0.67373737, 0.67575758, 0.67777778, 0.67979798,\n",
       "       0.68181818, 0.68383838, 0.68585859, 0.68787879, 0.68989899,\n",
       "       0.69191919, 0.69393939, 0.6959596 , 0.6979798 , 0.7       ])"
      ]
     },
     "execution_count": 93,
     "metadata": {},
     "output_type": "execute_result"
    }
   ],
   "source": [
    "np.linspace(0.5, 0.7, num=100)"
   ]
  },
  {
   "cell_type": "code",
   "execution_count": 107,
   "metadata": {
    "tags": []
   },
   "outputs": [],
   "source": [
    "import pickle"
   ]
  },
  {
   "cell_type": "code",
   "execution_count": 108,
   "metadata": {
    "tags": []
   },
   "outputs": [],
   "source": [
    "# save the model to disk\n",
    "filename = 'finalized_model.sav'\n",
    "pickle.dump(clf, open(filename, 'wb'))"
   ]
  },
  {
   "cell_type": "code",
   "execution_count": 104,
   "metadata": {
    "tags": []
   },
   "outputs": [
    {
     "data": {
      "text/plain": [
       "0.5272727272727272"
      ]
     },
     "execution_count": 104,
     "metadata": {},
     "output_type": "execute_result"
    }
   ],
   "source": [
    "threshold = np.linspace(0.4, 0.7, num=100)[res.index(max(res))]"
   ]
  },
  {
   "cell_type": "code",
   "execution_count": 97,
   "metadata": {
    "tags": []
   },
   "outputs": [
    {
     "data": {
      "text/plain": [
       "[<matplotlib.lines.Line2D at 0x7fbee8d94610>]"
      ]
     },
     "execution_count": 97,
     "metadata": {},
     "output_type": "execute_result"
    },
    {
     "data": {
      "image/png": "[encoded data removed]",
      "text/plain": [
       "<Figure size 640x480 with 1 Axes>"
      ]
     },
     "metadata": {},
     "output_type": "display_data"
    }
   ],
   "source": [
    "res = []\n",
    "for i in np.linspace(0.4, 0.7, num=100):\n",
    "    pred = pd.DataFrame(pred_prob).apply(lambda x: 1 if x[1] > i else 0, axis=1)\n",
    "#     conf_matrix = confusion_matrix(pred, y_train_df)\n",
    "\n",
    "#     TP = conf_matrix[1, 1]\n",
    "#     TN = conf_matrix[0, 0]\n",
    "#     FP = conf_matrix[0, 1]\n",
    "#     FN = conf_matrix[1, 0]\n",
    "    \n",
    "#     print((TP + TN) / sum(map(sum, conf_matrix)))\n",
    "#     print(accuracy_score(y_train_df, pred))\n",
    "    res.append(accuracy_score(y_train_df, pred))\n",
    "\n",
    "fig = plt.figure()\n",
    "ax = plt.axes()\n",
    "ax.plot(np.linspace(0.4, 0.7, num=100), res)"
   ]
  },
  {
   "cell_type": "code",
   "execution_count": 88,
   "metadata": {
    "tags": []
   },
   "outputs": [
    {
     "data": {
      "text/plain": [
       "0       1\n",
       "1       1\n",
       "2       1\n",
       "3       1\n",
       "4       1\n",
       "       ..\n",
       "1297    0\n",
       "1298    0\n",
       "1299    0\n",
       "1300    0\n",
       "1301    0\n",
       "Length: 1302, dtype: int64"
      ]
     },
     "execution_count": 88,
     "metadata": {},
     "output_type": "execute_result"
    }
   ],
   "source": [
    "pred = pd.DataFrame(pred_prob).apply(lambda x: 1 if x[1] > 0.59 else 0, axis=1)\n",
    "pred"
   ]
  },
  {
   "cell_type": "code",
   "execution_count": 70,
   "metadata": {
    "tags": []
   },
   "outputs": [],
   "source": [
    "from sklearn.metrics import confusion_matrix, accuracy_score"
   ]
  },
  {
   "cell_type": "code",
   "execution_count": 89,
   "metadata": {
    "tags": []
   },
   "outputs": [],
   "source": [
    "conf_matrix = confusion_matrix(pred, y_train_df)\n",
    "\n",
    "TP = conf_matrix[1, 1]\n",
    "TN = conf_matrix[0, 0]\n",
    "FP = conf_matrix[0, 1]\n",
    "FN = conf_matrix[1, 0]"
   ]
  },
  {
   "cell_type": "code",
   "execution_count": 90,
   "metadata": {
    "tags": []
   },
   "outputs": [
    {
     "name": "stdout",
     "output_type": "stream",
     "text": [
      "0.641321044546851\n",
      "0.641321044546851\n"
     ]
    }
   ],
   "source": [
    "# Classification Accuracy: Overall, how often is the classifier correct?\n",
    "# use float to perform true division, not integer division\n",
    "print((TP + TN) / sum(map(sum, conf_matrix)))\n",
    "print(accuracy_score(y_train_df, pred))"
   ]
  },
  {
   "cell_type": "code",
   "execution_count": 218,
   "metadata": {
    "tags": []
   },
   "outputs": [
    {
     "data": {
      "text/plain": [
       "Text(0.5, 1.0, 'Training Loss over Epochs')"
      ]
     },
     "execution_count": 218,
     "metadata": {},
     "output_type": "execute_result"
    },
    {
     "data": {
      "image/png": "[encoded data removed]",
      "text/plain": [
       "<Figure size 640x480 with 1 Axes>"
      ]
     },
     "metadata": {},
     "output_type": "display_data"
    }
   ],
   "source": [
    "### Code here\n",
    "lgr = LogisticRegression(alpha=0, t=100, eta=1e-3)\n",
    "loss_train = lgr.train(X_train_scaled, np.array(y_train_df.tolist()))\n",
    "\n",
    "loss_train = np.squeeze(loss_train)\n",
    "\n",
    "fig, ax = plt.subplots()\n",
    "ax.plot(range(100), loss_train)\n",
    "ax.set_xlabel('Epochs')\n",
    "ax.set_ylabel('Loss')\n",
    "ax.set_title('Training Loss over Epochs')"
   ]
  },
  {
   "cell_type": "code",
   "execution_count": 193,
   "metadata": {
    "tags": []
   },
   "outputs": [
    {
     "name": "stdout",
     "output_type": "stream",
     "text": [
      "R^2 score on training set: -40.453142294372896\n",
      "R^2 score on training set: -9.643044769320358\n",
      "R^2 score on training set: -8.715021056768009\n"
     ]
    },
    {
     "data": {
      "text/html": [
       "<div>\n",
       "<style scoped>\n",
       "    .dataframe tbody tr th:only-of-type {\n",
       "        vertical-align: middle;\n",
       "    }\n",
       "\n",
       "    .dataframe tbody tr th {\n",
       "        vertical-align: top;\n",
       "    }\n",
       "\n",
       "    .dataframe thead th {\n",
       "        text-align: right;\n",
       "    }\n",
       "</style>\n",
       "<table border=\"1\" class=\"dataframe\">\n",
       "  <thead>\n",
       "    <tr style=\"text-align: right;\">\n",
       "      <th></th>\n",
       "      <th>Prediction</th>\n",
       "      <th>Actual</th>\n",
       "    </tr>\n",
       "    <tr>\n",
       "      <th>Position</th>\n",
       "      <th></th>\n",
       "      <th></th>\n",
       "    </tr>\n",
       "  </thead>\n",
       "  <tbody>\n",
       "    <tr>\n",
       "      <th>1</th>\n",
       "      <td>0.529807</td>\n",
       "      <td>1.0</td>\n",
       "    </tr>\n",
       "    <tr>\n",
       "      <th>2</th>\n",
       "      <td>0.469366</td>\n",
       "      <td>1.0</td>\n",
       "    </tr>\n",
       "    <tr>\n",
       "      <th>3</th>\n",
       "      <td>0.595664</td>\n",
       "      <td>1.0</td>\n",
       "    </tr>\n",
       "    <tr>\n",
       "      <th>433</th>\n",
       "      <td>0.694597</td>\n",
       "      <td>1.0</td>\n",
       "    </tr>\n",
       "    <tr>\n",
       "      <th>434</th>\n",
       "      <td>0.637498</td>\n",
       "      <td>0.0</td>\n",
       "    </tr>\n",
       "    <tr>\n",
       "      <th>435</th>\n",
       "      <td>0.297701</td>\n",
       "      <td>1.0</td>\n",
       "    </tr>\n",
       "  </tbody>\n",
       "</table>\n",
       "</div>"
      ],
      "text/plain": [
       "          Prediction  Actual\n",
       "Position                    \n",
       "1           0.529807     1.0\n",
       "2           0.469366     1.0\n",
       "3           0.595664     1.0\n",
       "433         0.694597     1.0\n",
       "434         0.637498     0.0\n",
       "435         0.297701     1.0"
      ]
     },
     "execution_count": 193,
     "metadata": {},
     "output_type": "execute_result"
    }
   ],
   "source": [
    "### Code here\n",
    "lr = LinearRegression()\n",
    "lr.train(X_train_scaled, y_train_df)\n",
    "\n",
    "# predictions\n",
    "y_pred_train = lr.predict(X_train_scaled)\n",
    "y_pred_val = lr.predict(X_val_scaled)\n",
    "y_pred_test = lr.predict(X_test_scaled)\n",
    "\n",
    "# Export R^2\n",
    "r2_train = r2_score(y_pred_train, y_train_df)\n",
    "r2_val = r2_score(y_pred_val, y_val_df)\n",
    "r2_test = r2_score(y_pred_test, y_test_df)\n",
    "print(f\"R^2 score on training set: {r2_train}\")\n",
    "print(f\"R^2 score on training set: {r2_val}\")\n",
    "print(f\"R^2 score on training set: {r2_test}\")\n",
    "\n",
    "# Get report\n",
    "get_report(y_pred_train, y_train_df)\n",
    "get_report(y_pred_val, y_val_df)\n",
    "get_report(y_pred_test, y_test_df)"
   ]
  },
  {
   "cell_type": "markdown",
   "metadata": {
    "id": "JReT1I4RpERu"
   },
   "source": [
    "# Portfolio"
   ]
  },
  {
   "cell_type": "code",
   "execution_count": 119,
   "metadata": {
    "id": "gCvuxAcS0ZAL",
    "tags": []
   },
   "outputs": [],
   "source": [
    "class MarketOnClosePortfolio(Portfolio):\n",
    "    def __init__(self, symbol, bars, signals, initial_capital=100000.0):\n",
    "        self.symbol = symbol\n",
    "        self.bars = bars\n",
    "        self.signals = signals\n",
    "        self.initial_capital = float(initial_capital)\n",
    "        self.positions = self.generate_positions()\n",
    "\n",
    "    def generate_positions(self):\n",
    "        positions = pd.DataFrame(index=self.bars.index).fillna(0.0)\n",
    "        positions[self.symbol] = 100 * self.signals[\"signal\"]\n",
    "        return positions.cumsum()\n",
    "\n",
    "    def backtest_portfolio(self):\n",
    "        # portfolio = pd.DataFrame({'pos_value': self.positions[self.symbol] * self.bars['Close']})\n",
    "\n",
    "        # pos_diff = self.positions.diff()\n",
    "\n",
    "        # portfolio['holdings'] = self.positions[self.symbol] * self.bars['Close']\n",
    "        # portfolio['cash'] = self.initial_capital - (pos_diff[self.symbol] * self.bars['Close']).cumsum()\n",
    "\n",
    "        # portfolio['total'] = portfolio['cash'] + portfolio['holdings']\n",
    "        # portfolio['returns'] = portfolio['total'].pct_change()\n",
    "\n",
    "        portfolio = pd.DataFrame(index=self.bars.index)\n",
    "        portfolio[\"holdings\"] = self.positions[self.symbol] * self.bars[\"Close\"]\n",
    "        pos_diff = self.positions.diff()\n",
    "        portfolio[\"cash\"] = (\n",
    "            self.initial_capital - (pos_diff[self.symbol] * self.bars[\"Close\"]).cumsum()\n",
    "        )\n",
    "        portfolio[\"total\"] = portfolio[\"cash\"] + portfolio[\"holdings\"]\n",
    "        portfolio[\"returns\"] = portfolio[\"total\"].pct_change()\n",
    "\n",
    "        return portfolio"
   ]
  },
  {
   "cell_type": "code",
   "execution_count": 397,
   "metadata": {
    "id": "NJFx0PhdxgUA",
    "tags": []
   },
   "outputs": [],
   "source": [
    "class MarketOnOpenPortfolio(Portfolio):\n",
    "    \"\"\"Inherits Portfolio to create a system that purchases 100 units of\n",
    "    a particular symbol upon a long/short signal, assuming the market\n",
    "    open price of a bar.\n",
    "\n",
    "    In addition, there are zero transaction costs and cash can be immediately\n",
    "    borrowed for shorting (no margin posting or interest requirements).\n",
    "\n",
    "    Requires:\n",
    "    symbol - A stock symbol which forms the basis of the portfolio.\n",
    "    bars - A DataFrame of bars for a symbol set.\n",
    "    signals - A pandas DataFrame of signals (1, 0, -1) for each symbol.\n",
    "    initial_capital - The amount in cash at the start of the portfolio.\"\"\"\n",
    "\n",
    "    def __init__(self, symbol, bars, signals, risk_ratio=0.05, stop_loss_percent=0.1, initial_capital=100000.0):\n",
    "        self.symbol = symbol\n",
    "        self.bars = bars\n",
    "        self.signals = signals\n",
    "        self.initial_capital = float(initial_capital)\n",
    "        # self.cash = self.initial_capital\n",
    "        self.risk_ratio = risk_ratio\n",
    "        self.stop_loss_percent = stop_loss_percent\n",
    "        self.positions = self.generate_positions()\n",
    "    \n",
    "    def generate_positions(self):\n",
    "        positions = pd.DataFrame(index=self.signals.index, columns=[self.symbol])\n",
    "        positions[self.symbol] = positions[self.symbol].mask(pd.isna(positions[self.symbol]), 0)\n",
    "        equity = [self.initial_capital] # length n\n",
    "        \n",
    "        for i in range(1, len(self.signals)):\n",
    "            signal = self.signals['signal'].iloc[i]\n",
    "            open_price = self.bars[\"Open\"].iloc[i]\n",
    "            prev_open_price = self.bars[\"Open\"].iloc[i-1]\n",
    "\n",
    "#             historical = [abs(j - self.initial_capital) for j in equity[:i]]\n",
    "#             if max(historical) != 0:\n",
    "#                 trade_risk = max(historical)\n",
    "#             else:\n",
    "#                 trade_risk = open_price\n",
    "\n",
    "#             num_of_contract = int(equity[i-1] * self.risk_ratio / trade_risk)\n",
    "            num_of_contract = int(equity[i-1] * self.risk_ratio / (open_price * self.stop_loss_percent))\n",
    "            \n",
    "            \n",
    "\n",
    "            if signal == 1:\n",
    "                positions.iloc[i] = num_of_contract\n",
    "            elif signal == -1:\n",
    "                positions.iloc[i] = 0\n",
    "            else:\n",
    "                positions.iloc[i] = positions.iloc[i-1]\n",
    "\n",
    "            pnl = float(positions.iloc[i-1].values) * (open_price - prev_open_price)\n",
    "            equity.append(equity[i-1] + pnl)\n",
    "\n",
    "        return positions\n",
    "    \n",
    "    \n",
    "    def backtest_portfolio(self):\n",
    "        \"\"\"Constructs a portfolio from the positions DataFrame by\n",
    "        assuming the ability to trade at the precise market open price\n",
    "        of each bar (an unrealistic assumption!).\n",
    "\n",
    "        Calculates the total of cash and the holdings (market price of\n",
    "        each position per bar), in order to generate an equity curve\n",
    "        ('total') and a set of bar-based returns ('returns').\n",
    "\n",
    "        Returns the portfolio object to be used elsewhere.\"\"\"\n",
    "    \n",
    "        portfolio = pd.DataFrame(index=self.bars.index)\n",
    "        portfolio[\"holdings\"] = self.positions[self.symbol] * self.bars[\"Open\"]\n",
    "        pos_diff = self.positions.diff()\n",
    "        portfolio[\"cash\"] = (\n",
    "            self.initial_capital - (pos_diff[self.symbol] * self.bars[\"Open\"]).cumsum()\n",
    "        )\n",
    "        portfolio[\"equity\"] = portfolio[\"cash\"] + portfolio[\"holdings\"]\n",
    "        portfolio[\"returns\"] = portfolio[\"equity\"].pct_change()\n",
    "        print(self.risk_ratio)\n",
    "\n",
    "        return portfolio"
   ]
  },
  {
   "cell_type": "code",
   "execution_count": 336,
   "metadata": {
    "tags": []
   },
   "outputs": [
    {
     "data": {
      "text/html": [
       "<div>\n",
       "<style scoped>\n",
       "    .dataframe tbody tr th:only-of-type {\n",
       "        vertical-align: middle;\n",
       "    }\n",
       "\n",
       "    .dataframe tbody tr th {\n",
       "        vertical-align: top;\n",
       "    }\n",
       "\n",
       "    .dataframe thead th {\n",
       "        text-align: right;\n",
       "    }\n",
       "</style>\n",
       "<table border=\"1\" class=\"dataframe\">\n",
       "  <thead>\n",
       "    <tr style=\"text-align: right;\">\n",
       "      <th></th>\n",
       "      <th>signal</th>\n",
       "      <th>short_mavg</th>\n",
       "      <th>long_mavg</th>\n",
       "    </tr>\n",
       "    <tr>\n",
       "      <th>Date</th>\n",
       "      <th></th>\n",
       "      <th></th>\n",
       "      <th></th>\n",
       "    </tr>\n",
       "  </thead>\n",
       "  <tbody>\n",
       "    <tr>\n",
       "      <th>2016-01-04</th>\n",
       "      <td>0.0</td>\n",
       "      <td>2.770000</td>\n",
       "      <td>2.770000</td>\n",
       "    </tr>\n",
       "    <tr>\n",
       "      <th>2016-01-05</th>\n",
       "      <td>0.0</td>\n",
       "      <td>2.760000</td>\n",
       "      <td>2.760000</td>\n",
       "    </tr>\n",
       "    <tr>\n",
       "      <th>2016-01-06</th>\n",
       "      <td>0.0</td>\n",
       "      <td>2.675000</td>\n",
       "      <td>2.675000</td>\n",
       "    </tr>\n",
       "    <tr>\n",
       "      <th>2016-01-07</th>\n",
       "      <td>0.0</td>\n",
       "      <td>2.575000</td>\n",
       "      <td>2.575000</td>\n",
       "    </tr>\n",
       "    <tr>\n",
       "      <th>2016-01-08</th>\n",
       "      <td>0.0</td>\n",
       "      <td>2.488000</td>\n",
       "      <td>2.488000</td>\n",
       "    </tr>\n",
       "    <tr>\n",
       "      <th>...</th>\n",
       "      <td>...</td>\n",
       "      <td>...</td>\n",
       "      <td>...</td>\n",
       "    </tr>\n",
       "    <tr>\n",
       "      <th>2024-08-20</th>\n",
       "      <td>0.0</td>\n",
       "      <td>156.777950</td>\n",
       "      <td>128.448688</td>\n",
       "    </tr>\n",
       "    <tr>\n",
       "      <th>2024-08-21</th>\n",
       "      <td>0.0</td>\n",
       "      <td>157.027850</td>\n",
       "      <td>128.666888</td>\n",
       "    </tr>\n",
       "    <tr>\n",
       "      <th>2024-08-22</th>\n",
       "      <td>0.0</td>\n",
       "      <td>157.225100</td>\n",
       "      <td>128.876863</td>\n",
       "    </tr>\n",
       "    <tr>\n",
       "      <th>2024-08-23</th>\n",
       "      <td>0.0</td>\n",
       "      <td>157.441250</td>\n",
       "      <td>129.089137</td>\n",
       "    </tr>\n",
       "    <tr>\n",
       "      <th>2024-08-26</th>\n",
       "      <td>0.0</td>\n",
       "      <td>157.626159</td>\n",
       "      <td>129.273892</td>\n",
       "    </tr>\n",
       "  </tbody>\n",
       "</table>\n",
       "<p>2176 rows × 3 columns</p>\n",
       "</div>"
      ],
      "text/plain": [
       "            signal  short_mavg   long_mavg\n",
       "Date                                      \n",
       "2016-01-04     0.0    2.770000    2.770000\n",
       "2016-01-05     0.0    2.760000    2.760000\n",
       "2016-01-06     0.0    2.675000    2.675000\n",
       "2016-01-07     0.0    2.575000    2.575000\n",
       "2016-01-08     0.0    2.488000    2.488000\n",
       "...            ...         ...         ...\n",
       "2024-08-20     0.0  156.777950  128.448688\n",
       "2024-08-21     0.0  157.027850  128.666888\n",
       "2024-08-22     0.0  157.225100  128.876863\n",
       "2024-08-23     0.0  157.441250  129.089137\n",
       "2024-08-26     0.0  157.626159  129.273892\n",
       "\n",
       "[2176 rows x 3 columns]"
      ]
     },
     "execution_count": 336,
     "metadata": {},
     "output_type": "execute_result"
    }
   ],
   "source": [
    "signals"
   ]
  },
  {
   "cell_type": "code",
   "execution_count": 209,
   "metadata": {
    "tags": []
   },
   "outputs": [
    {
     "name": "stderr",
     "output_type": "stream",
     "text": [
      "/tmp/ipykernel_9001/3257929084.py:3: FutureWarning: Downcasting object dtype arrays on .fillna, .ffill, .bfill is deprecated and will change in a future version. Call result.infer_objects(copy=False) instead. To opt-in to the future behavior, set `pd.set_option('future.no_silent_downcasting', True)`\n",
      "  positions = pd.DataFrame(index=signals.index, columns=[symbol]).fillna(0.0)\n"
     ]
    },
    {
     "ename": "ValueError",
     "evalue": "The truth value of a Series is ambiguous. Use a.empty, a.bool(), a.item(), a.any() or a.all().",
     "output_type": "error",
     "traceback": [
      "\u001b[0;31m---------------------------------------------------------------------------\u001b[0m",
      "\u001b[0;31mValueError\u001b[0m                                Traceback (most recent call last)",
      "\u001b[0;32m/tmp/ipykernel_9001/3257929084.py\u001b[0m in \u001b[0;36m?\u001b[0;34m()\u001b[0m\n\u001b[1;32m      9\u001b[0m     \u001b[0mopen_price\u001b[0m \u001b[0;34m=\u001b[0m \u001b[0mbars\u001b[0m\u001b[0;34m[\u001b[0m\u001b[0;34m\"Open\"\u001b[0m\u001b[0;34m]\u001b[0m\u001b[0;34m.\u001b[0m\u001b[0miloc\u001b[0m\u001b[0;34m[\u001b[0m\u001b[0mi\u001b[0m\u001b[0;34m]\u001b[0m\u001b[0;34m\u001b[0m\u001b[0;34m\u001b[0m\u001b[0m\n\u001b[1;32m     10\u001b[0m     \u001b[0mprev_open_price\u001b[0m \u001b[0;34m=\u001b[0m \u001b[0mbars\u001b[0m\u001b[0;34m[\u001b[0m\u001b[0;34m\"Open\"\u001b[0m\u001b[0;34m]\u001b[0m\u001b[0;34m.\u001b[0m\u001b[0miloc\u001b[0m\u001b[0;34m[\u001b[0m\u001b[0mi\u001b[0m\u001b[0;34m-\u001b[0m\u001b[0;36m1\u001b[0m\u001b[0;34m]\u001b[0m\u001b[0;34m\u001b[0m\u001b[0;34m\u001b[0m\u001b[0m\n\u001b[1;32m     11\u001b[0m \u001b[0;34m\u001b[0m\u001b[0m\n\u001b[1;32m     12\u001b[0m     \u001b[0mhistorical\u001b[0m \u001b[0;34m=\u001b[0m \u001b[0;34m[\u001b[0m\u001b[0mabs\u001b[0m\u001b[0;34m(\u001b[0m\u001b[0mi\u001b[0m \u001b[0;34m-\u001b[0m \u001b[0minitial_capital\u001b[0m\u001b[0;34m)\u001b[0m \u001b[0;32mfor\u001b[0m \u001b[0mi\u001b[0m \u001b[0;32min\u001b[0m \u001b[0mequity\u001b[0m\u001b[0;34m[\u001b[0m\u001b[0;34m:\u001b[0m\u001b[0mi\u001b[0m\u001b[0;34m]\u001b[0m\u001b[0;34m]\u001b[0m\u001b[0;34m\u001b[0m\u001b[0;34m\u001b[0m\u001b[0m\n\u001b[0;32m---> 13\u001b[0;31m     \u001b[0;32mif\u001b[0m \u001b[0mmax\u001b[0m\u001b[0;34m(\u001b[0m\u001b[0mhistorical\u001b[0m\u001b[0;34m)\u001b[0m \u001b[0;34m!=\u001b[0m \u001b[0;36m0\u001b[0m\u001b[0;34m:\u001b[0m\u001b[0;34m\u001b[0m\u001b[0;34m\u001b[0m\u001b[0m\n\u001b[0m\u001b[1;32m     14\u001b[0m         \u001b[0mtrade_risk\u001b[0m \u001b[0;34m=\u001b[0m \u001b[0mmax\u001b[0m\u001b[0;34m(\u001b[0m\u001b[0mhistorical\u001b[0m\u001b[0;34m)\u001b[0m\u001b[0;34m\u001b[0m\u001b[0;34m\u001b[0m\u001b[0m\n\u001b[1;32m     15\u001b[0m     \u001b[0;32melse\u001b[0m\u001b[0;34m:\u001b[0m\u001b[0;34m\u001b[0m\u001b[0;34m\u001b[0m\u001b[0m\n\u001b[1;32m     16\u001b[0m         \u001b[0mtrade_risk\u001b[0m \u001b[0;34m=\u001b[0m \u001b[0mopen_price\u001b[0m\u001b[0;34m\u001b[0m\u001b[0;34m\u001b[0m\u001b[0m\n",
      "\u001b[0;32m~/anaconda3/envs/python3/lib/python3.10/site-packages/pandas/core/generic.py\u001b[0m in \u001b[0;36m?\u001b[0;34m(self)\u001b[0m\n\u001b[1;32m   1575\u001b[0m     \u001b[0;34m@\u001b[0m\u001b[0mfinal\u001b[0m\u001b[0;34m\u001b[0m\u001b[0;34m\u001b[0m\u001b[0m\n\u001b[1;32m   1576\u001b[0m     \u001b[0;32mdef\u001b[0m \u001b[0m__nonzero__\u001b[0m\u001b[0;34m(\u001b[0m\u001b[0mself\u001b[0m\u001b[0;34m)\u001b[0m \u001b[0;34m->\u001b[0m \u001b[0mNoReturn\u001b[0m\u001b[0;34m:\u001b[0m\u001b[0;34m\u001b[0m\u001b[0;34m\u001b[0m\u001b[0m\n\u001b[0;32m-> 1577\u001b[0;31m         raise ValueError(\n\u001b[0m\u001b[1;32m   1578\u001b[0m             \u001b[0;34mf\"The truth value of a {type(self).__name__} is ambiguous. \"\u001b[0m\u001b[0;34m\u001b[0m\u001b[0;34m\u001b[0m\u001b[0m\n\u001b[1;32m   1579\u001b[0m             \u001b[0;34m\"Use a.empty, a.bool(), a.item(), a.any() or a.all().\"\u001b[0m\u001b[0;34m\u001b[0m\u001b[0;34m\u001b[0m\u001b[0m\n\u001b[1;32m   1580\u001b[0m         )\n",
      "\u001b[0;31mValueError\u001b[0m: The truth value of a Series is ambiguous. Use a.empty, a.bool(), a.item(), a.any() or a.all()."
     ]
    }
   ],
   "source": [
    "initial_capital = 100000\n",
    "symbol = 'AMD'\n",
    "positions = pd.DataFrame(index=signals.index, columns=[symbol])\n",
    "positions[symbol] = positions[symbol].mask(pd.isna(positions[symbol]), 0)\n",
    "equity = [initial_capital] # length n\n",
    "risk_ratio = 0.05\n",
    "\n",
    "for i in range(1, len(signals)):\n",
    "    signal = signals['signal'].iloc[i]\n",
    "    open_price = bars[\"Open\"].iloc[i]\n",
    "    prev_open_price = bars[\"Open\"].iloc[i-1]\n",
    "\n",
    "    historical = [abs(i - initial_capital) for i in equity[:i]]\n",
    "    if max(historical) != 0:\n",
    "        trade_risk = max(historical)\n",
    "    else:\n",
    "        trade_risk = open_price\n",
    "    \n",
    "    num_of_contract = int(equity[i-1] * risk_ratio / trade_risk)\n",
    "\n",
    "    if signal != 0:\n",
    "        positions.iloc[i] = num_of_contract\n",
    "\n",
    "    else:\n",
    "        positions.iloc[i] = positions.iloc[i-1]\n",
    "\n",
    "    pnl = positions.iloc[i-1] * (open_price - prev_open_price)\n",
    "    equity.append(equity[i-1] + pnl)\n",
    "\n",
    "return positions"
   ]
  },
  {
   "cell_type": "code",
   "execution_count": 280,
   "metadata": {
    "tags": []
   },
   "outputs": [],
   "source": [
    "initial_capital = 100000\n",
    "symbol = 'AMD'\n",
    "positions = pd.DataFrame(index=signals.index, columns=[symbol])\n",
    "positions[symbol] = positions[symbol].mask(pd.isna(positions[symbol]), 0)\n",
    "equity = [initial_capital] # length n\n",
    "risk_ratio = 0.05"
   ]
  },
  {
   "cell_type": "code",
   "execution_count": 283,
   "metadata": {
    "tags": []
   },
   "outputs": [],
   "source": [
    "i = 2\n",
    "signal = signals['signal'].iloc[i]\n",
    "open_price = bars[\"Open\"].iloc[i]\n",
    "prev_open_price = bars[\"Open\"].iloc[i-1]\n",
    "\n",
    "historical = [abs(i - initial_capital) for i in equity[:i]]\n",
    "if max(historical) != 0:\n",
    "    trade_risk = max(historical)\n",
    "else:\n",
    "    trade_risk = open_price\n",
    "\n",
    "num_of_contract = int(equity[i-1] * risk_ratio / trade_risk)\n",
    "\n",
    "if signal != 0:\n",
    "    positions.iloc[i] = num_of_contract\n",
    "\n",
    "else:\n",
    "    positions.iloc[i] = positions.iloc[i-1]\n",
    "\n",
    "pnl = float(positions.iloc[i-1].values) * (open_price - prev_open_price)\n",
    "equity.append(equity[i-1] + pnl)"
   ]
  },
  {
   "cell_type": "code",
   "execution_count": 286,
   "metadata": {
    "tags": []
   },
   "outputs": [
    {
     "data": {
      "text/plain": [
       "signal\n",
       " 0.0    2172\n",
       "-1.0       2\n",
       " 1.0       2\n",
       "Name: count, dtype: int64"
      ]
     },
     "execution_count": 286,
     "metadata": {},
     "output_type": "execute_result"
    }
   ],
   "source": [
    "signals['signal'].value_counts()"
   ]
  },
  {
   "cell_type": "markdown",
   "metadata": {
    "id": "V3bcsOH6jN8b"
   },
   "source": [
    "# Execution"
   ]
  },
  {
   "cell_type": "markdown",
   "metadata": {
    "id": "8evBw8Utp3UF"
   },
   "source": [
    "## Random Strategy Execution"
   ]
  },
  {
   "cell_type": "code",
   "execution_count": 13,
   "metadata": {
    "id": "DJBjdTaEx0pd"
   },
   "outputs": [],
   "source": [
    "if __name__ == \"__main__\":\n",
    "    # Obtain daily bars of SPY (ETF that generally\n",
    "    # follows the S&P500) from Quandl (requires 'pip install Quandl'\n",
    "    # on the command line)\n",
    "\n",
    "    # Fetch SPY data\n",
    "    symbol = \"SPY\"\n",
    "    bars = yf.download(symbol, period=\"2y\")  # start='2024-05-01'\n",
    "    bars.index = bars.index.date\n",
    "\n",
    "    # Create a set of random forecasting signals for SPY\n",
    "    rfs = RandomForecastingStrategy(symbol, bars)\n",
    "    signals = rfs.generate_signals()\n",
    "\n",
    "    # Create a portfolio of SPY\n",
    "    portfolio = MarketOnOpenPortfolio(symbol, bars, signals, initial_capital=100000.0)\n",
    "    returns = portfolio.backtest_portfolio()"
   ]
  },
  {
   "cell_type": "markdown",
   "metadata": {
    "id": "4tJJPoKKphUB"
   },
   "source": [
    "## Sentiment Analysis Execution"
   ]
  },
  {
   "cell_type": "code",
   "execution_count": 51,
   "metadata": {
    "colab": {
     "base_uri": "https://localhost:8080/",
     "height": 948
    },
    "id": "EfdA1M1agyzP",
    "outputId": "cd717749-73a4-4b84-bae5-a6d33d918ecb"
   },
   "outputs": [
    {
     "name": "stderr",
     "output_type": "stream",
     "text": [
      "[*********************100%%**********************]  1 of 1 completed\n"
     ]
    },
    {
     "data": {
      "image/png": "[encoded data removed]",
      "text/plain": [
       "<Figure size 1500x1000 with 2 Axes>"
      ]
     },
     "metadata": {},
     "output_type": "display_data"
    }
   ],
   "source": [
    "if __name__ == \"__main__\":\n",
    "    symbol = \"AMD\"\n",
    "    bars = yf.download(tickers=symbol, period=\"1mo\")\n",
    "    threshold = 0.2\n",
    "    news_api_key = userdata.get(\"news_api_key\")\n",
    "\n",
    "    senti_analysis = SentimentAnalysisStrategy(symbol, bars, threshold, news_api_key)\n",
    "    signals = senti_analysis.generate_signals()\n",
    "\n",
    "    portfolio = MarketOnClosePortfolio(symbol, bars, signals, initial_capital=100000.0)\n",
    "    returns = portfolio.backtest_portfolio()\n",
    "\n",
    "    fig, ax = plt.subplots(2, 1, figsize=(15, 10), tight_layout=True)\n",
    "    # fig.patch.set_facecolor('white')\n",
    "    ax[0].plot(bars[\"Close\"], label=\"Close\")\n",
    "    ax[0].scatter(\n",
    "        bars[\"Close\"][signals[\"signal\"] == 1.0].index,\n",
    "        bars[\"Close\"][signals[\"signal\"] == 1.0].values,\n",
    "        100,\n",
    "        c=\"green\",\n",
    "        marker=\"^\",\n",
    "        label=\"Buy\",\n",
    "    )\n",
    "    ax[0].scatter(\n",
    "        bars[\"Close\"][signals[\"signal\"] == -1.0].index,\n",
    "        bars[\"Close\"][signals[\"signal\"] == -1.0].values,\n",
    "        100,\n",
    "        c=\"red\",\n",
    "        marker=\"v\",\n",
    "        label=\"Sell\",\n",
    "    )\n",
    "\n",
    "    ax[0].legend()\n",
    "    ax[0].set_title(f\"{symbol} Close price and Sentiment Analysis signals\")\n",
    "    ax[0].set_xlabel(\"Date\")\n",
    "\n",
    "    ax[1].plot(returns[\"total\"], label=\"Portfolio value\")\n",
    "    ax[1].scatter(\n",
    "        returns[signals[\"signal\"] == 1.0].index,\n",
    "        returns[\"total\"][signals[\"signal\"] == 1.0],\n",
    "        s=100,\n",
    "        c=\"green\",\n",
    "        marker=\"^\",\n",
    "        label=\"Buy\",\n",
    "    )\n",
    "    ax[1].scatter(\n",
    "        returns[signals[\"signal\"] == -1.0].index,\n",
    "        returns[\"total\"][signals[\"signal\"] == -1.0],\n",
    "        s=100,\n",
    "        c=\"red\",\n",
    "        marker=\"v\",\n",
    "        label=\"Sell\",\n",
    "    )\n",
    "\n",
    "    ax[1].legend()\n",
    "    ax[1].set_title(f\"Portfolio value corresponding Sentiment Analysis\")\n",
    "    ax[1].set_xlabel(\"Date\")"
   ]
  },
  {
   "cell_type": "markdown",
   "metadata": {
    "id": "BKqfPS9mppno"
   },
   "source": [
    "## Moving Average Crossovers Strategy Execution"
   ]
  },
  {
   "cell_type": "code",
   "execution_count": 18,
   "metadata": {
    "tags": []
   },
   "outputs": [],
   "source": [
    "from alpaca.data.timeframe import TimeFrame\n",
    "from alpaca.data.requests import StockBarsRequest\n",
    "from alpaca.data.historical import StockHistoricalDataClient # Create stock historical data client"
   ]
  },
  {
   "cell_type": "code",
   "execution_count": 399,
   "metadata": {
    "colab": {
     "base_uri": "https://localhost:8080/",
     "height": 948
    },
    "id": "zsBSJDEJ2e_t",
    "outputId": "dd0ad7e7-5c87-4584-c871-1aae21758b84",
    "tags": []
   },
   "outputs": [
    {
     "name": "stderr",
     "output_type": "stream",
     "text": [
      "/tmp/ipykernel_9001/2782439365.py:22: FutureWarning: ChainedAssignmentError: behaviour will change in pandas 3.0!\n",
      "You are setting values through chained assignment. Currently this works in certain cases, but when using Copy-on-Write (which will become the default behaviour in pandas 3.0) this will never work to update the original DataFrame or Series, because the intermediate object on which we are setting values will behave as a copy.\n",
      "A typical example is when you are setting values in a column of a DataFrame, like:\n",
      "\n",
      "df[\"col\"][row_indexer] = value\n",
      "\n",
      "Use `df.loc[row_indexer, \"col\"] = values` instead, to perform the assignment in a single step and ensure this keeps updating the original `df`.\n",
      "\n",
      "See the caveats in the documentation: https://pandas.pydata.org/pandas-docs/stable/user_guide/indexing.html#returning-a-view-versus-a-copy\n",
      "\n",
      "  signals[\"signal\"][self.short_window :] = np.where(\n",
      "/tmp/ipykernel_9001/966422173.py:77: FutureWarning: Downcasting object dtype arrays on .fillna, .ffill, .bfill is deprecated and will change in a future version. Call result.infer_objects(copy=False) instead. To opt-in to the future behavior, set `pd.set_option('future.no_silent_downcasting', True)`\n",
      "  portfolio[\"returns\"] = portfolio[\"equity\"].pct_change()\n"
     ]
    },
    {
     "name": "stdout",
     "output_type": "stream",
     "text": [
      "0.05\n"
     ]
    },
    {
     "data": {
      "image/png": "[encoded data removed]",
      "text/plain": [
       "<Figure size 1500x1000 with 2 Axes>"
      ]
     },
     "metadata": {},
     "output_type": "display_data"
    }
   ],
   "source": [
    "if __name__ == \"__main__\":\n",
    "    symbol = \"AMD\"\n",
    "    \n",
    "    # Load data\n",
    "    # bars = yf.download(tickers=symbol, period=\"10y\")\n",
    "    api_key = \"PK6IRONYS5AQ646ZTDKX\"\n",
    "    api_secret = \"HEYwi2T3MzAmYgednADOq0g6pEjuULcEz0Hbdqg8\"\n",
    "    client = StockHistoricalDataClient(api_key, api_secret)\n",
    "    request_params = StockBarsRequest(\n",
    "                            symbol_or_symbols=[symbol],\n",
    "                            timeframe=TimeFrame.Day,\n",
    "                            start=\"2014-01-01 00:00:00\"\n",
    "                     )\n",
    "    bars = client.get_stock_bars(request_params)\n",
    "    bars_df = bars.df\n",
    "\n",
    "    bars_df = (\n",
    "        bars_df[['open', 'high', 'low', 'close', 'volume']]\n",
    "        .reset_index().drop('symbol', axis=1)\n",
    "    )\n",
    "\n",
    "    bars = (\n",
    "        bars_df\n",
    "        .set_index(pd.to_datetime(bars_df['timestamp']))\n",
    "        .rename(columns={'open': 'Open', 'high': 'High', 'low': 'Low', 'close': 'Close', 'volume': 'Volume'})\n",
    "    )\n",
    "\n",
    "    bars.index = bars.index.strftime('%Y-%m-%d')\n",
    "    bars.index.name = 'Date'\n",
    "    \n",
    "    \n",
    "    \n",
    "    short_window, long_window = 20, 100\n",
    "\n",
    "    mac = MovingAverageCrossStrategy(\n",
    "        symbol, bars, short_window=short_window, long_window=long_window\n",
    "    )\n",
    "    signals = mac.generate_signals()\n",
    "\n",
    "    portfolio = MarketOnOpenPortfolio(symbol, bars, signals, risk_ratio=0.05, stop_loss_percent=0.1, initial_capital=100000.0)\n",
    "    returns = portfolio.backtest_portfolio()\n",
    "    \n",
    "    # backtesting results\n",
    "    fig, ax = plt.subplots(2, 1, figsize=(15, 10), tight_layout=True)\n",
    "    # fig.patch.set_facecolor('white')\n",
    "    ax[0].plot(bars[\"Close\"], label=\"Close\")\n",
    "    ax[0].plot(signals[[\"short_mavg\", \"long_mavg\"]], label=[\"short_sma\", \"long_sma\"])\n",
    "    ax[0].scatter(\n",
    "        signals[signals[\"signal\"] == 1.0].index,\n",
    "        signals[\"short_mavg\"][signals[\"signal\"] == 1.0],\n",
    "        100,\n",
    "        c=\"green\",\n",
    "        marker=\"^\",\n",
    "    )\n",
    "    ax[0].scatter(\n",
    "        signals[signals[\"signal\"] == -1.0].index,\n",
    "        signals[\"short_mavg\"][signals[\"signal\"] == -1.0],\n",
    "        100,\n",
    "        c=\"red\",\n",
    "        marker=\"v\",\n",
    "    )\n",
    "    ax[0].legend()\n",
    "    ax[0].set_title(\n",
    "        f\"{symbol} Close price and {short_window}d-SMA and {long_window}d-SMA for 10 years\"\n",
    "    )\n",
    "    ax[0].set_xlabel(\"Date\")\n",
    "\n",
    "    ax[1].plot(returns[\"equity\"])\n",
    "    ax[1].scatter(\n",
    "        returns[signals[\"signal\"] == 1.0].index,\n",
    "        returns[\"equity\"][signals[\"signal\"] == 1.0],\n",
    "        s=100,\n",
    "        c=\"green\",\n",
    "        marker=\"^\",\n",
    "    )\n",
    "    ax[1].scatter(\n",
    "        returns[signals[\"signal\"] == -1.0].index,\n",
    "        returns[\"equity\"][signals[\"signal\"] == -1.0],\n",
    "        s=100,\n",
    "        c=\"red\",\n",
    "        marker=\"v\",\n",
    "    )"
   ]
  },
  {
   "cell_type": "code",
   "execution_count": 380,
   "metadata": {
    "tags": []
   },
   "outputs": [
    {
     "data": {
      "text/html": [
       "<div>\n",
       "<style scoped>\n",
       "    .dataframe tbody tr th:only-of-type {\n",
       "        vertical-align: middle;\n",
       "    }\n",
       "\n",
       "    .dataframe tbody tr th {\n",
       "        vertical-align: top;\n",
       "    }\n",
       "\n",
       "    .dataframe thead th {\n",
       "        text-align: right;\n",
       "    }\n",
       "</style>\n",
       "<table border=\"1\" class=\"dataframe\">\n",
       "  <thead>\n",
       "    <tr style=\"text-align: right;\">\n",
       "      <th></th>\n",
       "      <th>AMD</th>\n",
       "    </tr>\n",
       "    <tr>\n",
       "      <th>Date</th>\n",
       "      <th></th>\n",
       "    </tr>\n",
       "  </thead>\n",
       "  <tbody>\n",
       "    <tr>\n",
       "      <th>2016-01-04</th>\n",
       "      <td>0</td>\n",
       "    </tr>\n",
       "    <tr>\n",
       "      <th>2016-01-05</th>\n",
       "      <td>0</td>\n",
       "    </tr>\n",
       "    <tr>\n",
       "      <th>2016-01-06</th>\n",
       "      <td>0</td>\n",
       "    </tr>\n",
       "    <tr>\n",
       "      <th>2016-01-07</th>\n",
       "      <td>0</td>\n",
       "    </tr>\n",
       "    <tr>\n",
       "      <th>2016-01-08</th>\n",
       "      <td>0</td>\n",
       "    </tr>\n",
       "    <tr>\n",
       "      <th>...</th>\n",
       "      <td>...</td>\n",
       "    </tr>\n",
       "    <tr>\n",
       "      <th>2024-08-20</th>\n",
       "      <td>0</td>\n",
       "    </tr>\n",
       "    <tr>\n",
       "      <th>2024-08-21</th>\n",
       "      <td>0</td>\n",
       "    </tr>\n",
       "    <tr>\n",
       "      <th>2024-08-22</th>\n",
       "      <td>0</td>\n",
       "    </tr>\n",
       "    <tr>\n",
       "      <th>2024-08-23</th>\n",
       "      <td>0</td>\n",
       "    </tr>\n",
       "    <tr>\n",
       "      <th>2024-08-26</th>\n",
       "      <td>0</td>\n",
       "    </tr>\n",
       "  </tbody>\n",
       "</table>\n",
       "<p>2176 rows × 1 columns</p>\n",
       "</div>"
      ],
      "text/plain": [
       "           AMD\n",
       "Date          \n",
       "2016-01-04   0\n",
       "2016-01-05   0\n",
       "2016-01-06   0\n",
       "2016-01-07   0\n",
       "2016-01-08   0\n",
       "...         ..\n",
       "2024-08-20   0\n",
       "2024-08-21   0\n",
       "2024-08-22   0\n",
       "2024-08-23   0\n",
       "2024-08-26   0\n",
       "\n",
       "[2176 rows x 1 columns]"
      ]
     },
     "execution_count": 380,
     "metadata": {},
     "output_type": "execute_result"
    }
   ],
   "source": [
    "portfolio.positions"
   ]
  },
  {
   "cell_type": "code",
   "execution_count": 381,
   "metadata": {
    "tags": []
   },
   "outputs": [
    {
     "data": {
      "text/plain": [
       "AMD\n",
       "0       1771\n",
       "1766     405\n",
       "Name: count, dtype: int64"
      ]
     },
     "execution_count": 381,
     "metadata": {},
     "output_type": "execute_result"
    }
   ],
   "source": [
    "portfolio.positions['AMD'].value_counts()"
   ]
  },
  {
   "cell_type": "code",
   "execution_count": 391,
   "metadata": {
    "tags": []
   },
   "outputs": [
    {
     "data": {
      "text/plain": [
       "1766"
      ]
     },
     "execution_count": 391,
     "metadata": {},
     "output_type": "execute_result"
    }
   ],
   "source": [
    "portfolio.positions['AMD'].loc['2017-11-07']"
   ]
  },
  {
   "cell_type": "code",
   "execution_count": 387,
   "metadata": {
    "tags": []
   },
   "outputs": [
    {
     "data": {
      "text/plain": [
       "Date\n",
       "2017-11-08   -1.0\n",
       "2021-04-21   -1.0\n",
       "2022-03-28   -1.0\n",
       "2024-08-14   -1.0\n",
       "Name: signal, dtype: float64"
      ]
     },
     "execution_count": 387,
     "metadata": {},
     "output_type": "execute_result"
    }
   ],
   "source": [
    "signals['signal'][signals['signal'] == -1]"
   ]
  },
  {
   "cell_type": "code",
   "execution_count": 385,
   "metadata": {
    "tags": []
   },
   "outputs": [
    {
     "data": {
      "text/plain": [
       "Date\n",
       "2016-01-04    0.0\n",
       "2016-01-05    0.0\n",
       "2016-01-06    0.0\n",
       "2016-01-07    0.0\n",
       "2016-01-08    0.0\n",
       "             ... \n",
       "2024-08-20    0.0\n",
       "2024-08-21    0.0\n",
       "2024-08-22    0.0\n",
       "2024-08-23    0.0\n",
       "2024-08-26    0.0\n",
       "Name: holdings, Length: 2176, dtype: object"
      ]
     },
     "execution_count": 385,
     "metadata": {},
     "output_type": "execute_result"
    }
   ],
   "source": [
    "returns['holdings']"
   ]
  },
  {
   "cell_type": "markdown",
   "metadata": {},
   "source": [
    "## Logistic Regression execution"
   ]
  },
  {
   "cell_type": "code",
   "execution_count": 179,
   "metadata": {
    "tags": []
   },
   "outputs": [
    {
     "ename": "KeyError",
     "evalue": "'AMD'",
     "output_type": "error",
     "traceback": [
      "\u001b[0;31m---------------------------------------------------------------------------\u001b[0m",
      "\u001b[0;31mKeyError\u001b[0m                                  Traceback (most recent call last)",
      "Cell \u001b[0;32mIn[179], line 48\u001b[0m\n\u001b[1;32m     44\u001b[0m signals \u001b[38;5;241m=\u001b[39m lgr\u001b[38;5;241m.\u001b[39mgenerate_signals()\n\u001b[1;32m     47\u001b[0m portfolio \u001b[38;5;241m=\u001b[39m MarketOnOpenPortfolio(symbol, bars, signals, initial_capital\u001b[38;5;241m=\u001b[39m\u001b[38;5;241m100000.0\u001b[39m)\n\u001b[0;32m---> 48\u001b[0m returns \u001b[38;5;241m=\u001b[39m \u001b[43mportfolio\u001b[49m\u001b[38;5;241;43m.\u001b[39;49m\u001b[43mbacktest_portfolio\u001b[49m\u001b[43m(\u001b[49m\u001b[43m)\u001b[49m[period:]\n\u001b[1;32m     51\u001b[0m \u001b[38;5;66;03m# backtesting results\u001b[39;00m\n\u001b[1;32m     52\u001b[0m fig, ax \u001b[38;5;241m=\u001b[39m plt\u001b[38;5;241m.\u001b[39msubplots(\u001b[38;5;241m2\u001b[39m, \u001b[38;5;241m1\u001b[39m, figsize\u001b[38;5;241m=\u001b[39m(\u001b[38;5;241m15\u001b[39m, \u001b[38;5;241m10\u001b[39m), tight_layout\u001b[38;5;241m=\u001b[39m\u001b[38;5;28;01mTrue\u001b[39;00m)\n",
      "Cell \u001b[0;32mIn[178], line 59\u001b[0m, in \u001b[0;36mMarketOnOpenPortfolio.backtest_portfolio\u001b[0;34m(self)\u001b[0m\n\u001b[1;32m     48\u001b[0m \u001b[38;5;250m\u001b[39m\u001b[38;5;124;03m\"\"\"Constructs a portfolio from the positions DataFrame by\u001b[39;00m\n\u001b[1;32m     49\u001b[0m \u001b[38;5;124;03massuming the ability to trade at the precise market open price\u001b[39;00m\n\u001b[1;32m     50\u001b[0m \u001b[38;5;124;03mof each bar (an unrealistic assumption!).\u001b[39;00m\n\u001b[0;32m   (...)\u001b[0m\n\u001b[1;32m     55\u001b[0m \n\u001b[1;32m     56\u001b[0m \u001b[38;5;124;03mReturns the portfolio object to be used elsewhere.\"\"\"\u001b[39;00m\n\u001b[1;32m     58\u001b[0m portfolio \u001b[38;5;241m=\u001b[39m pd\u001b[38;5;241m.\u001b[39mDataFrame(index\u001b[38;5;241m=\u001b[39m\u001b[38;5;28mself\u001b[39m\u001b[38;5;241m.\u001b[39mbars\u001b[38;5;241m.\u001b[39mindex)\n\u001b[0;32m---> 59\u001b[0m portfolio[\u001b[38;5;124m\"\u001b[39m\u001b[38;5;124mholdings\u001b[39m\u001b[38;5;124m\"\u001b[39m] \u001b[38;5;241m=\u001b[39m \u001b[38;5;28;43mself\u001b[39;49m\u001b[38;5;241;43m.\u001b[39;49m\u001b[43mpositions\u001b[49m\u001b[43m[\u001b[49m\u001b[38;5;28;43mself\u001b[39;49m\u001b[38;5;241;43m.\u001b[39;49m\u001b[43msymbol\u001b[49m\u001b[43m]\u001b[49m \u001b[38;5;241m*\u001b[39m \u001b[38;5;28mself\u001b[39m\u001b[38;5;241m.\u001b[39mbars[\u001b[38;5;124m\"\u001b[39m\u001b[38;5;124mOpen\u001b[39m\u001b[38;5;124m\"\u001b[39m]\n\u001b[1;32m     60\u001b[0m pos_diff \u001b[38;5;241m=\u001b[39m \u001b[38;5;28mself\u001b[39m\u001b[38;5;241m.\u001b[39mpositions\u001b[38;5;241m.\u001b[39mdiff()\n\u001b[1;32m     61\u001b[0m portfolio[\u001b[38;5;124m\"\u001b[39m\u001b[38;5;124mcash\u001b[39m\u001b[38;5;124m\"\u001b[39m] \u001b[38;5;241m=\u001b[39m (\n\u001b[1;32m     62\u001b[0m     \u001b[38;5;28mself\u001b[39m\u001b[38;5;241m.\u001b[39minitial_capital \u001b[38;5;241m-\u001b[39m (pos_diff[\u001b[38;5;28mself\u001b[39m\u001b[38;5;241m.\u001b[39msymbol] \u001b[38;5;241m*\u001b[39m \u001b[38;5;28mself\u001b[39m\u001b[38;5;241m.\u001b[39mbars[\u001b[38;5;124m\"\u001b[39m\u001b[38;5;124mOpen\u001b[39m\u001b[38;5;124m\"\u001b[39m])\u001b[38;5;241m.\u001b[39mcumsum()\n\u001b[1;32m     63\u001b[0m )\n",
      "File \u001b[0;32m~/anaconda3/envs/python3/lib/python3.10/site-packages/pandas/core/frame.py:4102\u001b[0m, in \u001b[0;36mDataFrame.__getitem__\u001b[0;34m(self, key)\u001b[0m\n\u001b[1;32m   4100\u001b[0m \u001b[38;5;28;01mif\u001b[39;00m \u001b[38;5;28mself\u001b[39m\u001b[38;5;241m.\u001b[39mcolumns\u001b[38;5;241m.\u001b[39mnlevels \u001b[38;5;241m>\u001b[39m \u001b[38;5;241m1\u001b[39m:\n\u001b[1;32m   4101\u001b[0m     \u001b[38;5;28;01mreturn\u001b[39;00m \u001b[38;5;28mself\u001b[39m\u001b[38;5;241m.\u001b[39m_getitem_multilevel(key)\n\u001b[0;32m-> 4102\u001b[0m indexer \u001b[38;5;241m=\u001b[39m \u001b[38;5;28;43mself\u001b[39;49m\u001b[38;5;241;43m.\u001b[39;49m\u001b[43mcolumns\u001b[49m\u001b[38;5;241;43m.\u001b[39;49m\u001b[43mget_loc\u001b[49m\u001b[43m(\u001b[49m\u001b[43mkey\u001b[49m\u001b[43m)\u001b[49m\n\u001b[1;32m   4103\u001b[0m \u001b[38;5;28;01mif\u001b[39;00m is_integer(indexer):\n\u001b[1;32m   4104\u001b[0m     indexer \u001b[38;5;241m=\u001b[39m [indexer]\n",
      "File \u001b[0;32m~/anaconda3/envs/python3/lib/python3.10/site-packages/pandas/core/indexes/range.py:417\u001b[0m, in \u001b[0;36mRangeIndex.get_loc\u001b[0;34m(self, key)\u001b[0m\n\u001b[1;32m    415\u001b[0m         \u001b[38;5;28;01mraise\u001b[39;00m \u001b[38;5;167;01mKeyError\u001b[39;00m(key) \u001b[38;5;28;01mfrom\u001b[39;00m \u001b[38;5;21;01merr\u001b[39;00m\n\u001b[1;32m    416\u001b[0m \u001b[38;5;28;01mif\u001b[39;00m \u001b[38;5;28misinstance\u001b[39m(key, Hashable):\n\u001b[0;32m--> 417\u001b[0m     \u001b[38;5;28;01mraise\u001b[39;00m \u001b[38;5;167;01mKeyError\u001b[39;00m(key)\n\u001b[1;32m    418\u001b[0m \u001b[38;5;28mself\u001b[39m\u001b[38;5;241m.\u001b[39m_check_indexing_error(key)\n\u001b[1;32m    419\u001b[0m \u001b[38;5;28;01mraise\u001b[39;00m \u001b[38;5;167;01mKeyError\u001b[39;00m(key)\n",
      "\u001b[0;31mKeyError\u001b[0m: 'AMD'"
     ]
    }
   ],
   "source": [
    "if __name__ == \"__main__\":\n",
    "    symbol = \"AMD\"\n",
    "    \n",
    "    # Load data\n",
    "    # bars = yf.download(tickers=symbol, period=\"10y\")\n",
    "    api_key = \"PK6IRONYS5AQ646ZTDKX\"\n",
    "    api_secret = \"HEYwi2T3MzAmYgednADOq0g6pEjuULcEz0Hbdqg8\"\n",
    "    client = StockHistoricalDataClient(api_key, api_secret)\n",
    "    request_params = StockBarsRequest(\n",
    "                            symbol_or_symbols=[symbol],\n",
    "                            timeframe=TimeFrame.Day,\n",
    "                            start=\"2014-01-01 00:00:00\"\n",
    "                     )\n",
    "    bars = client.get_stock_bars(request_params)\n",
    "    bars_df = bars.df\n",
    "\n",
    "    bars_df = (\n",
    "        bars_df[['open', 'high', 'low', 'close', 'volume']]\n",
    "        .reset_index().drop('symbol', axis=1)\n",
    "    )\n",
    "\n",
    "    bars = (\n",
    "        bars_df\n",
    "        .set_index(pd.to_datetime(bars_df['timestamp']))\n",
    "        .rename(columns={'open': 'Open', 'high': 'High', 'low': 'Low', 'close': 'Close', 'volume': 'Volume'})\n",
    "    )\n",
    "\n",
    "    bars.index = bars.index.strftime('%Y-%m-%d')\n",
    "    bars.index.name = 'Date'\n",
    "    \n",
    "    \n",
    "    period = 3\n",
    "    full_data = pd.DataFrame()\n",
    "    full_data.index = bars.index\n",
    "\n",
    "    for i in range(1, period + 1):\n",
    "        for feature in ['Open','High','Low','Close','Volume']: # ['Close','Volume']:\n",
    "            full_data[f'{feature}_-{i}'] = bars[feature].shift(i)\n",
    "\n",
    "    full_data.dropna(inplace=True)\n",
    "    \n",
    "    clf_pred = pickle.load(open(filename, 'rb'))\n",
    "    lgr = LogisticRegressionStrategy(0.527, symbol, full_data, clf_pred)\n",
    "    signals = lgr.generate_signals()\n",
    "    \n",
    "\n",
    "    portfolio = MarketOnOpenPortfolio(symbol, bars, signals, initial_capital=100000.0)\n",
    "    returns = portfolio.backtest_portfolio()[period:]\n",
    "    \n",
    "    \n",
    "    # backtesting results\n",
    "    fig, ax = plt.subplots(2, 1, figsize=(15, 10), tight_layout=True)\n",
    "    # fig.patch.set_facecolor('white')\n",
    "    ax[0].plot(bars[\"Close\"][period:], label=\"Close\")\n",
    "    ax[0].scatter(\n",
    "        signals[signals[\"signal\"] == 1.0].index,\n",
    "        signals[signals[\"signal\"] == 1.0],\n",
    "        100,\n",
    "        c=\"green\",\n",
    "        marker=\"^\",\n",
    "    )\n",
    "    ax[0].scatter(\n",
    "        signals[signals[\"signal\"] == -1.0].index,\n",
    "        signals[signals[\"signal\"] == -1.0],\n",
    "        100,\n",
    "        c=\"red\",\n",
    "        marker=\"v\",\n",
    "    )\n",
    "    ax[0].legend()\n",
    "    ax[0].set_title(\n",
    "        f\"{symbol} Close price for 10 years\"\n",
    "    )\n",
    "    ax[0].set_xlabel(\"Date\")\n",
    "\n",
    "    ax[1].plot(returns[\"equity\"])\n",
    "    ax[1].scatter(\n",
    "        returns[signals[\"signal\"] == 1.0].index,\n",
    "        returns[\"equity\"][signals[\"signal\"] == 1.0],\n",
    "        s=100,\n",
    "        c=\"green\",\n",
    "        marker=\"^\",\n",
    "    )\n",
    "    ax[1].scatter(\n",
    "        returns[signals[\"signal\"] == -1.0].index,\n",
    "        returns[\"equity\"][signals[\"signal\"] == -1.0],\n",
    "        s=100,\n",
    "        c=\"red\",\n",
    "        marker=\"v\",\n",
    "    )"
   ]
  },
  {
   "cell_type": "code",
   "execution_count": 174,
   "metadata": {
    "tags": []
   },
   "outputs": [
    {
     "data": {
      "text/html": [
       "<div>\n",
       "<style scoped>\n",
       "    .dataframe tbody tr th:only-of-type {\n",
       "        vertical-align: middle;\n",
       "    }\n",
       "\n",
       "    .dataframe tbody tr th {\n",
       "        vertical-align: top;\n",
       "    }\n",
       "\n",
       "    .dataframe thead th {\n",
       "        text-align: right;\n",
       "    }\n",
       "</style>\n",
       "<table border=\"1\" class=\"dataframe\">\n",
       "  <thead>\n",
       "    <tr style=\"text-align: right;\">\n",
       "      <th></th>\n",
       "      <th>AMD</th>\n",
       "    </tr>\n",
       "    <tr>\n",
       "      <th>Date</th>\n",
       "      <th></th>\n",
       "    </tr>\n",
       "  </thead>\n",
       "  <tbody>\n",
       "    <tr>\n",
       "      <th>2016-01-07</th>\n",
       "      <td>100</td>\n",
       "    </tr>\n",
       "    <tr>\n",
       "      <th>2016-01-08</th>\n",
       "      <td>200</td>\n",
       "    </tr>\n",
       "    <tr>\n",
       "      <th>2016-01-11</th>\n",
       "      <td>300</td>\n",
       "    </tr>\n",
       "    <tr>\n",
       "      <th>2016-01-12</th>\n",
       "      <td>400</td>\n",
       "    </tr>\n",
       "    <tr>\n",
       "      <th>2016-01-13</th>\n",
       "      <td>500</td>\n",
       "    </tr>\n",
       "    <tr>\n",
       "      <th>...</th>\n",
       "      <td>...</td>\n",
       "    </tr>\n",
       "    <tr>\n",
       "      <th>2024-08-19</th>\n",
       "      <td>216500</td>\n",
       "    </tr>\n",
       "    <tr>\n",
       "      <th>2024-08-20</th>\n",
       "      <td>216600</td>\n",
       "    </tr>\n",
       "    <tr>\n",
       "      <th>2024-08-21</th>\n",
       "      <td>216700</td>\n",
       "    </tr>\n",
       "    <tr>\n",
       "      <th>2024-08-22</th>\n",
       "      <td>216800</td>\n",
       "    </tr>\n",
       "    <tr>\n",
       "      <th>2024-08-23</th>\n",
       "      <td>216900</td>\n",
       "    </tr>\n",
       "  </tbody>\n",
       "</table>\n",
       "<p>2172 rows × 1 columns</p>\n",
       "</div>"
      ],
      "text/plain": [
       "               AMD\n",
       "Date              \n",
       "2016-01-07     100\n",
       "2016-01-08     200\n",
       "2016-01-11     300\n",
       "2016-01-12     400\n",
       "2016-01-13     500\n",
       "...            ...\n",
       "2024-08-19  216500\n",
       "2024-08-20  216600\n",
       "2024-08-21  216700\n",
       "2024-08-22  216800\n",
       "2024-08-23  216900\n",
       "\n",
       "[2172 rows x 1 columns]"
      ]
     },
     "execution_count": 174,
     "metadata": {},
     "output_type": "execute_result"
    }
   ],
   "source": [
    "portfolio.generate_positions()"
   ]
  },
  {
   "cell_type": "code",
   "execution_count": 176,
   "metadata": {
    "tags": []
   },
   "outputs": [
    {
     "data": {
      "text/html": [
       "<div>\n",
       "<style scoped>\n",
       "    .dataframe tbody tr th:only-of-type {\n",
       "        vertical-align: middle;\n",
       "    }\n",
       "\n",
       "    .dataframe tbody tr th {\n",
       "        vertical-align: top;\n",
       "    }\n",
       "\n",
       "    .dataframe thead th {\n",
       "        text-align: right;\n",
       "    }\n",
       "</style>\n",
       "<table border=\"1\" class=\"dataframe\">\n",
       "  <thead>\n",
       "    <tr style=\"text-align: right;\">\n",
       "      <th></th>\n",
       "      <th>holdings</th>\n",
       "      <th>cash</th>\n",
       "      <th>total</th>\n",
       "      <th>returns</th>\n",
       "    </tr>\n",
       "    <tr>\n",
       "      <th>Date</th>\n",
       "      <th></th>\n",
       "      <th></th>\n",
       "      <th></th>\n",
       "      <th></th>\n",
       "    </tr>\n",
       "  </thead>\n",
       "  <tbody>\n",
       "    <tr>\n",
       "      <th>2016-01-07</th>\n",
       "      <td>243.0</td>\n",
       "      <td>NaN</td>\n",
       "      <td>NaN</td>\n",
       "      <td>NaN</td>\n",
       "    </tr>\n",
       "    <tr>\n",
       "      <th>2016-01-08</th>\n",
       "      <td>472.0</td>\n",
       "      <td>99764.00</td>\n",
       "      <td>100236.00</td>\n",
       "      <td>NaN</td>\n",
       "    </tr>\n",
       "    <tr>\n",
       "      <th>2016-01-11</th>\n",
       "      <td>648.0</td>\n",
       "      <td>99548.00</td>\n",
       "      <td>100196.00</td>\n",
       "      <td>-0.000399</td>\n",
       "    </tr>\n",
       "    <tr>\n",
       "      <th>2016-01-12</th>\n",
       "      <td>960.0</td>\n",
       "      <td>99308.00</td>\n",
       "      <td>100268.00</td>\n",
       "      <td>0.000719</td>\n",
       "    </tr>\n",
       "    <tr>\n",
       "      <th>2016-01-13</th>\n",
       "      <td>1200.0</td>\n",
       "      <td>99068.00</td>\n",
       "      <td>100268.00</td>\n",
       "      <td>0.000000</td>\n",
       "    </tr>\n",
       "    <tr>\n",
       "      <th>...</th>\n",
       "      <td>...</td>\n",
       "      <td>...</td>\n",
       "      <td>...</td>\n",
       "      <td>...</td>\n",
       "    </tr>\n",
       "    <tr>\n",
       "      <th>2024-08-19</th>\n",
       "      <td>32135095.0</td>\n",
       "      <td>-13149397.27</td>\n",
       "      <td>18985697.73</td>\n",
       "      <td>0.032116</td>\n",
       "    </tr>\n",
       "    <tr>\n",
       "      <th>2024-08-20</th>\n",
       "      <td>33895734.0</td>\n",
       "      <td>-13165046.27</td>\n",
       "      <td>20730687.73</td>\n",
       "      <td>0.091911</td>\n",
       "    </tr>\n",
       "    <tr>\n",
       "      <th>2024-08-21</th>\n",
       "      <td>33831204.0</td>\n",
       "      <td>-13180658.27</td>\n",
       "      <td>20650545.73</td>\n",
       "      <td>-0.003866</td>\n",
       "    </tr>\n",
       "    <tr>\n",
       "      <th>2024-08-22</th>\n",
       "      <td>34443016.0</td>\n",
       "      <td>-13196545.27</td>\n",
       "      <td>21246470.73</td>\n",
       "      <td>0.028858</td>\n",
       "    </tr>\n",
       "    <tr>\n",
       "      <th>2024-08-23</th>\n",
       "      <td>33315840.0</td>\n",
       "      <td>-13211905.27</td>\n",
       "      <td>20103934.73</td>\n",
       "      <td>-0.053775</td>\n",
       "    </tr>\n",
       "  </tbody>\n",
       "</table>\n",
       "<p>2172 rows × 4 columns</p>\n",
       "</div>"
      ],
      "text/plain": [
       "              holdings         cash        total   returns\n",
       "Date                                                      \n",
       "2016-01-07       243.0          NaN          NaN       NaN\n",
       "2016-01-08       472.0     99764.00    100236.00       NaN\n",
       "2016-01-11       648.0     99548.00    100196.00 -0.000399\n",
       "2016-01-12       960.0     99308.00    100268.00  0.000719\n",
       "2016-01-13      1200.0     99068.00    100268.00  0.000000\n",
       "...                ...          ...          ...       ...\n",
       "2024-08-19  32135095.0 -13149397.27  18985697.73  0.032116\n",
       "2024-08-20  33895734.0 -13165046.27  20730687.73  0.091911\n",
       "2024-08-21  33831204.0 -13180658.27  20650545.73 -0.003866\n",
       "2024-08-22  34443016.0 -13196545.27  21246470.73  0.028858\n",
       "2024-08-23  33315840.0 -13211905.27  20103934.73 -0.053775\n",
       "\n",
       "[2172 rows x 4 columns]"
      ]
     },
     "execution_count": 176,
     "metadata": {},
     "output_type": "execute_result"
    }
   ],
   "source": [
    "returns"
   ]
  },
  {
   "cell_type": "code",
   "execution_count": 166,
   "metadata": {
    "tags": []
   },
   "outputs": [
    {
     "data": {
      "text/html": [
       "<div>\n",
       "<style scoped>\n",
       "    .dataframe tbody tr th:only-of-type {\n",
       "        vertical-align: middle;\n",
       "    }\n",
       "\n",
       "    .dataframe tbody tr th {\n",
       "        vertical-align: top;\n",
       "    }\n",
       "\n",
       "    .dataframe thead th {\n",
       "        text-align: right;\n",
       "    }\n",
       "</style>\n",
       "<table border=\"1\" class=\"dataframe\">\n",
       "  <thead>\n",
       "    <tr style=\"text-align: right;\">\n",
       "      <th></th>\n",
       "      <th>timestamp</th>\n",
       "      <th>Open</th>\n",
       "      <th>High</th>\n",
       "      <th>Low</th>\n",
       "      <th>Close</th>\n",
       "      <th>Volume</th>\n",
       "    </tr>\n",
       "    <tr>\n",
       "      <th>Date</th>\n",
       "      <th></th>\n",
       "      <th></th>\n",
       "      <th></th>\n",
       "      <th></th>\n",
       "      <th></th>\n",
       "      <th></th>\n",
       "    </tr>\n",
       "  </thead>\n",
       "  <tbody>\n",
       "    <tr>\n",
       "      <th>2016-01-07</th>\n",
       "      <td>2016-01-07 05:00:00+00:00</td>\n",
       "      <td>2.43</td>\n",
       "      <td>2.480</td>\n",
       "      <td>2.26</td>\n",
       "      <td>2.275</td>\n",
       "      <td>22577907.0</td>\n",
       "    </tr>\n",
       "    <tr>\n",
       "      <th>2016-01-08</th>\n",
       "      <td>2016-01-08 05:00:00+00:00</td>\n",
       "      <td>2.36</td>\n",
       "      <td>2.425</td>\n",
       "      <td>2.10</td>\n",
       "      <td>2.140</td>\n",
       "      <td>34037306.0</td>\n",
       "    </tr>\n",
       "    <tr>\n",
       "      <th>2016-01-11</th>\n",
       "      <td>2016-01-11 05:00:00+00:00</td>\n",
       "      <td>2.16</td>\n",
       "      <td>2.360</td>\n",
       "      <td>2.12</td>\n",
       "      <td>2.340</td>\n",
       "      <td>20210936.0</td>\n",
       "    </tr>\n",
       "    <tr>\n",
       "      <th>2016-01-12</th>\n",
       "      <td>2016-01-12 05:00:00+00:00</td>\n",
       "      <td>2.40</td>\n",
       "      <td>2.460</td>\n",
       "      <td>2.28</td>\n",
       "      <td>2.390</td>\n",
       "      <td>18704579.0</td>\n",
       "    </tr>\n",
       "    <tr>\n",
       "      <th>2016-01-13</th>\n",
       "      <td>2016-01-13 05:00:00+00:00</td>\n",
       "      <td>2.40</td>\n",
       "      <td>2.450</td>\n",
       "      <td>2.21</td>\n",
       "      <td>2.250</td>\n",
       "      <td>13427196.0</td>\n",
       "    </tr>\n",
       "    <tr>\n",
       "      <th>...</th>\n",
       "      <td>...</td>\n",
       "      <td>...</td>\n",
       "      <td>...</td>\n",
       "      <td>...</td>\n",
       "      <td>...</td>\n",
       "      <td>...</td>\n",
       "    </tr>\n",
       "    <tr>\n",
       "      <th>2024-08-19</th>\n",
       "      <td>2024-08-19 04:00:00+00:00</td>\n",
       "      <td>148.43</td>\n",
       "      <td>155.365</td>\n",
       "      <td>147.72</td>\n",
       "      <td>155.280</td>\n",
       "      <td>60766854.0</td>\n",
       "    </tr>\n",
       "    <tr>\n",
       "      <th>2024-08-20</th>\n",
       "      <td>2024-08-20 04:00:00+00:00</td>\n",
       "      <td>156.49</td>\n",
       "      <td>162.040</td>\n",
       "      <td>154.51</td>\n",
       "      <td>156.400</td>\n",
       "      <td>76851158.0</td>\n",
       "    </tr>\n",
       "    <tr>\n",
       "      <th>2024-08-21</th>\n",
       "      <td>2024-08-21 04:00:00+00:00</td>\n",
       "      <td>156.12</td>\n",
       "      <td>158.650</td>\n",
       "      <td>155.07</td>\n",
       "      <td>157.810</td>\n",
       "      <td>42791246.0</td>\n",
       "    </tr>\n",
       "    <tr>\n",
       "      <th>2024-08-22</th>\n",
       "      <td>2024-08-22 04:00:00+00:00</td>\n",
       "      <td>158.87</td>\n",
       "      <td>159.840</td>\n",
       "      <td>151.01</td>\n",
       "      <td>151.700</td>\n",
       "      <td>45737257.0</td>\n",
       "    </tr>\n",
       "    <tr>\n",
       "      <th>2024-08-23</th>\n",
       "      <td>2024-08-23 04:00:00+00:00</td>\n",
       "      <td>153.60</td>\n",
       "      <td>156.400</td>\n",
       "      <td>151.83</td>\n",
       "      <td>154.980</td>\n",
       "      <td>43694642.0</td>\n",
       "    </tr>\n",
       "  </tbody>\n",
       "</table>\n",
       "<p>2172 rows × 6 columns</p>\n",
       "</div>"
      ],
      "text/plain": [
       "                           timestamp    Open     High     Low    Close  \\\n",
       "Date                                                                     \n",
       "2016-01-07 2016-01-07 05:00:00+00:00    2.43    2.480    2.26    2.275   \n",
       "2016-01-08 2016-01-08 05:00:00+00:00    2.36    2.425    2.10    2.140   \n",
       "2016-01-11 2016-01-11 05:00:00+00:00    2.16    2.360    2.12    2.340   \n",
       "2016-01-12 2016-01-12 05:00:00+00:00    2.40    2.460    2.28    2.390   \n",
       "2016-01-13 2016-01-13 05:00:00+00:00    2.40    2.450    2.21    2.250   \n",
       "...                              ...     ...      ...     ...      ...   \n",
       "2024-08-19 2024-08-19 04:00:00+00:00  148.43  155.365  147.72  155.280   \n",
       "2024-08-20 2024-08-20 04:00:00+00:00  156.49  162.040  154.51  156.400   \n",
       "2024-08-21 2024-08-21 04:00:00+00:00  156.12  158.650  155.07  157.810   \n",
       "2024-08-22 2024-08-22 04:00:00+00:00  158.87  159.840  151.01  151.700   \n",
       "2024-08-23 2024-08-23 04:00:00+00:00  153.60  156.400  151.83  154.980   \n",
       "\n",
       "                Volume  \n",
       "Date                    \n",
       "2016-01-07  22577907.0  \n",
       "2016-01-08  34037306.0  \n",
       "2016-01-11  20210936.0  \n",
       "2016-01-12  18704579.0  \n",
       "2016-01-13  13427196.0  \n",
       "...                ...  \n",
       "2024-08-19  60766854.0  \n",
       "2024-08-20  76851158.0  \n",
       "2024-08-21  42791246.0  \n",
       "2024-08-22  45737257.0  \n",
       "2024-08-23  43694642.0  \n",
       "\n",
       "[2172 rows x 6 columns]"
      ]
     },
     "execution_count": 166,
     "metadata": {},
     "output_type": "execute_result"
    }
   ],
   "source": [
    "bars[period:]"
   ]
  },
  {
   "cell_type": "code",
   "execution_count": 168,
   "metadata": {
    "tags": []
   },
   "outputs": [
    {
     "data": {
      "text/plain": [
       "Date\n",
       "2016-01-07      2.275\n",
       "2016-01-08      2.140\n",
       "2016-01-11      2.340\n",
       "2016-01-12      2.390\n",
       "2016-01-13      2.250\n",
       "               ...   \n",
       "2024-08-19    155.280\n",
       "2024-08-20    156.400\n",
       "2024-08-21    157.810\n",
       "2024-08-22    151.700\n",
       "2024-08-23    154.980\n",
       "Name: Close, Length: 2172, dtype: float64"
      ]
     },
     "execution_count": 168,
     "metadata": {},
     "output_type": "execute_result"
    }
   ],
   "source": [
    "bars[\"Close\"][period:]"
   ]
  },
  {
   "cell_type": "code",
   "execution_count": null,
   "metadata": {},
   "outputs": [],
   "source": []
  }
 ],
 "metadata": {
  "colab": {
   "authorship_tag": "ABX9TyN0OdoRm92BLIZYFIZm6iEj",
   "include_colab_link": true,
   "provenance": [],
   "toc_visible": true
  },
  "kernelspec": {
   "display_name": "conda_python3",
   "language": "python",
   "name": "conda_python3"
  },
  "language_info": {
   "codemirror_mode": {
    "name": "ipython",
    "version": 3
   },
   "file_extension": ".py",
   "mimetype": "text/x-python",
   "name": "python",
   "nbconvert_exporter": "python",
   "pygments_lexer": "ipython3",
   "version": "3.10.14"
  }
 },
 "nbformat": 4,
 "nbformat_minor": 4
}
