{
 "cells": [
  {
   "cell_type": "markdown",
   "metadata": {
    "id": "GaoXvF4UjC6u"
   },
   "source": [
    "# Import packages"
   ]
  },
  {
   "cell_type": "code",
   "execution_count": 3,
   "metadata": {
    "tags": []
   },
   "outputs": [],
   "source": [
    "# !pip install -qU newsapi-python\n",
    "# !pip install -qU vaderSentiment\n",
    "# !pip install -qU yfinance\n",
    "# !pip install -qU alpaca-py"
   ]
  },
  {
   "cell_type": "code",
   "execution_count": 4,
   "metadata": {
    "tags": []
   },
   "outputs": [],
   "source": [
    "# !pip install black[jupyter]\n",
    "## run source activate python3\n",
    "## black Backtesting_Framework.ipynb in terminal"
   ]
  },
  {
   "cell_type": "code",
   "execution_count": 1,
   "metadata": {},
   "outputs": [
    {
     "name": "stdout",
     "output_type": "stream",
     "text": [
      "/Users/yuwensun/Documents/研究生/Multi-Machine-Learning-Strategy-and-Backtesting/.conda/bin/python\n"
     ]
    }
   ],
   "source": [
    "import sys\n",
    "print(sys.executable)"
   ]
  },
  {
   "cell_type": "code",
   "execution_count": 2,
   "metadata": {
    "id": "BLi2PSllFjLq",
    "tags": []
   },
   "outputs": [],
   "source": [
    "import yfinance as yf\n",
    "import numpy as np\n",
    "import pandas as pd\n",
    "import matplotlib.pyplot as plt\n",
    "import seaborn as sns\n",
    "from abc import ABCMeta, abstractmethod\n",
    "import requests\n",
    "from pandas.tseries.offsets import BDay\n",
    "# from newsapi import NewsApiClient\n",
    "# from vaderSentiment.vaderSentiment import SentimentIntensityAnalyzer\n",
    "# import boto3\n",
    "# from botocore.exceptions import ClientError\n",
    "import json\n",
    "\n",
    "%matplotlib inline"
   ]
  },
  {
   "cell_type": "markdown",
   "metadata": {},
   "source": [
    "# Dataloader"
   ]
  },
  {
   "cell_type": "code",
   "execution_count": 3,
   "metadata": {
    "tags": []
   },
   "outputs": [],
   "source": [
    "## Load from Alpaca\n",
    "class DataLoader:\n",
    "    def __init__(self, stock_client):\n",
    "        self.stock_client = stock_client\n",
    "        \n",
    "    def fetch_historical_data(self, symbol, start_date=None, end_date=None):\n",
    "        request_params = StockBarsRequest(\n",
    "                                symbol_or_symbols=[symbol],\n",
    "                                timeframe=TimeFrame.Day,\n",
    "                                start=start_date\n",
    "                        )\n",
    "        bars_df = self.stock_client.get_stock_bars(request_params).df\n",
    "\n",
    "        bars_df = (\n",
    "            bars_df[['open', 'high', 'low', 'close', 'volume']]\n",
    "            .reset_index().drop('symbol', axis=1)\n",
    "        )\n",
    "\n",
    "        bars = (\n",
    "            bars_df\n",
    "            .set_index(keys='timestamp', drop=True)\n",
    "            .rename(columns={\n",
    "                'open': 'Open', \n",
    "                'high': 'High', \n",
    "                'low': 'Low', \n",
    "                'close': 'Close', \n",
    "                'volume': 'Volume'\n",
    "                })\n",
    "        )\n",
    "        \n",
    "        # print(bars.index[0].date())\n",
    "        # print(type(bars.index[0]))\n",
    "        # bars.index = bars.index.strftime('%Y-%m-%d')\n",
    "        bars.index = [i.date() for i in bars.index]\n",
    "        bars.index.name = 'Date'\n",
    "\n",
    "        return bars\n",
    "        # return bars_df"
   ]
  },
  {
   "cell_type": "code",
   "execution_count": 4,
   "metadata": {
    "tags": []
   },
   "outputs": [],
   "source": [
    "# DataLoader(client).fetch_historical_data(symbol, start_date)"
   ]
  },
  {
   "cell_type": "markdown",
   "metadata": {
    "id": "JEvpIS8ajFuZ"
   },
   "source": [
    "# Abstract classes"
   ]
  },
  {
   "cell_type": "markdown",
   "metadata": {
    "id": "eVI4kLMnqILg"
   },
   "source": [
    "## Strategy"
   ]
  },
  {
   "cell_type": "code",
   "execution_count": 5,
   "metadata": {
    "id": "dNZ9ht3VsFFm"
   },
   "outputs": [],
   "source": [
    "class Strategy(object):\n",
    "    \"\"\"Strategy is an abstract base class providing an interface for\n",
    "    all subsequent (inherited) trading strategies.\n",
    "\n",
    "    The goal of a (derived) Strategy object is to output a list of signals,\n",
    "    which has the form of a time series indexed pandas DataFrame.\n",
    "\n",
    "    In this instance only a single symbol/instrument is supported.\"\"\"\n",
    "\n",
    "    __metaclass__ = ABCMeta\n",
    "\n",
    "    @abstractmethod\n",
    "    def generate_signals(self):\n",
    "        \"\"\"An implementation is required to return the DataFrame of symbols\n",
    "        containing the signals to go long, short or hold (1, -1 or 0).\"\"\"\n",
    "        raise NotImplementedError(\"Should implement generate_signals()!\")"
   ]
  },
  {
   "cell_type": "markdown",
   "metadata": {
    "id": "0aZKfc2SqJfM"
   },
   "source": [
    "## Portfolio"
   ]
  },
  {
   "cell_type": "code",
   "execution_count": 6,
   "metadata": {
    "id": "OQfykoBgvwve",
    "tags": []
   },
   "outputs": [],
   "source": [
    "class Portfolio(object):\n",
    "    \"\"\"An abstract base class representing a portfolio of\n",
    "    positions (including both instruments and cash), determined\n",
    "    on the basis of a set of signals provided by a Strategy.\"\"\"\n",
    "\n",
    "    __metaclass__ = ABCMeta\n",
    "\n",
    "    @abstractmethod\n",
    "    def generate_positions(self):\n",
    "        \"\"\"Provides the logic to determine how the portfolio\n",
    "        positions are allocated on the basis of forecasting\n",
    "        signals and available cash.\"\"\"\n",
    "        raise NotImplementedError(\"Should implement generate_positions()!\")\n",
    "\n",
    "    @abstractmethod\n",
    "    def backtest_portfolio(self):\n",
    "        \"\"\"Provides the logic to generate the trading orders\n",
    "        and subsequent equity curve (i.e. growth of total equity),\n",
    "        as a sum of holdings and cash, and the bar-period returns\n",
    "        associated with this curve based on the 'positions' DataFrame.\n",
    "\n",
    "        Produces a portfolio object that can be examined by\n",
    "        other classes/functions.\"\"\"\n",
    "        raise NotImplementedError(\"Should implement backtest_portfolio()!\")"
   ]
  },
  {
   "cell_type": "markdown",
   "metadata": {
    "id": "yQk8oiSejIjb"
   },
   "source": [
    "# Strategy subclasses"
   ]
  },
  {
   "cell_type": "markdown",
   "metadata": {
    "id": "r-OVZoUbqDgw"
   },
   "source": [
    "## Random Strategy"
   ]
  },
  {
   "cell_type": "code",
   "execution_count": 7,
   "metadata": {
    "id": "FHOGu63kqAP6"
   },
   "outputs": [],
   "source": [
    "class RandomForecastingStrategy(Strategy):\n",
    "    \"\"\"Derives from Strategy to produce a set of signals that\n",
    "    are randomly generated long/shorts. Clearly a nonsensical\n",
    "    strategy, but perfectly acceptable for demonstrating the\n",
    "    backtesting infrastructure!\"\"\"\n",
    "\n",
    "    def __init__(self, symbol, bars):\n",
    "        \"\"\"Requires the symbol ticker and the pandas DataFrame of bars\"\"\"\n",
    "        self.symbol = symbol\n",
    "        self.bars = bars\n",
    "\n",
    "    def generate_signals(self):\n",
    "        \"\"\"Creates a pandas DataFrame of random signals.\"\"\"\n",
    "        signals = pd.DataFrame(index=self.bars.index)\n",
    "        signals[\"signal\"] = np.sign(np.random.randn(len(signals)))\n",
    "\n",
    "        # The first five elements are set to zero in order to minimise\n",
    "        # upstream NaN errors in the forecaster.\n",
    "        signals[\"signal\"][0:5] = 0.0\n",
    "        return signals"
   ]
  },
  {
   "cell_type": "markdown",
   "metadata": {
    "id": "6pXIRWC2AIVS"
   },
   "source": [
    "## MovingAverageCrossStrategy"
   ]
  },
  {
   "cell_type": "code",
   "execution_count": 8,
   "metadata": {
    "id": "Y0POP9Lcws40",
    "tags": []
   },
   "outputs": [],
   "source": [
    "class MovingAverageCrossStrategy(Strategy):\n",
    "    def __init__(self, symbol, bars, short_window=2, long_window=5):\n",
    "        self.symbol = symbol\n",
    "        self.bars = bars\n",
    "        self.short_window = short_window\n",
    "        self.long_window = long_window\n",
    "\n",
    "    def generate_signals(self):\n",
    "        signals = pd.DataFrame(index=self.bars.index)\n",
    "        signals[\"signal\"] = 0.0\n",
    "\n",
    "        signals[\"short_mavg\"] = (\n",
    "            self.bars[\"Close\"].rolling(self.short_window, min_periods=1).mean()\n",
    "        )\n",
    "        signals[\"long_mavg\"] = (\n",
    "            self.bars[\"Close\"].rolling(self.long_window, min_periods=1).mean()\n",
    "        )\n",
    "\n",
    "        # print(signals['short_mavg'][self.short_window:].shift(1) < signals['long_mavg'][self.short_window:].shift(1))\n",
    "\n",
    "        \n",
    "        signals[\"signal\"][self.short_window :] = np.where(\n",
    "            (\n",
    "                (\n",
    "                    signals[\"short_mavg\"][self.short_window :]\n",
    "                    > signals[\"long_mavg\"][self.short_window :]\n",
    "                )\n",
    "                & (\n",
    "                    signals[\"short_mavg\"][self.short_window :].shift(1)\n",
    "                    < signals[\"long_mavg\"][self.short_window :].shift(1)\n",
    "                )\n",
    "            ),\n",
    "            1.0,\n",
    "            0.0,\n",
    "        )\n",
    "\n",
    "        signals[\"signal\"][self.short_window :] = np.where(\n",
    "            (\n",
    "                (\n",
    "                    signals[\"short_mavg\"][self.short_window :]\n",
    "                    < signals[\"long_mavg\"][self.short_window :]\n",
    "                )\n",
    "                & (\n",
    "                    signals[\"short_mavg\"][self.short_window :].shift(1)\n",
    "                    > signals[\"long_mavg\"][self.short_window :].shift(1)\n",
    "                )\n",
    "            ),\n",
    "            -1.0,\n",
    "            signals[\"signal\"][self.short_window:],\n",
    "        )\n",
    "\n",
    "        # # signals['positions'] = signals['signal'].diff()\n",
    "        # signals['positions'] = signals['signal'].cumsum()\n",
    "\n",
    "        return signals"
   ]
  },
  {
   "cell_type": "markdown",
   "metadata": {
    "id": "t1EyyiM69L1S",
    "tags": []
   },
   "source": [
    "## Sentiment Analysis Strategy"
   ]
  },
  {
   "cell_type": "markdown",
   "metadata": {},
   "source": [
    "### TradingDateCalculator"
   ]
  },
  {
   "cell_type": "code",
   "execution_count": 9,
   "metadata": {
    "id": "u5wIK6Aj7rRH"
   },
   "outputs": [],
   "source": [
    "class TradingDateCalculator:\n",
    "    @staticmethod\n",
    "    def get_trade_open(date):\n",
    "        curr_date_open = pd.to_datetime(date).floor(\"d\").replace(\n",
    "            hour=13, minute=30\n",
    "        ) - BDay(0)\n",
    "        curr_date_close = pd.to_datetime(date).floor(\"d\").replace(\n",
    "            hour=20, minute=0\n",
    "        ) - BDay(0)\n",
    "\n",
    "        prev_date_close = (curr_date_open - BDay()).replace(hour=20, minute=0)\n",
    "        next_date_open = (curr_date_close + BDay()).replace(hour=13, minute=30)\n",
    "\n",
    "        if (pd.to_datetime(date) >= prev_date_close) & (\n",
    "            pd.to_datetime(date) < curr_date_open\n",
    "        ):\n",
    "            return curr_date_open\n",
    "        elif (pd.to_datetime(date) >= curr_date_close) & (\n",
    "            pd.to_datetime(date) < next_date_open\n",
    "        ):\n",
    "            return next_date_open\n",
    "        else:\n",
    "            return None\n",
    "\n",
    "\n",
    "class NewsLoader:\n",
    "    def __init__(self, news_api_key):\n",
    "        self.news_api_key = news_api_key\n",
    "        self.url = \"https://newsapi.org/v2/everything?\"\n",
    "\n",
    "    def load_news(self, symbol, pageSize=100):  # Timeframe,\n",
    "        parameters = {\n",
    "            \"q\": symbol,\n",
    "            \"sortBy\": \"popularity\",\n",
    "            \"pageSize\": pageSize,\n",
    "            \"apiKey\": self.news_api_key,\n",
    "        }\n",
    "\n",
    "        response = requests.get(self.url, params=parameters)\n",
    "        data = pd.DataFrame(response.json())\n",
    "\n",
    "        # Transformation to data for use\n",
    "        news_df = pd.concat([data[\"articles\"].apply(pd.Series)], axis=1)\n",
    "\n",
    "        # This is sentiment analysi regarding to headlines\n",
    "        final_news = news_df[[\"publishedAt\", \"title\"]].copy(deep=True)\n",
    "        final_news[\"publishedAt\"] = pd.to_datetime(final_news[\"publishedAt\"])\n",
    "        final_news = final_news.sort_values(by=\"publishedAt\").reset_index(drop=True)\n",
    "\n",
    "        # Change according to business day\n",
    "        final_news.loc[:, \"trading_time\"] = final_news[\"publishedAt\"].apply(\n",
    "            TradingDateCalculator.get_trade_open\n",
    "        )  # def get_trade_open(date):\n",
    "        final_news = final_news[final_news[\"trading_time\"].notnull()].copy()\n",
    "        final_news.loc[:, \"Date\"] = pd.to_datetime(final_news[\"trading_time\"]).dt.date\n",
    "        final_news = final_news.drop(labels=[\"publishedAt\", \"trading_time\"], axis=1)\n",
    "\n",
    "        return final_news"
   ]
  },
  {
   "cell_type": "markdown",
   "metadata": {},
   "source": [
    "### SentimentAnalysis"
   ]
  },
  {
   "cell_type": "code",
   "execution_count": 10,
   "metadata": {
    "id": "dd5tkiBkDQy9",
    "tags": []
   },
   "outputs": [],
   "source": [
    "class SentimentAnalyzer:\n",
    "    def __init__(self):\n",
    "        self.sentiment_analyzer = SentimentIntensityAnalyzer()\n",
    "\n",
    "    def score_each_article(self, final_news):\n",
    "        cs = []\n",
    "        for idx, row in final_news.iterrows():\n",
    "            cs.append(self.sentiment_analyzer.polarity_scores(row[\"title\"])[\"compound\"])\n",
    "\n",
    "        final_news.loc[:, \"compound_vader_score\"] = cs\n",
    "        article_score = final_news[\n",
    "            (final_news[[\"compound_vader_score\"]] != 0).all(axis=1)\n",
    "        ].reset_index(drop=True)\n",
    "\n",
    "        return article_score\n",
    "\n",
    "    def daily_compound_sentiment_score(self, final_news):\n",
    "        \"\"\"\n",
    "        Input: DataFrame; |publishedAt|title|\n",
    "        Output: DataFrame; |Date|Score|\n",
    "        \"\"\"\n",
    "        article_score = self.score_each_article(final_news)\n",
    "\n",
    "        # Get unique dates\n",
    "        unique_dates = article_score[\"Date\"].unique()\n",
    "        grouped_dates = article_score.groupby([\"Date\"])\n",
    "        keys_dates = list(grouped_dates.groups.keys())\n",
    "\n",
    "        # get max/min score daily\n",
    "        max_cs = []\n",
    "        min_cs = []\n",
    "\n",
    "        for key in keys_dates:\n",
    "            data = grouped_dates.get_group(key)\n",
    "            if data[\"compound_vader_score\"].max() > 0:\n",
    "                max_cs.append(data[\"compound_vader_score\"].max())\n",
    "            elif data[\"compound_vader_score\"].max() < 0:\n",
    "                max_cs.append(0)\n",
    "\n",
    "            if data[\"compound_vader_score\"].min() < 0:\n",
    "                min_cs.append(data[\"compound_vader_score\"].min())\n",
    "            elif data[\"compound_vader_score\"].min() > 0:\n",
    "                min_cs.append(0)\n",
    "\n",
    "        # figure compound socre\n",
    "        extreme_scores_dict = {\n",
    "            \"Date\": keys_dates,\n",
    "            \"max_scores\": max_cs,\n",
    "            \"min_scores\": min_cs,\n",
    "        }\n",
    "        extreme_scores_df = pd.DataFrame(extreme_scores_dict)\n",
    "\n",
    "        final_scores = []\n",
    "        for i in range(len(extreme_scores_df)):\n",
    "            final_scores.append(\n",
    "                extreme_scores_df[\"max_scores\"][i] + extreme_scores_df[\"min_scores\"][i]\n",
    "            )\n",
    "\n",
    "        daily_score = pd.DataFrame({\"Date\": keys_dates, \"Score\": final_scores})\n",
    "\n",
    "        return daily_score"
   ]
  },
  {
   "cell_type": "code",
   "execution_count": 11,
   "metadata": {
    "id": "58FSFAjw9baK"
   },
   "outputs": [],
   "source": [
    "class NewsSentimentAnalysis:\n",
    "    def __init__(self, news_api_key):\n",
    "        self.news_loader = NewsLoader(news_api_key)\n",
    "        self.sentiment_analyzer = SentimentAnalyzer()\n",
    "\n",
    "    def analyze_sentiment(self, symbol, pageSize=100):\n",
    "        final_news = self.news_loader.load_news(symbol, pageSize)\n",
    "        return self.sentiment_analyzer.daily_compound_sentiment_score(final_news)"
   ]
  },
  {
   "cell_type": "markdown",
   "metadata": {},
   "source": [
    "### SentimentAnalysis Strategy"
   ]
  },
  {
   "cell_type": "code",
   "execution_count": 12,
   "metadata": {
    "id": "7Z7R-nQ58GyE"
   },
   "outputs": [],
   "source": [
    "class SentimentAnalysisStrategy(Strategy):\n",
    "    def __init__(self, symbol, bars, threshold, news_api_key):\n",
    "        self.symbol = symbol\n",
    "        self.bars = bars\n",
    "        self.threshold = threshold  # 0.2\n",
    "        self.news_loader = NewsLoader(news_api_key)\n",
    "        self.sentiment_analyzer = SentimentAnalyzer()\n",
    "\n",
    "    def generate_news_signals(self):\n",
    "        score_df = self.sentiment_analyzer.daily_compound_sentiment_score(\n",
    "            self.news_loader.load_news(self.symbol)\n",
    "        )\n",
    "\n",
    "        vader_Buy, vader_Sell = [], []\n",
    "        for i in range(len(score_df)):\n",
    "            if score_df[\"Score\"].values[i] > self.threshold:\n",
    "                # print(f\"Trade Call for {extreme_scores_df['Date'][i]} is Buy.\")\n",
    "                vader_Buy.append(score_df[\"Date\"][i])\n",
    "            elif score_df[\"Score\"].values[i] < -self.threshold:\n",
    "                # print(f\"Trade Call for {extreme_scores_df['Date'][i]} is Sell.\")\n",
    "                vader_Sell.append(score_df[\"Date\"][i])\n",
    "        return vader_Buy, vader_Sell\n",
    "\n",
    "    def generate_signals(self):\n",
    "        signals = pd.DataFrame(index=self.bars.index)\n",
    "        signals[\"signal\"] = 0.0\n",
    "\n",
    "        vader_Buy, vader_Sell = self.generate_news_signals()\n",
    "\n",
    "        for i in range(len(self.bars)):\n",
    "            if self.bars.index[i].date() in vader_Buy:\n",
    "                signals.iloc[i, :] = 1.0\n",
    "\n",
    "        for i in range(len(self.bars)):\n",
    "            if self.bars.index[i].date() in vader_Sell:\n",
    "                signals.iloc[i, :] = -1.0\n",
    "\n",
    "        return signals"
   ]
  },
  {
   "cell_type": "markdown",
   "metadata": {},
   "source": [
    "## Logistic Regression Strategy"
   ]
  },
  {
   "cell_type": "code",
   "execution_count": 13,
   "metadata": {
    "tags": []
   },
   "outputs": [],
   "source": [
    "class LogisticRegressionStrategy(Strategy):\n",
    "    def __init__(self, threshold, symbol, full_bars, model):\n",
    "        self.symbol = symbol\n",
    "        self.bars = full_bars\n",
    "        self.threshold = threshold\n",
    "        self.model = model\n",
    "    \n",
    "    def generate_signals(self):\n",
    "        signals = pd.DataFrame(index=self.bars.index)\n",
    "        # signals[\"signal\"] = 0.0\n",
    "        \n",
    "        ss = MinMaxScaler()\n",
    "        scaled_bars = ss.fit_transform(self.bars)\n",
    "        pred_prob = self.model.predict_proba(np.array(scaled_bars))\n",
    "        signals[\"signal\"] = pd.DataFrame(pred_prob).apply(lambda x: 1 if x[1] > self.threshold else 0, axis=1).tolist()\n",
    "        \n",
    "        return signals"
   ]
  },
  {
   "cell_type": "code",
   "execution_count": 14,
   "metadata": {
    "tags": []
   },
   "outputs": [],
   "source": [
    "# # load the model from disk\n",
    "# clf_pred = pickle.load(open(filename, 'rb'))"
   ]
  },
  {
   "cell_type": "code",
   "execution_count": 15,
   "metadata": {
    "tags": []
   },
   "outputs": [],
   "source": [
    "# pd.DataFrame(pred_prob).apply(lambda x: 1 if x[1] > 0.527 else 0, axis=1).value_counts()"
   ]
  },
  {
   "cell_type": "code",
   "execution_count": 16,
   "metadata": {
    "tags": []
   },
   "outputs": [],
   "source": [
    "# signals = pd.DataFrame(index=full_data.index)\n",
    "# # signals[\"signal\"] = 0.0\n",
    "\n",
    "# ss = MinMaxScaler()\n",
    "# scaled_bars = ss.fit_transform(full_data)\n",
    "# pred_prob = clf_pred.predict_proba(np.array(scaled_bars))\n",
    "# signals[\"signal\"] = pd.DataFrame(pred_prob).apply(lambda x: 1 if x[1] > 0.527 else 0, axis=1).tolist()\n",
    "\n",
    "# signals"
   ]
  },
  {
   "cell_type": "markdown",
   "metadata": {
    "tags": []
   },
   "source": [
    "# ML strategies exploration"
   ]
  },
  {
   "cell_type": "code",
   "execution_count": 18,
   "metadata": {
    "tags": []
   },
   "outputs": [],
   "source": [
    "from alpaca.data.timeframe import TimeFrame\n",
    "from alpaca.data.requests import StockBarsRequest\n",
    "from alpaca.data.historical import StockHistoricalDataClient # Create stock historical data client"
   ]
  },
  {
   "cell_type": "code",
   "execution_count": 19,
   "metadata": {
    "tags": []
   },
   "outputs": [],
   "source": [
    "from sklearn.model_selection import train_test_split\n",
    "from sklearn.preprocessing import StandardScaler, OneHotEncoder, OrdinalEncoder\n",
    "from sklearn.metrics import r2_score, accuracy_score, roc_auc_score\n",
    "from sklearn.compose import make_column_transformer\n",
    "from sklearn.pipeline import make_pipeline\n",
    "from sklearn.model_selection import cross_val_score\n",
    "from sklearn.model_selection import GridSearchCV\n",
    "from sklearn.svm import LinearSVC, SVC\n",
    "from sklearn.preprocessing import StandardScaler, MinMaxScaler\n",
    "from sklearn.linear_model import LogisticRegression"
   ]
  },
  {
   "cell_type": "code",
   "execution_count": 83,
   "metadata": {
    "tags": []
   },
   "outputs": [],
   "source": [
    "symbol = 'AMD'\n",
    "api_key = \"PK6IRONYS5AQ646ZTDKX\"\n",
    "api_secret = \"HEYwi2T3MzAmYgednADOq0g6pEjuULcEz0Hbdqg8\"\n",
    "client = StockHistoricalDataClient(api_key, api_secret)\n",
    "\n",
    "start_date = \"2014-01-01 00:00:00\"\n",
    "\n",
    "data_loader = DataLoader(client)\n",
    "bars = data_loader.fetch_historical_data(symbol, start_date=start_date)"
   ]
  },
  {
   "cell_type": "code",
   "execution_count": 84,
   "metadata": {
    "tags": []
   },
   "outputs": [
    {
     "data": {
      "text/html": [
       "<div>\n",
       "<style scoped>\n",
       "    .dataframe tbody tr th:only-of-type {\n",
       "        vertical-align: middle;\n",
       "    }\n",
       "\n",
       "    .dataframe tbody tr th {\n",
       "        vertical-align: top;\n",
       "    }\n",
       "\n",
       "    .dataframe thead th {\n",
       "        text-align: right;\n",
       "    }\n",
       "</style>\n",
       "<table border=\"1\" class=\"dataframe\">\n",
       "  <thead>\n",
       "    <tr style=\"text-align: right;\">\n",
       "      <th></th>\n",
       "      <th>Open</th>\n",
       "      <th>High</th>\n",
       "      <th>Low</th>\n",
       "      <th>Close</th>\n",
       "      <th>Volume</th>\n",
       "    </tr>\n",
       "    <tr>\n",
       "      <th>Date</th>\n",
       "      <th></th>\n",
       "      <th></th>\n",
       "      <th></th>\n",
       "      <th></th>\n",
       "      <th></th>\n",
       "    </tr>\n",
       "  </thead>\n",
       "  <tbody>\n",
       "    <tr>\n",
       "      <th>2016-01-04</th>\n",
       "      <td>2.770</td>\n",
       "      <td>2.8200</td>\n",
       "      <td>2.63</td>\n",
       "      <td>2.770</td>\n",
       "      <td>33698464.0</td>\n",
       "    </tr>\n",
       "    <tr>\n",
       "      <th>2016-01-05</th>\n",
       "      <td>2.770</td>\n",
       "      <td>2.8000</td>\n",
       "      <td>2.64</td>\n",
       "      <td>2.750</td>\n",
       "      <td>13372522.0</td>\n",
       "    </tr>\n",
       "    <tr>\n",
       "      <th>2016-01-06</th>\n",
       "      <td>2.660</td>\n",
       "      <td>2.7100</td>\n",
       "      <td>2.47</td>\n",
       "      <td>2.505</td>\n",
       "      <td>24280750.0</td>\n",
       "    </tr>\n",
       "    <tr>\n",
       "      <th>2016-01-07</th>\n",
       "      <td>2.430</td>\n",
       "      <td>2.4800</td>\n",
       "      <td>2.26</td>\n",
       "      <td>2.275</td>\n",
       "      <td>22577907.0</td>\n",
       "    </tr>\n",
       "    <tr>\n",
       "      <th>2016-01-08</th>\n",
       "      <td>2.360</td>\n",
       "      <td>2.4250</td>\n",
       "      <td>2.10</td>\n",
       "      <td>2.140</td>\n",
       "      <td>34037306.0</td>\n",
       "    </tr>\n",
       "    <tr>\n",
       "      <th>...</th>\n",
       "      <td>...</td>\n",
       "      <td>...</td>\n",
       "      <td>...</td>\n",
       "      <td>...</td>\n",
       "      <td>...</td>\n",
       "    </tr>\n",
       "    <tr>\n",
       "      <th>2024-09-25</th>\n",
       "      <td>158.500</td>\n",
       "      <td>162.9500</td>\n",
       "      <td>158.18</td>\n",
       "      <td>162.020</td>\n",
       "      <td>35233264.0</td>\n",
       "    </tr>\n",
       "    <tr>\n",
       "      <th>2024-09-26</th>\n",
       "      <td>167.055</td>\n",
       "      <td>168.6800</td>\n",
       "      <td>164.05</td>\n",
       "      <td>167.490</td>\n",
       "      <td>38044919.0</td>\n",
       "    </tr>\n",
       "    <tr>\n",
       "      <th>2024-09-27</th>\n",
       "      <td>167.480</td>\n",
       "      <td>168.7286</td>\n",
       "      <td>163.74</td>\n",
       "      <td>164.350</td>\n",
       "      <td>27876037.0</td>\n",
       "    </tr>\n",
       "    <tr>\n",
       "      <th>2024-09-30</th>\n",
       "      <td>163.100</td>\n",
       "      <td>165.0800</td>\n",
       "      <td>162.18</td>\n",
       "      <td>164.080</td>\n",
       "      <td>21920300.0</td>\n",
       "    </tr>\n",
       "    <tr>\n",
       "      <th>2024-10-01</th>\n",
       "      <td>164.480</td>\n",
       "      <td>165.4000</td>\n",
       "      <td>158.08</td>\n",
       "      <td>159.750</td>\n",
       "      <td>31831932.0</td>\n",
       "    </tr>\n",
       "  </tbody>\n",
       "</table>\n",
       "<p>2201 rows × 5 columns</p>\n",
       "</div>"
      ],
      "text/plain": [
       "               Open      High     Low    Close      Volume\n",
       "Date                                                      \n",
       "2016-01-04    2.770    2.8200    2.63    2.770  33698464.0\n",
       "2016-01-05    2.770    2.8000    2.64    2.750  13372522.0\n",
       "2016-01-06    2.660    2.7100    2.47    2.505  24280750.0\n",
       "2016-01-07    2.430    2.4800    2.26    2.275  22577907.0\n",
       "2016-01-08    2.360    2.4250    2.10    2.140  34037306.0\n",
       "...             ...       ...     ...      ...         ...\n",
       "2024-09-25  158.500  162.9500  158.18  162.020  35233264.0\n",
       "2024-09-26  167.055  168.6800  164.05  167.490  38044919.0\n",
       "2024-09-27  167.480  168.7286  163.74  164.350  27876037.0\n",
       "2024-09-30  163.100  165.0800  162.18  164.080  21920300.0\n",
       "2024-10-01  164.480  165.4000  158.08  159.750  31831932.0\n",
       "\n",
       "[2201 rows x 5 columns]"
      ]
     },
     "execution_count": 84,
     "metadata": {},
     "output_type": "execute_result"
    }
   ],
   "source": [
    "bars"
   ]
  },
  {
   "cell_type": "code",
   "execution_count": 49,
   "metadata": {
    "tags": []
   },
   "outputs": [],
   "source": [
    "delta = 0.015\n",
    "bars_cls = bars.copy()\n",
    "bars_cls['Signal'] = [int(row['High'] >= (1 + delta) * row['Open']) for idx, row in bars_cls.iterrows()]"
   ]
  },
  {
   "cell_type": "code",
   "execution_count": 50,
   "metadata": {
    "tags": []
   },
   "outputs": [
    {
     "data": {
      "text/html": [
       "<div>\n",
       "<style scoped>\n",
       "    .dataframe tbody tr th:only-of-type {\n",
       "        vertical-align: middle;\n",
       "    }\n",
       "\n",
       "    .dataframe tbody tr th {\n",
       "        vertical-align: top;\n",
       "    }\n",
       "\n",
       "    .dataframe thead th {\n",
       "        text-align: right;\n",
       "    }\n",
       "</style>\n",
       "<table border=\"1\" class=\"dataframe\">\n",
       "  <thead>\n",
       "    <tr style=\"text-align: right;\">\n",
       "      <th></th>\n",
       "      <th>Open</th>\n",
       "      <th>High</th>\n",
       "      <th>Low</th>\n",
       "      <th>Close</th>\n",
       "      <th>Volume</th>\n",
       "      <th>Signal</th>\n",
       "    </tr>\n",
       "    <tr>\n",
       "      <th>Date</th>\n",
       "      <th></th>\n",
       "      <th></th>\n",
       "      <th></th>\n",
       "      <th></th>\n",
       "      <th></th>\n",
       "      <th></th>\n",
       "    </tr>\n",
       "  </thead>\n",
       "  <tbody>\n",
       "    <tr>\n",
       "      <th>2016-01-04</th>\n",
       "      <td>2.770</td>\n",
       "      <td>2.8200</td>\n",
       "      <td>2.63</td>\n",
       "      <td>2.7700</td>\n",
       "      <td>33698464.0</td>\n",
       "      <td>1</td>\n",
       "    </tr>\n",
       "    <tr>\n",
       "      <th>2016-01-05</th>\n",
       "      <td>2.770</td>\n",
       "      <td>2.8000</td>\n",
       "      <td>2.64</td>\n",
       "      <td>2.7500</td>\n",
       "      <td>13372522.0</td>\n",
       "      <td>0</td>\n",
       "    </tr>\n",
       "    <tr>\n",
       "      <th>2016-01-06</th>\n",
       "      <td>2.660</td>\n",
       "      <td>2.7100</td>\n",
       "      <td>2.47</td>\n",
       "      <td>2.5050</td>\n",
       "      <td>24280750.0</td>\n",
       "      <td>1</td>\n",
       "    </tr>\n",
       "    <tr>\n",
       "      <th>2016-01-07</th>\n",
       "      <td>2.430</td>\n",
       "      <td>2.4800</td>\n",
       "      <td>2.26</td>\n",
       "      <td>2.2750</td>\n",
       "      <td>22577907.0</td>\n",
       "      <td>1</td>\n",
       "    </tr>\n",
       "    <tr>\n",
       "      <th>2016-01-08</th>\n",
       "      <td>2.360</td>\n",
       "      <td>2.4250</td>\n",
       "      <td>2.10</td>\n",
       "      <td>2.1400</td>\n",
       "      <td>34037306.0</td>\n",
       "      <td>1</td>\n",
       "    </tr>\n",
       "    <tr>\n",
       "      <th>...</th>\n",
       "      <td>...</td>\n",
       "      <td>...</td>\n",
       "      <td>...</td>\n",
       "      <td>...</td>\n",
       "      <td>...</td>\n",
       "      <td>...</td>\n",
       "    </tr>\n",
       "    <tr>\n",
       "      <th>2024-09-25</th>\n",
       "      <td>158.500</td>\n",
       "      <td>162.9500</td>\n",
       "      <td>158.18</td>\n",
       "      <td>162.0200</td>\n",
       "      <td>35233264.0</td>\n",
       "      <td>1</td>\n",
       "    </tr>\n",
       "    <tr>\n",
       "      <th>2024-09-26</th>\n",
       "      <td>167.055</td>\n",
       "      <td>168.6800</td>\n",
       "      <td>164.05</td>\n",
       "      <td>167.4900</td>\n",
       "      <td>38044919.0</td>\n",
       "      <td>0</td>\n",
       "    </tr>\n",
       "    <tr>\n",
       "      <th>2024-09-27</th>\n",
       "      <td>167.480</td>\n",
       "      <td>168.7286</td>\n",
       "      <td>163.74</td>\n",
       "      <td>164.3500</td>\n",
       "      <td>27876037.0</td>\n",
       "      <td>0</td>\n",
       "    </tr>\n",
       "    <tr>\n",
       "      <th>2024-09-30</th>\n",
       "      <td>163.100</td>\n",
       "      <td>165.0800</td>\n",
       "      <td>162.18</td>\n",
       "      <td>164.0800</td>\n",
       "      <td>21920300.0</td>\n",
       "      <td>0</td>\n",
       "    </tr>\n",
       "    <tr>\n",
       "      <th>2024-10-01</th>\n",
       "      <td>164.480</td>\n",
       "      <td>165.4000</td>\n",
       "      <td>158.08</td>\n",
       "      <td>160.6397</td>\n",
       "      <td>20171724.0</td>\n",
       "      <td>0</td>\n",
       "    </tr>\n",
       "  </tbody>\n",
       "</table>\n",
       "<p>2201 rows × 6 columns</p>\n",
       "</div>"
      ],
      "text/plain": [
       "               Open      High     Low     Close      Volume  Signal\n",
       "Date                                                               \n",
       "2016-01-04    2.770    2.8200    2.63    2.7700  33698464.0       1\n",
       "2016-01-05    2.770    2.8000    2.64    2.7500  13372522.0       0\n",
       "2016-01-06    2.660    2.7100    2.47    2.5050  24280750.0       1\n",
       "2016-01-07    2.430    2.4800    2.26    2.2750  22577907.0       1\n",
       "2016-01-08    2.360    2.4250    2.10    2.1400  34037306.0       1\n",
       "...             ...       ...     ...       ...         ...     ...\n",
       "2024-09-25  158.500  162.9500  158.18  162.0200  35233264.0       1\n",
       "2024-09-26  167.055  168.6800  164.05  167.4900  38044919.0       0\n",
       "2024-09-27  167.480  168.7286  163.74  164.3500  27876037.0       0\n",
       "2024-09-30  163.100  165.0800  162.18  164.0800  21920300.0       0\n",
       "2024-10-01  164.480  165.4000  158.08  160.6397  20171724.0       0\n",
       "\n",
       "[2201 rows x 6 columns]"
      ]
     },
     "execution_count": 50,
     "metadata": {},
     "output_type": "execute_result"
    }
   ],
   "source": [
    "# bars_cls['Signal'].value_counts()\n",
    "bars_cls"
   ]
  },
  {
   "cell_type": "markdown",
   "metadata": {},
   "source": [
    "#### Logistic Regression\n",
    "\n",
    "* 1 - Appropriate outcome type (Must be categorical)\n",
    "\n",
    "* 2 - Linearity of independent variables and log odds\n",
    "\n",
    "* 3 - No strongly influential outliers\n",
    "\n",
    "* 4 - Absence of multicollinearity\n",
    "\n",
    "* 5 - Independence of observations\n",
    "\n",
    "* 6 - Sufficiently large sample size"
   ]
  },
  {
   "cell_type": "code",
   "execution_count": 24,
   "metadata": {
    "tags": []
   },
   "outputs": [],
   "source": [
    "period = 50\n",
    "feature_lst = ['Open', 'High', 'Low', 'Close']\n",
    "for feature in feature_lst:\n",
    "    bars_cls[feature] = bars_cls[feature].rolling(period).mean()\n",
    "    bars_cls.rename(columns={feature: f'{feature}_{period}'}, inplace=True)\n",
    "\n",
    "bars_cls.dropna(inplace=True)"
   ]
  },
  {
   "cell_type": "code",
   "execution_count": 25,
   "metadata": {
    "tags": []
   },
   "outputs": [
    {
     "data": {
      "text/html": [
       "<div>\n",
       "<style scoped>\n",
       "    .dataframe tbody tr th:only-of-type {\n",
       "        vertical-align: middle;\n",
       "    }\n",
       "\n",
       "    .dataframe tbody tr th {\n",
       "        vertical-align: top;\n",
       "    }\n",
       "\n",
       "    .dataframe thead th {\n",
       "        text-align: right;\n",
       "    }\n",
       "</style>\n",
       "<table border=\"1\" class=\"dataframe\">\n",
       "  <thead>\n",
       "    <tr style=\"text-align: right;\">\n",
       "      <th></th>\n",
       "      <th>Open_50</th>\n",
       "      <th>High_50</th>\n",
       "      <th>Low_50</th>\n",
       "      <th>Close_50</th>\n",
       "      <th>Volume</th>\n",
       "      <th>Signal</th>\n",
       "    </tr>\n",
       "    <tr>\n",
       "      <th>Date</th>\n",
       "      <th></th>\n",
       "      <th></th>\n",
       "      <th></th>\n",
       "      <th></th>\n",
       "      <th></th>\n",
       "      <th></th>\n",
       "    </tr>\n",
       "  </thead>\n",
       "  <tbody>\n",
       "    <tr>\n",
       "      <th>2016-03-15</th>\n",
       "      <td>2.1646</td>\n",
       "      <td>2.240600</td>\n",
       "      <td>2.085600</td>\n",
       "      <td>2.157800</td>\n",
       "      <td>21961851.0</td>\n",
       "      <td>0</td>\n",
       "    </tr>\n",
       "    <tr>\n",
       "      <th>2016-03-16</th>\n",
       "      <td>2.1592</td>\n",
       "      <td>2.237000</td>\n",
       "      <td>2.082800</td>\n",
       "      <td>2.155000</td>\n",
       "      <td>13397577.0</td>\n",
       "      <td>1</td>\n",
       "    </tr>\n",
       "    <tr>\n",
       "      <th>2016-03-17</th>\n",
       "      <td>2.1592</td>\n",
       "      <td>2.237200</td>\n",
       "      <td>2.084000</td>\n",
       "      <td>2.156000</td>\n",
       "      <td>29553221.0</td>\n",
       "      <td>0</td>\n",
       "    </tr>\n",
       "    <tr>\n",
       "      <th>2016-03-18</th>\n",
       "      <td>2.1620</td>\n",
       "      <td>2.241600</td>\n",
       "      <td>2.090000</td>\n",
       "      <td>2.164500</td>\n",
       "      <td>29824090.0</td>\n",
       "      <td>1</td>\n",
       "    </tr>\n",
       "    <tr>\n",
       "      <th>2016-03-21</th>\n",
       "      <td>2.1714</td>\n",
       "      <td>2.250000</td>\n",
       "      <td>2.099800</td>\n",
       "      <td>2.175000</td>\n",
       "      <td>14153242.0</td>\n",
       "      <td>0</td>\n",
       "    </tr>\n",
       "    <tr>\n",
       "      <th>...</th>\n",
       "      <td>...</td>\n",
       "      <td>...</td>\n",
       "      <td>...</td>\n",
       "      <td>...</td>\n",
       "      <td>...</td>\n",
       "      <td>...</td>\n",
       "    </tr>\n",
       "    <tr>\n",
       "      <th>2024-09-25</th>\n",
       "      <td>147.0381</td>\n",
       "      <td>149.725046</td>\n",
       "      <td>143.367744</td>\n",
       "      <td>146.194000</td>\n",
       "      <td>35233264.0</td>\n",
       "      <td>1</td>\n",
       "    </tr>\n",
       "    <tr>\n",
       "      <th>2024-09-26</th>\n",
       "      <td>146.9832</td>\n",
       "      <td>149.702646</td>\n",
       "      <td>143.461344</td>\n",
       "      <td>146.355200</td>\n",
       "      <td>38044919.0</td>\n",
       "      <td>0</td>\n",
       "    </tr>\n",
       "    <tr>\n",
       "      <th>2024-09-27</th>\n",
       "      <td>147.0646</td>\n",
       "      <td>149.809018</td>\n",
       "      <td>143.672144</td>\n",
       "      <td>146.526800</td>\n",
       "      <td>27876037.0</td>\n",
       "      <td>0</td>\n",
       "    </tr>\n",
       "    <tr>\n",
       "      <th>2024-09-30</th>\n",
       "      <td>147.2294</td>\n",
       "      <td>149.994418</td>\n",
       "      <td>143.903344</td>\n",
       "      <td>146.776800</td>\n",
       "      <td>21920300.0</td>\n",
       "      <td>0</td>\n",
       "    </tr>\n",
       "    <tr>\n",
       "      <th>2024-10-01</th>\n",
       "      <td>147.4344</td>\n",
       "      <td>150.168418</td>\n",
       "      <td>144.014044</td>\n",
       "      <td>146.869296</td>\n",
       "      <td>19055672.0</td>\n",
       "      <td>0</td>\n",
       "    </tr>\n",
       "  </tbody>\n",
       "</table>\n",
       "<p>2152 rows × 6 columns</p>\n",
       "</div>"
      ],
      "text/plain": [
       "             Open_50     High_50      Low_50    Close_50      Volume  Signal\n",
       "Date                                                                        \n",
       "2016-03-15    2.1646    2.240600    2.085600    2.157800  21961851.0       0\n",
       "2016-03-16    2.1592    2.237000    2.082800    2.155000  13397577.0       1\n",
       "2016-03-17    2.1592    2.237200    2.084000    2.156000  29553221.0       0\n",
       "2016-03-18    2.1620    2.241600    2.090000    2.164500  29824090.0       1\n",
       "2016-03-21    2.1714    2.250000    2.099800    2.175000  14153242.0       0\n",
       "...              ...         ...         ...         ...         ...     ...\n",
       "2024-09-25  147.0381  149.725046  143.367744  146.194000  35233264.0       1\n",
       "2024-09-26  146.9832  149.702646  143.461344  146.355200  38044919.0       0\n",
       "2024-09-27  147.0646  149.809018  143.672144  146.526800  27876037.0       0\n",
       "2024-09-30  147.2294  149.994418  143.903344  146.776800  21920300.0       0\n",
       "2024-10-01  147.4344  150.168418  144.014044  146.869296  19055672.0       0\n",
       "\n",
       "[2152 rows x 6 columns]"
      ]
     },
     "execution_count": 25,
     "metadata": {},
     "output_type": "execute_result"
    }
   ],
   "source": [
    "bars_cls"
   ]
  },
  {
   "cell_type": "markdown",
   "metadata": {},
   "source": [
    "##### Assumption 2: Linear independence"
   ]
  },
  {
   "cell_type": "code",
   "execution_count": 26,
   "metadata": {
    "tags": []
   },
   "outputs": [],
   "source": [
    "bars_cls_linear = bars_cls.copy()\n",
    "bars_cls_linear['Volume'] = bars_cls_linear['Volume'].apply(lambda x: np.sqrt(x))\n",
    "for feature in bars_cls_linear.columns[:-1].tolist():\n",
    "    bars_cls_linear[f'{feature}Log{feature}'] = bars_cls_linear[[feature]].apply(lambda x: x*np.log(x))"
   ]
  },
  {
   "cell_type": "markdown",
   "metadata": {},
   "source": [
    "Change Volume to sqrt(Volume) will keep linear relationship"
   ]
  },
  {
   "cell_type": "code",
   "execution_count": 27,
   "metadata": {
    "tags": []
   },
   "outputs": [
    {
     "data": {
      "text/html": [
       "<div>\n",
       "<style scoped>\n",
       "    .dataframe tbody tr th:only-of-type {\n",
       "        vertical-align: middle;\n",
       "    }\n",
       "\n",
       "    .dataframe tbody tr th {\n",
       "        vertical-align: top;\n",
       "    }\n",
       "\n",
       "    .dataframe thead th {\n",
       "        text-align: right;\n",
       "    }\n",
       "</style>\n",
       "<table border=\"1\" class=\"dataframe\">\n",
       "  <thead>\n",
       "    <tr style=\"text-align: right;\">\n",
       "      <th></th>\n",
       "      <th>Open_50</th>\n",
       "      <th>High_50</th>\n",
       "      <th>Low_50</th>\n",
       "      <th>Close_50</th>\n",
       "      <th>Volume</th>\n",
       "      <th>Signal</th>\n",
       "      <th>Open_50LogOpen_50</th>\n",
       "      <th>High_50LogHigh_50</th>\n",
       "      <th>Low_50LogLow_50</th>\n",
       "      <th>Close_50LogClose_50</th>\n",
       "      <th>VolumeLogVolume</th>\n",
       "    </tr>\n",
       "    <tr>\n",
       "      <th>Date</th>\n",
       "      <th></th>\n",
       "      <th></th>\n",
       "      <th></th>\n",
       "      <th></th>\n",
       "      <th></th>\n",
       "      <th></th>\n",
       "      <th></th>\n",
       "      <th></th>\n",
       "      <th></th>\n",
       "      <th></th>\n",
       "      <th></th>\n",
       "    </tr>\n",
       "  </thead>\n",
       "  <tbody>\n",
       "    <tr>\n",
       "      <th>2016-03-15</th>\n",
       "      <td>2.1646</td>\n",
       "      <td>2.240600</td>\n",
       "      <td>2.085600</td>\n",
       "      <td>2.157800</td>\n",
       "      <td>0.221095</td>\n",
       "      <td>0</td>\n",
       "      <td>1.671581</td>\n",
       "      <td>1.807590</td>\n",
       "      <td>1.533034</td>\n",
       "      <td>1.659541</td>\n",
       "      <td>0.196211</td>\n",
       "    </tr>\n",
       "    <tr>\n",
       "      <th>2016-03-16</th>\n",
       "      <td>2.1592</td>\n",
       "      <td>2.237000</td>\n",
       "      <td>2.082800</td>\n",
       "      <td>2.155000</td>\n",
       "      <td>0.161584</td>\n",
       "      <td>1</td>\n",
       "      <td>1.662018</td>\n",
       "      <td>1.801089</td>\n",
       "      <td>1.528178</td>\n",
       "      <td>1.654589</td>\n",
       "      <td>0.140431</td>\n",
       "    </tr>\n",
       "    <tr>\n",
       "      <th>2016-03-17</th>\n",
       "      <td>2.1592</td>\n",
       "      <td>2.237200</td>\n",
       "      <td>2.084000</td>\n",
       "      <td>2.156000</td>\n",
       "      <td>0.264590</td>\n",
       "      <td>0</td>\n",
       "      <td>1.662018</td>\n",
       "      <td>1.801450</td>\n",
       "      <td>1.530259</td>\n",
       "      <td>1.656357</td>\n",
       "      <td>0.237829</td>\n",
       "    </tr>\n",
       "    <tr>\n",
       "      <th>2016-03-18</th>\n",
       "      <td>2.1620</td>\n",
       "      <td>2.241600</td>\n",
       "      <td>2.090000</td>\n",
       "      <td>2.164500</td>\n",
       "      <td>0.266032</td>\n",
       "      <td>1</td>\n",
       "      <td>1.666975</td>\n",
       "      <td>1.809397</td>\n",
       "      <td>1.540673</td>\n",
       "      <td>1.671404</td>\n",
       "      <td>0.239219</td>\n",
       "    </tr>\n",
       "    <tr>\n",
       "      <th>2016-03-21</th>\n",
       "      <td>2.1714</td>\n",
       "      <td>2.250000</td>\n",
       "      <td>2.099800</td>\n",
       "      <td>2.175000</td>\n",
       "      <td>0.167489</td>\n",
       "      <td>0</td>\n",
       "      <td>1.683643</td>\n",
       "      <td>1.824593</td>\n",
       "      <td>1.557720</td>\n",
       "      <td>1.690037</td>\n",
       "      <td>0.145898</td>\n",
       "    </tr>\n",
       "    <tr>\n",
       "      <th>...</th>\n",
       "      <td>...</td>\n",
       "      <td>...</td>\n",
       "      <td>...</td>\n",
       "      <td>...</td>\n",
       "      <td>...</td>\n",
       "      <td>...</td>\n",
       "      <td>...</td>\n",
       "      <td>...</td>\n",
       "      <td>...</td>\n",
       "      <td>...</td>\n",
       "      <td>...</td>\n",
       "    </tr>\n",
       "    <tr>\n",
       "      <th>2024-09-25</th>\n",
       "      <td>147.0381</td>\n",
       "      <td>149.725046</td>\n",
       "      <td>143.367744</td>\n",
       "      <td>146.194000</td>\n",
       "      <td>0.293559</td>\n",
       "      <td>1</td>\n",
       "      <td>733.821831</td>\n",
       "      <td>749.942898</td>\n",
       "      <td>711.880055</td>\n",
       "      <td>728.767515</td>\n",
       "      <td>0.265888</td>\n",
       "    </tr>\n",
       "    <tr>\n",
       "      <th>2024-09-26</th>\n",
       "      <td>146.9832</td>\n",
       "      <td>149.702646</td>\n",
       "      <td>143.461344</td>\n",
       "      <td>146.355200</td>\n",
       "      <td>0.307031</td>\n",
       "      <td>0</td>\n",
       "      <td>733.492952</td>\n",
       "      <td>749.808303</td>\n",
       "      <td>712.438448</td>\n",
       "      <td>729.732376</td>\n",
       "      <td>0.279022</td>\n",
       "    </tr>\n",
       "    <tr>\n",
       "      <th>2024-09-27</th>\n",
       "      <td>147.0646</td>\n",
       "      <td>149.809018</td>\n",
       "      <td>143.672144</td>\n",
       "      <td>146.526800</td>\n",
       "      <td>0.255513</td>\n",
       "      <td>0</td>\n",
       "      <td>733.980586</td>\n",
       "      <td>750.447493</td>\n",
       "      <td>713.696250</td>\n",
       "      <td>730.759680</td>\n",
       "      <td>0.229091</td>\n",
       "    </tr>\n",
       "    <tr>\n",
       "      <th>2024-09-30</th>\n",
       "      <td>147.2294</td>\n",
       "      <td>149.994418</td>\n",
       "      <td>143.903344</td>\n",
       "      <td>146.776800</td>\n",
       "      <td>0.220838</td>\n",
       "      <td>0</td>\n",
       "      <td>734.967974</td>\n",
       "      <td>751.561743</td>\n",
       "      <td>715.076129</td>\n",
       "      <td>732.256695</td>\n",
       "      <td>0.195967</td>\n",
       "    </tr>\n",
       "    <tr>\n",
       "      <th>2024-10-01</th>\n",
       "      <td>147.4344</td>\n",
       "      <td>150.168418</td>\n",
       "      <td>144.014044</td>\n",
       "      <td>146.869296</td>\n",
       "      <td>0.202474</td>\n",
       "      <td>0</td>\n",
       "      <td>736.196475</td>\n",
       "      <td>752.607688</td>\n",
       "      <td>715.736956</td>\n",
       "      <td>732.810675</td>\n",
       "      <td>0.178601</td>\n",
       "    </tr>\n",
       "  </tbody>\n",
       "</table>\n",
       "<p>2152 rows × 11 columns</p>\n",
       "</div>"
      ],
      "text/plain": [
       "             Open_50     High_50      Low_50    Close_50    Volume  Signal  \\\n",
       "Date                                                                         \n",
       "2016-03-15    2.1646    2.240600    2.085600    2.157800  0.221095       0   \n",
       "2016-03-16    2.1592    2.237000    2.082800    2.155000  0.161584       1   \n",
       "2016-03-17    2.1592    2.237200    2.084000    2.156000  0.264590       0   \n",
       "2016-03-18    2.1620    2.241600    2.090000    2.164500  0.266032       1   \n",
       "2016-03-21    2.1714    2.250000    2.099800    2.175000  0.167489       0   \n",
       "...              ...         ...         ...         ...       ...     ...   \n",
       "2024-09-25  147.0381  149.725046  143.367744  146.194000  0.293559       1   \n",
       "2024-09-26  146.9832  149.702646  143.461344  146.355200  0.307031       0   \n",
       "2024-09-27  147.0646  149.809018  143.672144  146.526800  0.255513       0   \n",
       "2024-09-30  147.2294  149.994418  143.903344  146.776800  0.220838       0   \n",
       "2024-10-01  147.4344  150.168418  144.014044  146.869296  0.202474       0   \n",
       "\n",
       "            Open_50LogOpen_50  High_50LogHigh_50  Low_50LogLow_50  \\\n",
       "Date                                                                \n",
       "2016-03-15           1.671581           1.807590         1.533034   \n",
       "2016-03-16           1.662018           1.801089         1.528178   \n",
       "2016-03-17           1.662018           1.801450         1.530259   \n",
       "2016-03-18           1.666975           1.809397         1.540673   \n",
       "2016-03-21           1.683643           1.824593         1.557720   \n",
       "...                       ...                ...              ...   \n",
       "2024-09-25         733.821831         749.942898       711.880055   \n",
       "2024-09-26         733.492952         749.808303       712.438448   \n",
       "2024-09-27         733.980586         750.447493       713.696250   \n",
       "2024-09-30         734.967974         751.561743       715.076129   \n",
       "2024-10-01         736.196475         752.607688       715.736956   \n",
       "\n",
       "            Close_50LogClose_50  VolumeLogVolume  \n",
       "Date                                              \n",
       "2016-03-15             1.659541         0.196211  \n",
       "2016-03-16             1.654589         0.140431  \n",
       "2016-03-17             1.656357         0.237829  \n",
       "2016-03-18             1.671404         0.239219  \n",
       "2016-03-21             1.690037         0.145898  \n",
       "...                         ...              ...  \n",
       "2024-09-25           728.767515         0.265888  \n",
       "2024-09-26           729.732376         0.279022  \n",
       "2024-09-27           730.759680         0.229091  \n",
       "2024-09-30           732.256695         0.195967  \n",
       "2024-10-01           732.810675         0.178601  \n",
       "\n",
       "[2152 rows x 11 columns]"
      ]
     },
     "execution_count": 27,
     "metadata": {},
     "output_type": "execute_result"
    }
   ],
   "source": [
    "bars_cls_linear['Volume'] = (bars_cls_linear['Volume'] - min(bars_cls_linear['Volume'])) / (max(bars_cls_linear['Volume']) - min(bars_cls_linear['Volume']))\n",
    "bars_cls_linear['VolumeLogVolume'] = (bars_cls_linear['VolumeLogVolume'] - min(bars_cls_linear['VolumeLogVolume'])) / (max(bars_cls_linear['VolumeLogVolume']) - min(bars_cls_linear['VolumeLogVolume']))\n",
    "bars_cls_linear"
   ]
  },
  {
   "cell_type": "code",
   "execution_count": 29,
   "metadata": {
    "tags": []
   },
   "outputs": [
    {
     "name": "stdout",
     "output_type": "stream",
     "text": [
      "Optimization terminated successfully.\n",
      "         Current function value: 0.665308\n",
      "         Iterations 6\n",
      "                           Logit Regression Results                           \n",
      "==============================================================================\n",
      "Dep. Variable:                 Signal   No. Observations:                 2152\n",
      "Model:                          Logit   Df Residuals:                     2141\n",
      "Method:                           MLE   Df Model:                           10\n",
      "Date:                Tue, 01 Oct 2024   Pseudo R-squ.:                 0.04012\n",
      "Time:                        14:29:54   Log-Likelihood:                -1431.7\n",
      "converged:                       True   LL-Null:                       -1491.6\n",
      "Covariance Type:            nonrobust   LLR p-value:                 5.823e-21\n",
      "=======================================================================================\n",
      "                          coef    std err          z      P>|z|      [0.025      0.975]\n",
      "---------------------------------------------------------------------------------------\n",
      "Intercept              -1.6716      0.621     -2.693      0.007      -2.888      -0.455\n",
      "Open_50                -7.7516      7.070     -1.096      0.273     -21.608       6.105\n",
      "High_50                -1.2153      6.854     -0.177      0.859     -14.650      12.219\n",
      "Low_50                 -3.3860      6.093     -0.556      0.578     -15.327       8.555\n",
      "Close_50               12.2692      6.651      1.845      0.065      -0.767      25.306\n",
      "Volume                 26.8385     21.066      1.274      0.203     -14.449      68.126\n",
      "Open_50LogOpen_50       1.1662      1.276      0.914      0.361      -1.335       3.668\n",
      "High_50LogHigh_50       0.3671      1.233      0.298      0.766      -2.050       2.784\n",
      "Low_50LogLow_50         0.7279      1.097      0.663      0.507      -1.423       2.878\n",
      "Close_50LogClose_50    -2.2451      1.184     -1.897      0.058      -4.565       0.075\n",
      "VolumeLogVolume       -23.1656     20.944     -1.106      0.269     -64.216      17.885\n",
      "=======================================================================================\n"
     ]
    }
   ],
   "source": [
    "import statsmodels.formula.api as smf\n",
    "\n",
    "# Perform Box-Tidwell test\n",
    "formula = \"Signal ~ \" + \" + \".join(bars_cls_linear.drop(['Signal'], axis=1).columns.tolist())\n",
    "model = smf.logit(formula=formula, data=bars_cls_linear).fit()\n",
    "print(model.summary())"
   ]
  },
  {
   "cell_type": "code",
   "execution_count": 30,
   "metadata": {
    "tags": []
   },
   "outputs": [],
   "source": [
    "from statsmodels.genmod.generalized_linear_model import GLM\n",
    "from statsmodels.genmod import families"
   ]
  },
  {
   "cell_type": "code",
   "execution_count": 31,
   "metadata": {
    "tags": []
   },
   "outputs": [],
   "source": [
    "logit_results = LogisticRegression(random_state=42, max_iter=1000).fit(bars_cls_linear.iloc[:, :5], bars_cls_linear['Signal'])\n",
    "predicted = logit_results.predict_proba(bars_cls_linear.iloc[:, :5])[:, 1]\n",
    "\n",
    "# Get log odds values\n",
    "log_odds = np.log(predicted / (1 - predicted))"
   ]
  },
  {
   "cell_type": "markdown",
   "metadata": {},
   "source": [
    "Right now, the Volume is linear related to the dependent variable."
   ]
  },
  {
   "cell_type": "code",
   "execution_count": 32,
   "metadata": {
    "tags": []
   },
   "outputs": [
    {
     "data": {
      "image/png": "[encoded data removed]",
      "text/plain": [
       "<Figure size 640x480 with 1 Axes>"
      ]
     },
     "metadata": {},
     "output_type": "display_data"
    }
   ],
   "source": [
    "# Visualize predictor continuous variable vs logit values (Age)\n",
    "plt.scatter(x = bars_cls_linear['Close_50'].values, y = log_odds);\n",
    "plt.show()"
   ]
  },
  {
   "cell_type": "markdown",
   "metadata": {},
   "source": [
    "##### Assumption 4: Multicollinearity and Independence"
   ]
  },
  {
   "cell_type": "code",
   "execution_count": 33,
   "metadata": {
    "tags": []
   },
   "outputs": [],
   "source": [
    "from statsmodels.stats.outliers_influence import variance_inflation_factor"
   ]
  },
  {
   "cell_type": "code",
   "execution_count": 34,
   "metadata": {
    "tags": []
   },
   "outputs": [
    {
     "data": {
      "text/html": [
       "<div>\n",
       "<style scoped>\n",
       "    .dataframe tbody tr th:only-of-type {\n",
       "        vertical-align: middle;\n",
       "    }\n",
       "\n",
       "    .dataframe tbody tr th {\n",
       "        vertical-align: top;\n",
       "    }\n",
       "\n",
       "    .dataframe thead th {\n",
       "        text-align: right;\n",
       "    }\n",
       "</style>\n",
       "<table border=\"1\" class=\"dataframe\">\n",
       "  <thead>\n",
       "    <tr style=\"text-align: right;\">\n",
       "      <th></th>\n",
       "      <th>Open_50</th>\n",
       "      <th>High_50</th>\n",
       "      <th>Low_50</th>\n",
       "      <th>Close_50</th>\n",
       "      <th>Volume</th>\n",
       "      <th>Signal</th>\n",
       "    </tr>\n",
       "    <tr>\n",
       "      <th>Date</th>\n",
       "      <th></th>\n",
       "      <th></th>\n",
       "      <th></th>\n",
       "      <th></th>\n",
       "      <th></th>\n",
       "      <th></th>\n",
       "    </tr>\n",
       "  </thead>\n",
       "  <tbody>\n",
       "    <tr>\n",
       "      <th>2016-03-15</th>\n",
       "      <td>2.1646</td>\n",
       "      <td>2.240600</td>\n",
       "      <td>2.085600</td>\n",
       "      <td>2.157800</td>\n",
       "      <td>0.221095</td>\n",
       "      <td>0</td>\n",
       "    </tr>\n",
       "    <tr>\n",
       "      <th>2016-03-16</th>\n",
       "      <td>2.1592</td>\n",
       "      <td>2.237000</td>\n",
       "      <td>2.082800</td>\n",
       "      <td>2.155000</td>\n",
       "      <td>0.161584</td>\n",
       "      <td>1</td>\n",
       "    </tr>\n",
       "    <tr>\n",
       "      <th>2016-03-17</th>\n",
       "      <td>2.1592</td>\n",
       "      <td>2.237200</td>\n",
       "      <td>2.084000</td>\n",
       "      <td>2.156000</td>\n",
       "      <td>0.264590</td>\n",
       "      <td>0</td>\n",
       "    </tr>\n",
       "    <tr>\n",
       "      <th>2016-03-18</th>\n",
       "      <td>2.1620</td>\n",
       "      <td>2.241600</td>\n",
       "      <td>2.090000</td>\n",
       "      <td>2.164500</td>\n",
       "      <td>0.266032</td>\n",
       "      <td>1</td>\n",
       "    </tr>\n",
       "    <tr>\n",
       "      <th>2016-03-21</th>\n",
       "      <td>2.1714</td>\n",
       "      <td>2.250000</td>\n",
       "      <td>2.099800</td>\n",
       "      <td>2.175000</td>\n",
       "      <td>0.167489</td>\n",
       "      <td>0</td>\n",
       "    </tr>\n",
       "    <tr>\n",
       "      <th>...</th>\n",
       "      <td>...</td>\n",
       "      <td>...</td>\n",
       "      <td>...</td>\n",
       "      <td>...</td>\n",
       "      <td>...</td>\n",
       "      <td>...</td>\n",
       "    </tr>\n",
       "    <tr>\n",
       "      <th>2024-09-25</th>\n",
       "      <td>147.0381</td>\n",
       "      <td>149.725046</td>\n",
       "      <td>143.367744</td>\n",
       "      <td>146.194000</td>\n",
       "      <td>0.293559</td>\n",
       "      <td>1</td>\n",
       "    </tr>\n",
       "    <tr>\n",
       "      <th>2024-09-26</th>\n",
       "      <td>146.9832</td>\n",
       "      <td>149.702646</td>\n",
       "      <td>143.461344</td>\n",
       "      <td>146.355200</td>\n",
       "      <td>0.307031</td>\n",
       "      <td>0</td>\n",
       "    </tr>\n",
       "    <tr>\n",
       "      <th>2024-09-27</th>\n",
       "      <td>147.0646</td>\n",
       "      <td>149.809018</td>\n",
       "      <td>143.672144</td>\n",
       "      <td>146.526800</td>\n",
       "      <td>0.255513</td>\n",
       "      <td>0</td>\n",
       "    </tr>\n",
       "    <tr>\n",
       "      <th>2024-09-30</th>\n",
       "      <td>147.2294</td>\n",
       "      <td>149.994418</td>\n",
       "      <td>143.903344</td>\n",
       "      <td>146.776800</td>\n",
       "      <td>0.220838</td>\n",
       "      <td>0</td>\n",
       "    </tr>\n",
       "    <tr>\n",
       "      <th>2024-10-01</th>\n",
       "      <td>147.4344</td>\n",
       "      <td>150.168418</td>\n",
       "      <td>144.014044</td>\n",
       "      <td>146.869296</td>\n",
       "      <td>0.202474</td>\n",
       "      <td>0</td>\n",
       "    </tr>\n",
       "  </tbody>\n",
       "</table>\n",
       "<p>2152 rows × 6 columns</p>\n",
       "</div>"
      ],
      "text/plain": [
       "             Open_50     High_50      Low_50    Close_50    Volume  Signal\n",
       "Date                                                                      \n",
       "2016-03-15    2.1646    2.240600    2.085600    2.157800  0.221095       0\n",
       "2016-03-16    2.1592    2.237000    2.082800    2.155000  0.161584       1\n",
       "2016-03-17    2.1592    2.237200    2.084000    2.156000  0.264590       0\n",
       "2016-03-18    2.1620    2.241600    2.090000    2.164500  0.266032       1\n",
       "2016-03-21    2.1714    2.250000    2.099800    2.175000  0.167489       0\n",
       "...              ...         ...         ...         ...       ...     ...\n",
       "2024-09-25  147.0381  149.725046  143.367744  146.194000  0.293559       1\n",
       "2024-09-26  146.9832  149.702646  143.461344  146.355200  0.307031       0\n",
       "2024-09-27  147.0646  149.809018  143.672144  146.526800  0.255513       0\n",
       "2024-09-30  147.2294  149.994418  143.903344  146.776800  0.220838       0\n",
       "2024-10-01  147.4344  150.168418  144.014044  146.869296  0.202474       0\n",
       "\n",
       "[2152 rows x 6 columns]"
      ]
     },
     "execution_count": 34,
     "metadata": {},
     "output_type": "execute_result"
    }
   ],
   "source": [
    "bars_cls_linear.iloc[:, :6]"
   ]
  },
  {
   "cell_type": "code",
   "execution_count": 35,
   "metadata": {
    "tags": []
   },
   "outputs": [
    {
     "data": {
      "text/html": [
       "<div>\n",
       "<style scoped>\n",
       "    .dataframe tbody tr th:only-of-type {\n",
       "        vertical-align: middle;\n",
       "    }\n",
       "\n",
       "    .dataframe tbody tr th {\n",
       "        vertical-align: top;\n",
       "    }\n",
       "\n",
       "    .dataframe thead th {\n",
       "        text-align: right;\n",
       "    }\n",
       "</style>\n",
       "<table border=\"1\" class=\"dataframe\">\n",
       "  <thead>\n",
       "    <tr style=\"text-align: right;\">\n",
       "      <th></th>\n",
       "      <th>variables</th>\n",
       "      <th>VIF</th>\n",
       "    </tr>\n",
       "  </thead>\n",
       "  <tbody>\n",
       "    <tr>\n",
       "      <th>0</th>\n",
       "      <td>Open_50</td>\n",
       "      <td>549498.823176</td>\n",
       "    </tr>\n",
       "    <tr>\n",
       "      <th>1</th>\n",
       "      <td>High_50</td>\n",
       "      <td>606364.086267</td>\n",
       "    </tr>\n",
       "    <tr>\n",
       "      <th>2</th>\n",
       "      <td>Low_50</td>\n",
       "      <td>500515.141701</td>\n",
       "    </tr>\n",
       "    <tr>\n",
       "      <th>3</th>\n",
       "      <td>Close_50</td>\n",
       "      <td>671537.535268</td>\n",
       "    </tr>\n",
       "    <tr>\n",
       "      <th>4</th>\n",
       "      <td>Volume</td>\n",
       "      <td>3.700386</td>\n",
       "    </tr>\n",
       "    <tr>\n",
       "      <th>5</th>\n",
       "      <td>Signal</td>\n",
       "      <td>2.077191</td>\n",
       "    </tr>\n",
       "  </tbody>\n",
       "</table>\n",
       "</div>"
      ],
      "text/plain": [
       "  variables            VIF\n",
       "0   Open_50  549498.823176\n",
       "1   High_50  606364.086267\n",
       "2    Low_50  500515.141701\n",
       "3  Close_50  671537.535268\n",
       "4    Volume       3.700386\n",
       "5    Signal       2.077191"
      ]
     },
     "execution_count": 35,
     "metadata": {},
     "output_type": "execute_result"
    }
   ],
   "source": [
    "# Use variance inflation factor to identify any significant multi-collinearity\n",
    "def calc_vif(df):\n",
    "    vif = pd.DataFrame()\n",
    "    vif[\"variables\"] = df.columns\n",
    "    vif[\"VIF\"] = [variance_inflation_factor(df.values, i) for i in range(df.shape[1])]\n",
    "    return(vif)\n",
    "\n",
    "calc_vif(bars_cls_linear.iloc[:, :6])"
   ]
  },
  {
   "cell_type": "markdown",
   "metadata": {},
   "source": [
    "##### Add input vars\n",
    "\n",
    "RSI, MACD, Bollinger Bands"
   ]
  },
  {
   "cell_type": "code",
   "execution_count": 70,
   "metadata": {
    "tags": []
   },
   "outputs": [],
   "source": [
    "def rsi(df, window):\n",
    "    delta = df.diff().dropna()\n",
    "    part1_gain = (delta.where(delta > 0, 0)).shift(1).rolling(window=window-1).mean()\n",
    "    part2_gain = (delta.where(delta > 0, 0))\n",
    "    gain = (part1_gain * (window-1) + part2_gain)/window\n",
    "    \n",
    "    part1_loss = (-delta.where(delta < 0, 0)).shift(1).rolling(window=window-1).mean()\n",
    "    part2_loss = (-delta.where(delta < 0, 0))\n",
    "    loss = (part1_loss * (window-1) + part2_loss)/window\n",
    "    rs = gain / loss\n",
    "    # df['RSI'] = 100 - (100 / (1 + rs))\n",
    "    return 100 - (100 / (1 + rs))\n",
    "\n",
    "\n",
    "def rsi_cat(df, window):\n",
    "    df1 = rsi(df, window).dropna()\n",
    "    return df1.apply(lambda x: 1 if x > 70 else (-1 if x < 30 else 0))"
   ]
  },
  {
   "cell_type": "code",
   "execution_count": 95,
   "metadata": {
    "tags": []
   },
   "outputs": [],
   "source": [
    "def add_factors(bars):\n",
    "    bars['rsi'] = rsi(bars['Close'], 14)\n",
    "    bars['rsi_cat'] = rsi_cat(bars['Close'], 14)\n",
    "    \n",
    "    bars['return'] = bars['Close'].pct_change()\n",
    "    bars['log_return'] = np.log(bars['Close'].pct_change()+1)\n",
    "    \n",
    "    bars['volume_change'] = bars['Volume'].pct_change()\n",
    "    bars['volume_sqrt'] = bars['Volume'].apply(lambda x: np.sqrt(x))\n",
    "    \n",
    "    bars['MA5'] = bars['Close'].rolling(window=5).mean()\n",
    "    bars['MA10'] = bars['Close'].rolling(window=10).mean()\n",
    "    \n",
    "    bars['EMA12'] = bars['Close'].ewm(span=12, adjust=False).mean()\n",
    "    bars['EMA26'] = bars['Close'].ewm(span=26, adjust=False).mean()\n",
    "    bars['MACD'] = bars['EMA26'] - bars['EMA12']\n",
    "    bars['Signal_Line'] = bars['MACD'].ewm(span=9, adjust=False).mean()\n",
    "    \n",
    "    cols = bars.columns.tolist()\n",
    "    cols.remove('Signal')\n",
    "    cols.append('Signal')\n",
    "    bars = bars[cols]\n",
    "    \n",
    "    \n",
    "    return bars"
   ]
  },
  {
   "cell_type": "code",
   "execution_count": 96,
   "metadata": {
    "tags": []
   },
   "outputs": [],
   "source": [
    "bars_cls = add_factors(bars_cls).dropna()"
   ]
  },
  {
   "cell_type": "markdown",
   "metadata": {},
   "source": [
    "1. RSI"
   ]
  },
  {
   "cell_type": "code",
   "execution_count": 94,
   "metadata": {
    "tags": []
   },
   "outputs": [],
   "source": [
    "delta = 0.015\n",
    "bars_cls = bars.copy()[['Close', 'Volume']]\n",
    "bars_cls['Signal'] = [int(row['High'] >= (1 + delta) * row['Open']) for idx, row in bars.iterrows()]"
   ]
  },
  {
   "cell_type": "code",
   "execution_count": 97,
   "metadata": {
    "tags": []
   },
   "outputs": [
    {
     "data": {
      "text/html": [
       "<div>\n",
       "<style scoped>\n",
       "    .dataframe tbody tr th:only-of-type {\n",
       "        vertical-align: middle;\n",
       "    }\n",
       "\n",
       "    .dataframe tbody tr th {\n",
       "        vertical-align: top;\n",
       "    }\n",
       "\n",
       "    .dataframe thead th {\n",
       "        text-align: right;\n",
       "    }\n",
       "</style>\n",
       "<table border=\"1\" class=\"dataframe\">\n",
       "  <thead>\n",
       "    <tr style=\"text-align: right;\">\n",
       "      <th></th>\n",
       "      <th>Close</th>\n",
       "      <th>Volume</th>\n",
       "      <th>rsi</th>\n",
       "      <th>rsi_cat</th>\n",
       "      <th>return</th>\n",
       "      <th>log_return</th>\n",
       "      <th>volume_change</th>\n",
       "      <th>volume_sqrt</th>\n",
       "      <th>MA5</th>\n",
       "      <th>MA10</th>\n",
       "      <th>EMA12</th>\n",
       "      <th>EMA26</th>\n",
       "      <th>MACD</th>\n",
       "      <th>Signal_Line</th>\n",
       "      <th>Signal</th>\n",
       "    </tr>\n",
       "    <tr>\n",
       "      <th>Date</th>\n",
       "      <th></th>\n",
       "      <th></th>\n",
       "      <th></th>\n",
       "      <th></th>\n",
       "      <th></th>\n",
       "      <th></th>\n",
       "      <th></th>\n",
       "      <th></th>\n",
       "      <th></th>\n",
       "      <th></th>\n",
       "      <th></th>\n",
       "      <th></th>\n",
       "      <th></th>\n",
       "      <th></th>\n",
       "      <th></th>\n",
       "    </tr>\n",
       "  </thead>\n",
       "  <tbody>\n",
       "    <tr>\n",
       "      <th>2016-01-25</th>\n",
       "      <td>2.12</td>\n",
       "      <td>13378300.0</td>\n",
       "      <td>33.160622</td>\n",
       "      <td>0.0</td>\n",
       "      <td>0.049505</td>\n",
       "      <td>0.048319</td>\n",
       "      <td>-0.204482</td>\n",
       "      <td>3657.635848</td>\n",
       "      <td>1.996</td>\n",
       "      <td>2.120</td>\n",
       "      <td>2.170266</td>\n",
       "      <td>2.362798</td>\n",
       "      <td>0.192532</td>\n",
       "      <td>0.165283</td>\n",
       "      <td>1</td>\n",
       "    </tr>\n",
       "    <tr>\n",
       "      <th>2016-01-26</th>\n",
       "      <td>2.07</td>\n",
       "      <td>11774462.0</td>\n",
       "      <td>32.653061</td>\n",
       "      <td>0.0</td>\n",
       "      <td>-0.023585</td>\n",
       "      <td>-0.023867</td>\n",
       "      <td>-0.119884</td>\n",
       "      <td>3431.393594</td>\n",
       "      <td>2.020</td>\n",
       "      <td>2.093</td>\n",
       "      <td>2.154841</td>\n",
       "      <td>2.341109</td>\n",
       "      <td>0.186269</td>\n",
       "      <td>0.169480</td>\n",
       "      <td>0</td>\n",
       "    </tr>\n",
       "    <tr>\n",
       "      <th>2016-01-27</th>\n",
       "      <td>2.13</td>\n",
       "      <td>11195852.0</td>\n",
       "      <td>39.436620</td>\n",
       "      <td>0.0</td>\n",
       "      <td>0.028986</td>\n",
       "      <td>0.028573</td>\n",
       "      <td>-0.049141</td>\n",
       "      <td>3346.020323</td>\n",
       "      <td>2.086</td>\n",
       "      <td>2.067</td>\n",
       "      <td>2.151019</td>\n",
       "      <td>2.325472</td>\n",
       "      <td>0.174452</td>\n",
       "      <td>0.170475</td>\n",
       "      <td>1</td>\n",
       "    </tr>\n",
       "    <tr>\n",
       "      <th>2016-01-28</th>\n",
       "      <td>2.08</td>\n",
       "      <td>7366820.0</td>\n",
       "      <td>43.887147</td>\n",
       "      <td>0.0</td>\n",
       "      <td>-0.023474</td>\n",
       "      <td>-0.023754</td>\n",
       "      <td>-0.342005</td>\n",
       "      <td>2714.188645</td>\n",
       "      <td>2.084</td>\n",
       "      <td>2.050</td>\n",
       "      <td>2.140093</td>\n",
       "      <td>2.307289</td>\n",
       "      <td>0.167195</td>\n",
       "      <td>0.169819</td>\n",
       "      <td>0</td>\n",
       "    </tr>\n",
       "    <tr>\n",
       "      <th>2016-01-29</th>\n",
       "      <td>2.20</td>\n",
       "      <td>13464666.0</td>\n",
       "      <td>51.898734</td>\n",
       "      <td>0.0</td>\n",
       "      <td>0.057692</td>\n",
       "      <td>0.056089</td>\n",
       "      <td>0.827745</td>\n",
       "      <td>3669.423115</td>\n",
       "      <td>2.120</td>\n",
       "      <td>2.049</td>\n",
       "      <td>2.149310</td>\n",
       "      <td>2.299341</td>\n",
       "      <td>0.150032</td>\n",
       "      <td>0.165861</td>\n",
       "      <td>1</td>\n",
       "    </tr>\n",
       "    <tr>\n",
       "      <th>...</th>\n",
       "      <td>...</td>\n",
       "      <td>...</td>\n",
       "      <td>...</td>\n",
       "      <td>...</td>\n",
       "      <td>...</td>\n",
       "      <td>...</td>\n",
       "      <td>...</td>\n",
       "      <td>...</td>\n",
       "      <td>...</td>\n",
       "      <td>...</td>\n",
       "      <td>...</td>\n",
       "      <td>...</td>\n",
       "      <td>...</td>\n",
       "      <td>...</td>\n",
       "      <td>...</td>\n",
       "    </tr>\n",
       "    <tr>\n",
       "      <th>2024-09-25</th>\n",
       "      <td>162.02</td>\n",
       "      <td>35233264.0</td>\n",
       "      <td>76.639924</td>\n",
       "      <td>1.0</td>\n",
       "      <td>0.023370</td>\n",
       "      <td>0.023101</td>\n",
       "      <td>0.279758</td>\n",
       "      <td>5935.761451</td>\n",
       "      <td>157.956</td>\n",
       "      <td>154.405</td>\n",
       "      <td>153.713157</td>\n",
       "      <td>150.563029</td>\n",
       "      <td>-3.150128</td>\n",
       "      <td>-1.460783</td>\n",
       "      <td>1</td>\n",
       "    </tr>\n",
       "    <tr>\n",
       "      <th>2024-09-26</th>\n",
       "      <td>167.49</td>\n",
       "      <td>38044919.0</td>\n",
       "      <td>88.751169</td>\n",
       "      <td>1.0</td>\n",
       "      <td>0.033761</td>\n",
       "      <td>0.033204</td>\n",
       "      <td>0.079801</td>\n",
       "      <td>6168.056339</td>\n",
       "      <td>160.106</td>\n",
       "      <td>156.077</td>\n",
       "      <td>155.832672</td>\n",
       "      <td>151.816879</td>\n",
       "      <td>-4.015793</td>\n",
       "      <td>-1.971785</td>\n",
       "      <td>0</td>\n",
       "    </tr>\n",
       "    <tr>\n",
       "      <th>2024-09-27</th>\n",
       "      <td>164.35</td>\n",
       "      <td>27876037.0</td>\n",
       "      <td>81.116390</td>\n",
       "      <td>1.0</td>\n",
       "      <td>-0.018747</td>\n",
       "      <td>-0.018925</td>\n",
       "      <td>-0.267286</td>\n",
       "      <td>5279.776226</td>\n",
       "      <td>161.786</td>\n",
       "      <td>157.281</td>\n",
       "      <td>157.143030</td>\n",
       "      <td>152.745258</td>\n",
       "      <td>-4.397772</td>\n",
       "      <td>-2.456983</td>\n",
       "      <td>0</td>\n",
       "    </tr>\n",
       "    <tr>\n",
       "      <th>2024-09-30</th>\n",
       "      <td>164.08</td>\n",
       "      <td>21920300.0</td>\n",
       "      <td>78.184713</td>\n",
       "      <td>1.0</td>\n",
       "      <td>-0.001643</td>\n",
       "      <td>-0.001644</td>\n",
       "      <td>-0.213651</td>\n",
       "      <td>4681.912003</td>\n",
       "      <td>163.252</td>\n",
       "      <td>158.481</td>\n",
       "      <td>158.210256</td>\n",
       "      <td>153.584869</td>\n",
       "      <td>-4.625387</td>\n",
       "      <td>-2.890663</td>\n",
       "      <td>0</td>\n",
       "    </tr>\n",
       "    <tr>\n",
       "      <th>2024-10-01</th>\n",
       "      <td>159.75</td>\n",
       "      <td>31831932.0</td>\n",
       "      <td>64.132609</td>\n",
       "      <td>0.0</td>\n",
       "      <td>-0.026390</td>\n",
       "      <td>-0.026744</td>\n",
       "      <td>0.452167</td>\n",
       "      <td>5641.979440</td>\n",
       "      <td>163.538</td>\n",
       "      <td>159.374</td>\n",
       "      <td>158.447140</td>\n",
       "      <td>154.041545</td>\n",
       "      <td>-4.405595</td>\n",
       "      <td>-3.193650</td>\n",
       "      <td>0</td>\n",
       "    </tr>\n",
       "  </tbody>\n",
       "</table>\n",
       "<p>2187 rows × 15 columns</p>\n",
       "</div>"
      ],
      "text/plain": [
       "             Close      Volume        rsi  rsi_cat    return  log_return  \\\n",
       "Date                                                                       \n",
       "2016-01-25    2.12  13378300.0  33.160622      0.0  0.049505    0.048319   \n",
       "2016-01-26    2.07  11774462.0  32.653061      0.0 -0.023585   -0.023867   \n",
       "2016-01-27    2.13  11195852.0  39.436620      0.0  0.028986    0.028573   \n",
       "2016-01-28    2.08   7366820.0  43.887147      0.0 -0.023474   -0.023754   \n",
       "2016-01-29    2.20  13464666.0  51.898734      0.0  0.057692    0.056089   \n",
       "...            ...         ...        ...      ...       ...         ...   \n",
       "2024-09-25  162.02  35233264.0  76.639924      1.0  0.023370    0.023101   \n",
       "2024-09-26  167.49  38044919.0  88.751169      1.0  0.033761    0.033204   \n",
       "2024-09-27  164.35  27876037.0  81.116390      1.0 -0.018747   -0.018925   \n",
       "2024-09-30  164.08  21920300.0  78.184713      1.0 -0.001643   -0.001644   \n",
       "2024-10-01  159.75  31831932.0  64.132609      0.0 -0.026390   -0.026744   \n",
       "\n",
       "            volume_change  volume_sqrt      MA5     MA10       EMA12  \\\n",
       "Date                                                                   \n",
       "2016-01-25      -0.204482  3657.635848    1.996    2.120    2.170266   \n",
       "2016-01-26      -0.119884  3431.393594    2.020    2.093    2.154841   \n",
       "2016-01-27      -0.049141  3346.020323    2.086    2.067    2.151019   \n",
       "2016-01-28      -0.342005  2714.188645    2.084    2.050    2.140093   \n",
       "2016-01-29       0.827745  3669.423115    2.120    2.049    2.149310   \n",
       "...                   ...          ...      ...      ...         ...   \n",
       "2024-09-25       0.279758  5935.761451  157.956  154.405  153.713157   \n",
       "2024-09-26       0.079801  6168.056339  160.106  156.077  155.832672   \n",
       "2024-09-27      -0.267286  5279.776226  161.786  157.281  157.143030   \n",
       "2024-09-30      -0.213651  4681.912003  163.252  158.481  158.210256   \n",
       "2024-10-01       0.452167  5641.979440  163.538  159.374  158.447140   \n",
       "\n",
       "                 EMA26      MACD  Signal_Line  Signal  \n",
       "Date                                                   \n",
       "2016-01-25    2.362798  0.192532     0.165283       1  \n",
       "2016-01-26    2.341109  0.186269     0.169480       0  \n",
       "2016-01-27    2.325472  0.174452     0.170475       1  \n",
       "2016-01-28    2.307289  0.167195     0.169819       0  \n",
       "2016-01-29    2.299341  0.150032     0.165861       1  \n",
       "...                ...       ...          ...     ...  \n",
       "2024-09-25  150.563029 -3.150128    -1.460783       1  \n",
       "2024-09-26  151.816879 -4.015793    -1.971785       0  \n",
       "2024-09-27  152.745258 -4.397772    -2.456983       0  \n",
       "2024-09-30  153.584869 -4.625387    -2.890663       0  \n",
       "2024-10-01  154.041545 -4.405595    -3.193650       0  \n",
       "\n",
       "[2187 rows x 15 columns]"
      ]
     },
     "execution_count": 97,
     "metadata": {},
     "output_type": "execute_result"
    }
   ],
   "source": [
    "bars_cls"
   ]
  },
  {
   "cell_type": "code",
   "execution_count": 69,
   "metadata": {
    "tags": []
   },
   "outputs": [
    {
     "data": {
      "text/plain": [
       "[<matplotlib.lines.Line2D at 0x152f7b0d0>]"
      ]
     },
     "execution_count": 69,
     "metadata": {},
     "output_type": "execute_result"
    },
    {
     "data": {
      "image/png": "[encoded data removed]",
      "text/plain": [
       "<Figure size 640x480 with 1 Axes>"
      ]
     },
     "metadata": {},
     "output_type": "display_data"
    }
   ],
   "source": [
    "def rsi(df, window=14):\n",
    "    delta = df.diff().dropna()\n",
    "    part1_gain = (delta.where(delta > 0, 0)).shift(1).rolling(window=window-1).mean()\n",
    "    part2_gain = (delta.where(delta > 0, 0))\n",
    "    gain = (part1_gain * (window-1) + part2_gain)/window\n",
    "    \n",
    "    part1_loss = (-delta.where(delta < 0, 0)).shift(1).rolling(window=window-1).mean()\n",
    "    part2_loss = (-delta.where(delta < 0, 0))\n",
    "    loss = (part1_loss * (window-1) + part2_loss)/window\n",
    "    rs = gain / loss\n",
    "    # df['RSI'] = 100 - (100 / (1 + rs))\n",
    "    return 100 - (100 / (1 + rs))\n",
    "\n",
    "\n",
    "def rsi_cat(df, window):\n",
    "    df1 = rsi(df, window).dropna()\n",
    "    return df1.apply(lambda x: 1 if x > 70 else (-1 if x < 30 else 0))\n",
    "    \n",
    "# rsi_cat(bars_cls['Close_50'], 14)\n",
    "plt.plot(rsi(bars['Close']).dropna())"
   ]
  },
  {
   "cell_type": "markdown",
   "metadata": {},
   "source": [
    "2. Returns"
   ]
  },
  {
   "cell_type": "code",
   "execution_count": null,
   "metadata": {
    "tags": []
   },
   "outputs": [],
   "source": [
    "bars['Close'].pct_change()"
   ]
  },
  {
   "cell_type": "markdown",
   "metadata": {},
   "source": [
    "3. Log Returns (log(1+x))"
   ]
  },
  {
   "cell_type": "code",
   "execution_count": null,
   "metadata": {
    "tags": []
   },
   "outputs": [],
   "source": [
    "np.log(bars['Close'].pct_change()+1)"
   ]
  },
  {
   "cell_type": "markdown",
   "metadata": {},
   "source": [
    "4. Volume Change"
   ]
  },
  {
   "cell_type": "code",
   "execution_count": null,
   "metadata": {
    "tags": []
   },
   "outputs": [],
   "source": [
    "bars['Volume'].pct_change()"
   ]
  },
  {
   "cell_type": "markdown",
   "metadata": {},
   "source": [
    "5. Sqrt Volume"
   ]
  },
  {
   "cell_type": "code",
   "execution_count": null,
   "metadata": {
    "tags": []
   },
   "outputs": [],
   "source": [
    "bars['Volume'].apply(lambda x: np.sqrt(x))"
   ]
  },
  {
   "cell_type": "markdown",
   "metadata": {},
   "source": [
    "6. MA5, MA10"
   ]
  },
  {
   "cell_type": "code",
   "execution_count": null,
   "metadata": {
    "tags": []
   },
   "outputs": [],
   "source": [
    "bars['Close'].rolling(window=5).mean()\n",
    "bars['Close'].rolling(window=10).mean()"
   ]
  },
  {
   "cell_type": "markdown",
   "metadata": {},
   "source": [
    "7. MACD"
   ]
  },
  {
   "cell_type": "code",
   "execution_count": null,
   "metadata": {},
   "outputs": [],
   "source": [
    "exp1 = bars['Close'].ewm(span=12, adjust=False).mean()\n",
    "exp2 = bars['Close'].ewm(span=26, adjust=False).mean()\n",
    "exp1 - exp2"
   ]
  },
  {
   "cell_type": "markdown",
   "metadata": {},
   "source": [
    "##### Training & Testing"
   ]
  },
  {
   "cell_type": "code",
   "execution_count": 74,
   "metadata": {
    "tags": []
   },
   "outputs": [],
   "source": [
    "# X = bars_cls.drop(columns = ['Signal'])\n",
    "# y = bars_cls[\"Signal\"]\n",
    "\n",
    "# # train_test_split \n",
    "# dev_test_split = int(0.8*X.shape[0])\n",
    "# X_dev_df, X_test_df, y_dev_df, y_test_df= X.iloc[:dev_test_split], X.iloc[dev_test_split:], y.iloc[:dev_test_split], y.iloc[dev_test_split:]\n",
    "\n",
    "\n",
    "# train_val_split = int(0.75*X_dev_df.shape[0])\n",
    "# X_train_df, X_val_df, y_train_df, y_val_df = X_dev_df.iloc[:train_val_split], X_dev_df.iloc[train_val_split:], y_dev_df.iloc[:train_val_split], y_dev_df.iloc[train_val_split:]                      "
   ]
  },
  {
   "cell_type": "code",
   "execution_count": 75,
   "metadata": {
    "tags": []
   },
   "outputs": [],
   "source": [
    "# period = 3\n",
    "\n",
    "# full_data = pd.DataFrame()\n",
    "\n",
    "# full_data.index = bars_cls.index\n",
    "\n",
    "# for i in range(1, period + 1):\n",
    "#     for feature in ['Open','High','Low','Close','Volume']: # ['Close','Volume']:\n",
    "#         full_data[f'{feature}_-{i}'] = bars_cls[feature].shift(i)\n",
    "\n",
    "\n",
    "        \n",
    "# full_data['Signal_next'] = bars_cls['Signal'].shift(-1)\n",
    "\n",
    "# full_data.dropna(inplace=True)\n",
    "# full_data.head()"
   ]
  },
  {
   "cell_type": "code",
   "execution_count": null,
   "metadata": {
    "tags": []
   },
   "outputs": [],
   "source": [
    "# X = full_data.drop(columns = ['Signal_next'])\n",
    "# y = full_data[\"Signal_next\"]\n",
    "\n",
    "# # train_test_split \n",
    "# dev_test_split = int(0.8*X.shape[0])\n",
    "# X_dev_df, X_test_df, y_dev_df, y_test_df= X.iloc[:dev_test_split], X.iloc[dev_test_split:], y.iloc[:dev_test_split], y.iloc[dev_test_split:]\n",
    "\n",
    "\n",
    "# train_val_split = int(0.75*X_dev_df.shape[0])\n",
    "# X_train_df, X_val_df, y_train_df, y_val_df = X_dev_df.iloc[:train_val_split], X_dev_df.iloc[train_val_split:], y_dev_df.iloc[:train_val_split], y_dev_df.iloc[train_val_split:]                      "
   ]
  },
  {
   "cell_type": "code",
   "execution_count": 76,
   "metadata": {
    "tags": []
   },
   "outputs": [],
   "source": [
    "# ss = MinMaxScaler()\n",
    "# X_train_scaled = ss.fit_transform(X_train_df)\n",
    "# X_val_scaled = ss.transform(X_val_df)\n",
    "# X_test_scaled = ss.transform(X_test_df)"
   ]
  },
  {
   "cell_type": "code",
   "execution_count": 78,
   "metadata": {},
   "outputs": [
    {
     "data": {
      "text/plain": [
       "1303"
      ]
     },
     "execution_count": 78,
     "metadata": {},
     "output_type": "execute_result"
    }
   ],
   "source": [
    "len(X_train_scaled)"
   ]
  },
  {
   "cell_type": "code",
   "execution_count": 99,
   "metadata": {},
   "outputs": [],
   "source": [
    "from sklearn.model_selection import TimeSeriesSplit\n",
    "from sklearn.metrics import roc_curve, auc"
   ]
  },
  {
   "cell_type": "code",
   "execution_count": 98,
   "metadata": {},
   "outputs": [],
   "source": [
    "X = bars_cls.drop(columns = ['Signal'])\n",
    "y = bars_cls[\"Signal\"]"
   ]
  },
  {
   "cell_type": "code",
   "execution_count": 130,
   "metadata": {
    "tags": []
   },
   "outputs": [
    {
     "name": "stdout",
     "output_type": "stream",
     "text": [
      "Average validation auroc score is 0.7895944698359043\n",
      "Test auroc socre is 0.7993827160493827\n"
     ]
    }
   ],
   "source": [
    "# train_test_split \n",
    "dev_test_split = int(0.8*X.shape[0])\n",
    "X_dev_df, X_test_df, y_dev_df, y_test_df= X.iloc[:dev_test_split].to_numpy(), X.iloc[dev_test_split:].to_numpy(), y.iloc[:dev_test_split].to_numpy(), y.iloc[dev_test_split:].to_numpy()\n",
    "\n",
    "# TimeSeriesSplit cross-validation on the train set\n",
    "tscv = TimeSeriesSplit(n_splits=5)\n",
    "\n",
    "ss = MinMaxScaler()\n",
    "\n",
    "# train_val_split = int(0.75*X_dev_df.shape[0])\n",
    "# X_train_df, X_val_df, y_train_df, y_val_df = X_dev_df.iloc[:train_val_split], X_dev_df.iloc[train_val_split:], y_dev_df.iloc[:train_val_split], y_dev_df.iloc[train_val_split:]   \n",
    "val_time_series_split_score = []\n",
    "for train_idx, val_idx in tscv.split(X_dev_df):\n",
    "    \n",
    "    X_train, X_val, y_train, y_val = X_dev_df[train_idx], X_dev_df[val_idx], y_dev_df[train_idx], y_dev_df[val_idx]\n",
    "    X_train_scaled = ss.fit_transform(X_train)\n",
    "    X_val_scaled = ss.transform(X_val)\n",
    "\n",
    "    clf = LogisticRegression(random_state=42)\n",
    "    clf.fit(X_train_scaled, y_train)\n",
    "    pred_prob = clf.predict_proba(X_val_scaled)\n",
    "    # Assuming pred_prob contains the predicted probabilities for the positive class\n",
    "    y_score = pred_prob[:, 1]\n",
    "    fpr, tpr, thresholds = roc_curve(y_val, y_score)\n",
    "    \n",
    "    # Calculate the AUC\n",
    "    val_time_series_split_score.append(auc(fpr, tpr))\n",
    "\n",
    "print(f\"Average validation auroc score is {np.mean(val_time_series_split_score)}\")"
   ]
  },
  {
   "cell_type": "code",
   "execution_count": 151,
   "metadata": {
    "tags": []
   },
   "outputs": [],
   "source": [
    "# pred_prob"
   ]
  },
  {
   "cell_type": "code",
   "execution_count": 132,
   "metadata": {
    "tags": []
   },
   "outputs": [],
   "source": [
    "import pickle"
   ]
  },
  {
   "cell_type": "code",
   "execution_count": 133,
   "metadata": {
    "tags": []
   },
   "outputs": [],
   "source": [
    "# save the model to disk\n",
    "filename = 'finalized_model.sav'\n",
    "pickle.dump(clf, open(filename, 'wb'))"
   ]
  },
  {
   "cell_type": "code",
   "execution_count": 131,
   "metadata": {
    "tags": []
   },
   "outputs": [
    {
     "data": {
      "image/png": "[encoded data removed]",
      "text/plain": [
       "<Figure size 640x480 with 1 Axes>"
      ]
     },
     "metadata": {},
     "output_type": "display_data"
    }
   ],
   "source": [
    "from sklearn.metrics import roc_curve, auc\n",
    "\n",
    "X_dev_scaled = ss.fit_transform(X_dev_df)\n",
    "X_test_scaled = ss.transform(X_test_df)\n",
    "\n",
    "# clf.fit(X_dev_scaled, y_dev_df)\n",
    "y_score = clf.predict_proba(X_test_scaled)[:, 1]\n",
    "fpr, tpr, thresholds = roc_curve(y_test_df, y_score)\n",
    "# print(f\"Test auroc socre is {auc(fpr, tpr)}\")\n",
    "\n",
    "# Calculate the AUC\n",
    "roc_auc = auc(fpr, tpr)\n",
    "\n",
    "optimal_idx = np.argmax(tpr - fpr)\n",
    "optimal_threshold = thresholds[optimal_idx]\n",
    "optimal_point = (fpr[optimal_idx], tpr[optimal_idx])\n",
    "\n",
    "# Plot the ROC curve\n",
    "fig, ax = plt.subplots()\n",
    "ax.plot(fpr, tpr, color='blue', label=f'ROC curve (AUC = {roc_auc:.3f})')\n",
    "ax.plot([0, 1], [0, 1], color='red', linestyle='--', label='Random Classifier')\n",
    "ax.plot(optimal_point[0], optimal_point[1], 'ro', markersize=6)\n",
    "ax.text(optimal_point[0]-0.15, optimal_point[1]+0.05, f'Optimal threshold: {optimal_threshold:.2f}\\n({optimal_point[0]:.2f}, {optimal_point[1]:.2f})')\n",
    "ax.set_xlim([0.0, 1.0])\n",
    "ax.set_ylim([0.0, 1.05])\n",
    "ax.set_xlabel('False Positive Rate')\n",
    "ax.set_ylabel('True Positive Rate')\n",
    "ax.set_title('Receiver Operating Characteristic (ROC) Curve')\n",
    "ax.legend(loc=\"lower right\")\n",
    "plt.show()"
   ]
  },
  {
   "cell_type": "code",
   "execution_count": null,
   "metadata": {
    "tags": []
   },
   "outputs": [],
   "source": [
    "from sklearn.metrics import roc_curve, auc\n",
    "\n",
    "pred_prob = clf.predict_proba(X_test_scaled)\n",
    "\n",
    "# Assuming pred_prob contains the predicted probabilities for the positive class\n",
    "y_score = pred_prob[:, 1]\n",
    "\n",
    "# Calculate false positive rate, true positive rate, and thresholds\n",
    "fpr, tpr, thresholds = roc_curve(y_test_df, y_score)\n",
    "\n",
    "# Calculate the AUC\n",
    "roc_auc = auc(fpr, tpr)\n",
    "\n",
    "optimal_idx = np.argmax(tpr - fpr)\n",
    "optimal_threshold = thresholds[optimal_idx]\n",
    "optimal_point = (fpr[optimal_idx], tpr[optimal_idx])\n",
    "\n",
    "# Plot the ROC curve\n",
    "fig, ax = plt.subplots()\n",
    "ax.plot(fpr, tpr, color='blue', label=f'ROC curve (AUC = {roc_auc:.3f})')\n",
    "ax.plot([0, 1], [0, 1], color='red', linestyle='--', label='Random Classifier')\n",
    "ax.plot(optimal_point[0], optimal_point[1], 'ro', markersize=6)\n",
    "ax.text(optimal_point[0]-0.15, optimal_point[1]+0.05, f'Optimal threshold: {optimal_threshold:.2f}\\n({optimal_point[0]:.2f}, {optimal_point[1]:.2f})')\n",
    "ax.set_xlim([0.0, 1.0])\n",
    "ax.set_ylim([0.0, 1.05])\n",
    "ax.set_xlabel('False Positive Rate')\n",
    "ax.set_ylabel('True Positive Rate')\n",
    "ax.set_title('Receiver Operating Characteristic (ROC) Curve')\n",
    "ax.legend(loc=\"lower right\")\n",
    "plt.show()"
   ]
  },
  {
   "cell_type": "code",
   "execution_count": null,
   "metadata": {
    "tags": []
   },
   "outputs": [],
   "source": [
    "signals = []\n",
    "for i in range(len(pred_prob)):\n",
    "    if pred_prob[i][1] > 0.38:\n",
    "        signals.append(1)\n",
    "    else:\n",
    "        signals.append(0)\n",
    "signals.head()"
   ]
  },
  {
   "cell_type": "code",
   "execution_count": null,
   "metadata": {
    "tags": []
   },
   "outputs": [],
   "source": [
    "X_test_df"
   ]
  },
  {
   "cell_type": "code",
   "execution_count": 147,
   "metadata": {
    "tags": []
   },
   "outputs": [],
   "source": [
    "signals = pd.DataFrame({'signals': signals}, index=X_test_df.index)"
   ]
  },
  {
   "cell_type": "code",
   "execution_count": null,
   "metadata": {
    "tags": []
   },
   "outputs": [],
   "source": [
    "# signals.shift(1) \n",
    "signals.shift(1)['signals'] * bars_cls['Close'].pct_change()[signals.index]"
   ]
  },
  {
   "cell_type": "code",
   "execution_count": null,
   "metadata": {
    "tags": []
   },
   "outputs": [],
   "source": [
    "Cumulative_Returns = (1 + signals.shift(1)['signals'] * bars_cls['Close'].pct_change()[signals.index]).cumprod()\n",
    "Cumulative_Returns"
   ]
  },
  {
   "cell_type": "code",
   "execution_count": null,
   "metadata": {
    "tags": []
   },
   "outputs": [],
   "source": [
    "plt.figure(figsize=(12,6))\n",
    "plt.plot(X_test_df.index, Cumulative_Returns)\n",
    "plt.title('AMD Investment Return Curve')\n",
    "plt.xlabel('Date')\n",
    "plt.ylabel('Cumulative Returns')\n",
    "plt.show()"
   ]
  },
  {
   "cell_type": "code",
   "execution_count": null,
   "metadata": {
    "tags": []
   },
   "outputs": [],
   "source": [
    "res = []\n",
    "for i in np.linspace(0.4, 0.7, num=100):\n",
    "    pred = pd.DataFrame(pred_prob).apply(lambda x: 1 if x[1] > i else 0, axis=1)\n",
    "#     conf_matrix = confusion_matrix(pred, y_train_df)\n",
    "\n",
    "#     TP = conf_matrix[1, 1]\n",
    "#     TN = conf_matrix[0, 0]\n",
    "#     FP = conf_matrix[0, 1]\n",
    "#     FN = conf_matrix[1, 0]\n",
    "    \n",
    "#     print((TP + TN) / sum(map(sum, conf_matrix)))\n",
    "#     print(accuracy_score(y_train_df, pred))\n",
    "    res.append(accuracy_score(y_test_df, pred))\n",
    "\n",
    "fig = plt.figure()\n",
    "ax = plt.axes()\n",
    "ax.plot(np.linspace(0.4, 0.7, num=100), res)"
   ]
  },
  {
   "cell_type": "code",
   "execution_count": 100,
   "metadata": {
    "tags": []
   },
   "outputs": [],
   "source": [
    "threshold = np.linspace(0.4, 0.7, num=100)[res.index(max(res))]"
   ]
  },
  {
   "cell_type": "code",
   "execution_count": null,
   "metadata": {
    "tags": []
   },
   "outputs": [],
   "source": [
    "pred = pd.DataFrame(pred_prob).apply(lambda x: 1 if x[1] > 0.51 else 0, axis=1)\n",
    "pred"
   ]
  },
  {
   "cell_type": "code",
   "execution_count": 91,
   "metadata": {
    "tags": []
   },
   "outputs": [],
   "source": [
    "from sklearn.metrics import confusion_matrix, accuracy_score"
   ]
  },
  {
   "cell_type": "code",
   "execution_count": 92,
   "metadata": {
    "tags": []
   },
   "outputs": [],
   "source": [
    "conf_matrix = confusion_matrix(pred, y_train_df)\n",
    "\n",
    "TP = conf_matrix[1, 1]\n",
    "TN = conf_matrix[0, 0]\n",
    "FP = conf_matrix[0, 1]\n",
    "FN = conf_matrix[1, 0]"
   ]
  },
  {
   "cell_type": "code",
   "execution_count": null,
   "metadata": {
    "tags": []
   },
   "outputs": [],
   "source": [
    "# Classification Accuracy: Overall, how often is the classifier correct?\n",
    "# use float to perform true division, not integer division\n",
    "print((TP / (TP + FP))) # precision\n",
    "print((TP / (TP + FN))) # recall\n",
    "print(accuracy_score(y_train_df, pred))"
   ]
  },
  {
   "cell_type": "code",
   "execution_count": null,
   "metadata": {
    "tags": []
   },
   "outputs": [],
   "source": [
    "### Code here\n",
    "lgr = LogisticRegression(alpha=0, t=100, eta=1e-3)\n",
    "loss_train = lgr.train(X_train_scaled, np.array(y_train_df.tolist()))\n",
    "\n",
    "loss_train = np.squeeze(loss_train)\n",
    "\n",
    "fig, ax = plt.subplots()\n",
    "ax.plot(range(100), loss_train)\n",
    "ax.set_xlabel('Epochs')\n",
    "ax.set_ylabel('Loss')\n",
    "ax.set_title('Training Loss over Epochs')"
   ]
  },
  {
   "cell_type": "markdown",
   "metadata": {},
   "source": [
    "#### Linear Regression"
   ]
  },
  {
   "cell_type": "code",
   "execution_count": null,
   "metadata": {
    "tags": []
   },
   "outputs": [],
   "source": [
    "### Code here\n",
    "lr = LinearRegression()\n",
    "lr.train(X_train_scaled, y_train_df)\n",
    "\n",
    "# predictions\n",
    "y_pred_train = lr.predict(X_train_scaled)\n",
    "y_pred_val = lr.predict(X_val_scaled)\n",
    "y_pred_test = lr.predict(X_test_scaled)\n",
    "\n",
    "# Export R^2\n",
    "r2_train = r2_score(y_pred_train, y_train_df)\n",
    "r2_val = r2_score(y_pred_val, y_val_df)\n",
    "r2_test = r2_score(y_pred_test, y_test_df)\n",
    "print(f\"R^2 score on training set: {r2_train}\")\n",
    "print(f\"R^2 score on training set: {r2_val}\")\n",
    "print(f\"R^2 score on training set: {r2_test}\")\n",
    "\n",
    "# Get report\n",
    "get_report(y_pred_train, y_train_df)\n",
    "get_report(y_pred_val, y_val_df)\n",
    "get_report(y_pred_test, y_test_df)"
   ]
  },
  {
   "cell_type": "markdown",
   "metadata": {
    "id": "JReT1I4RpERu"
   },
   "source": [
    "# Portfolio"
   ]
  },
  {
   "cell_type": "code",
   "execution_count": 134,
   "metadata": {
    "id": "gCvuxAcS0ZAL",
    "tags": []
   },
   "outputs": [],
   "source": [
    "class MarketOnClosePortfolio(Portfolio):\n",
    "    def __init__(self, symbol, bars, signals, initial_capital=100000.0):\n",
    "        self.symbol = symbol\n",
    "        self.bars = bars\n",
    "        self.signals = signals\n",
    "        self.initial_capital = float(initial_capital)\n",
    "        self.positions = self.generate_positions()\n",
    "\n",
    "    def generate_positions(self):\n",
    "        positions = pd.DataFrame(index=self.bars.index).fillna(0.0)\n",
    "        positions[self.symbol] = 100 * self.signals[\"signal\"]\n",
    "        return positions.cumsum()\n",
    "\n",
    "    def backtest_portfolio(self):\n",
    "        # portfolio = pd.DataFrame({'pos_value': self.positions[self.symbol] * self.bars['Close']})\n",
    "\n",
    "        # pos_diff = self.positions.diff()\n",
    "\n",
    "        # portfolio['holdings'] = self.positions[self.symbol] * self.bars['Close']\n",
    "        # portfolio['cash'] = self.initial_capital - (pos_diff[self.symbol] * self.bars['Close']).cumsum()\n",
    "\n",
    "        # portfolio['total'] = portfolio['cash'] + portfolio['holdings']\n",
    "        # portfolio['returns'] = portfolio['total'].pct_change()\n",
    "\n",
    "        portfolio = pd.DataFrame(index=self.bars.index)\n",
    "        portfolio[\"holdings\"] = self.positions[self.symbol] * self.bars[\"Close\"]\n",
    "        pos_diff = self.positions.diff()\n",
    "        portfolio[\"cash\"] = (\n",
    "            self.initial_capital - (pos_diff[self.symbol] * self.bars[\"Close\"]).cumsum()\n",
    "        )\n",
    "        portfolio[\"total\"] = portfolio[\"cash\"] + portfolio[\"holdings\"]\n",
    "        portfolio[\"returns\"] = portfolio[\"total\"].pct_change()\n",
    "\n",
    "        return portfolio"
   ]
  },
  {
   "cell_type": "code",
   "execution_count": 135,
   "metadata": {
    "id": "NJFx0PhdxgUA",
    "tags": []
   },
   "outputs": [],
   "source": [
    "class MarketOnOpenPortfolio(Portfolio):\n",
    "    \"\"\"Inherits Portfolio to create a system that purchases 100 units of\n",
    "    a particular symbol upon a long/short signal, assuming the market\n",
    "    open price of a bar.\n",
    "\n",
    "    In addition, there are zero transaction costs and cash can be immediately\n",
    "    borrowed for shorting (no margin posting or interest requirements).\n",
    "\n",
    "    Requires:\n",
    "    symbol - A stock symbol which forms the basis of the portfolio.\n",
    "    bars - A DataFrame of bars for a symbol set.\n",
    "    signals - A pandas DataFrame of signals (1, 0, -1) for each symbol.\n",
    "    initial_capital - The amount in cash at the start of the portfolio.\"\"\"\n",
    "\n",
    "    def __init__(self, symbol, bars, signals, risk_ratio=0.05, stop_loss_percent=0.1, initial_capital=100000.0):\n",
    "        self.symbol = symbol\n",
    "        self.bars = bars\n",
    "        self.signals = signals\n",
    "        self.initial_capital = float(initial_capital)\n",
    "        # self.cash = self.initial_capital\n",
    "        self.risk_ratio = risk_ratio\n",
    "        self.stop_loss_percent = stop_loss_percent\n",
    "        self.positions = self.generate_positions()\n",
    "    \n",
    "    def generate_positions(self):\n",
    "        positions = pd.DataFrame(index=self.signals.index, columns=[self.symbol])\n",
    "        positions[self.symbol] = positions[self.symbol].mask(pd.isna(positions[self.symbol]), 0)\n",
    "        equity = [self.initial_capital] # length n\n",
    "        \n",
    "        for i in range(1, len(self.signals)):\n",
    "            signal = self.signals['signal'].iloc[i]\n",
    "            open_price = self.bars[\"Open\"].iloc[i]\n",
    "            prev_open_price = self.bars[\"Open\"].iloc[i-1]\n",
    "\n",
    "#             historical = [abs(j - self.initial_capital) for j in equity[:i]]\n",
    "#             if max(historical) != 0:\n",
    "#                 trade_risk = max(historical)\n",
    "#             else:\n",
    "#                 trade_risk = open_price\n",
    "\n",
    "#             num_of_contract = int(equity[i-1] * self.risk_ratio / trade_risk)\n",
    "            num_of_contract = int(equity[i-1] * self.risk_ratio / (open_price * self.stop_loss_percent))\n",
    "            \n",
    "            \n",
    "\n",
    "            if signal == 1:\n",
    "                positions.iloc[i] = num_of_contract\n",
    "            elif signal == -1:\n",
    "                positions.iloc[i] = 0\n",
    "            else:\n",
    "                positions.iloc[i] = positions.iloc[i-1]\n",
    "\n",
    "            pnl = float(positions.iloc[i-1].values) * (open_price - prev_open_price)\n",
    "            equity.append(equity[i-1] + pnl)\n",
    "\n",
    "        return positions\n",
    "    \n",
    "    \n",
    "    def backtest_portfolio(self):\n",
    "        \"\"\"Constructs a portfolio from the positions DataFrame by\n",
    "        assuming the ability to trade at the precise market open price\n",
    "        of each bar (an unrealistic assumption!).\n",
    "\n",
    "        Calculates the total of cash and the holdings (market price of\n",
    "        each position per bar), in order to generate an equity curve\n",
    "        ('total') and a set of bar-based returns ('returns').\n",
    "\n",
    "        Returns the portfolio object to be used elsewhere.\"\"\"\n",
    "    \n",
    "        portfolio = pd.DataFrame(index=self.bars.index)\n",
    "        portfolio[\"holdings\"] = self.positions[self.symbol] * self.bars[\"Open\"]\n",
    "        pos_diff = self.positions.diff()\n",
    "        portfolio[\"cash\"] = (\n",
    "            self.initial_capital - (pos_diff[self.symbol] * self.bars[\"Open\"]).cumsum()\n",
    "        )\n",
    "        portfolio[\"equity\"] = portfolio[\"cash\"] + portfolio[\"holdings\"]\n",
    "        portfolio[\"returns\"] = portfolio[\"equity\"].pct_change()\n",
    "        print(self.risk_ratio)\n",
    "\n",
    "        return portfolio"
   ]
  },
  {
   "cell_type": "code",
   "execution_count": 136,
   "metadata": {
    "tags": []
   },
   "outputs": [],
   "source": [
    "# initial_capital = 100000\n",
    "# symbol = 'AMD'\n",
    "# positions = pd.DataFrame(index=signals.index, columns=[symbol])\n",
    "# positions[symbol] = positions[symbol].mask(pd.isna(positions[symbol]), 0)\n",
    "# equity = [initial_capital] # length n\n",
    "# risk_ratio = 0.05\n",
    "\n",
    "# for i in range(1, len(signals)):\n",
    "#     signal = signals['signal'].iloc[i]\n",
    "#     open_price = bars[\"Open\"].iloc[i]\n",
    "#     prev_open_price = bars[\"Open\"].iloc[i-1]\n",
    "\n",
    "#     historical = [abs(i - initial_capital) for i in equity[:i]]\n",
    "#     if max(historical) != 0:\n",
    "#         trade_risk = max(historical)\n",
    "#     else:\n",
    "#         trade_risk = open_price\n",
    "    \n",
    "#     num_of_contract = int(equity[i-1] * risk_ratio / trade_risk)\n",
    "\n",
    "#     if signal != 0:\n",
    "#         positions.iloc[i] = num_of_contract\n",
    "\n",
    "#     else:\n",
    "#         positions.iloc[i] = positions.iloc[i-1]\n",
    "\n",
    "#     pnl = positions.iloc[i-1] * (open_price - prev_open_price)\n",
    "#     equity.append(equity[i-1] + pnl)\n",
    "\n",
    "# return positions"
   ]
  },
  {
   "cell_type": "code",
   "execution_count": 137,
   "metadata": {
    "tags": []
   },
   "outputs": [],
   "source": [
    "# initial_capital = 100000\n",
    "# symbol = 'AMD'\n",
    "# positions = pd.DataFrame(index=signals.index, columns=[symbol])\n",
    "# positions[symbol] = positions[symbol].mask(pd.isna(positions[symbol]), 0)\n",
    "# equity = [initial_capital] # length n\n",
    "# risk_ratio = 0.05"
   ]
  },
  {
   "cell_type": "markdown",
   "metadata": {},
   "source": [
    "# Performance"
   ]
  },
  {
   "cell_type": "code",
   "execution_count": 138,
   "metadata": {
    "tags": []
   },
   "outputs": [],
   "source": [
    "def create_sharpe_ratio(returns, risk_free_rate=0, periods=252):\n",
    "    \"\"\"\n",
    "    Create the Sharpe ratio for the strategy, based on a \n",
    "    benchmark of zero (i.e. no risk-free rate information).\n",
    "\n",
    "    Parameters:\n",
    "    returns - A pandas Series representing period percentage returns.\n",
    "    periods - Daily (252), Hourly (252*6.5), Minutely(252*6.5*60) etc.\n",
    "    \"\"\"\n",
    "    return np.sqrt(periods) * (np.mean(returns) - risk_free_rate) / np.std(returns)\n",
    "\n",
    "\n",
    "def create_drawdowns(equity_curve):\n",
    "    \"\"\"\n",
    "    Calculate the largest peak-to-trough drawdown of the PnL curve\n",
    "    as well as the duration of the drawdown. Requires that the \n",
    "    pnl_returns is a pandas Series.\n",
    "\n",
    "    Parameters:\n",
    "    pnl - A pandas Series representing period percentage returns.\n",
    "\n",
    "    Returns:\n",
    "    drawdown, duration - Highest peak-to-trough drawdown and duration.\n",
    "    \"\"\"\n",
    "    \n",
    "    # Calculate the cumulative returns curve \n",
    "    # and set up the High Water Mark\n",
    "    # Then create the drawdown and duration series\n",
    "    hwm = [0]\n",
    "    eq_idx = equity_curve.index\n",
    "    drawdown = pd.Series(index = eq_idx, dtype=float)\n",
    "    duration = pd.Series(index = eq_idx, dtype=float)\n",
    "\n",
    "    # Loop over the index range\n",
    "    for t in range(1, len(eq_idx)):\n",
    "        cur_hwm = max(hwm[t-1], equity_curve[t])\n",
    "        hwm.append(cur_hwm)\n",
    "        drawdown[t]= hwm[t] - equity_curve[t]\n",
    "        duration[t]= 0 if drawdown[t] == 0 else duration[t-1] + 1\n",
    "    return drawdown.max(), duration.max()"
   ]
  },
  {
   "cell_type": "code",
   "execution_count": null,
   "metadata": {
    "tags": []
   },
   "outputs": [],
   "source": []
  },
  {
   "cell_type": "markdown",
   "metadata": {
    "id": "V3bcsOH6jN8b"
   },
   "source": [
    "# Execution"
   ]
  },
  {
   "cell_type": "markdown",
   "metadata": {
    "id": "8evBw8Utp3UF"
   },
   "source": [
    "## Random Strategy Execution"
   ]
  },
  {
   "cell_type": "code",
   "execution_count": 139,
   "metadata": {
    "id": "DJBjdTaEx0pd",
    "tags": []
   },
   "outputs": [
    {
     "name": "stderr",
     "output_type": "stream",
     "text": [
      "[*********************100%***********************]  1 of 1 completed"
     ]
    },
    {
     "name": "stdout",
     "output_type": "stream",
     "text": [
      "0.05\n"
     ]
    },
    {
     "name": "stderr",
     "output_type": "stream",
     "text": [
      "\n",
      "/var/folders/24/_vwy2y0n10scfhkf8kb16hmm0000gn/T/ipykernel_38418/1428518710.py:19: FutureWarning: ChainedAssignmentError: behaviour will change in pandas 3.0!\n",
      "You are setting values through chained assignment. Currently this works in certain cases, but when using Copy-on-Write (which will become the default behaviour in pandas 3.0) this will never work to update the original DataFrame or Series, because the intermediate object on which we are setting values will behave as a copy.\n",
      "A typical example is when you are setting values in a column of a DataFrame, like:\n",
      "\n",
      "df[\"col\"][row_indexer] = value\n",
      "\n",
      "Use `df.loc[row_indexer, \"col\"] = values` instead, to perform the assignment in a single step and ensure this keeps updating the original `df`.\n",
      "\n",
      "See the caveats in the documentation: https://pandas.pydata.org/pandas-docs/stable/user_guide/indexing.html#returning-a-view-versus-a-copy\n",
      "\n",
      "  signals[\"signal\"][0:5] = 0.0\n",
      "/var/folders/24/_vwy2y0n10scfhkf8kb16hmm0000gn/T/ipykernel_38418/966422173.py:53: DeprecationWarning: Conversion of an array with ndim > 0 to a scalar is deprecated, and will error in future. Ensure you extract a single element from your array before performing this operation. (Deprecated NumPy 1.25.)\n",
      "  pnl = float(positions.iloc[i-1].values) * (open_price - prev_open_price)\n",
      "/var/folders/24/_vwy2y0n10scfhkf8kb16hmm0000gn/T/ipykernel_38418/966422173.py:77: FutureWarning: Downcasting object dtype arrays on .fillna, .ffill, .bfill is deprecated and will change in a future version. Call result.infer_objects(copy=False) instead. To opt-in to the future behavior, set `pd.set_option('future.no_silent_downcasting', True)`\n",
      "  portfolio[\"returns\"] = portfolio[\"equity\"].pct_change()\n"
     ]
    }
   ],
   "source": [
    "if __name__ == \"__main__\":\n",
    "    # Obtain daily bars of SPY (ETF that generally\n",
    "    # follows the S&P500) from Quandl (requires 'pip install Quandl'\n",
    "    # on the command line)\n",
    "\n",
    "    # Fetch SPY data\n",
    "    symbol = \"SPY\"\n",
    "    bars = yf.download(symbol, period=\"2y\")  # start='2024-05-01'\n",
    "    bars.index = bars.index.date\n",
    "\n",
    "    # Create a set of random forecasting signals for SPY\n",
    "    rfs = RandomForecastingStrategy(symbol, bars)\n",
    "    signals = rfs.generate_signals()\n",
    "\n",
    "    # Create a portfolio of SPY\n",
    "    portfolio = MarketOnOpenPortfolio(symbol, bars, signals, initial_capital=100000.0)\n",
    "    returns = portfolio.backtest_portfolio()"
   ]
  },
  {
   "cell_type": "markdown",
   "metadata": {
    "id": "4tJJPoKKphUB"
   },
   "source": [
    "## Sentiment Analysis Execution"
   ]
  },
  {
   "cell_type": "code",
   "execution_count": null,
   "metadata": {
    "colab": {
     "base_uri": "https://localhost:8080/",
     "height": 948
    },
    "id": "EfdA1M1agyzP",
    "outputId": "cd717749-73a4-4b84-bae5-a6d33d918ecb"
   },
   "outputs": [],
   "source": [
    "if __name__ == \"__main__\":\n",
    "    symbol = \"AMD\"\n",
    "    bars = yf.download(tickers=symbol, period=\"1mo\")\n",
    "    threshold = 0.2\n",
    "    news_api_key = userdata.get(\"news_api_key\")\n",
    "\n",
    "    senti_analysis = SentimentAnalysisStrategy(symbol, bars, threshold, news_api_key)\n",
    "    signals = senti_analysis.generate_signals()\n",
    "\n",
    "    portfolio = MarketOnClosePortfolio(symbol, bars, signals, initial_capital=100000.0)\n",
    "    returns = portfolio.backtest_portfolio()\n",
    "\n",
    "    fig, ax = plt.subplots(2, 1, figsize=(15, 10), tight_layout=True)\n",
    "    # fig.patch.set_facecolor('white')\n",
    "    ax[0].plot(bars[\"Close\"], label=\"Close\")\n",
    "    ax[0].scatter(\n",
    "        bars[\"Close\"][signals[\"signal\"] == 1.0].index,\n",
    "        bars[\"Close\"][signals[\"signal\"] == 1.0].values,\n",
    "        100,\n",
    "        c=\"green\",\n",
    "        marker=\"^\",\n",
    "        label=\"Buy\",\n",
    "    )\n",
    "    ax[0].scatter(\n",
    "        bars[\"Close\"][signals[\"signal\"] == -1.0].index,\n",
    "        bars[\"Close\"][signals[\"signal\"] == -1.0].values,\n",
    "        100,\n",
    "        c=\"red\",\n",
    "        marker=\"v\",\n",
    "        label=\"Sell\",\n",
    "    )\n",
    "\n",
    "    ax[0].legend()\n",
    "    ax[0].set_title(f\"{symbol} Close price and Sentiment Analysis signals\")\n",
    "    ax[0].set_xlabel(\"Date\")\n",
    "\n",
    "    ax[1].plot(returns[\"total\"], label=\"Portfolio value\")\n",
    "    ax[1].scatter(\n",
    "        returns[signals[\"signal\"] == 1.0].index,\n",
    "        returns[\"total\"][signals[\"signal\"] == 1.0],\n",
    "        s=100,\n",
    "        c=\"green\",\n",
    "        marker=\"^\",\n",
    "        label=\"Buy\",\n",
    "    )\n",
    "    ax[1].scatter(\n",
    "        returns[signals[\"signal\"] == -1.0].index,\n",
    "        returns[\"total\"][signals[\"signal\"] == -1.0],\n",
    "        s=100,\n",
    "        c=\"red\",\n",
    "        marker=\"v\",\n",
    "        label=\"Sell\",\n",
    "    )\n",
    "\n",
    "    ax[1].legend()\n",
    "    ax[1].set_title(f\"Portfolio value corresponding Sentiment Analysis\")\n",
    "    ax[1].set_xlabel(\"Date\")"
   ]
  },
  {
   "cell_type": "markdown",
   "metadata": {
    "id": "BKqfPS9mppno"
   },
   "source": [
    "## Moving Average Crossovers Strategy Execution"
   ]
  },
  {
   "cell_type": "code",
   "execution_count": null,
   "metadata": {
    "tags": []
   },
   "outputs": [],
   "source": [
    "!pip install backtrader"
   ]
  },
  {
   "cell_type": "code",
   "execution_count": 32,
   "metadata": {
    "tags": []
   },
   "outputs": [],
   "source": [
    "from datetime import datetime\n",
    "import backtrader as bt"
   ]
  },
  {
   "cell_type": "code",
   "execution_count": null,
   "metadata": {
    "tags": []
   },
   "outputs": [],
   "source": [
    "bars"
   ]
  },
  {
   "cell_type": "code",
   "execution_count": null,
   "metadata": {
    "tags": []
   },
   "outputs": [],
   "source": [
    "bars.values"
   ]
  },
  {
   "cell_type": "code",
   "execution_count": null,
   "metadata": {
    "tags": []
   },
   "outputs": [],
   "source": [
    "bars0 = pd.DataFrame(index=[pd.Timestamp(i) for i in bars.index])\n",
    "bars0[bars.columns.tolist()] = bars.values\n",
    "bars0"
   ]
  },
  {
   "cell_type": "code",
   "execution_count": 86,
   "metadata": {
    "tags": []
   },
   "outputs": [],
   "source": []
  },
  {
   "cell_type": "code",
   "execution_count": null,
   "metadata": {
    "tags": []
   },
   "outputs": [],
   "source": [
    "%matplotlib inline\n",
    "\n",
    "class SmaCross(bt.SignalStrategy):\n",
    "    def __init__(self):\n",
    "        sma1, sma2 = bt.ind.SMA(period=10), bt.ind.SMA(period=30)\n",
    "        crossover = bt.ind.CrossOver(sma1, sma2)\n",
    "        self.signal_add(bt.SIGNAL_LONG, crossover)\n",
    "\n",
    "cerebro = bt.Cerebro()\n",
    "cerebro.addstrategy(SmaCross)\n",
    "\n",
    "bars0 = pd.DataFrame(index=[pd.Timestamp(i) for i in bars.index])\n",
    "bars0[bars.columns.tolist()] = bars.values\n",
    "data0 = bt.feeds.PandasData(dataname=bars0)\n",
    "bars\n",
    "cerebro.adddata(data0)\n",
    "\n",
    "cerebro.run()\n",
    "cerebro.plot()"
   ]
  },
  {
   "cell_type": "code",
   "execution_count": null,
   "metadata": {
    "tags": []
   },
   "outputs": [],
   "source": [
    "bars.index[0].to_pydatetime()"
   ]
  },
  {
   "cell_type": "code",
   "execution_count": 24,
   "metadata": {
    "tags": []
   },
   "outputs": [],
   "source": [
    "from alpaca.data.timeframe import TimeFrame\n",
    "from alpaca.data.requests import StockBarsRequest\n",
    "from alpaca.data.historical import StockHistoricalDataClient # Create stock historical data client"
   ]
  },
  {
   "cell_type": "code",
   "execution_count": null,
   "metadata": {
    "tags": []
   },
   "outputs": [],
   "source": [
    "bars[\"Close\"]"
   ]
  },
  {
   "cell_type": "code",
   "execution_count": null,
   "metadata": {
    "tags": []
   },
   "outputs": [],
   "source": [
    "signals"
   ]
  },
  {
   "cell_type": "code",
   "execution_count": 56,
   "metadata": {
    "tags": []
   },
   "outputs": [],
   "source": [
    "def backtesting_plot(signals, returns):\n",
    "    \"\"\"\n",
    "    signals: dataframe with column 0/1\n",
    "    returns: dataframe with [[holdings, cash, equity, returns]]\n",
    "    \"\"\"\n",
    "    \n",
    "    # backtesting results\n",
    "    fig, ax = plt.subplots(2, 1, figsize=(15, 10), tight_layout=True)\n",
    "    # fig.patch.set_facecolor('white')\n",
    "    ax[0].plot(bars[\"Close\"], label=\"Close\")\n",
    "    ax[0].scatter(\n",
    "        bars[\"Close\"][signals[\"signal\"] == 1.0].index,\n",
    "        bars[\"Close\"][signals[\"signal\"] == 1.0],\n",
    "        100,\n",
    "        c=\"green\",\n",
    "        marker=\"^\",\n",
    "    ) # buy signals\n",
    "    ax[0].scatter(\n",
    "        bars[\"Close\"][signals[\"signal\"] == -1.0].index,\n",
    "        bars[\"Close\"][signals[\"signal\"] == -1.0],\n",
    "        100,\n",
    "        c=\"red\",\n",
    "        marker=\"v\",\n",
    "    ) # sell signals\n",
    "    \n",
    "    \n",
    "    if \"short_mavg\" in signals.columns:\n",
    "        # Long/short moving average\n",
    "        ax[0].plot(signals[[\"short_mavg\", \"long_mavg\"]], label=[\"short_sma\", \"long_sma\"])\n",
    "        ax[0].set_title(\n",
    "            f\"{symbol} Close price and {short_window}d-SMA and {long_window}d-SMA for {int(len(signals)/252)} years\"\n",
    "        )\n",
    "    else:\n",
    "        ax[0].set_title(\n",
    "            f\"{symbol} Close price for {int(len(signals)/252)} years\"\n",
    "        )\n",
    "    \n",
    "    ax[0].set_xlabel(\"Date\")\n",
    "    ax[0].legend()\n",
    "    \n",
    "    # Equity curve\n",
    "    ax[1].plot(returns[\"equity\"])\n",
    "    ax[1].scatter(\n",
    "        returns[signals[\"signal\"] == 1.0].index,\n",
    "        returns[\"equity\"][signals[\"signal\"] == 1.0],\n",
    "        s=100,\n",
    "        c=\"green\",\n",
    "        marker=\"^\",\n",
    "    )\n",
    "    ax[1].scatter(\n",
    "        returns[signals[\"signal\"] == -1.0].index,\n",
    "        returns[\"equity\"][signals[\"signal\"] == -1.0],\n",
    "        s=100,\n",
    "        c=\"red\",\n",
    "        marker=\"v\",\n",
    "    )"
   ]
  },
  {
   "cell_type": "code",
   "execution_count": null,
   "metadata": {
    "colab": {
     "base_uri": "https://localhost:8080/",
     "height": 948
    },
    "id": "zsBSJDEJ2e_t",
    "outputId": "dd0ad7e7-5c87-4584-c871-1aae21758b84",
    "tags": []
   },
   "outputs": [],
   "source": [
    "if __name__ == \"__main__\":\n",
    "    # symbol = \"AMD\"\n",
    "    # symbol = 'NKE'\n",
    "    symbol = 'NVDA'\n",
    "    \n",
    "    # Load data\n",
    "    # bars = yf.download(tickers=symbol, period=\"10y\")\n",
    "    api_key = \"PK6IRONYS5AQ646ZTDKX\"\n",
    "    api_secret = \"HEYwi2T3MzAmYgednADOq0g6pEjuULcEz0Hbdqg8\"\n",
    "    start_date = \"2014-01-01 00:00:00\"\n",
    "    client = StockHistoricalDataClient(api_key, api_secret)\n",
    "    bars = DataLoader(client).fetch_historical_data(symbol, start_date)\n",
    "    \n",
    "    \n",
    "    short_window, long_window = 50, 100\n",
    "\n",
    "    mac = MovingAverageCrossStrategy(\n",
    "        symbol, bars, short_window=short_window, long_window=long_window\n",
    "    )\n",
    "    signals = mac.generate_signals()\n",
    "\n",
    "    portfolio = MarketOnOpenPortfolio(symbol, bars, signals, risk_ratio=0.05, stop_loss_percent=0.1, initial_capital=100000.0)\n",
    "    returns = portfolio.backtest_portfolio()\n",
    "    \n",
    "\n",
    "    backtesting_plot(signals, returns)"
   ]
  },
  {
   "cell_type": "code",
   "execution_count": null,
   "metadata": {},
   "outputs": [],
   "source": [
    "2016-01-04 05:00:00+00:00"
   ]
  },
  {
   "cell_type": "code",
   "execution_count": null,
   "metadata": {
    "tags": []
   },
   "outputs": [],
   "source": [
    "signals[\"signal\"][signals[\"signal\"] == 1.0]"
   ]
  },
  {
   "cell_type": "code",
   "execution_count": null,
   "metadata": {},
   "outputs": [],
   "source": [
    "signals[signals[\"signal\"] == 1.0]"
   ]
  },
  {
   "cell_type": "code",
   "execution_count": null,
   "metadata": {
    "tags": []
   },
   "outputs": [],
   "source": [
    "np.mean(returns['returns'])"
   ]
  },
  {
   "cell_type": "code",
   "execution_count": null,
   "metadata": {
    "tags": []
   },
   "outputs": [],
   "source": [
    "create_sharpe_ratio(returns['returns'])"
   ]
  },
  {
   "cell_type": "code",
   "execution_count": null,
   "metadata": {
    "tags": []
   },
   "outputs": [],
   "source": [
    "create_drawdowns(returns['returns'])"
   ]
  },
  {
   "cell_type": "code",
   "execution_count": null,
   "metadata": {
    "tags": []
   },
   "outputs": [],
   "source": [
    "len(returns['returns'].dropna().tolist()) / 252"
   ]
  },
  {
   "cell_type": "code",
   "execution_count": null,
   "metadata": {
    "tags": []
   },
   "outputs": [],
   "source": [
    "# Step 1: Calculate the total return over the entire period\n",
    "daily_returns = np.mean(returns['returns'].dropna().tolist())\n",
    "# total_return = np.prod(1 + daily_returns) - 1\n",
    "total_return = returns['equity'][-1] / returns['equity'][1]\n",
    "\n",
    "# Step 2: Calculate the number of years\n",
    "n_years = len(returns['returns'].dropna().tolist()) / 252  # Assuming 252 trading days in a year\n",
    "\n",
    "# Step 3: Calculate the annualized return\n",
    "annualized_return = (1 + total_return) ** (1 / n_years) - 1\n",
    "\n",
    "print(f\"Annualized Return: {annualized_return*100:.2f}%\")"
   ]
  },
  {
   "cell_type": "code",
   "execution_count": null,
   "metadata": {},
   "outputs": [],
   "source": []
  },
  {
   "cell_type": "markdown",
   "metadata": {},
   "source": [
    "## Logistic Regression execution"
   ]
  },
  {
   "cell_type": "code",
   "execution_count": 143,
   "metadata": {},
   "outputs": [],
   "source": [
    "def add_factors2(bars):\n",
    "    bars['rsi'] = rsi(bars['Close'], 14)\n",
    "    bars['rsi_cat'] = rsi_cat(bars['Close'], 14)\n",
    "    \n",
    "    bars['return'] = bars['Close'].pct_change()\n",
    "    bars['log_return'] = np.log(bars['Close'].pct_change()+1)\n",
    "    \n",
    "    bars['volume_change'] = bars['Volume'].pct_change()\n",
    "    bars['volume_sqrt'] = bars['Volume'].apply(lambda x: np.sqrt(x))\n",
    "    \n",
    "    bars['MA5'] = bars['Close'].rolling(window=5).mean()\n",
    "    bars['MA10'] = bars['Close'].rolling(window=10).mean()\n",
    "    \n",
    "    bars['EMA12'] = bars['Close'].ewm(span=12, adjust=False).mean()\n",
    "    bars['EMA26'] = bars['Close'].ewm(span=26, adjust=False).mean()\n",
    "    bars['MACD'] = bars['EMA26'] - bars['EMA12']\n",
    "    bars['Signal_Line'] = bars['MACD'].ewm(span=9, adjust=False).mean()\n",
    "    \n",
    "    return bars"
   ]
  },
  {
   "cell_type": "code",
   "execution_count": 161,
   "metadata": {},
   "outputs": [
    {
     "data": {
      "text/plain": [
       "signal\n",
       "1         1270\n",
       "0          917\n",
       "Name: count, dtype: int64"
      ]
     },
     "execution_count": 161,
     "metadata": {},
     "output_type": "execute_result"
    }
   ],
   "source": [
    "signals.value_counts()"
   ]
  },
  {
   "cell_type": "code",
   "execution_count": 159,
   "metadata": {},
   "outputs": [
    {
     "data": {
      "text/html": [
       "<div>\n",
       "<style scoped>\n",
       "    .dataframe tbody tr th:only-of-type {\n",
       "        vertical-align: middle;\n",
       "    }\n",
       "\n",
       "    .dataframe tbody tr th {\n",
       "        vertical-align: top;\n",
       "    }\n",
       "\n",
       "    .dataframe thead th {\n",
       "        text-align: right;\n",
       "    }\n",
       "</style>\n",
       "<table border=\"1\" class=\"dataframe\">\n",
       "  <thead>\n",
       "    <tr style=\"text-align: right;\">\n",
       "      <th></th>\n",
       "      <th>holdings</th>\n",
       "      <th>cash</th>\n",
       "      <th>equity</th>\n",
       "      <th>returns</th>\n",
       "    </tr>\n",
       "    <tr>\n",
       "      <th>Date</th>\n",
       "      <th></th>\n",
       "      <th></th>\n",
       "      <th></th>\n",
       "      <th></th>\n",
       "    </tr>\n",
       "  </thead>\n",
       "  <tbody>\n",
       "    <tr>\n",
       "      <th>2016-01-27</th>\n",
       "      <td>39283.64</td>\n",
       "      <td>60716.36</td>\n",
       "      <td>100000.0</td>\n",
       "      <td>0.000000</td>\n",
       "    </tr>\n",
       "    <tr>\n",
       "      <th>2016-01-28</th>\n",
       "      <td>40599.36</td>\n",
       "      <td>60716.36</td>\n",
       "      <td>101315.72</td>\n",
       "      <td>0.013157</td>\n",
       "    </tr>\n",
       "    <tr>\n",
       "      <th>2016-01-29</th>\n",
       "      <td>42364.3</td>\n",
       "      <td>57635.7</td>\n",
       "      <td>100000.0</td>\n",
       "      <td>-0.012986</td>\n",
       "    </tr>\n",
       "    <tr>\n",
       "      <th>2016-02-01</th>\n",
       "      <td>43985.9</td>\n",
       "      <td>57635.7</td>\n",
       "      <td>101621.6</td>\n",
       "      <td>0.016216</td>\n",
       "    </tr>\n",
       "    <tr>\n",
       "      <th>2016-02-02</th>\n",
       "      <td>42769.7</td>\n",
       "      <td>57635.7</td>\n",
       "      <td>100405.4</td>\n",
       "      <td>-0.011968</td>\n",
       "    </tr>\n",
       "    <tr>\n",
       "      <th>...</th>\n",
       "      <td>...</td>\n",
       "      <td>...</td>\n",
       "      <td>...</td>\n",
       "      <td>...</td>\n",
       "    </tr>\n",
       "    <tr>\n",
       "      <th>2024-09-25</th>\n",
       "      <td>619893.5</td>\n",
       "      <td>517798.9014</td>\n",
       "      <td>1137692.4014</td>\n",
       "      <td>0.003603</td>\n",
       "    </tr>\n",
       "    <tr>\n",
       "      <th>2024-09-26</th>\n",
       "      <td>645500.52</td>\n",
       "      <td>525650.4864</td>\n",
       "      <td>1171151.0064</td>\n",
       "      <td>0.029409</td>\n",
       "    </tr>\n",
       "    <tr>\n",
       "      <th>2024-09-27</th>\n",
       "      <td>647142.72</td>\n",
       "      <td>525650.4864</td>\n",
       "      <td>1172793.2064</td>\n",
       "      <td>0.001402</td>\n",
       "    </tr>\n",
       "    <tr>\n",
       "      <th>2024-09-30</th>\n",
       "      <td>630218.4</td>\n",
       "      <td>525650.4864</td>\n",
       "      <td>1155868.8864</td>\n",
       "      <td>-0.014431</td>\n",
       "    </tr>\n",
       "    <tr>\n",
       "      <th>2024-10-01</th>\n",
       "      <td>635550.72</td>\n",
       "      <td>525650.4864</td>\n",
       "      <td>1161201.2064</td>\n",
       "      <td>0.004613</td>\n",
       "    </tr>\n",
       "  </tbody>\n",
       "</table>\n",
       "<p>2185 rows × 4 columns</p>\n",
       "</div>"
      ],
      "text/plain": [
       "             holdings         cash        equity   returns\n",
       "Date                                                      \n",
       "2016-01-27   39283.64     60716.36      100000.0  0.000000\n",
       "2016-01-28   40599.36     60716.36     101315.72  0.013157\n",
       "2016-01-29    42364.3      57635.7      100000.0 -0.012986\n",
       "2016-02-01    43985.9      57635.7      101621.6  0.016216\n",
       "2016-02-02    42769.7      57635.7      100405.4 -0.011968\n",
       "...               ...          ...           ...       ...\n",
       "2024-09-25   619893.5  517798.9014  1137692.4014  0.003603\n",
       "2024-09-26  645500.52  525650.4864  1171151.0064  0.029409\n",
       "2024-09-27  647142.72  525650.4864  1172793.2064  0.001402\n",
       "2024-09-30   630218.4  525650.4864  1155868.8864 -0.014431\n",
       "2024-10-01  635550.72  525650.4864  1161201.2064  0.004613\n",
       "\n",
       "[2185 rows x 4 columns]"
      ]
     },
     "execution_count": 159,
     "metadata": {},
     "output_type": "execute_result"
    }
   ],
   "source": [
    "returns"
   ]
  },
  {
   "cell_type": "code",
   "execution_count": 155,
   "metadata": {
    "tags": []
   },
   "outputs": [
    {
     "name": "stderr",
     "output_type": "stream",
     "text": [
      "/var/folders/24/_vwy2y0n10scfhkf8kb16hmm0000gn/T/ipykernel_38418/966422173.py:53: DeprecationWarning: Conversion of an array with ndim > 0 to a scalar is deprecated, and will error in future. Ensure you extract a single element from your array before performing this operation. (Deprecated NumPy 1.25.)\n",
      "  pnl = float(positions.iloc[i-1].values) * (open_price - prev_open_price)\n",
      "/var/folders/24/_vwy2y0n10scfhkf8kb16hmm0000gn/T/ipykernel_38418/966422173.py:77: FutureWarning: Downcasting object dtype arrays on .fillna, .ffill, .bfill is deprecated and will change in a future version. Call result.infer_objects(copy=False) instead. To opt-in to the future behavior, set `pd.set_option('future.no_silent_downcasting', True)`\n",
      "  portfolio[\"returns\"] = portfolio[\"equity\"].pct_change()\n"
     ]
    },
    {
     "name": "stdout",
     "output_type": "stream",
     "text": [
      "0.05\n"
     ]
    },
    {
     "data": {
      "image/png": "[encoded data removed]",
      "text/plain": [
       "<Figure size 1500x1000 with 2 Axes>"
      ]
     },
     "metadata": {},
     "output_type": "display_data"
    }
   ],
   "source": [
    "if __name__ == \"__main__\":\n",
    "    symbol = \"AMD\"\n",
    "    \n",
    "    # Load data\n",
    "    # bars = yf.download(tickers=symbol, period=\"10y\")\n",
    "#     api_key = \"PK6IRONYS5AQ646ZTDKX\"\n",
    "#     api_secret = \"HEYwi2T3MzAmYgednADOq0g6pEjuULcEz0Hbdqg8\"\n",
    "#     client = StockHistoricalDataClient(api_key, api_secret)\n",
    "#     request_params = StockBarsRequest(\n",
    "#                             symbol_or_symbols=[symbol],\n",
    "#                             timeframe=TimeFrame.Day,\n",
    "#                             start=\"2014-01-01 00:00:00\"\n",
    "#                      )\n",
    "#     bars = client.get_stock_bars(request_params)\n",
    "#     bars_df = bars.df\n",
    "\n",
    "#     bars_df = (\n",
    "#         bars_df[['open', 'high', 'low', 'close', 'volume']]\n",
    "#         .reset_index().drop('symbol', axis=1)\n",
    "#     )\n",
    "\n",
    "#     bars = (\n",
    "#         bars_df\n",
    "#         .set_index(pd.to_datetime(bars_df['timestamp']))\n",
    "#         .rename(columns={'open': 'Open', 'high': 'High', 'low': 'Low', 'close': 'Close', 'volume': 'Volume'})\n",
    "#     )\n",
    "\n",
    "#     bars.index = bars.index.strftime('%Y-%m-%d')\n",
    "#     bars.index.name = 'Date'\n",
    "\n",
    "    api_key = \"PK6IRONYS5AQ646ZTDKX\"\n",
    "    api_secret = \"HEYwi2T3MzAmYgednADOq0g6pEjuULcEz0Hbdqg8\"\n",
    "    client = StockHistoricalDataClient(api_key, api_secret)\n",
    "\n",
    "    start_date = \"2014-01-01 00:00:00\"\n",
    "\n",
    "    data_loader = DataLoader(client)\n",
    "    bars = data_loader.fetch_historical_data(symbol, start_date=start_date)\n",
    "    \n",
    "    \n",
    "    period = 14\n",
    "    full_data = bars.copy()[['Close', 'Volume']]\n",
    "    # feature_lst = ['Open', 'High', 'Low', 'Close', 'Volume']\n",
    "    # full_data[feature_lst] = full_data[feature_lst].rolling(period).mean()\n",
    "    # full_data.dropna(inplace=True)\n",
    "\n",
    "    \n",
    "    full_data = add_factors2(full_data)\n",
    "    full_data.dropna(inplace=True)\n",
    "#     full_data = pd.DataFrame()\n",
    "#     full_data.index = bars.index\n",
    "\n",
    "#     for i in range(1, period + 1):\n",
    "#         for feature in ['Open','High','Low','Close','Volume']: # ['Close','Volume']:\n",
    "#             full_data[f'{feature}_-{i}'] = bars[feature].shift(i)\n",
    "\n",
    "#     full_data.dropna(inplace=True)\n",
    "    \n",
    "    clf_pred = pickle.load(open(filename, 'rb'))\n",
    "    threshold = 0.42\n",
    "    lgr = LogisticRegressionStrategy(threshold, symbol, full_data, clf_pred)\n",
    "    signals = lgr.generate_signals()\n",
    "    \n",
    "\n",
    "    portfolio = MarketOnOpenPortfolio(symbol, bars, signals, initial_capital=100000.0)\n",
    "    returns = portfolio.backtest_portfolio()[period:]\n",
    "    \n",
    "    \n",
    "    # backtesting results\n",
    "    fig, ax = plt.subplots(2, 1, figsize=(15, 10), tight_layout=True)\n",
    "    # fig.patch.set_facecolor('white')\n",
    "    ax[0].plot(bars[\"Close\"][period:], label=\"Close\")\n",
    "    ax[0].scatter(\n",
    "        signals[signals[\"signal\"] == 1.0].index,\n",
    "        signals[signals[\"signal\"] == 1.0],\n",
    "        100,\n",
    "        c=\"green\",\n",
    "        marker=\"^\",\n",
    "    )\n",
    "    ax[0].scatter(\n",
    "        signals[signals[\"signal\"] == -1.0].index,\n",
    "        signals[signals[\"signal\"] == -1.0],\n",
    "        100,\n",
    "        c=\"red\",\n",
    "        marker=\"v\",\n",
    "    )\n",
    "    ax[0].legend()\n",
    "    ax[0].set_title(\n",
    "        f\"{symbol} Close price for 10 years\"\n",
    "    )\n",
    "    ax[0].set_xlabel(\"Date\")\n",
    "\n",
    "    ax[1].plot(returns[\"equity\"])\n",
    "    ax[1].scatter(\n",
    "        returns[signals[\"signal\"] == 1.0].index,\n",
    "        returns[\"equity\"][signals[\"signal\"] == 1.0],\n",
    "        s=100,\n",
    "        c=\"green\",\n",
    "        marker=\"^\",\n",
    "    )\n",
    "    ax[1].scatter(\n",
    "        returns[signals[\"signal\"] == -1.0].index,\n",
    "        returns[\"equity\"][signals[\"signal\"] == -1.0],\n",
    "        s=100,\n",
    "        c=\"red\",\n",
    "        marker=\"v\",\n",
    "    )"
   ]
  },
  {
   "cell_type": "code",
   "execution_count": null,
   "metadata": {
    "tags": []
   },
   "outputs": [],
   "source": [
    "portfolio.generate_positions()"
   ]
  },
  {
   "cell_type": "code",
   "execution_count": 156,
   "metadata": {
    "tags": []
   },
   "outputs": [
    {
     "name": "stdout",
     "output_type": "stream",
     "text": [
      "Annualized Return: 33.95%\n"
     ]
    },
    {
     "name": "stderr",
     "output_type": "stream",
     "text": [
      "/var/folders/24/_vwy2y0n10scfhkf8kb16hmm0000gn/T/ipykernel_38418/3677910553.py:4: FutureWarning: Series.__getitem__ treating keys as positions is deprecated. In a future version, integer keys will always be treated as labels (consistent with DataFrame behavior). To access a value by position, use `ser.iloc[pos]`\n",
      "  total_return = returns['equity'][-1] / returns['equity'][1]\n"
     ]
    }
   ],
   "source": [
    "# Step 1: Calculate the total return over the entire period\n",
    "daily_returns = np.mean(returns['returns'].dropna().tolist())\n",
    "# total_return = np.prod(1 + daily_returns) - 1\n",
    "total_return = returns['equity'][-1] / returns['equity'][1]\n",
    "\n",
    "# Step 2: Calculate the number of years\n",
    "n_years = len(returns['returns'].dropna().tolist()) / 252  # Assuming 252 trading days in a year\n",
    "\n",
    "# Step 3: Calculate the annualized return\n",
    "annualized_return = (1 + total_return) ** (1 / n_years) - 1\n",
    "\n",
    "print(f\"Annualized Return: {annualized_return*100:.2f}%\")"
   ]
  },
  {
   "cell_type": "code",
   "execution_count": 168,
   "metadata": {
    "tags": []
   },
   "outputs": [
    {
     "data": {
      "text/plain": [
       "1.0702422180024282"
      ]
     },
     "execution_count": 168,
     "metadata": {},
     "output_type": "execute_result"
    }
   ],
   "source": [
    "(np.mean(returns['returns'].dropna().tolist()) * 252 - 0.02) / (np.std(returns['returns'].dropna().tolist()) * np.sqrt(252))"
   ]
  },
  {
   "cell_type": "code",
   "execution_count": 166,
   "metadata": {
    "tags": []
   },
   "outputs": [
    {
     "data": {
      "text/plain": [
       "19.700986156014924"
      ]
     },
     "execution_count": 166,
     "metadata": {},
     "output_type": "execute_result"
    }
   ],
   "source": [
    "(np.mean(bars['Close'].tolist()) / np.std(bars['Close'].tolist())) * np.sqrt(252)"
   ]
  },
  {
   "cell_type": "code",
   "execution_count": null,
   "metadata": {},
   "outputs": [],
   "source": []
  }
 ],
 "metadata": {
  "colab": {
   "authorship_tag": "ABX9TyN0OdoRm92BLIZYFIZm6iEj",
   "include_colab_link": true,
   "provenance": [],
   "toc_visible": true
  },
  "kernelspec": {
   "display_name": "Python 3",
   "language": "python",
   "name": "python3"
  },
  "language_info": {
   "codemirror_mode": {
    "name": "ipython",
    "version": 3
   },
   "file_extension": ".py",
   "mimetype": "text/x-python",
   "name": "python",
   "nbconvert_exporter": "python",
   "pygments_lexer": "ipython3",
   "version": "3.11.9"
  }
 },
 "nbformat": 4,
 "nbformat_minor": 4
}
