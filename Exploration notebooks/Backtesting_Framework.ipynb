{
 "cells": [
  {
   "cell_type": "markdown",
   "metadata": {
    "id": "GaoXvF4UjC6u"
   },
   "source": [
    "# Import packages"
   ]
  },
  {
   "cell_type": "code",
   "execution_count": 7,
   "metadata": {
    "tags": []
   },
   "outputs": [],
   "source": [
    "!pip install -qU newsapi-python\n",
    "!pip install -qU vaderSentiment\n",
    "!pip install -qU yfinance\n",
    "!pip install -qU alpaca-py"
   ]
  },
  {
   "cell_type": "code",
   "execution_count": 8,
   "metadata": {
    "tags": []
   },
   "outputs": [],
   "source": [
    "# !pip install black[jupyter]\n",
    "## run source activate python3\n",
    "## black Backtesting_Framework.ipynb in terminal"
   ]
  },
  {
   "cell_type": "code",
   "execution_count": 9,
   "metadata": {
    "id": "BLi2PSllFjLq",
    "tags": []
   },
   "outputs": [
    {
     "name": "stderr",
     "output_type": "stream",
     "text": [
      "/home/ec2-user/anaconda3/envs/python3/lib/python3.10/site-packages/seaborn/_statistics.py:32: UserWarning: A NumPy version >=1.23.5 and <2.3.0 is required for this version of SciPy (detected version 1.22.4)\n",
      "  from scipy.stats import gaussian_kde\n"
     ]
    }
   ],
   "source": [
    "import yfinance as yf\n",
    "import numpy as np\n",
    "import pandas as pd\n",
    "import matplotlib.pyplot as plt\n",
    "import seaborn as sns\n",
    "from abc import ABCMeta, abstractmethod\n",
    "import requests\n",
    "from pandas.tseries.offsets import BDay\n",
    "from newsapi import NewsApiClient\n",
    "from vaderSentiment.vaderSentiment import SentimentIntensityAnalyzer\n",
    "import boto3\n",
    "from botocore.exceptions import ClientError\n",
    "import json\n",
    "\n",
    "%matplotlib inline"
   ]
  },
  {
   "cell_type": "markdown",
   "metadata": {},
   "source": [
    "# Dataloader"
   ]
  },
  {
   "cell_type": "code",
   "execution_count": 10,
   "metadata": {
    "tags": []
   },
   "outputs": [],
   "source": [
    "## Load from Alpaca\n",
    "class DataLoader:\n",
    "    def __init__(self, stock_client):\n",
    "        self.stock_client = stock_client\n",
    "        \n",
    "    def fetch_historical_data(self, symbol, start_date=None, end_date=None):\n",
    "        request_params = StockBarsRequest(\n",
    "                                symbol_or_symbols=[symbol],\n",
    "                                timeframe=TimeFrame.Day,\n",
    "                                start=start_date\n",
    "                        )\n",
    "        bars_df = self.stock_client.get_stock_bars(request_params).df\n",
    "\n",
    "        bars_df = (\n",
    "            bars_df[['open', 'high', 'low', 'close', 'volume']]\n",
    "            .reset_index().drop('symbol', axis=1)\n",
    "        )\n",
    "\n",
    "        bars = (\n",
    "            bars_df\n",
    "            .set_index(keys='timestamp', drop=True)\n",
    "            .rename(columns={\n",
    "                'open': 'Open', \n",
    "                'high': 'High', \n",
    "                'low': 'Low', \n",
    "                'close': 'Close', \n",
    "                'volume': 'Volume'\n",
    "                })\n",
    "        )\n",
    "        \n",
    "        # print(bars.index[0].date())\n",
    "        # print(type(bars.index[0]))\n",
    "        # bars.index = bars.index.strftime('%Y-%m-%d')\n",
    "        bars.index = [i.date() for i in bars.index]\n",
    "        bars.index.name = 'Date'\n",
    "\n",
    "        return bars\n",
    "        # return bars_df"
   ]
  },
  {
   "cell_type": "code",
   "execution_count": 11,
   "metadata": {
    "tags": []
   },
   "outputs": [],
   "source": [
    "# DataLoader(client).fetch_historical_data(symbol, start_date)"
   ]
  },
  {
   "cell_type": "markdown",
   "metadata": {
    "id": "JEvpIS8ajFuZ"
   },
   "source": [
    "# Abstract classes"
   ]
  },
  {
   "cell_type": "markdown",
   "metadata": {
    "id": "eVI4kLMnqILg"
   },
   "source": [
    "## Strategy"
   ]
  },
  {
   "cell_type": "code",
   "execution_count": 12,
   "metadata": {
    "id": "dNZ9ht3VsFFm"
   },
   "outputs": [],
   "source": [
    "class Strategy(object):\n",
    "    \"\"\"Strategy is an abstract base class providing an interface for\n",
    "    all subsequent (inherited) trading strategies.\n",
    "\n",
    "    The goal of a (derived) Strategy object is to output a list of signals,\n",
    "    which has the form of a time series indexed pandas DataFrame.\n",
    "\n",
    "    In this instance only a single symbol/instrument is supported.\"\"\"\n",
    "\n",
    "    __metaclass__ = ABCMeta\n",
    "\n",
    "    @abstractmethod\n",
    "    def generate_signals(self):\n",
    "        \"\"\"An implementation is required to return the DataFrame of symbols\n",
    "        containing the signals to go long, short or hold (1, -1 or 0).\"\"\"\n",
    "        raise NotImplementedError(\"Should implement generate_signals()!\")"
   ]
  },
  {
   "cell_type": "markdown",
   "metadata": {
    "id": "0aZKfc2SqJfM"
   },
   "source": [
    "## Portfolio"
   ]
  },
  {
   "cell_type": "code",
   "execution_count": 13,
   "metadata": {
    "id": "OQfykoBgvwve",
    "tags": []
   },
   "outputs": [],
   "source": [
    "class Portfolio(object):\n",
    "    \"\"\"An abstract base class representing a portfolio of\n",
    "    positions (including both instruments and cash), determined\n",
    "    on the basis of a set of signals provided by a Strategy.\"\"\"\n",
    "\n",
    "    __metaclass__ = ABCMeta\n",
    "\n",
    "    @abstractmethod\n",
    "    def generate_positions(self):\n",
    "        \"\"\"Provides the logic to determine how the portfolio\n",
    "        positions are allocated on the basis of forecasting\n",
    "        signals and available cash.\"\"\"\n",
    "        raise NotImplementedError(\"Should implement generate_positions()!\")\n",
    "\n",
    "    @abstractmethod\n",
    "    def backtest_portfolio(self):\n",
    "        \"\"\"Provides the logic to generate the trading orders\n",
    "        and subsequent equity curve (i.e. growth of total equity),\n",
    "        as a sum of holdings and cash, and the bar-period returns\n",
    "        associated with this curve based on the 'positions' DataFrame.\n",
    "\n",
    "        Produces a portfolio object that can be examined by\n",
    "        other classes/functions.\"\"\"\n",
    "        raise NotImplementedError(\"Should implement backtest_portfolio()!\")"
   ]
  },
  {
   "cell_type": "markdown",
   "metadata": {
    "id": "yQk8oiSejIjb"
   },
   "source": [
    "# Strategy subclasses"
   ]
  },
  {
   "cell_type": "markdown",
   "metadata": {
    "id": "r-OVZoUbqDgw"
   },
   "source": [
    "## Random Strategy"
   ]
  },
  {
   "cell_type": "code",
   "execution_count": 14,
   "metadata": {
    "id": "FHOGu63kqAP6"
   },
   "outputs": [],
   "source": [
    "class RandomForecastingStrategy(Strategy):\n",
    "    \"\"\"Derives from Strategy to produce a set of signals that\n",
    "    are randomly generated long/shorts. Clearly a nonsensical\n",
    "    strategy, but perfectly acceptable for demonstrating the\n",
    "    backtesting infrastructure!\"\"\"\n",
    "\n",
    "    def __init__(self, symbol, bars):\n",
    "        \"\"\"Requires the symbol ticker and the pandas DataFrame of bars\"\"\"\n",
    "        self.symbol = symbol\n",
    "        self.bars = bars\n",
    "\n",
    "    def generate_signals(self):\n",
    "        \"\"\"Creates a pandas DataFrame of random signals.\"\"\"\n",
    "        signals = pd.DataFrame(index=self.bars.index)\n",
    "        signals[\"signal\"] = np.sign(np.random.randn(len(signals)))\n",
    "\n",
    "        # The first five elements are set to zero in order to minimise\n",
    "        # upstream NaN errors in the forecaster.\n",
    "        signals[\"signal\"][0:5] = 0.0\n",
    "        return signals"
   ]
  },
  {
   "cell_type": "markdown",
   "metadata": {
    "id": "6pXIRWC2AIVS"
   },
   "source": [
    "## MovingAverageCrossStrategy"
   ]
  },
  {
   "cell_type": "code",
   "execution_count": 15,
   "metadata": {
    "id": "Y0POP9Lcws40",
    "tags": []
   },
   "outputs": [],
   "source": [
    "class MovingAverageCrossStrategy(Strategy):\n",
    "    def __init__(self, symbol, bars, short_window=2, long_window=5):\n",
    "        self.symbol = symbol\n",
    "        self.bars = bars\n",
    "        self.short_window = short_window\n",
    "        self.long_window = long_window\n",
    "\n",
    "    def generate_signals(self):\n",
    "        signals = pd.DataFrame(index=self.bars.index)\n",
    "        signals[\"signal\"] = 0.0\n",
    "\n",
    "        signals[\"short_mavg\"] = (\n",
    "            self.bars[\"Close\"].rolling(self.short_window, min_periods=1).mean()\n",
    "        )\n",
    "        signals[\"long_mavg\"] = (\n",
    "            self.bars[\"Close\"].rolling(self.long_window, min_periods=1).mean()\n",
    "        )\n",
    "\n",
    "        # print(signals['short_mavg'][self.short_window:].shift(1) < signals['long_mavg'][self.short_window:].shift(1))\n",
    "\n",
    "        \n",
    "        signals[\"signal\"][self.short_window :] = np.where(\n",
    "            (\n",
    "                (\n",
    "                    signals[\"short_mavg\"][self.short_window :]\n",
    "                    > signals[\"long_mavg\"][self.short_window :]\n",
    "                )\n",
    "                & (\n",
    "                    signals[\"short_mavg\"][self.short_window :].shift(1)\n",
    "                    < signals[\"long_mavg\"][self.short_window :].shift(1)\n",
    "                )\n",
    "            ),\n",
    "            1.0,\n",
    "            0.0,\n",
    "        )\n",
    "\n",
    "        signals[\"signal\"][self.short_window :] = np.where(\n",
    "            (\n",
    "                (\n",
    "                    signals[\"short_mavg\"][self.short_window :]\n",
    "                    < signals[\"long_mavg\"][self.short_window :]\n",
    "                )\n",
    "                & (\n",
    "                    signals[\"short_mavg\"][self.short_window :].shift(1)\n",
    "                    > signals[\"long_mavg\"][self.short_window :].shift(1)\n",
    "                )\n",
    "            ),\n",
    "            -1.0,\n",
    "            signals[\"signal\"][self.short_window:],\n",
    "        )\n",
    "\n",
    "        # # signals['positions'] = signals['signal'].diff()\n",
    "        # signals['positions'] = signals['signal'].cumsum()\n",
    "\n",
    "        return signals"
   ]
  },
  {
   "cell_type": "markdown",
   "metadata": {
    "id": "t1EyyiM69L1S",
    "tags": []
   },
   "source": [
    "## Sentiment Analysis Strategy"
   ]
  },
  {
   "cell_type": "markdown",
   "metadata": {},
   "source": [
    "### TradingDateCalculator"
   ]
  },
  {
   "cell_type": "code",
   "execution_count": 16,
   "metadata": {
    "id": "u5wIK6Aj7rRH"
   },
   "outputs": [],
   "source": [
    "class TradingDateCalculator:\n",
    "    @staticmethod\n",
    "    def get_trade_open(date):\n",
    "        curr_date_open = pd.to_datetime(date).floor(\"d\").replace(\n",
    "            hour=13, minute=30\n",
    "        ) - BDay(0)\n",
    "        curr_date_close = pd.to_datetime(date).floor(\"d\").replace(\n",
    "            hour=20, minute=0\n",
    "        ) - BDay(0)\n",
    "\n",
    "        prev_date_close = (curr_date_open - BDay()).replace(hour=20, minute=0)\n",
    "        next_date_open = (curr_date_close + BDay()).replace(hour=13, minute=30)\n",
    "\n",
    "        if (pd.to_datetime(date) >= prev_date_close) & (\n",
    "            pd.to_datetime(date) < curr_date_open\n",
    "        ):\n",
    "            return curr_date_open\n",
    "        elif (pd.to_datetime(date) >= curr_date_close) & (\n",
    "            pd.to_datetime(date) < next_date_open\n",
    "        ):\n",
    "            return next_date_open\n",
    "        else:\n",
    "            return None\n",
    "\n",
    "\n",
    "class NewsLoader:\n",
    "    def __init__(self, news_api_key):\n",
    "        self.news_api_key = news_api_key\n",
    "        self.url = \"https://newsapi.org/v2/everything?\"\n",
    "\n",
    "    def load_news(self, symbol, pageSize=100):  # Timeframe,\n",
    "        parameters = {\n",
    "            \"q\": symbol,\n",
    "            \"sortBy\": \"popularity\",\n",
    "            \"pageSize\": pageSize,\n",
    "            \"apiKey\": self.news_api_key,\n",
    "        }\n",
    "\n",
    "        response = requests.get(self.url, params=parameters)\n",
    "        data = pd.DataFrame(response.json())\n",
    "\n",
    "        # Transformation to data for use\n",
    "        news_df = pd.concat([data[\"articles\"].apply(pd.Series)], axis=1)\n",
    "\n",
    "        # This is sentiment analysi regarding to headlines\n",
    "        final_news = news_df[[\"publishedAt\", \"title\"]].copy(deep=True)\n",
    "        final_news[\"publishedAt\"] = pd.to_datetime(final_news[\"publishedAt\"])\n",
    "        final_news = final_news.sort_values(by=\"publishedAt\").reset_index(drop=True)\n",
    "\n",
    "        # Change according to business day\n",
    "        final_news.loc[:, \"trading_time\"] = final_news[\"publishedAt\"].apply(\n",
    "            TradingDateCalculator.get_trade_open\n",
    "        )  # def get_trade_open(date):\n",
    "        final_news = final_news[final_news[\"trading_time\"].notnull()].copy()\n",
    "        final_news.loc[:, \"Date\"] = pd.to_datetime(final_news[\"trading_time\"]).dt.date\n",
    "        final_news = final_news.drop(labels=[\"publishedAt\", \"trading_time\"], axis=1)\n",
    "\n",
    "        return final_news"
   ]
  },
  {
   "cell_type": "markdown",
   "metadata": {},
   "source": [
    "### SentimentAnalysis"
   ]
  },
  {
   "cell_type": "code",
   "execution_count": 17,
   "metadata": {
    "id": "dd5tkiBkDQy9",
    "tags": []
   },
   "outputs": [],
   "source": [
    "class SentimentAnalyzer:\n",
    "    def __init__(self):\n",
    "        self.sentiment_analyzer = SentimentIntensityAnalyzer()\n",
    "\n",
    "    def score_each_article(self, final_news):\n",
    "        cs = []\n",
    "        for idx, row in final_news.iterrows():\n",
    "            cs.append(self.sentiment_analyzer.polarity_scores(row[\"title\"])[\"compound\"])\n",
    "\n",
    "        final_news.loc[:, \"compound_vader_score\"] = cs\n",
    "        article_score = final_news[\n",
    "            (final_news[[\"compound_vader_score\"]] != 0).all(axis=1)\n",
    "        ].reset_index(drop=True)\n",
    "\n",
    "        return article_score\n",
    "\n",
    "    def daily_compound_sentiment_score(self, final_news):\n",
    "        \"\"\"\n",
    "        Input: DataFrame; |publishedAt|title|\n",
    "        Output: DataFrame; |Date|Score|\n",
    "        \"\"\"\n",
    "        article_score = self.score_each_article(final_news)\n",
    "\n",
    "        # Get unique dates\n",
    "        unique_dates = article_score[\"Date\"].unique()\n",
    "        grouped_dates = article_score.groupby([\"Date\"])\n",
    "        keys_dates = list(grouped_dates.groups.keys())\n",
    "\n",
    "        # get max/min score daily\n",
    "        max_cs = []\n",
    "        min_cs = []\n",
    "\n",
    "        for key in keys_dates:\n",
    "            data = grouped_dates.get_group(key)\n",
    "            if data[\"compound_vader_score\"].max() > 0:\n",
    "                max_cs.append(data[\"compound_vader_score\"].max())\n",
    "            elif data[\"compound_vader_score\"].max() < 0:\n",
    "                max_cs.append(0)\n",
    "\n",
    "            if data[\"compound_vader_score\"].min() < 0:\n",
    "                min_cs.append(data[\"compound_vader_score\"].min())\n",
    "            elif data[\"compound_vader_score\"].min() > 0:\n",
    "                min_cs.append(0)\n",
    "\n",
    "        # figure compound socre\n",
    "        extreme_scores_dict = {\n",
    "            \"Date\": keys_dates,\n",
    "            \"max_scores\": max_cs,\n",
    "            \"min_scores\": min_cs,\n",
    "        }\n",
    "        extreme_scores_df = pd.DataFrame(extreme_scores_dict)\n",
    "\n",
    "        final_scores = []\n",
    "        for i in range(len(extreme_scores_df)):\n",
    "            final_scores.append(\n",
    "                extreme_scores_df[\"max_scores\"][i] + extreme_scores_df[\"min_scores\"][i]\n",
    "            )\n",
    "\n",
    "        daily_score = pd.DataFrame({\"Date\": keys_dates, \"Score\": final_scores})\n",
    "\n",
    "        return daily_score"
   ]
  },
  {
   "cell_type": "code",
   "execution_count": 18,
   "metadata": {
    "id": "58FSFAjw9baK"
   },
   "outputs": [],
   "source": [
    "class NewsSentimentAnalysis:\n",
    "    def __init__(self, news_api_key):\n",
    "        self.news_loader = NewsLoader(news_api_key)\n",
    "        self.sentiment_analyzer = SentimentAnalyzer()\n",
    "\n",
    "    def analyze_sentiment(self, symbol, pageSize=100):\n",
    "        final_news = self.news_loader.load_news(symbol, pageSize)\n",
    "        return self.sentiment_analyzer.daily_compound_sentiment_score(final_news)"
   ]
  },
  {
   "cell_type": "markdown",
   "metadata": {},
   "source": [
    "### SentimentAnalysis Strategy"
   ]
  },
  {
   "cell_type": "code",
   "execution_count": 19,
   "metadata": {
    "id": "7Z7R-nQ58GyE"
   },
   "outputs": [],
   "source": [
    "class SentimentAnalysisStrategy(Strategy):\n",
    "    def __init__(self, symbol, bars, threshold, news_api_key):\n",
    "        self.symbol = symbol\n",
    "        self.bars = bars\n",
    "        self.threshold = threshold  # 0.2\n",
    "        self.news_loader = NewsLoader(news_api_key)\n",
    "        self.sentiment_analyzer = SentimentAnalyzer()\n",
    "\n",
    "    def generate_news_signals(self):\n",
    "        score_df = self.sentiment_analyzer.daily_compound_sentiment_score(\n",
    "            self.news_loader.load_news(self.symbol)\n",
    "        )\n",
    "\n",
    "        vader_Buy, vader_Sell = [], []\n",
    "        for i in range(len(score_df)):\n",
    "            if score_df[\"Score\"].values[i] > self.threshold:\n",
    "                # print(f\"Trade Call for {extreme_scores_df['Date'][i]} is Buy.\")\n",
    "                vader_Buy.append(score_df[\"Date\"][i])\n",
    "            elif score_df[\"Score\"].values[i] < -self.threshold:\n",
    "                # print(f\"Trade Call for {extreme_scores_df['Date'][i]} is Sell.\")\n",
    "                vader_Sell.append(score_df[\"Date\"][i])\n",
    "        return vader_Buy, vader_Sell\n",
    "\n",
    "    def generate_signals(self):\n",
    "        signals = pd.DataFrame(index=self.bars.index)\n",
    "        signals[\"signal\"] = 0.0\n",
    "\n",
    "        vader_Buy, vader_Sell = self.generate_news_signals()\n",
    "\n",
    "        for i in range(len(self.bars)):\n",
    "            if self.bars.index[i].date() in vader_Buy:\n",
    "                signals.iloc[i, :] = 1.0\n",
    "\n",
    "        for i in range(len(self.bars)):\n",
    "            if self.bars.index[i].date() in vader_Sell:\n",
    "                signals.iloc[i, :] = -1.0\n",
    "\n",
    "        return signals"
   ]
  },
  {
   "cell_type": "markdown",
   "metadata": {},
   "source": [
    "## Logistic Regression Strategy"
   ]
  },
  {
   "cell_type": "code",
   "execution_count": 20,
   "metadata": {
    "tags": []
   },
   "outputs": [],
   "source": [
    "class LogisticRegressionStrategy(Strategy):\n",
    "    def __init__(self, threshold, symbol, full_bars, model):\n",
    "        self.symbol = symbol\n",
    "        self.bars = full_bars\n",
    "        self.threshold = threshold\n",
    "        self.model = model\n",
    "    \n",
    "    def generate_signals(self):\n",
    "        signals = pd.DataFrame(index=self.bars.index)\n",
    "        # signals[\"signal\"] = 0.0\n",
    "        \n",
    "        ss = MinMaxScaler()\n",
    "        scaled_bars = ss.fit_transform(self.bars)\n",
    "        pred_prob = self.model.predict_proba(np.array(scaled_bars))\n",
    "        signals[\"signal\"] = pd.DataFrame(pred_prob).apply(lambda x: 1 if x[1] > self.threshold else 0, axis=1).tolist()\n",
    "        \n",
    "        return signals"
   ]
  },
  {
   "cell_type": "code",
   "execution_count": 21,
   "metadata": {
    "tags": []
   },
   "outputs": [],
   "source": [
    "# # load the model from disk\n",
    "# clf_pred = pickle.load(open(filename, 'rb'))"
   ]
  },
  {
   "cell_type": "code",
   "execution_count": 22,
   "metadata": {
    "tags": []
   },
   "outputs": [],
   "source": [
    "# pd.DataFrame(pred_prob).apply(lambda x: 1 if x[1] > 0.527 else 0, axis=1).value_counts()"
   ]
  },
  {
   "cell_type": "code",
   "execution_count": 23,
   "metadata": {
    "tags": []
   },
   "outputs": [],
   "source": [
    "# signals = pd.DataFrame(index=full_data.index)\n",
    "# # signals[\"signal\"] = 0.0\n",
    "\n",
    "# ss = MinMaxScaler()\n",
    "# scaled_bars = ss.fit_transform(full_data)\n",
    "# pred_prob = clf_pred.predict_proba(np.array(scaled_bars))\n",
    "# signals[\"signal\"] = pd.DataFrame(pred_prob).apply(lambda x: 1 if x[1] > 0.527 else 0, axis=1).tolist()\n",
    "\n",
    "# signals"
   ]
  },
  {
   "cell_type": "markdown",
   "metadata": {
    "tags": []
   },
   "source": [
    "# ML strategies exploration"
   ]
  },
  {
   "cell_type": "code",
   "execution_count": 24,
   "metadata": {
    "tags": []
   },
   "outputs": [],
   "source": [
    "from alpaca.data.timeframe import TimeFrame\n",
    "from alpaca.data.requests import StockBarsRequest\n",
    "from alpaca.data.historical import StockHistoricalDataClient # Create stock historical data client"
   ]
  },
  {
   "cell_type": "code",
   "execution_count": 25,
   "metadata": {
    "tags": []
   },
   "outputs": [],
   "source": [
    "from sklearn.model_selection import train_test_split\n",
    "from sklearn.preprocessing import StandardScaler, OneHotEncoder, OrdinalEncoder\n",
    "from sklearn.metrics import r2_score, accuracy_score, roc_auc_score\n",
    "from sklearn.compose import make_column_transformer\n",
    "from sklearn.pipeline import make_pipeline\n",
    "from sklearn.model_selection import cross_val_score\n",
    "from sklearn.model_selection import GridSearchCV\n",
    "from sklearn.svm import LinearSVC, SVC\n",
    "from sklearn.preprocessing import StandardScaler, MinMaxScaler\n",
    "from sklearn.linear_model import LogisticRegression"
   ]
  },
  {
   "cell_type": "code",
   "execution_count": 69,
   "metadata": {
    "tags": []
   },
   "outputs": [],
   "source": [
    "symbol = 'AMD'\n",
    "api_key = \"PK6IRONYS5AQ646ZTDKX\"\n",
    "api_secret = \"HEYwi2T3MzAmYgednADOq0g6pEjuULcEz0Hbdqg8\"\n",
    "client = StockHistoricalDataClient(api_key, api_secret)\n",
    "\n",
    "start_date = \"2014-01-01 00:00:00\"\n",
    "\n",
    "data_loader = DataLoader(client)\n",
    "bars = data_loader.fetch_historical_data(symbol, start_date=start_date)"
   ]
  },
  {
   "cell_type": "code",
   "execution_count": 70,
   "metadata": {
    "tags": []
   },
   "outputs": [
    {
     "data": {
      "text/html": [
       "<div>\n",
       "<style scoped>\n",
       "    .dataframe tbody tr th:only-of-type {\n",
       "        vertical-align: middle;\n",
       "    }\n",
       "\n",
       "    .dataframe tbody tr th {\n",
       "        vertical-align: top;\n",
       "    }\n",
       "\n",
       "    .dataframe thead th {\n",
       "        text-align: right;\n",
       "    }\n",
       "</style>\n",
       "<table border=\"1\" class=\"dataframe\">\n",
       "  <thead>\n",
       "    <tr style=\"text-align: right;\">\n",
       "      <th></th>\n",
       "      <th>Open</th>\n",
       "      <th>High</th>\n",
       "      <th>Low</th>\n",
       "      <th>Close</th>\n",
       "      <th>Volume</th>\n",
       "    </tr>\n",
       "    <tr>\n",
       "      <th>Date</th>\n",
       "      <th></th>\n",
       "      <th></th>\n",
       "      <th></th>\n",
       "      <th></th>\n",
       "      <th></th>\n",
       "    </tr>\n",
       "  </thead>\n",
       "  <tbody>\n",
       "    <tr>\n",
       "      <th>2016-01-04</th>\n",
       "      <td>2.77</td>\n",
       "      <td>2.820</td>\n",
       "      <td>2.630</td>\n",
       "      <td>2.7700</td>\n",
       "      <td>33698464.0</td>\n",
       "    </tr>\n",
       "    <tr>\n",
       "      <th>2016-01-05</th>\n",
       "      <td>2.77</td>\n",
       "      <td>2.800</td>\n",
       "      <td>2.640</td>\n",
       "      <td>2.7500</td>\n",
       "      <td>13372522.0</td>\n",
       "    </tr>\n",
       "    <tr>\n",
       "      <th>2016-01-06</th>\n",
       "      <td>2.66</td>\n",
       "      <td>2.710</td>\n",
       "      <td>2.470</td>\n",
       "      <td>2.5050</td>\n",
       "      <td>24280750.0</td>\n",
       "    </tr>\n",
       "    <tr>\n",
       "      <th>2016-01-07</th>\n",
       "      <td>2.43</td>\n",
       "      <td>2.480</td>\n",
       "      <td>2.260</td>\n",
       "      <td>2.2750</td>\n",
       "      <td>22577907.0</td>\n",
       "    </tr>\n",
       "    <tr>\n",
       "      <th>2016-01-08</th>\n",
       "      <td>2.36</td>\n",
       "      <td>2.425</td>\n",
       "      <td>2.100</td>\n",
       "      <td>2.1400</td>\n",
       "      <td>34037306.0</td>\n",
       "    </tr>\n",
       "    <tr>\n",
       "      <th>...</th>\n",
       "      <td>...</td>\n",
       "      <td>...</td>\n",
       "      <td>...</td>\n",
       "      <td>...</td>\n",
       "      <td>...</td>\n",
       "    </tr>\n",
       "    <tr>\n",
       "      <th>2024-09-12</th>\n",
       "      <td>148.43</td>\n",
       "      <td>151.540</td>\n",
       "      <td>147.650</td>\n",
       "      <td>150.7700</td>\n",
       "      <td>29286166.0</td>\n",
       "    </tr>\n",
       "    <tr>\n",
       "      <th>2024-09-13</th>\n",
       "      <td>152.32</td>\n",
       "      <td>153.030</td>\n",
       "      <td>150.700</td>\n",
       "      <td>152.3100</td>\n",
       "      <td>25117241.0</td>\n",
       "    </tr>\n",
       "    <tr>\n",
       "      <th>2024-09-16</th>\n",
       "      <td>151.70</td>\n",
       "      <td>154.440</td>\n",
       "      <td>150.912</td>\n",
       "      <td>152.0800</td>\n",
       "      <td>27677761.0</td>\n",
       "    </tr>\n",
       "    <tr>\n",
       "      <th>2024-09-17</th>\n",
       "      <td>153.55</td>\n",
       "      <td>154.045</td>\n",
       "      <td>149.225</td>\n",
       "      <td>150.8200</td>\n",
       "      <td>29888994.0</td>\n",
       "    </tr>\n",
       "    <tr>\n",
       "      <th>2024-09-18</th>\n",
       "      <td>150.90</td>\n",
       "      <td>151.110</td>\n",
       "      <td>148.810</td>\n",
       "      <td>150.2099</td>\n",
       "      <td>12096249.0</td>\n",
       "    </tr>\n",
       "  </tbody>\n",
       "</table>\n",
       "<p>2192 rows × 5 columns</p>\n",
       "</div>"
      ],
      "text/plain": [
       "              Open     High      Low     Close      Volume\n",
       "Date                                                      \n",
       "2016-01-04    2.77    2.820    2.630    2.7700  33698464.0\n",
       "2016-01-05    2.77    2.800    2.640    2.7500  13372522.0\n",
       "2016-01-06    2.66    2.710    2.470    2.5050  24280750.0\n",
       "2016-01-07    2.43    2.480    2.260    2.2750  22577907.0\n",
       "2016-01-08    2.36    2.425    2.100    2.1400  34037306.0\n",
       "...            ...      ...      ...       ...         ...\n",
       "2024-09-12  148.43  151.540  147.650  150.7700  29286166.0\n",
       "2024-09-13  152.32  153.030  150.700  152.3100  25117241.0\n",
       "2024-09-16  151.70  154.440  150.912  152.0800  27677761.0\n",
       "2024-09-17  153.55  154.045  149.225  150.8200  29888994.0\n",
       "2024-09-18  150.90  151.110  148.810  150.2099  12096249.0\n",
       "\n",
       "[2192 rows x 5 columns]"
      ]
     },
     "execution_count": 70,
     "metadata": {},
     "output_type": "execute_result"
    }
   ],
   "source": [
    "bars"
   ]
  },
  {
   "cell_type": "code",
   "execution_count": 71,
   "metadata": {
    "tags": []
   },
   "outputs": [],
   "source": [
    "delta = 0.015\n",
    "bars_cls = bars.copy()\n",
    "bars_cls['Signal'] = [int(row['High'] >= (1 + delta) * row['Open']) for idx, row in bars_cls.iterrows()]"
   ]
  },
  {
   "cell_type": "code",
   "execution_count": 72,
   "metadata": {
    "tags": []
   },
   "outputs": [
    {
     "data": {
      "text/html": [
       "<div>\n",
       "<style scoped>\n",
       "    .dataframe tbody tr th:only-of-type {\n",
       "        vertical-align: middle;\n",
       "    }\n",
       "\n",
       "    .dataframe tbody tr th {\n",
       "        vertical-align: top;\n",
       "    }\n",
       "\n",
       "    .dataframe thead th {\n",
       "        text-align: right;\n",
       "    }\n",
       "</style>\n",
       "<table border=\"1\" class=\"dataframe\">\n",
       "  <thead>\n",
       "    <tr style=\"text-align: right;\">\n",
       "      <th></th>\n",
       "      <th>Open</th>\n",
       "      <th>High</th>\n",
       "      <th>Low</th>\n",
       "      <th>Close</th>\n",
       "      <th>Volume</th>\n",
       "      <th>Signal</th>\n",
       "    </tr>\n",
       "    <tr>\n",
       "      <th>Date</th>\n",
       "      <th></th>\n",
       "      <th></th>\n",
       "      <th></th>\n",
       "      <th></th>\n",
       "      <th></th>\n",
       "      <th></th>\n",
       "    </tr>\n",
       "  </thead>\n",
       "  <tbody>\n",
       "    <tr>\n",
       "      <th>2016-01-04</th>\n",
       "      <td>2.77</td>\n",
       "      <td>2.820</td>\n",
       "      <td>2.630</td>\n",
       "      <td>2.7700</td>\n",
       "      <td>33698464.0</td>\n",
       "      <td>1</td>\n",
       "    </tr>\n",
       "    <tr>\n",
       "      <th>2016-01-05</th>\n",
       "      <td>2.77</td>\n",
       "      <td>2.800</td>\n",
       "      <td>2.640</td>\n",
       "      <td>2.7500</td>\n",
       "      <td>13372522.0</td>\n",
       "      <td>0</td>\n",
       "    </tr>\n",
       "    <tr>\n",
       "      <th>2016-01-06</th>\n",
       "      <td>2.66</td>\n",
       "      <td>2.710</td>\n",
       "      <td>2.470</td>\n",
       "      <td>2.5050</td>\n",
       "      <td>24280750.0</td>\n",
       "      <td>1</td>\n",
       "    </tr>\n",
       "    <tr>\n",
       "      <th>2016-01-07</th>\n",
       "      <td>2.43</td>\n",
       "      <td>2.480</td>\n",
       "      <td>2.260</td>\n",
       "      <td>2.2750</td>\n",
       "      <td>22577907.0</td>\n",
       "      <td>1</td>\n",
       "    </tr>\n",
       "    <tr>\n",
       "      <th>2016-01-08</th>\n",
       "      <td>2.36</td>\n",
       "      <td>2.425</td>\n",
       "      <td>2.100</td>\n",
       "      <td>2.1400</td>\n",
       "      <td>34037306.0</td>\n",
       "      <td>1</td>\n",
       "    </tr>\n",
       "    <tr>\n",
       "      <th>...</th>\n",
       "      <td>...</td>\n",
       "      <td>...</td>\n",
       "      <td>...</td>\n",
       "      <td>...</td>\n",
       "      <td>...</td>\n",
       "      <td>...</td>\n",
       "    </tr>\n",
       "    <tr>\n",
       "      <th>2024-09-12</th>\n",
       "      <td>148.43</td>\n",
       "      <td>151.540</td>\n",
       "      <td>147.650</td>\n",
       "      <td>150.7700</td>\n",
       "      <td>29286166.0</td>\n",
       "      <td>1</td>\n",
       "    </tr>\n",
       "    <tr>\n",
       "      <th>2024-09-13</th>\n",
       "      <td>152.32</td>\n",
       "      <td>153.030</td>\n",
       "      <td>150.700</td>\n",
       "      <td>152.3100</td>\n",
       "      <td>25117241.0</td>\n",
       "      <td>0</td>\n",
       "    </tr>\n",
       "    <tr>\n",
       "      <th>2024-09-16</th>\n",
       "      <td>151.70</td>\n",
       "      <td>154.440</td>\n",
       "      <td>150.912</td>\n",
       "      <td>152.0800</td>\n",
       "      <td>27677761.0</td>\n",
       "      <td>1</td>\n",
       "    </tr>\n",
       "    <tr>\n",
       "      <th>2024-09-17</th>\n",
       "      <td>153.55</td>\n",
       "      <td>154.045</td>\n",
       "      <td>149.225</td>\n",
       "      <td>150.8200</td>\n",
       "      <td>29888994.0</td>\n",
       "      <td>0</td>\n",
       "    </tr>\n",
       "    <tr>\n",
       "      <th>2024-09-18</th>\n",
       "      <td>150.90</td>\n",
       "      <td>151.110</td>\n",
       "      <td>148.810</td>\n",
       "      <td>150.2099</td>\n",
       "      <td>12096249.0</td>\n",
       "      <td>0</td>\n",
       "    </tr>\n",
       "  </tbody>\n",
       "</table>\n",
       "<p>2192 rows × 6 columns</p>\n",
       "</div>"
      ],
      "text/plain": [
       "              Open     High      Low     Close      Volume  Signal\n",
       "Date                                                              \n",
       "2016-01-04    2.77    2.820    2.630    2.7700  33698464.0       1\n",
       "2016-01-05    2.77    2.800    2.640    2.7500  13372522.0       0\n",
       "2016-01-06    2.66    2.710    2.470    2.5050  24280750.0       1\n",
       "2016-01-07    2.43    2.480    2.260    2.2750  22577907.0       1\n",
       "2016-01-08    2.36    2.425    2.100    2.1400  34037306.0       1\n",
       "...            ...      ...      ...       ...         ...     ...\n",
       "2024-09-12  148.43  151.540  147.650  150.7700  29286166.0       1\n",
       "2024-09-13  152.32  153.030  150.700  152.3100  25117241.0       0\n",
       "2024-09-16  151.70  154.440  150.912  152.0800  27677761.0       1\n",
       "2024-09-17  153.55  154.045  149.225  150.8200  29888994.0       0\n",
       "2024-09-18  150.90  151.110  148.810  150.2099  12096249.0       0\n",
       "\n",
       "[2192 rows x 6 columns]"
      ]
     },
     "execution_count": 72,
     "metadata": {},
     "output_type": "execute_result"
    }
   ],
   "source": [
    "# bars_cls['Signal'].value_counts()\n",
    "bars_cls"
   ]
  },
  {
   "cell_type": "markdown",
   "metadata": {},
   "source": [
    "#### Logistic Regression\n",
    "\n",
    "* 1 - Appropriate outcome type (Must be categorical)\n",
    "\n",
    "* 2 - Linearity of independent variables and log odds\n",
    "\n",
    "* 3 - No strongly influential outliers\n",
    "\n",
    "* 4 - Absence of multicollinearity\n",
    "\n",
    "* 5 - Independence of observations\n",
    "\n",
    "* 6 - Sufficiently large sample size"
   ]
  },
  {
   "cell_type": "code",
   "execution_count": 73,
   "metadata": {
    "tags": []
   },
   "outputs": [],
   "source": [
    "period = 50\n",
    "feature_lst = ['Open', 'High', 'Low', 'Close']\n",
    "for feature in feature_lst:\n",
    "    bars_cls[feature] = bars_cls[feature].rolling(period).mean()\n",
    "    bars_cls.rename(columns={feature: f'{feature}_{period}'}, inplace=True)\n",
    "\n",
    "bars_cls.dropna(inplace=True)"
   ]
  },
  {
   "cell_type": "code",
   "execution_count": 74,
   "metadata": {
    "tags": []
   },
   "outputs": [
    {
     "data": {
      "text/html": [
       "<div>\n",
       "<style scoped>\n",
       "    .dataframe tbody tr th:only-of-type {\n",
       "        vertical-align: middle;\n",
       "    }\n",
       "\n",
       "    .dataframe tbody tr th {\n",
       "        vertical-align: top;\n",
       "    }\n",
       "\n",
       "    .dataframe thead th {\n",
       "        text-align: right;\n",
       "    }\n",
       "</style>\n",
       "<table border=\"1\" class=\"dataframe\">\n",
       "  <thead>\n",
       "    <tr style=\"text-align: right;\">\n",
       "      <th></th>\n",
       "      <th>Open_50</th>\n",
       "      <th>High_50</th>\n",
       "      <th>Low_50</th>\n",
       "      <th>Close_50</th>\n",
       "      <th>Volume</th>\n",
       "      <th>Signal</th>\n",
       "    </tr>\n",
       "    <tr>\n",
       "      <th>Date</th>\n",
       "      <th></th>\n",
       "      <th></th>\n",
       "      <th></th>\n",
       "      <th></th>\n",
       "      <th></th>\n",
       "      <th></th>\n",
       "    </tr>\n",
       "  </thead>\n",
       "  <tbody>\n",
       "    <tr>\n",
       "      <th>2016-03-15</th>\n",
       "      <td>2.1646</td>\n",
       "      <td>2.240600</td>\n",
       "      <td>2.085600</td>\n",
       "      <td>2.157800</td>\n",
       "      <td>21961851.0</td>\n",
       "      <td>0</td>\n",
       "    </tr>\n",
       "    <tr>\n",
       "      <th>2016-03-16</th>\n",
       "      <td>2.1592</td>\n",
       "      <td>2.237000</td>\n",
       "      <td>2.082800</td>\n",
       "      <td>2.155000</td>\n",
       "      <td>13397577.0</td>\n",
       "      <td>1</td>\n",
       "    </tr>\n",
       "    <tr>\n",
       "      <th>2016-03-17</th>\n",
       "      <td>2.1592</td>\n",
       "      <td>2.237200</td>\n",
       "      <td>2.084000</td>\n",
       "      <td>2.156000</td>\n",
       "      <td>29553221.0</td>\n",
       "      <td>0</td>\n",
       "    </tr>\n",
       "    <tr>\n",
       "      <th>2016-03-18</th>\n",
       "      <td>2.1620</td>\n",
       "      <td>2.241600</td>\n",
       "      <td>2.090000</td>\n",
       "      <td>2.164500</td>\n",
       "      <td>29824090.0</td>\n",
       "      <td>1</td>\n",
       "    </tr>\n",
       "    <tr>\n",
       "      <th>2016-03-21</th>\n",
       "      <td>2.1714</td>\n",
       "      <td>2.250000</td>\n",
       "      <td>2.099800</td>\n",
       "      <td>2.175000</td>\n",
       "      <td>14153242.0</td>\n",
       "      <td>0</td>\n",
       "    </tr>\n",
       "    <tr>\n",
       "      <th>...</th>\n",
       "      <td>...</td>\n",
       "      <td>...</td>\n",
       "      <td>...</td>\n",
       "      <td>...</td>\n",
       "      <td>...</td>\n",
       "      <td>...</td>\n",
       "    </tr>\n",
       "    <tr>\n",
       "      <th>2024-09-12</th>\n",
       "      <td>151.0895</td>\n",
       "      <td>154.014538</td>\n",
       "      <td>147.209804</td>\n",
       "      <td>150.258000</td>\n",
       "      <td>29286166.0</td>\n",
       "      <td>1</td>\n",
       "    </tr>\n",
       "    <tr>\n",
       "      <th>2024-09-13</th>\n",
       "      <td>150.8519</td>\n",
       "      <td>153.769938</td>\n",
       "      <td>146.973604</td>\n",
       "      <td>150.026200</td>\n",
       "      <td>25117241.0</td>\n",
       "      <td>0</td>\n",
       "    </tr>\n",
       "    <tr>\n",
       "      <th>2024-09-16</th>\n",
       "      <td>150.5665</td>\n",
       "      <td>153.377946</td>\n",
       "      <td>146.678244</td>\n",
       "      <td>149.629800</td>\n",
       "      <td>27677761.0</td>\n",
       "      <td>1</td>\n",
       "    </tr>\n",
       "    <tr>\n",
       "      <th>2024-09-17</th>\n",
       "      <td>150.1395</td>\n",
       "      <td>152.879846</td>\n",
       "      <td>146.198344</td>\n",
       "      <td>149.072400</td>\n",
       "      <td>29888994.0</td>\n",
       "      <td>0</td>\n",
       "    </tr>\n",
       "    <tr>\n",
       "      <th>2024-09-18</th>\n",
       "      <td>149.5981</td>\n",
       "      <td>152.293846</td>\n",
       "      <td>145.680544</td>\n",
       "      <td>148.534598</td>\n",
       "      <td>12096249.0</td>\n",
       "      <td>0</td>\n",
       "    </tr>\n",
       "  </tbody>\n",
       "</table>\n",
       "<p>2143 rows × 6 columns</p>\n",
       "</div>"
      ],
      "text/plain": [
       "             Open_50     High_50      Low_50    Close_50      Volume  Signal\n",
       "Date                                                                        \n",
       "2016-03-15    2.1646    2.240600    2.085600    2.157800  21961851.0       0\n",
       "2016-03-16    2.1592    2.237000    2.082800    2.155000  13397577.0       1\n",
       "2016-03-17    2.1592    2.237200    2.084000    2.156000  29553221.0       0\n",
       "2016-03-18    2.1620    2.241600    2.090000    2.164500  29824090.0       1\n",
       "2016-03-21    2.1714    2.250000    2.099800    2.175000  14153242.0       0\n",
       "...              ...         ...         ...         ...         ...     ...\n",
       "2024-09-12  151.0895  154.014538  147.209804  150.258000  29286166.0       1\n",
       "2024-09-13  150.8519  153.769938  146.973604  150.026200  25117241.0       0\n",
       "2024-09-16  150.5665  153.377946  146.678244  149.629800  27677761.0       1\n",
       "2024-09-17  150.1395  152.879846  146.198344  149.072400  29888994.0       0\n",
       "2024-09-18  149.5981  152.293846  145.680544  148.534598  12096249.0       0\n",
       "\n",
       "[2143 rows x 6 columns]"
      ]
     },
     "execution_count": 74,
     "metadata": {},
     "output_type": "execute_result"
    }
   ],
   "source": [
    "bars_cls"
   ]
  },
  {
   "cell_type": "markdown",
   "metadata": {},
   "source": [
    "##### Assumption 2: Linear independence"
   ]
  },
  {
   "cell_type": "code",
   "execution_count": 32,
   "metadata": {
    "tags": []
   },
   "outputs": [],
   "source": [
    "bars_cls_linear = bars_cls.copy()\n",
    "bars_cls_linear['Volume'] = bars_cls_linear['Volume'].apply(lambda x: np.sqrt(x))\n",
    "for feature in bars_cls_linear.columns[:-1].tolist():\n",
    "    bars_cls_linear[f'{feature}Log{feature}'] = bars_cls_linear[[feature]].apply(lambda x: x*np.log(x))"
   ]
  },
  {
   "cell_type": "markdown",
   "metadata": {},
   "source": [
    "Change Volume to sqrt(Volume) will keep linear relationship"
   ]
  },
  {
   "cell_type": "code",
   "execution_count": 33,
   "metadata": {
    "tags": []
   },
   "outputs": [
    {
     "data": {
      "text/html": [
       "<div>\n",
       "<style scoped>\n",
       "    .dataframe tbody tr th:only-of-type {\n",
       "        vertical-align: middle;\n",
       "    }\n",
       "\n",
       "    .dataframe tbody tr th {\n",
       "        vertical-align: top;\n",
       "    }\n",
       "\n",
       "    .dataframe thead th {\n",
       "        text-align: right;\n",
       "    }\n",
       "</style>\n",
       "<table border=\"1\" class=\"dataframe\">\n",
       "  <thead>\n",
       "    <tr style=\"text-align: right;\">\n",
       "      <th></th>\n",
       "      <th>Open_50</th>\n",
       "      <th>High_50</th>\n",
       "      <th>Low_50</th>\n",
       "      <th>Close_50</th>\n",
       "      <th>Volume</th>\n",
       "      <th>Signal</th>\n",
       "      <th>Open_50LogOpen_50</th>\n",
       "      <th>High_50LogHigh_50</th>\n",
       "      <th>Low_50LogLow_50</th>\n",
       "      <th>Close_50LogClose_50</th>\n",
       "      <th>VolumeLogVolume</th>\n",
       "    </tr>\n",
       "    <tr>\n",
       "      <th>Date</th>\n",
       "      <th></th>\n",
       "      <th></th>\n",
       "      <th></th>\n",
       "      <th></th>\n",
       "      <th></th>\n",
       "      <th></th>\n",
       "      <th></th>\n",
       "      <th></th>\n",
       "      <th></th>\n",
       "      <th></th>\n",
       "      <th></th>\n",
       "    </tr>\n",
       "  </thead>\n",
       "  <tbody>\n",
       "    <tr>\n",
       "      <th>2016-03-15</th>\n",
       "      <td>2.1646</td>\n",
       "      <td>2.240600</td>\n",
       "      <td>2.085600</td>\n",
       "      <td>2.1578</td>\n",
       "      <td>0.221095</td>\n",
       "      <td>0</td>\n",
       "      <td>1.671581</td>\n",
       "      <td>1.807590</td>\n",
       "      <td>1.533034</td>\n",
       "      <td>1.659541</td>\n",
       "      <td>0.196211</td>\n",
       "    </tr>\n",
       "    <tr>\n",
       "      <th>2016-03-16</th>\n",
       "      <td>2.1592</td>\n",
       "      <td>2.237000</td>\n",
       "      <td>2.082800</td>\n",
       "      <td>2.1550</td>\n",
       "      <td>0.161584</td>\n",
       "      <td>1</td>\n",
       "      <td>1.662018</td>\n",
       "      <td>1.801089</td>\n",
       "      <td>1.528178</td>\n",
       "      <td>1.654589</td>\n",
       "      <td>0.140431</td>\n",
       "    </tr>\n",
       "    <tr>\n",
       "      <th>2016-03-17</th>\n",
       "      <td>2.1592</td>\n",
       "      <td>2.237200</td>\n",
       "      <td>2.084000</td>\n",
       "      <td>2.1560</td>\n",
       "      <td>0.264590</td>\n",
       "      <td>0</td>\n",
       "      <td>1.662018</td>\n",
       "      <td>1.801450</td>\n",
       "      <td>1.530259</td>\n",
       "      <td>1.656357</td>\n",
       "      <td>0.237829</td>\n",
       "    </tr>\n",
       "    <tr>\n",
       "      <th>2016-03-18</th>\n",
       "      <td>2.1620</td>\n",
       "      <td>2.241600</td>\n",
       "      <td>2.090000</td>\n",
       "      <td>2.1645</td>\n",
       "      <td>0.266032</td>\n",
       "      <td>1</td>\n",
       "      <td>1.666975</td>\n",
       "      <td>1.809397</td>\n",
       "      <td>1.540673</td>\n",
       "      <td>1.671404</td>\n",
       "      <td>0.239219</td>\n",
       "    </tr>\n",
       "    <tr>\n",
       "      <th>2016-03-21</th>\n",
       "      <td>2.1714</td>\n",
       "      <td>2.250000</td>\n",
       "      <td>2.099800</td>\n",
       "      <td>2.1750</td>\n",
       "      <td>0.167489</td>\n",
       "      <td>0</td>\n",
       "      <td>1.683643</td>\n",
       "      <td>1.824593</td>\n",
       "      <td>1.557720</td>\n",
       "      <td>1.690037</td>\n",
       "      <td>0.145898</td>\n",
       "    </tr>\n",
       "    <tr>\n",
       "      <th>...</th>\n",
       "      <td>...</td>\n",
       "      <td>...</td>\n",
       "      <td>...</td>\n",
       "      <td>...</td>\n",
       "      <td>...</td>\n",
       "      <td>...</td>\n",
       "      <td>...</td>\n",
       "      <td>...</td>\n",
       "      <td>...</td>\n",
       "      <td>...</td>\n",
       "      <td>...</td>\n",
       "    </tr>\n",
       "    <tr>\n",
       "      <th>2024-09-12</th>\n",
       "      <td>151.0895</td>\n",
       "      <td>154.014538</td>\n",
       "      <td>147.209804</td>\n",
       "      <td>150.2580</td>\n",
       "      <td>0.263162</td>\n",
       "      <td>1</td>\n",
       "      <td>758.147828</td>\n",
       "      <td>775.778467</td>\n",
       "      <td>734.850557</td>\n",
       "      <td>753.146260</td>\n",
       "      <td>0.236453</td>\n",
       "    </tr>\n",
       "    <tr>\n",
       "      <th>2024-09-13</th>\n",
       "      <td>150.8519</td>\n",
       "      <td>153.769938</td>\n",
       "      <td>146.973604</td>\n",
       "      <td>150.0262</td>\n",
       "      <td>0.239965</td>\n",
       "      <td>0</td>\n",
       "      <td>756.718169</td>\n",
       "      <td>774.301999</td>\n",
       "      <td>733.435469</td>\n",
       "      <td>751.752775</td>\n",
       "      <td>0.214187</td>\n",
       "    </tr>\n",
       "    <tr>\n",
       "      <th>2024-09-16</th>\n",
       "      <td>150.5665</td>\n",
       "      <td>153.377946</td>\n",
       "      <td>146.678244</td>\n",
       "      <td>149.6298</td>\n",
       "      <td>0.254422</td>\n",
       "      <td>1</td>\n",
       "      <td>755.001387</td>\n",
       "      <td>771.936648</td>\n",
       "      <td>731.666485</td>\n",
       "      <td>749.370614</td>\n",
       "      <td>0.228042</td>\n",
       "    </tr>\n",
       "    <tr>\n",
       "      <th>2024-09-17</th>\n",
       "      <td>150.1395</td>\n",
       "      <td>152.879846</td>\n",
       "      <td>146.198344</td>\n",
       "      <td>149.0724</td>\n",
       "      <td>0.266376</td>\n",
       "      <td>0</td>\n",
       "      <td>752.433843</td>\n",
       "      <td>768.932468</td>\n",
       "      <td>728.793514</td>\n",
       "      <td>746.022703</td>\n",
       "      <td>0.239551</td>\n",
       "    </tr>\n",
       "    <tr>\n",
       "      <th>2024-09-18</th>\n",
       "      <td>149.5981</td>\n",
       "      <td>152.293846</td>\n",
       "      <td>145.680544</td>\n",
       "      <td>148.5424</td>\n",
       "      <td>0.147391</td>\n",
       "      <td>0</td>\n",
       "      <td>749.180159</td>\n",
       "      <td>765.400216</td>\n",
       "      <td>725.695417</td>\n",
       "      <td>742.841297</td>\n",
       "      <td>0.127360</td>\n",
       "    </tr>\n",
       "  </tbody>\n",
       "</table>\n",
       "<p>2143 rows × 11 columns</p>\n",
       "</div>"
      ],
      "text/plain": [
       "             Open_50     High_50      Low_50  Close_50    Volume  Signal  \\\n",
       "Date                                                                       \n",
       "2016-03-15    2.1646    2.240600    2.085600    2.1578  0.221095       0   \n",
       "2016-03-16    2.1592    2.237000    2.082800    2.1550  0.161584       1   \n",
       "2016-03-17    2.1592    2.237200    2.084000    2.1560  0.264590       0   \n",
       "2016-03-18    2.1620    2.241600    2.090000    2.1645  0.266032       1   \n",
       "2016-03-21    2.1714    2.250000    2.099800    2.1750  0.167489       0   \n",
       "...              ...         ...         ...       ...       ...     ...   \n",
       "2024-09-12  151.0895  154.014538  147.209804  150.2580  0.263162       1   \n",
       "2024-09-13  150.8519  153.769938  146.973604  150.0262  0.239965       0   \n",
       "2024-09-16  150.5665  153.377946  146.678244  149.6298  0.254422       1   \n",
       "2024-09-17  150.1395  152.879846  146.198344  149.0724  0.266376       0   \n",
       "2024-09-18  149.5981  152.293846  145.680544  148.5424  0.147391       0   \n",
       "\n",
       "            Open_50LogOpen_50  High_50LogHigh_50  Low_50LogLow_50  \\\n",
       "Date                                                                \n",
       "2016-03-15           1.671581           1.807590         1.533034   \n",
       "2016-03-16           1.662018           1.801089         1.528178   \n",
       "2016-03-17           1.662018           1.801450         1.530259   \n",
       "2016-03-18           1.666975           1.809397         1.540673   \n",
       "2016-03-21           1.683643           1.824593         1.557720   \n",
       "...                       ...                ...              ...   \n",
       "2024-09-12         758.147828         775.778467       734.850557   \n",
       "2024-09-13         756.718169         774.301999       733.435469   \n",
       "2024-09-16         755.001387         771.936648       731.666485   \n",
       "2024-09-17         752.433843         768.932468       728.793514   \n",
       "2024-09-18         749.180159         765.400216       725.695417   \n",
       "\n",
       "            Close_50LogClose_50  VolumeLogVolume  \n",
       "Date                                              \n",
       "2016-03-15             1.659541         0.196211  \n",
       "2016-03-16             1.654589         0.140431  \n",
       "2016-03-17             1.656357         0.237829  \n",
       "2016-03-18             1.671404         0.239219  \n",
       "2016-03-21             1.690037         0.145898  \n",
       "...                         ...              ...  \n",
       "2024-09-12           753.146260         0.236453  \n",
       "2024-09-13           751.752775         0.214187  \n",
       "2024-09-16           749.370614         0.228042  \n",
       "2024-09-17           746.022703         0.239551  \n",
       "2024-09-18           742.841297         0.127360  \n",
       "\n",
       "[2143 rows x 11 columns]"
      ]
     },
     "execution_count": 33,
     "metadata": {},
     "output_type": "execute_result"
    }
   ],
   "source": [
    "bars_cls_linear['Volume'] = (bars_cls_linear['Volume'] - min(bars_cls_linear['Volume'])) / (max(bars_cls_linear['Volume']) - min(bars_cls_linear['Volume']))\n",
    "bars_cls_linear['VolumeLogVolume'] = (bars_cls_linear['VolumeLogVolume'] - min(bars_cls_linear['VolumeLogVolume'])) / (max(bars_cls_linear['VolumeLogVolume']) - min(bars_cls_linear['VolumeLogVolume']))\n",
    "bars_cls_linear"
   ]
  },
  {
   "cell_type": "code",
   "execution_count": 35,
   "metadata": {
    "tags": []
   },
   "outputs": [
    {
     "name": "stdout",
     "output_type": "stream",
     "text": [
      "Optimization terminated successfully.\n",
      "         Current function value: 0.665684\n",
      "         Iterations 6\n",
      "                           Logit Regression Results                           \n",
      "==============================================================================\n",
      "Dep. Variable:                 Signal   No. Observations:                 2143\n",
      "Model:                          Logit   Df Residuals:                     2132\n",
      "Method:                           MLE   Df Model:                           10\n",
      "Date:                Wed, 18 Sep 2024   Pseudo R-squ.:                 0.03956\n",
      "Time:                        17:35:40   Log-Likelihood:                -1426.6\n",
      "converged:                       True   LL-Null:                       -1485.3\n",
      "Covariance Type:            nonrobust   LLR p-value:                 1.623e-20\n",
      "=======================================================================================\n",
      "                          coef    std err          z      P>|z|      [0.025      0.975]\n",
      "---------------------------------------------------------------------------------------\n",
      "Intercept              -1.6061      0.619     -2.596      0.009      -2.819      -0.393\n",
      "Open_50                -7.9987      7.076     -1.130      0.258     -21.868       5.870\n",
      "High_50                -1.1365      6.857     -0.166      0.868     -14.576      12.303\n",
      "Low_50                 -3.3818      6.094     -0.555      0.579     -15.326       8.562\n",
      "Close_50               12.4323      6.657      1.867      0.062      -0.616      25.481\n",
      "Volume                 25.0896     20.996      1.195      0.232     -16.062      66.241\n",
      "Open_50LogOpen_50       1.2136      1.278      0.950      0.342      -1.291       3.718\n",
      "High_50LogHigh_50       0.3530      1.234      0.286      0.775      -2.065       2.771\n",
      "Low_50LogLow_50         0.7271      1.098      0.662      0.508      -1.424       2.878\n",
      "Close_50LogClose_50    -2.2773      1.185     -1.922      0.055      -4.600       0.045\n",
      "VolumeLogVolume       -21.4783     20.876     -1.029      0.304     -62.394      19.437\n",
      "=======================================================================================\n"
     ]
    }
   ],
   "source": [
    "import statsmodels.formula.api as smf\n",
    "\n",
    "# Perform Box-Tidwell test\n",
    "formula = \"Signal ~ \" + \" + \".join(bars_cls_linear.drop(['Signal'], axis=1).columns.tolist())\n",
    "model = smf.logit(formula=formula, data=bars_cls_linear).fit()\n",
    "print(model.summary())"
   ]
  },
  {
   "cell_type": "code",
   "execution_count": 36,
   "metadata": {
    "tags": []
   },
   "outputs": [],
   "source": [
    "from statsmodels.genmod.generalized_linear_model import GLM\n",
    "from statsmodels.genmod import families"
   ]
  },
  {
   "cell_type": "code",
   "execution_count": 37,
   "metadata": {
    "tags": []
   },
   "outputs": [],
   "source": [
    "logit_results = LogisticRegression(random_state=42, max_iter=1000).fit(bars_cls_linear.iloc[:, :5], bars_cls_linear['Signal'])\n",
    "predicted = logit_results.predict_proba(bars_cls_linear.iloc[:, :5])[:, 1]\n",
    "\n",
    "# Get log odds values\n",
    "log_odds = np.log(predicted / (1 - predicted))"
   ]
  },
  {
   "cell_type": "markdown",
   "metadata": {},
   "source": [
    "Right now, the Volume is linear related to the dependent variable."
   ]
  },
  {
   "cell_type": "code",
   "execution_count": 38,
   "metadata": {
    "tags": []
   },
   "outputs": [
    {
     "data": {
      "image/png": "[encoded data removed]",
      "text/plain": [
       "<Figure size 640x480 with 1 Axes>"
      ]
     },
     "metadata": {},
     "output_type": "display_data"
    }
   ],
   "source": [
    "# Visualize predictor continuous variable vs logit values (Age)\n",
    "plt.scatter(x = bars_cls_linear['Close_50'].values, y = log_odds);\n",
    "plt.show()"
   ]
  },
  {
   "cell_type": "markdown",
   "metadata": {},
   "source": [
    "##### Assumption 4: Multicollinearity and Independence"
   ]
  },
  {
   "cell_type": "code",
   "execution_count": 39,
   "metadata": {
    "tags": []
   },
   "outputs": [],
   "source": [
    "from statsmodels.stats.outliers_influence import variance_inflation_factor"
   ]
  },
  {
   "cell_type": "code",
   "execution_count": 40,
   "metadata": {
    "tags": []
   },
   "outputs": [
    {
     "data": {
      "text/html": [
       "<div>\n",
       "<style scoped>\n",
       "    .dataframe tbody tr th:only-of-type {\n",
       "        vertical-align: middle;\n",
       "    }\n",
       "\n",
       "    .dataframe tbody tr th {\n",
       "        vertical-align: top;\n",
       "    }\n",
       "\n",
       "    .dataframe thead th {\n",
       "        text-align: right;\n",
       "    }\n",
       "</style>\n",
       "<table border=\"1\" class=\"dataframe\">\n",
       "  <thead>\n",
       "    <tr style=\"text-align: right;\">\n",
       "      <th></th>\n",
       "      <th>Open_50</th>\n",
       "      <th>High_50</th>\n",
       "      <th>Low_50</th>\n",
       "      <th>Close_50</th>\n",
       "      <th>Volume</th>\n",
       "      <th>Signal</th>\n",
       "    </tr>\n",
       "    <tr>\n",
       "      <th>Date</th>\n",
       "      <th></th>\n",
       "      <th></th>\n",
       "      <th></th>\n",
       "      <th></th>\n",
       "      <th></th>\n",
       "      <th></th>\n",
       "    </tr>\n",
       "  </thead>\n",
       "  <tbody>\n",
       "    <tr>\n",
       "      <th>2016-03-15</th>\n",
       "      <td>2.1646</td>\n",
       "      <td>2.240600</td>\n",
       "      <td>2.085600</td>\n",
       "      <td>2.1578</td>\n",
       "      <td>0.221095</td>\n",
       "      <td>0</td>\n",
       "    </tr>\n",
       "    <tr>\n",
       "      <th>2016-03-16</th>\n",
       "      <td>2.1592</td>\n",
       "      <td>2.237000</td>\n",
       "      <td>2.082800</td>\n",
       "      <td>2.1550</td>\n",
       "      <td>0.161584</td>\n",
       "      <td>1</td>\n",
       "    </tr>\n",
       "    <tr>\n",
       "      <th>2016-03-17</th>\n",
       "      <td>2.1592</td>\n",
       "      <td>2.237200</td>\n",
       "      <td>2.084000</td>\n",
       "      <td>2.1560</td>\n",
       "      <td>0.264590</td>\n",
       "      <td>0</td>\n",
       "    </tr>\n",
       "    <tr>\n",
       "      <th>2016-03-18</th>\n",
       "      <td>2.1620</td>\n",
       "      <td>2.241600</td>\n",
       "      <td>2.090000</td>\n",
       "      <td>2.1645</td>\n",
       "      <td>0.266032</td>\n",
       "      <td>1</td>\n",
       "    </tr>\n",
       "    <tr>\n",
       "      <th>2016-03-21</th>\n",
       "      <td>2.1714</td>\n",
       "      <td>2.250000</td>\n",
       "      <td>2.099800</td>\n",
       "      <td>2.1750</td>\n",
       "      <td>0.167489</td>\n",
       "      <td>0</td>\n",
       "    </tr>\n",
       "    <tr>\n",
       "      <th>...</th>\n",
       "      <td>...</td>\n",
       "      <td>...</td>\n",
       "      <td>...</td>\n",
       "      <td>...</td>\n",
       "      <td>...</td>\n",
       "      <td>...</td>\n",
       "    </tr>\n",
       "    <tr>\n",
       "      <th>2024-09-12</th>\n",
       "      <td>151.0895</td>\n",
       "      <td>154.014538</td>\n",
       "      <td>147.209804</td>\n",
       "      <td>150.2580</td>\n",
       "      <td>0.263162</td>\n",
       "      <td>1</td>\n",
       "    </tr>\n",
       "    <tr>\n",
       "      <th>2024-09-13</th>\n",
       "      <td>150.8519</td>\n",
       "      <td>153.769938</td>\n",
       "      <td>146.973604</td>\n",
       "      <td>150.0262</td>\n",
       "      <td>0.239965</td>\n",
       "      <td>0</td>\n",
       "    </tr>\n",
       "    <tr>\n",
       "      <th>2024-09-16</th>\n",
       "      <td>150.5665</td>\n",
       "      <td>153.377946</td>\n",
       "      <td>146.678244</td>\n",
       "      <td>149.6298</td>\n",
       "      <td>0.254422</td>\n",
       "      <td>1</td>\n",
       "    </tr>\n",
       "    <tr>\n",
       "      <th>2024-09-17</th>\n",
       "      <td>150.1395</td>\n",
       "      <td>152.879846</td>\n",
       "      <td>146.198344</td>\n",
       "      <td>149.0724</td>\n",
       "      <td>0.266376</td>\n",
       "      <td>0</td>\n",
       "    </tr>\n",
       "    <tr>\n",
       "      <th>2024-09-18</th>\n",
       "      <td>149.5981</td>\n",
       "      <td>152.293846</td>\n",
       "      <td>145.680544</td>\n",
       "      <td>148.5424</td>\n",
       "      <td>0.147391</td>\n",
       "      <td>0</td>\n",
       "    </tr>\n",
       "  </tbody>\n",
       "</table>\n",
       "<p>2143 rows × 6 columns</p>\n",
       "</div>"
      ],
      "text/plain": [
       "             Open_50     High_50      Low_50  Close_50    Volume  Signal\n",
       "Date                                                                    \n",
       "2016-03-15    2.1646    2.240600    2.085600    2.1578  0.221095       0\n",
       "2016-03-16    2.1592    2.237000    2.082800    2.1550  0.161584       1\n",
       "2016-03-17    2.1592    2.237200    2.084000    2.1560  0.264590       0\n",
       "2016-03-18    2.1620    2.241600    2.090000    2.1645  0.266032       1\n",
       "2016-03-21    2.1714    2.250000    2.099800    2.1750  0.167489       0\n",
       "...              ...         ...         ...       ...       ...     ...\n",
       "2024-09-12  151.0895  154.014538  147.209804  150.2580  0.263162       1\n",
       "2024-09-13  150.8519  153.769938  146.973604  150.0262  0.239965       0\n",
       "2024-09-16  150.5665  153.377946  146.678244  149.6298  0.254422       1\n",
       "2024-09-17  150.1395  152.879846  146.198344  149.0724  0.266376       0\n",
       "2024-09-18  149.5981  152.293846  145.680544  148.5424  0.147391       0\n",
       "\n",
       "[2143 rows x 6 columns]"
      ]
     },
     "execution_count": 40,
     "metadata": {},
     "output_type": "execute_result"
    }
   ],
   "source": [
    "bars_cls_linear.iloc[:, :6]"
   ]
  },
  {
   "cell_type": "code",
   "execution_count": 41,
   "metadata": {
    "tags": []
   },
   "outputs": [
    {
     "data": {
      "text/html": [
       "<div>\n",
       "<style scoped>\n",
       "    .dataframe tbody tr th:only-of-type {\n",
       "        vertical-align: middle;\n",
       "    }\n",
       "\n",
       "    .dataframe tbody tr th {\n",
       "        vertical-align: top;\n",
       "    }\n",
       "\n",
       "    .dataframe thead th {\n",
       "        text-align: right;\n",
       "    }\n",
       "</style>\n",
       "<table border=\"1\" class=\"dataframe\">\n",
       "  <thead>\n",
       "    <tr style=\"text-align: right;\">\n",
       "      <th></th>\n",
       "      <th>variables</th>\n",
       "      <th>VIF</th>\n",
       "    </tr>\n",
       "  </thead>\n",
       "  <tbody>\n",
       "    <tr>\n",
       "      <th>0</th>\n",
       "      <td>Open_50</td>\n",
       "      <td>542233.957861</td>\n",
       "    </tr>\n",
       "    <tr>\n",
       "      <th>1</th>\n",
       "      <td>High_50</td>\n",
       "      <td>598550.746720</td>\n",
       "    </tr>\n",
       "    <tr>\n",
       "      <th>2</th>\n",
       "      <td>Low_50</td>\n",
       "      <td>494226.798398</td>\n",
       "    </tr>\n",
       "    <tr>\n",
       "      <th>3</th>\n",
       "      <td>Close_50</td>\n",
       "      <td>667210.511532</td>\n",
       "    </tr>\n",
       "    <tr>\n",
       "      <th>4</th>\n",
       "      <td>Volume</td>\n",
       "      <td>3.702530</td>\n",
       "    </tr>\n",
       "    <tr>\n",
       "      <th>5</th>\n",
       "      <td>Signal</td>\n",
       "      <td>2.079127</td>\n",
       "    </tr>\n",
       "  </tbody>\n",
       "</table>\n",
       "</div>"
      ],
      "text/plain": [
       "  variables            VIF\n",
       "0   Open_50  542233.957861\n",
       "1   High_50  598550.746720\n",
       "2    Low_50  494226.798398\n",
       "3  Close_50  667210.511532\n",
       "4    Volume       3.702530\n",
       "5    Signal       2.079127"
      ]
     },
     "execution_count": 41,
     "metadata": {},
     "output_type": "execute_result"
    }
   ],
   "source": [
    "# Use variance inflation factor to identify any significant multi-collinearity\n",
    "def calc_vif(df):\n",
    "    vif = pd.DataFrame()\n",
    "    vif[\"variables\"] = df.columns\n",
    "    vif[\"VIF\"] = [variance_inflation_factor(df.values, i) for i in range(df.shape[1])]\n",
    "    return(vif)\n",
    "\n",
    "calc_vif(bars_cls_linear.iloc[:, :6])"
   ]
  },
  {
   "cell_type": "markdown",
   "metadata": {},
   "source": [
    "##### Add input vars\n",
    "\n",
    "RSI, MACD, Bollinger Bands"
   ]
  },
  {
   "cell_type": "code",
   "execution_count": 67,
   "metadata": {
    "tags": []
   },
   "outputs": [],
   "source": [
    "def rsi(df, window):\n",
    "    delta = df.diff().dropna()\n",
    "    part1_gain = (delta.where(delta > 0, 0)).shift(1).rolling(window=window-1).mean()\n",
    "    part2_gain = (delta.where(delta > 0, 0))\n",
    "    gain = (part1_gain * (window-1) + part2_gain)/window\n",
    "    \n",
    "    part1_loss = (-delta.where(delta < 0, 0)).shift(1).rolling(window=window-1).mean()\n",
    "    part2_loss = (-delta.where(delta < 0, 0))\n",
    "    loss = (part1_loss * (window-1) + part2_loss)/window\n",
    "    rs = gain / loss\n",
    "    # df['RSI'] = 100 - (100 / (1 + rs))\n",
    "    return 100 - (100 / (1 + rs))\n",
    "\n",
    "\n",
    "def rsi_cat(df, window):\n",
    "    df1 = rsi(df, window).dropna()\n",
    "    return df1.apply(lambda x: 1 if x > 70 else (-1 if x < 30 else 0))"
   ]
  },
  {
   "cell_type": "code",
   "execution_count": 100,
   "metadata": {
    "tags": []
   },
   "outputs": [],
   "source": [
    "def add_factors(bars):\n",
    "    bars['rsi'] = rsi(bars['Close'])\n",
    "    bars['rsi_cat'] = rsi_cat(bars['Close'], 14)\n",
    "    \n",
    "    bars['return'] = bars['Close'].pct_change()\n",
    "    bars['log_return'] = np.log(bars['Close'].pct_change()+1)\n",
    "    \n",
    "    bars['volume_change'] = bars['Volume'].pct_change()\n",
    "    bars['volume_sqrt'] = bars['Volume'].apply(lambda x: np.sqrt(x))\n",
    "    \n",
    "    bars['MA5'] = bars['Close'].rolling(window=5).mean()\n",
    "    bars['MA10'] = bars['Close'].rolling(window=10).mean()\n",
    "    \n",
    "    bars['EMA12'] = bars['Close'].ewm(span=12, adjust=False).mean()\n",
    "    bars['EMA26'] = bars['Close'].ewm(span=26, adjust=False).mean()\n",
    "    bars['MACD'] = bars['EMA26'] - bars['EMA12']\n",
    "    bars['Signal_Line'] = bars['MACD'].ewm(span=9, adjust=False).mean()\n",
    "    \n",
    "    cols = bars.columns.tolist()\n",
    "    cols.remove('Signal')\n",
    "    cols.append('Signal')\n",
    "    bars = bars[cols]\n",
    "    \n",
    "    \n",
    "    return bars"
   ]
  },
  {
   "cell_type": "code",
   "execution_count": 103,
   "metadata": {
    "tags": []
   },
   "outputs": [],
   "source": [
    "bars_cls = add_factors(bars_cls).dropna()"
   ]
  },
  {
   "cell_type": "markdown",
   "metadata": {},
   "source": [
    "1. RSI"
   ]
  },
  {
   "cell_type": "code",
   "execution_count": 79,
   "metadata": {
    "tags": []
   },
   "outputs": [],
   "source": [
    "delta = 0.015\n",
    "bars_cls = bars.copy()[['Close', 'Volume']]\n",
    "bars_cls['Signal'] = [int(row['High'] >= (1 + delta) * row['Open']) for idx, row in bars.iterrows()]"
   ]
  },
  {
   "cell_type": "code",
   "execution_count": 80,
   "metadata": {
    "tags": []
   },
   "outputs": [
    {
     "data": {
      "text/html": [
       "<div>\n",
       "<style scoped>\n",
       "    .dataframe tbody tr th:only-of-type {\n",
       "        vertical-align: middle;\n",
       "    }\n",
       "\n",
       "    .dataframe tbody tr th {\n",
       "        vertical-align: top;\n",
       "    }\n",
       "\n",
       "    .dataframe thead th {\n",
       "        text-align: right;\n",
       "    }\n",
       "</style>\n",
       "<table border=\"1\" class=\"dataframe\">\n",
       "  <thead>\n",
       "    <tr style=\"text-align: right;\">\n",
       "      <th></th>\n",
       "      <th>Close</th>\n",
       "      <th>Volume</th>\n",
       "      <th>Signal</th>\n",
       "    </tr>\n",
       "    <tr>\n",
       "      <th>Date</th>\n",
       "      <th></th>\n",
       "      <th></th>\n",
       "      <th></th>\n",
       "    </tr>\n",
       "  </thead>\n",
       "  <tbody>\n",
       "    <tr>\n",
       "      <th>2016-01-04</th>\n",
       "      <td>2.7700</td>\n",
       "      <td>33698464.0</td>\n",
       "      <td>1</td>\n",
       "    </tr>\n",
       "    <tr>\n",
       "      <th>2016-01-05</th>\n",
       "      <td>2.7500</td>\n",
       "      <td>13372522.0</td>\n",
       "      <td>0</td>\n",
       "    </tr>\n",
       "    <tr>\n",
       "      <th>2016-01-06</th>\n",
       "      <td>2.5050</td>\n",
       "      <td>24280750.0</td>\n",
       "      <td>1</td>\n",
       "    </tr>\n",
       "    <tr>\n",
       "      <th>2016-01-07</th>\n",
       "      <td>2.2750</td>\n",
       "      <td>22577907.0</td>\n",
       "      <td>1</td>\n",
       "    </tr>\n",
       "    <tr>\n",
       "      <th>2016-01-08</th>\n",
       "      <td>2.1400</td>\n",
       "      <td>34037306.0</td>\n",
       "      <td>1</td>\n",
       "    </tr>\n",
       "    <tr>\n",
       "      <th>...</th>\n",
       "      <td>...</td>\n",
       "      <td>...</td>\n",
       "      <td>...</td>\n",
       "    </tr>\n",
       "    <tr>\n",
       "      <th>2024-09-12</th>\n",
       "      <td>150.7700</td>\n",
       "      <td>29286166.0</td>\n",
       "      <td>1</td>\n",
       "    </tr>\n",
       "    <tr>\n",
       "      <th>2024-09-13</th>\n",
       "      <td>152.3100</td>\n",
       "      <td>25117241.0</td>\n",
       "      <td>0</td>\n",
       "    </tr>\n",
       "    <tr>\n",
       "      <th>2024-09-16</th>\n",
       "      <td>152.0800</td>\n",
       "      <td>27677761.0</td>\n",
       "      <td>1</td>\n",
       "    </tr>\n",
       "    <tr>\n",
       "      <th>2024-09-17</th>\n",
       "      <td>150.8200</td>\n",
       "      <td>29888994.0</td>\n",
       "      <td>0</td>\n",
       "    </tr>\n",
       "    <tr>\n",
       "      <th>2024-09-18</th>\n",
       "      <td>150.2099</td>\n",
       "      <td>12096249.0</td>\n",
       "      <td>0</td>\n",
       "    </tr>\n",
       "  </tbody>\n",
       "</table>\n",
       "<p>2192 rows × 3 columns</p>\n",
       "</div>"
      ],
      "text/plain": [
       "               Close      Volume  Signal\n",
       "Date                                    \n",
       "2016-01-04    2.7700  33698464.0       1\n",
       "2016-01-05    2.7500  13372522.0       0\n",
       "2016-01-06    2.5050  24280750.0       1\n",
       "2016-01-07    2.2750  22577907.0       1\n",
       "2016-01-08    2.1400  34037306.0       1\n",
       "...              ...         ...     ...\n",
       "2024-09-12  150.7700  29286166.0       1\n",
       "2024-09-13  152.3100  25117241.0       0\n",
       "2024-09-16  152.0800  27677761.0       1\n",
       "2024-09-17  150.8200  29888994.0       0\n",
       "2024-09-18  150.2099  12096249.0       0\n",
       "\n",
       "[2192 rows x 3 columns]"
      ]
     },
     "execution_count": 80,
     "metadata": {},
     "output_type": "execute_result"
    }
   ],
   "source": [
    "bars_cls"
   ]
  },
  {
   "cell_type": "code",
   "execution_count": 76,
   "metadata": {
    "tags": []
   },
   "outputs": [
    {
     "data": {
      "text/plain": [
       "[<matplotlib.lines.Line2D at 0x7f35ded36740>]"
      ]
     },
     "execution_count": 76,
     "metadata": {},
     "output_type": "execute_result"
    },
    {
     "data": {
      "image/png": "[encoded data removed]",
      "text/plain": [
       "<Figure size 640x480 with 1 Axes>"
      ]
     },
     "metadata": {},
     "output_type": "display_data"
    }
   ],
   "source": [
    "def rsi(df, window=14):\n",
    "    delta = df.diff().dropna()\n",
    "    part1_gain = (delta.where(delta > 0, 0)).shift(1).rolling(window=window-1).mean()\n",
    "    part2_gain = (delta.where(delta > 0, 0))\n",
    "    gain = (part1_gain * (window-1) + part2_gain)/window\n",
    "    \n",
    "    part1_loss = (-delta.where(delta < 0, 0)).shift(1).rolling(window=window-1).mean()\n",
    "    part2_loss = (-delta.where(delta < 0, 0))\n",
    "    loss = (part1_loss * (window-1) + part2_loss)/window\n",
    "    rs = gain / loss\n",
    "    # df['RSI'] = 100 - (100 / (1 + rs))\n",
    "    return 100 - (100 / (1 + rs))\n",
    "\n",
    "\n",
    "def rsi_cat(df, window):\n",
    "    df1 = rsi(df, window).dropna()\n",
    "    return df1.apply(lambda x: 1 if x > 70 else (-1 if x < 30 else 0))\n",
    "    \n",
    "# rsi_cat(bars_cls['Close_50'], 14)\n",
    "plt.plot(rsi(bars['Close']).dropna())"
   ]
  },
  {
   "cell_type": "markdown",
   "metadata": {},
   "source": [
    "2. Returns"
   ]
  },
  {
   "cell_type": "code",
   "execution_count": 54,
   "metadata": {
    "tags": []
   },
   "outputs": [
    {
     "data": {
      "text/plain": [
       "Date\n",
       "2016-01-04         NaN\n",
       "2016-01-05   -0.007220\n",
       "2016-01-06   -0.089091\n",
       "2016-01-07   -0.091816\n",
       "2016-01-08   -0.059341\n",
       "                ...   \n",
       "2024-09-12    0.006072\n",
       "2024-09-13    0.010214\n",
       "2024-09-16   -0.001510\n",
       "2024-09-17   -0.008285\n",
       "2024-09-18   -0.001459\n",
       "Name: Close, Length: 2192, dtype: float64"
      ]
     },
     "execution_count": 54,
     "metadata": {},
     "output_type": "execute_result"
    }
   ],
   "source": [
    "bars['Close'].pct_change()"
   ]
  },
  {
   "cell_type": "markdown",
   "metadata": {},
   "source": [
    "3. Log Returns (log(1+x))"
   ]
  },
  {
   "cell_type": "code",
   "execution_count": 55,
   "metadata": {
    "tags": []
   },
   "outputs": [
    {
     "data": {
      "text/plain": [
       "Date\n",
       "2016-01-04         NaN\n",
       "2016-01-05   -0.007246\n",
       "2016-01-06   -0.093312\n",
       "2016-01-07   -0.096309\n",
       "2016-01-08   -0.061174\n",
       "                ...   \n",
       "2024-09-12    0.006054\n",
       "2024-09-13    0.010162\n",
       "2024-09-16   -0.001511\n",
       "2024-09-17   -0.008320\n",
       "2024-09-18   -0.001460\n",
       "Name: Close, Length: 2192, dtype: float64"
      ]
     },
     "execution_count": 55,
     "metadata": {},
     "output_type": "execute_result"
    }
   ],
   "source": [
    "np.log(bars['Close'].pct_change()+1)"
   ]
  },
  {
   "cell_type": "markdown",
   "metadata": {},
   "source": [
    "4. Volume Change"
   ]
  },
  {
   "cell_type": "code",
   "execution_count": 56,
   "metadata": {
    "tags": []
   },
   "outputs": [
    {
     "data": {
      "text/plain": [
       "Date\n",
       "2016-01-04         NaN\n",
       "2016-01-05   -0.603171\n",
       "2016-01-06    0.815720\n",
       "2016-01-07   -0.070131\n",
       "2016-01-08    0.507549\n",
       "                ...   \n",
       "2024-09-12   -0.425033\n",
       "2024-09-13   -0.142351\n",
       "2024-09-16    0.101943\n",
       "2024-09-17    0.079892\n",
       "2024-09-18   -0.609691\n",
       "Name: Volume, Length: 2192, dtype: float64"
      ]
     },
     "execution_count": 56,
     "metadata": {},
     "output_type": "execute_result"
    }
   ],
   "source": [
    "bars['Volume'].pct_change()"
   ]
  },
  {
   "cell_type": "markdown",
   "metadata": {},
   "source": [
    "5. Sqrt Volume"
   ]
  },
  {
   "cell_type": "code",
   "execution_count": 57,
   "metadata": {
    "tags": []
   },
   "outputs": [
    {
     "data": {
      "text/plain": [
       "Date\n",
       "2016-01-04    5805.037812\n",
       "2016-01-05    3656.845909\n",
       "2016-01-06    4927.550101\n",
       "2016-01-07    4751.621513\n",
       "2016-01-08    5834.149981\n",
       "                 ...     \n",
       "2024-09-12    5411.669428\n",
       "2024-09-13    5011.710387\n",
       "2024-09-16    5260.965786\n",
       "2024-09-17    5467.082769\n",
       "2024-09-18    3415.545491\n",
       "Name: Volume, Length: 2192, dtype: float64"
      ]
     },
     "execution_count": 57,
     "metadata": {},
     "output_type": "execute_result"
    }
   ],
   "source": [
    "bars['Volume'].apply(lambda x: np.sqrt(x))"
   ]
  },
  {
   "cell_type": "markdown",
   "metadata": {},
   "source": [
    "6. MA5, MA10"
   ]
  },
  {
   "cell_type": "code",
   "execution_count": 60,
   "metadata": {
    "tags": []
   },
   "outputs": [
    {
     "data": {
      "text/plain": [
       "Date\n",
       "2016-01-04        NaN\n",
       "2016-01-05        NaN\n",
       "2016-01-06        NaN\n",
       "2016-01-07        NaN\n",
       "2016-01-08        NaN\n",
       "               ...   \n",
       "2024-09-12    142.727\n",
       "2024-09-13    143.409\n",
       "2024-09-16    143.761\n",
       "2024-09-17    145.149\n",
       "2024-09-18    146.122\n",
       "Name: Close, Length: 2192, dtype: float64"
      ]
     },
     "execution_count": 60,
     "metadata": {},
     "output_type": "execute_result"
    }
   ],
   "source": [
    "bars['Close'].rolling(window=5).mean()\n",
    "bars['Close'].rolling(window=10).mean()"
   ]
  },
  {
   "cell_type": "markdown",
   "metadata": {},
   "source": [
    "7. MACD"
   ]
  },
  {
   "cell_type": "code",
   "execution_count": null,
   "metadata": {},
   "outputs": [],
   "source": [
    "exp1 = bars['Close'].ewm(span=12, adjust=False).mean()\n",
    "exp2 = bars['Close'].ewm(span=26, adjust=False).mean()\n",
    "exp1 - exp2"
   ]
  },
  {
   "cell_type": "markdown",
   "metadata": {},
   "source": [
    "##### Training & Testing"
   ]
  },
  {
   "cell_type": "code",
   "execution_count": 104,
   "metadata": {
    "tags": []
   },
   "outputs": [],
   "source": [
    "X = bars_cls.drop(columns = ['Signal'])\n",
    "y = bars_cls[\"Signal\"]\n",
    "\n",
    "# train_test_split \n",
    "dev_test_split = int(0.8*X.shape[0])\n",
    "X_dev_df, X_test_df, y_dev_df, y_test_df= X.iloc[:dev_test_split], X.iloc[dev_test_split:], y.iloc[:dev_test_split], y.iloc[dev_test_split:]\n",
    "\n",
    "\n",
    "train_val_split = int(0.75*X_dev_df.shape[0])\n",
    "X_train_df, X_val_df, y_train_df, y_val_df = X_dev_df.iloc[:train_val_split], X_dev_df.iloc[train_val_split:], y_dev_df.iloc[:train_val_split], y_dev_df.iloc[train_val_split:]                      "
   ]
  },
  {
   "cell_type": "code",
   "execution_count": null,
   "metadata": {},
   "outputs": [],
   "source": []
  },
  {
   "cell_type": "code",
   "execution_count": 33,
   "metadata": {
    "tags": []
   },
   "outputs": [],
   "source": [
    "# period = 3\n",
    "\n",
    "# full_data = pd.DataFrame()\n",
    "\n",
    "# full_data.index = bars_cls.index\n",
    "\n",
    "# for i in range(1, period + 1):\n",
    "#     for feature in ['Open','High','Low','Close','Volume']: # ['Close','Volume']:\n",
    "#         full_data[f'{feature}_-{i}'] = bars_cls[feature].shift(i)\n",
    "\n",
    "\n",
    "        \n",
    "# full_data['Signal_next'] = bars_cls['Signal'].shift(-1)\n",
    "\n",
    "# full_data.dropna(inplace=True)\n",
    "# full_data.head()"
   ]
  },
  {
   "cell_type": "code",
   "execution_count": null,
   "metadata": {
    "tags": []
   },
   "outputs": [],
   "source": [
    "# X = full_data.drop(columns = ['Signal_next'])\n",
    "# y = full_data[\"Signal_next\"]\n",
    "\n",
    "# # train_test_split \n",
    "# dev_test_split = int(0.8*X.shape[0])\n",
    "# X_dev_df, X_test_df, y_dev_df, y_test_df= X.iloc[:dev_test_split], X.iloc[dev_test_split:], y.iloc[:dev_test_split], y.iloc[dev_test_split:]\n",
    "\n",
    "\n",
    "# train_val_split = int(0.75*X_dev_df.shape[0])\n",
    "# X_train_df, X_val_df, y_train_df, y_val_df = X_dev_df.iloc[:train_val_split], X_dev_df.iloc[train_val_split:], y_dev_df.iloc[:train_val_split], y_dev_df.iloc[train_val_split:]                      "
   ]
  },
  {
   "cell_type": "code",
   "execution_count": 105,
   "metadata": {
    "tags": []
   },
   "outputs": [],
   "source": [
    "ss = MinMaxScaler()\n",
    "X_train_scaled = ss.fit_transform(X_train_df)\n",
    "X_val_scaled = ss.transform(X_val_df)\n",
    "X_test_scaled = ss.transform(X_test_df)"
   ]
  },
  {
   "cell_type": "code",
   "execution_count": 106,
   "metadata": {
    "tags": []
   },
   "outputs": [],
   "source": [
    "clf = LogisticRegression(random_state=42).fit(X_train_scaled, y_train_df)"
   ]
  },
  {
   "cell_type": "code",
   "execution_count": 151,
   "metadata": {
    "tags": []
   },
   "outputs": [],
   "source": [
    "# pred_prob"
   ]
  },
  {
   "cell_type": "code",
   "execution_count": 152,
   "metadata": {
    "tags": []
   },
   "outputs": [],
   "source": [
    "import pickle"
   ]
  },
  {
   "cell_type": "code",
   "execution_count": 153,
   "metadata": {
    "tags": []
   },
   "outputs": [],
   "source": [
    "# save the model to disk\n",
    "filename = 'finalized_model.sav'\n",
    "pickle.dump(clf, open(filename, 'wb'))"
   ]
  },
  {
   "cell_type": "code",
   "execution_count": 107,
   "metadata": {
    "tags": []
   },
   "outputs": [
    {
     "data": {
      "image/png": "[encoded data removed]",
      "text/plain": [
       "<Figure size 640x480 with 1 Axes>"
      ]
     },
     "metadata": {},
     "output_type": "display_data"
    }
   ],
   "source": [
    "from sklearn.metrics import roc_curve, auc\n",
    "\n",
    "\n",
    "pred_prob = clf.predict_proba(X_train_scaled)\n",
    "# Assuming pred_prob contains the predicted probabilities for the positive class\n",
    "y_score = pred_prob[:, 1]\n",
    "\n",
    "# Calculate false positive rate, true positive rate, and thresholds\n",
    "fpr, tpr, thresholds = roc_curve(y_train_df, y_score)\n",
    "\n",
    "# Calculate the AUC\n",
    "roc_auc = auc(fpr, tpr)\n",
    "\n",
    "optimal_idx = np.argmax(tpr - fpr)\n",
    "optimal_threshold = thresholds[optimal_idx]\n",
    "optimal_point = (fpr[optimal_idx], tpr[optimal_idx])\n",
    "\n",
    "# Plot the ROC curve\n",
    "fig, ax = plt.subplots()\n",
    "ax.plot(fpr, tpr, color='blue', label=f'ROC curve (AUC = {roc_auc:.3f})')\n",
    "ax.plot([0, 1], [0, 1], color='red', linestyle='--', label='Random Classifier')\n",
    "ax.plot(optimal_point[0], optimal_point[1], 'ro', markersize=6)\n",
    "ax.text(optimal_point[0]-0.15, optimal_point[1]+0.05, f'Optimal threshold: {optimal_threshold:.2f}\\n({optimal_point[0]:.2f}, {optimal_point[1]:.2f})')\n",
    "ax.set_xlim([0.0, 1.0])\n",
    "ax.set_ylim([0.0, 1.05])\n",
    "ax.set_xlabel('False Positive Rate')\n",
    "ax.set_ylabel('True Positive Rate')\n",
    "ax.set_title('Receiver Operating Characteristic (ROC) Curve')\n",
    "ax.legend(loc=\"lower right\")\n",
    "plt.show()"
   ]
  },
  {
   "cell_type": "code",
   "execution_count": 108,
   "metadata": {
    "tags": []
   },
   "outputs": [
    {
     "data": {
      "image/png": "[encoded data removed]",
      "text/plain": [
       "<Figure size 640x480 with 1 Axes>"
      ]
     },
     "metadata": {},
     "output_type": "display_data"
    }
   ],
   "source": [
    "from sklearn.metrics import roc_curve, auc\n",
    "\n",
    "pred_prob = clf.predict_proba(X_test_scaled)\n",
    "\n",
    "# Assuming pred_prob contains the predicted probabilities for the positive class\n",
    "y_score = pred_prob[:, 1]\n",
    "\n",
    "# Calculate false positive rate, true positive rate, and thresholds\n",
    "fpr, tpr, thresholds = roc_curve(y_test_df, y_score)\n",
    "\n",
    "# Calculate the AUC\n",
    "roc_auc = auc(fpr, tpr)\n",
    "\n",
    "optimal_idx = np.argmax(tpr - fpr)\n",
    "optimal_threshold = thresholds[optimal_idx]\n",
    "optimal_point = (fpr[optimal_idx], tpr[optimal_idx])\n",
    "\n",
    "# Plot the ROC curve\n",
    "fig, ax = plt.subplots()\n",
    "ax.plot(fpr, tpr, color='blue', label=f'ROC curve (AUC = {roc_auc:.3f})')\n",
    "ax.plot([0, 1], [0, 1], color='red', linestyle='--', label='Random Classifier')\n",
    "ax.plot(optimal_point[0], optimal_point[1], 'ro', markersize=6)\n",
    "ax.text(optimal_point[0]-0.15, optimal_point[1]+0.05, f'Optimal threshold: {optimal_threshold:.2f}\\n({optimal_point[0]:.2f}, {optimal_point[1]:.2f})')\n",
    "ax.set_xlim([0.0, 1.0])\n",
    "ax.set_ylim([0.0, 1.05])\n",
    "ax.set_xlabel('False Positive Rate')\n",
    "ax.set_ylabel('True Positive Rate')\n",
    "ax.set_title('Receiver Operating Characteristic (ROC) Curve')\n",
    "ax.legend(loc=\"lower right\")\n",
    "plt.show()"
   ]
  },
  {
   "cell_type": "code",
   "execution_count": 141,
   "metadata": {
    "tags": []
   },
   "outputs": [
    {
     "ename": "AttributeError",
     "evalue": "'list' object has no attribute 'head'",
     "output_type": "error",
     "traceback": [
      "\u001b[0;31m---------------------------------------------------------------------------\u001b[0m",
      "\u001b[0;31mAttributeError\u001b[0m                            Traceback (most recent call last)",
      "Cell \u001b[0;32mIn[141], line 7\u001b[0m\n\u001b[1;32m      5\u001b[0m     \u001b[38;5;28;01melse\u001b[39;00m:\n\u001b[1;32m      6\u001b[0m         signals\u001b[38;5;241m.\u001b[39mappend(\u001b[38;5;241m0\u001b[39m)\n\u001b[0;32m----> 7\u001b[0m \u001b[43msignals\u001b[49m\u001b[38;5;241;43m.\u001b[39;49m\u001b[43mhead\u001b[49m()\n",
      "\u001b[0;31mAttributeError\u001b[0m: 'list' object has no attribute 'head'"
     ]
    }
   ],
   "source": [
    "signals = []\n",
    "for i in range(len(pred_prob)):\n",
    "    if pred_prob[i][1] > 0.38:\n",
    "        signals.append(1)\n",
    "    else:\n",
    "        signals.append(0)\n",
    "signals.head()"
   ]
  },
  {
   "cell_type": "code",
   "execution_count": 142,
   "metadata": {
    "tags": []
   },
   "outputs": [
    {
     "data": {
      "text/html": [
       "<div>\n",
       "<style scoped>\n",
       "    .dataframe tbody tr th:only-of-type {\n",
       "        vertical-align: middle;\n",
       "    }\n",
       "\n",
       "    .dataframe tbody tr th {\n",
       "        vertical-align: top;\n",
       "    }\n",
       "\n",
       "    .dataframe thead th {\n",
       "        text-align: right;\n",
       "    }\n",
       "</style>\n",
       "<table border=\"1\" class=\"dataframe\">\n",
       "  <thead>\n",
       "    <tr style=\"text-align: right;\">\n",
       "      <th></th>\n",
       "      <th>Close</th>\n",
       "      <th>Volume</th>\n",
       "      <th>rsi</th>\n",
       "      <th>rsi_cat</th>\n",
       "      <th>return</th>\n",
       "      <th>log_return</th>\n",
       "      <th>volume_change</th>\n",
       "      <th>volume_sqrt</th>\n",
       "      <th>MA5</th>\n",
       "      <th>MA10</th>\n",
       "      <th>EMA12</th>\n",
       "      <th>EMA26</th>\n",
       "      <th>MACD</th>\n",
       "      <th>Signal_Line</th>\n",
       "    </tr>\n",
       "    <tr>\n",
       "      <th>Date</th>\n",
       "      <th></th>\n",
       "      <th></th>\n",
       "      <th></th>\n",
       "      <th></th>\n",
       "      <th></th>\n",
       "      <th></th>\n",
       "      <th></th>\n",
       "      <th></th>\n",
       "      <th></th>\n",
       "      <th></th>\n",
       "      <th></th>\n",
       "      <th></th>\n",
       "      <th></th>\n",
       "      <th></th>\n",
       "    </tr>\n",
       "  </thead>\n",
       "  <tbody>\n",
       "    <tr>\n",
       "      <th>2022-12-22</th>\n",
       "      <td>63.8600</td>\n",
       "      <td>78107407.0</td>\n",
       "      <td>26.910299</td>\n",
       "      <td>-1.0</td>\n",
       "      <td>-0.056442</td>\n",
       "      <td>-0.058098</td>\n",
       "      <td>0.664487</td>\n",
       "      <td>8837.839498</td>\n",
       "      <td>65.31800</td>\n",
       "      <td>67.29600</td>\n",
       "      <td>67.587897</td>\n",
       "      <td>68.802509</td>\n",
       "      <td>1.214612</td>\n",
       "      <td>0.226085</td>\n",
       "    </tr>\n",
       "    <tr>\n",
       "      <th>2022-12-23</th>\n",
       "      <td>64.5200</td>\n",
       "      <td>47843400.0</td>\n",
       "      <td>30.538922</td>\n",
       "      <td>0.0</td>\n",
       "      <td>0.010335</td>\n",
       "      <td>0.010282</td>\n",
       "      <td>-0.387467</td>\n",
       "      <td>6916.892366</td>\n",
       "      <td>65.14000</td>\n",
       "      <td>66.88900</td>\n",
       "      <td>67.115912</td>\n",
       "      <td>68.485286</td>\n",
       "      <td>1.369374</td>\n",
       "      <td>0.454742</td>\n",
       "    </tr>\n",
       "    <tr>\n",
       "      <th>2022-12-27</th>\n",
       "      <td>63.2700</td>\n",
       "      <td>38184975.0</td>\n",
       "      <td>33.552632</td>\n",
       "      <td>0.0</td>\n",
       "      <td>-0.019374</td>\n",
       "      <td>-0.019564</td>\n",
       "      <td>-0.201876</td>\n",
       "      <td>6179.399243</td>\n",
       "      <td>64.87600</td>\n",
       "      <td>66.14900</td>\n",
       "      <td>66.524234</td>\n",
       "      <td>68.098969</td>\n",
       "      <td>1.574735</td>\n",
       "      <td>0.678741</td>\n",
       "    </tr>\n",
       "    <tr>\n",
       "      <th>2022-12-28</th>\n",
       "      <td>62.5700</td>\n",
       "      <td>40997030.0</td>\n",
       "      <td>32.677346</td>\n",
       "      <td>0.0</td>\n",
       "      <td>-0.011064</td>\n",
       "      <td>-0.011125</td>\n",
       "      <td>0.073643</td>\n",
       "      <td>6402.892315</td>\n",
       "      <td>64.38000</td>\n",
       "      <td>65.24100</td>\n",
       "      <td>65.915890</td>\n",
       "      <td>67.689415</td>\n",
       "      <td>1.773525</td>\n",
       "      <td>0.897698</td>\n",
       "    </tr>\n",
       "    <tr>\n",
       "      <th>2022-12-29</th>\n",
       "      <td>64.8200</td>\n",
       "      <td>44259982.0</td>\n",
       "      <td>38.115271</td>\n",
       "      <td>0.0</td>\n",
       "      <td>0.035960</td>\n",
       "      <td>0.035328</td>\n",
       "      <td>0.079590</td>\n",
       "      <td>6652.817599</td>\n",
       "      <td>63.80800</td>\n",
       "      <td>64.83000</td>\n",
       "      <td>65.747292</td>\n",
       "      <td>67.476866</td>\n",
       "      <td>1.729574</td>\n",
       "      <td>1.064073</td>\n",
       "    </tr>\n",
       "    <tr>\n",
       "      <th>...</th>\n",
       "      <td>...</td>\n",
       "      <td>...</td>\n",
       "      <td>...</td>\n",
       "      <td>...</td>\n",
       "      <td>...</td>\n",
       "      <td>...</td>\n",
       "      <td>...</td>\n",
       "      <td>...</td>\n",
       "      <td>...</td>\n",
       "      <td>...</td>\n",
       "      <td>...</td>\n",
       "      <td>...</td>\n",
       "      <td>...</td>\n",
       "      <td>...</td>\n",
       "    </tr>\n",
       "    <tr>\n",
       "      <th>2024-09-12</th>\n",
       "      <td>150.7700</td>\n",
       "      <td>29286166.0</td>\n",
       "      <td>49.159892</td>\n",
       "      <td>0.0</td>\n",
       "      <td>0.006072</td>\n",
       "      <td>0.006054</td>\n",
       "      <td>-0.425033</td>\n",
       "      <td>5411.669428</td>\n",
       "      <td>143.19400</td>\n",
       "      <td>142.72700</td>\n",
       "      <td>144.721308</td>\n",
       "      <td>145.646335</td>\n",
       "      <td>0.925027</td>\n",
       "      <td>1.517994</td>\n",
       "    </tr>\n",
       "    <tr>\n",
       "      <th>2024-09-13</th>\n",
       "      <td>152.3100</td>\n",
       "      <td>25117241.0</td>\n",
       "      <td>47.509793</td>\n",
       "      <td>0.0</td>\n",
       "      <td>0.010214</td>\n",
       "      <td>0.010162</td>\n",
       "      <td>-0.142351</td>\n",
       "      <td>5011.710387</td>\n",
       "      <td>146.78600</td>\n",
       "      <td>143.40900</td>\n",
       "      <td>145.888799</td>\n",
       "      <td>146.139940</td>\n",
       "      <td>0.251141</td>\n",
       "      <td>1.264624</td>\n",
       "    </tr>\n",
       "    <tr>\n",
       "      <th>2024-09-16</th>\n",
       "      <td>152.0800</td>\n",
       "      <td>27677761.0</td>\n",
       "      <td>52.139202</td>\n",
       "      <td>0.0</td>\n",
       "      <td>-0.001510</td>\n",
       "      <td>-0.001511</td>\n",
       "      <td>0.101943</td>\n",
       "      <td>5260.965786</td>\n",
       "      <td>149.57200</td>\n",
       "      <td>143.76100</td>\n",
       "      <td>146.841291</td>\n",
       "      <td>146.579944</td>\n",
       "      <td>-0.261347</td>\n",
       "      <td>0.959429</td>\n",
       "    </tr>\n",
       "    <tr>\n",
       "      <th>2024-09-17</th>\n",
       "      <td>150.8200</td>\n",
       "      <td>29888994.0</td>\n",
       "      <td>50.322581</td>\n",
       "      <td>0.0</td>\n",
       "      <td>-0.008285</td>\n",
       "      <td>-0.008320</td>\n",
       "      <td>0.079892</td>\n",
       "      <td>5467.082769</td>\n",
       "      <td>151.16800</td>\n",
       "      <td>145.14900</td>\n",
       "      <td>147.453400</td>\n",
       "      <td>146.894022</td>\n",
       "      <td>-0.559378</td>\n",
       "      <td>0.655668</td>\n",
       "    </tr>\n",
       "    <tr>\n",
       "      <th>2024-09-18</th>\n",
       "      <td>150.2099</td>\n",
       "      <td>12096249.0</td>\n",
       "      <td>54.178307</td>\n",
       "      <td>0.0</td>\n",
       "      <td>-0.004045</td>\n",
       "      <td>-0.004053</td>\n",
       "      <td>-0.595294</td>\n",
       "      <td>3477.966216</td>\n",
       "      <td>151.23798</td>\n",
       "      <td>146.08299</td>\n",
       "      <td>147.877477</td>\n",
       "      <td>147.139643</td>\n",
       "      <td>-0.737834</td>\n",
       "      <td>0.376967</td>\n",
       "    </tr>\n",
       "  </tbody>\n",
       "</table>\n",
       "<p>436 rows × 14 columns</p>\n",
       "</div>"
      ],
      "text/plain": [
       "               Close      Volume        rsi  rsi_cat    return  log_return  \\\n",
       "Date                                                                         \n",
       "2022-12-22   63.8600  78107407.0  26.910299     -1.0 -0.056442   -0.058098   \n",
       "2022-12-23   64.5200  47843400.0  30.538922      0.0  0.010335    0.010282   \n",
       "2022-12-27   63.2700  38184975.0  33.552632      0.0 -0.019374   -0.019564   \n",
       "2022-12-28   62.5700  40997030.0  32.677346      0.0 -0.011064   -0.011125   \n",
       "2022-12-29   64.8200  44259982.0  38.115271      0.0  0.035960    0.035328   \n",
       "...              ...         ...        ...      ...       ...         ...   \n",
       "2024-09-12  150.7700  29286166.0  49.159892      0.0  0.006072    0.006054   \n",
       "2024-09-13  152.3100  25117241.0  47.509793      0.0  0.010214    0.010162   \n",
       "2024-09-16  152.0800  27677761.0  52.139202      0.0 -0.001510   -0.001511   \n",
       "2024-09-17  150.8200  29888994.0  50.322581      0.0 -0.008285   -0.008320   \n",
       "2024-09-18  150.2099  12096249.0  54.178307      0.0 -0.004045   -0.004053   \n",
       "\n",
       "            volume_change  volume_sqrt        MA5       MA10       EMA12  \\\n",
       "Date                                                                       \n",
       "2022-12-22       0.664487  8837.839498   65.31800   67.29600   67.587897   \n",
       "2022-12-23      -0.387467  6916.892366   65.14000   66.88900   67.115912   \n",
       "2022-12-27      -0.201876  6179.399243   64.87600   66.14900   66.524234   \n",
       "2022-12-28       0.073643  6402.892315   64.38000   65.24100   65.915890   \n",
       "2022-12-29       0.079590  6652.817599   63.80800   64.83000   65.747292   \n",
       "...                   ...          ...        ...        ...         ...   \n",
       "2024-09-12      -0.425033  5411.669428  143.19400  142.72700  144.721308   \n",
       "2024-09-13      -0.142351  5011.710387  146.78600  143.40900  145.888799   \n",
       "2024-09-16       0.101943  5260.965786  149.57200  143.76100  146.841291   \n",
       "2024-09-17       0.079892  5467.082769  151.16800  145.14900  147.453400   \n",
       "2024-09-18      -0.595294  3477.966216  151.23798  146.08299  147.877477   \n",
       "\n",
       "                 EMA26      MACD  Signal_Line  \n",
       "Date                                           \n",
       "2022-12-22   68.802509  1.214612     0.226085  \n",
       "2022-12-23   68.485286  1.369374     0.454742  \n",
       "2022-12-27   68.098969  1.574735     0.678741  \n",
       "2022-12-28   67.689415  1.773525     0.897698  \n",
       "2022-12-29   67.476866  1.729574     1.064073  \n",
       "...                ...       ...          ...  \n",
       "2024-09-12  145.646335  0.925027     1.517994  \n",
       "2024-09-13  146.139940  0.251141     1.264624  \n",
       "2024-09-16  146.579944 -0.261347     0.959429  \n",
       "2024-09-17  146.894022 -0.559378     0.655668  \n",
       "2024-09-18  147.139643 -0.737834     0.376967  \n",
       "\n",
       "[436 rows x 14 columns]"
      ]
     },
     "execution_count": 142,
     "metadata": {},
     "output_type": "execute_result"
    }
   ],
   "source": [
    "X_test_df"
   ]
  },
  {
   "cell_type": "code",
   "execution_count": 147,
   "metadata": {
    "tags": []
   },
   "outputs": [],
   "source": [
    "signals = pd.DataFrame({'signals': signals}, index=X_test_df.index)"
   ]
  },
  {
   "cell_type": "code",
   "execution_count": 164,
   "metadata": {
    "tags": []
   },
   "outputs": [
    {
     "data": {
      "text/plain": [
       "Date\n",
       "2022-12-22         NaN\n",
       "2022-12-23    0.000000\n",
       "2022-12-27   -0.019374\n",
       "2022-12-28   -0.000000\n",
       "2022-12-29    0.000000\n",
       "                ...   \n",
       "2024-09-12    0.006072\n",
       "2024-09-13    0.000000\n",
       "2024-09-16   -0.000000\n",
       "2024-09-17   -0.000000\n",
       "2024-09-18   -0.000000\n",
       "Length: 436, dtype: float64"
      ]
     },
     "execution_count": 164,
     "metadata": {},
     "output_type": "execute_result"
    }
   ],
   "source": [
    "# signals.shift(1) \n",
    "signals.shift(1)['signals'] * bars_cls['Close'].pct_change()[signals.index]"
   ]
  },
  {
   "cell_type": "code",
   "execution_count": 165,
   "metadata": {
    "tags": []
   },
   "outputs": [
    {
     "data": {
      "text/plain": [
       "Date\n",
       "2022-12-22         NaN\n",
       "2022-12-23    1.000000\n",
       "2022-12-27    0.980626\n",
       "2022-12-28    0.980626\n",
       "2022-12-29    0.980626\n",
       "                ...   \n",
       "2024-09-12    1.709899\n",
       "2024-09-13    1.709899\n",
       "2024-09-16    1.709899\n",
       "2024-09-17    1.709899\n",
       "2024-09-18    1.709899\n",
       "Length: 436, dtype: float64"
      ]
     },
     "execution_count": 165,
     "metadata": {},
     "output_type": "execute_result"
    }
   ],
   "source": [
    "Cumulative_Returns = (1 + signals.shift(1)['signals'] * bars_cls['Close'].pct_change()[signals.index]).cumprod()\n",
    "Cumulative_Returns"
   ]
  },
  {
   "cell_type": "code",
   "execution_count": 169,
   "metadata": {
    "tags": []
   },
   "outputs": [
    {
     "data": {
      "image/png": "[encoded data removed]",
      "text/plain": [
       "<Figure size 1200x600 with 1 Axes>"
      ]
     },
     "metadata": {},
     "output_type": "display_data"
    }
   ],
   "source": [
    "plt.figure(figsize=(12,6))\n",
    "plt.plot(X_test_df.index, Cumulative_Returns)\n",
    "plt.title('AMD Investment Return Curve')\n",
    "plt.xlabel('Date')\n",
    "plt.ylabel('Cumulative Returns')\n",
    "plt.show()"
   ]
  },
  {
   "cell_type": "code",
   "execution_count": 113,
   "metadata": {
    "tags": []
   },
   "outputs": [
    {
     "data": {
      "text/plain": [
       "[<matplotlib.lines.Line2D at 0x7fc2c4c59570>]"
      ]
     },
     "execution_count": 113,
     "metadata": {},
     "output_type": "execute_result"
    },
    {
     "data": {
      "image/png": "[encoded data removed]",
      "text/plain": [
       "<Figure size 640x480 with 1 Axes>"
      ]
     },
     "metadata": {},
     "output_type": "display_data"
    }
   ],
   "source": [
    "res = []\n",
    "for i in np.linspace(0.4, 0.7, num=100):\n",
    "    pred = pd.DataFrame(pred_prob).apply(lambda x: 1 if x[1] > i else 0, axis=1)\n",
    "#     conf_matrix = confusion_matrix(pred, y_train_df)\n",
    "\n",
    "#     TP = conf_matrix[1, 1]\n",
    "#     TN = conf_matrix[0, 0]\n",
    "#     FP = conf_matrix[0, 1]\n",
    "#     FN = conf_matrix[1, 0]\n",
    "    \n",
    "#     print((TP + TN) / sum(map(sum, conf_matrix)))\n",
    "#     print(accuracy_score(y_train_df, pred))\n",
    "    res.append(accuracy_score(y_test_df, pred))\n",
    "\n",
    "fig = plt.figure()\n",
    "ax = plt.axes()\n",
    "ax.plot(np.linspace(0.4, 0.7, num=100), res)"
   ]
  },
  {
   "cell_type": "code",
   "execution_count": 100,
   "metadata": {
    "tags": []
   },
   "outputs": [],
   "source": [
    "threshold = np.linspace(0.4, 0.7, num=100)[res.index(max(res))]"
   ]
  },
  {
   "cell_type": "code",
   "execution_count": 90,
   "metadata": {
    "tags": []
   },
   "outputs": [
    {
     "data": {
      "text/plain": [
       "0       1\n",
       "1       1\n",
       "2       1\n",
       "3       1\n",
       "4       1\n",
       "       ..\n",
       "1306    0\n",
       "1307    0\n",
       "1308    0\n",
       "1309    0\n",
       "1310    0\n",
       "Length: 1311, dtype: int64"
      ]
     },
     "execution_count": 90,
     "metadata": {},
     "output_type": "execute_result"
    }
   ],
   "source": [
    "pred = pd.DataFrame(pred_prob).apply(lambda x: 1 if x[1] > 0.51 else 0, axis=1)\n",
    "pred"
   ]
  },
  {
   "cell_type": "code",
   "execution_count": 91,
   "metadata": {
    "tags": []
   },
   "outputs": [],
   "source": [
    "from sklearn.metrics import confusion_matrix, accuracy_score"
   ]
  },
  {
   "cell_type": "code",
   "execution_count": 92,
   "metadata": {
    "tags": []
   },
   "outputs": [],
   "source": [
    "conf_matrix = confusion_matrix(pred, y_train_df)\n",
    "\n",
    "TP = conf_matrix[1, 1]\n",
    "TN = conf_matrix[0, 0]\n",
    "FP = conf_matrix[0, 1]\n",
    "FN = conf_matrix[1, 0]"
   ]
  },
  {
   "cell_type": "code",
   "execution_count": 96,
   "metadata": {
    "tags": []
   },
   "outputs": [
    {
     "name": "stdout",
     "output_type": "stream",
     "text": [
      "0.7181409295352323\n",
      "0.5461801596351197\n",
      "0.5530129672006102\n"
     ]
    }
   ],
   "source": [
    "# Classification Accuracy: Overall, how often is the classifier correct?\n",
    "# use float to perform true division, not integer division\n",
    "print((TP / (TP + FP))) # precision\n",
    "print((TP / (TP + FN))) # recall\n",
    "print(accuracy_score(y_train_df, pred))"
   ]
  },
  {
   "cell_type": "code",
   "execution_count": 94,
   "metadata": {
    "tags": []
   },
   "outputs": [
    {
     "ename": "TypeError",
     "evalue": "LogisticRegression.__init__() got an unexpected keyword argument 'alpha'",
     "output_type": "error",
     "traceback": [
      "\u001b[0;31m---------------------------------------------------------------------------\u001b[0m",
      "\u001b[0;31mTypeError\u001b[0m                                 Traceback (most recent call last)",
      "Cell \u001b[0;32mIn[94], line 2\u001b[0m\n\u001b[1;32m      1\u001b[0m \u001b[38;5;66;03m### Code here\u001b[39;00m\n\u001b[0;32m----> 2\u001b[0m lgr \u001b[38;5;241m=\u001b[39m \u001b[43mLogisticRegression\u001b[49m\u001b[43m(\u001b[49m\u001b[43malpha\u001b[49m\u001b[38;5;241;43m=\u001b[39;49m\u001b[38;5;241;43m0\u001b[39;49m\u001b[43m,\u001b[49m\u001b[43m \u001b[49m\u001b[43mt\u001b[49m\u001b[38;5;241;43m=\u001b[39;49m\u001b[38;5;241;43m100\u001b[39;49m\u001b[43m,\u001b[49m\u001b[43m \u001b[49m\u001b[43meta\u001b[49m\u001b[38;5;241;43m=\u001b[39;49m\u001b[38;5;241;43m1e-3\u001b[39;49m\u001b[43m)\u001b[49m\n\u001b[1;32m      3\u001b[0m loss_train \u001b[38;5;241m=\u001b[39m lgr\u001b[38;5;241m.\u001b[39mtrain(X_train_scaled, np\u001b[38;5;241m.\u001b[39marray(y_train_df\u001b[38;5;241m.\u001b[39mtolist()))\n\u001b[1;32m      5\u001b[0m loss_train \u001b[38;5;241m=\u001b[39m np\u001b[38;5;241m.\u001b[39msqueeze(loss_train)\n",
      "\u001b[0;31mTypeError\u001b[0m: LogisticRegression.__init__() got an unexpected keyword argument 'alpha'"
     ]
    }
   ],
   "source": [
    "### Code here\n",
    "lgr = LogisticRegression(alpha=0, t=100, eta=1e-3)\n",
    "loss_train = lgr.train(X_train_scaled, np.array(y_train_df.tolist()))\n",
    "\n",
    "loss_train = np.squeeze(loss_train)\n",
    "\n",
    "fig, ax = plt.subplots()\n",
    "ax.plot(range(100), loss_train)\n",
    "ax.set_xlabel('Epochs')\n",
    "ax.set_ylabel('Loss')\n",
    "ax.set_title('Training Loss over Epochs')"
   ]
  },
  {
   "cell_type": "markdown",
   "metadata": {},
   "source": [
    "#### Linear Regression"
   ]
  },
  {
   "cell_type": "code",
   "execution_count": 38,
   "metadata": {
    "tags": []
   },
   "outputs": [
    {
     "ename": "NameError",
     "evalue": "name 'LinearRegression' is not defined",
     "output_type": "error",
     "traceback": [
      "\u001b[0;31m---------------------------------------------------------------------------\u001b[0m",
      "\u001b[0;31mNameError\u001b[0m                                 Traceback (most recent call last)",
      "Cell \u001b[0;32mIn[38], line 2\u001b[0m\n\u001b[1;32m      1\u001b[0m \u001b[38;5;66;03m### Code here\u001b[39;00m\n\u001b[0;32m----> 2\u001b[0m lr \u001b[38;5;241m=\u001b[39m \u001b[43mLinearRegression\u001b[49m()\n\u001b[1;32m      3\u001b[0m lr\u001b[38;5;241m.\u001b[39mtrain(X_train_scaled, y_train_df)\n\u001b[1;32m      5\u001b[0m \u001b[38;5;66;03m# predictions\u001b[39;00m\n",
      "\u001b[0;31mNameError\u001b[0m: name 'LinearRegression' is not defined"
     ]
    }
   ],
   "source": [
    "### Code here\n",
    "lr = LinearRegression()\n",
    "lr.train(X_train_scaled, y_train_df)\n",
    "\n",
    "# predictions\n",
    "y_pred_train = lr.predict(X_train_scaled)\n",
    "y_pred_val = lr.predict(X_val_scaled)\n",
    "y_pred_test = lr.predict(X_test_scaled)\n",
    "\n",
    "# Export R^2\n",
    "r2_train = r2_score(y_pred_train, y_train_df)\n",
    "r2_val = r2_score(y_pred_val, y_val_df)\n",
    "r2_test = r2_score(y_pred_test, y_test_df)\n",
    "print(f\"R^2 score on training set: {r2_train}\")\n",
    "print(f\"R^2 score on training set: {r2_val}\")\n",
    "print(f\"R^2 score on training set: {r2_test}\")\n",
    "\n",
    "# Get report\n",
    "get_report(y_pred_train, y_train_df)\n",
    "get_report(y_pred_val, y_val_df)\n",
    "get_report(y_pred_test, y_test_df)"
   ]
  },
  {
   "cell_type": "markdown",
   "metadata": {
    "id": "JReT1I4RpERu"
   },
   "source": [
    "# Portfolio"
   ]
  },
  {
   "cell_type": "code",
   "execution_count": 102,
   "metadata": {
    "id": "gCvuxAcS0ZAL",
    "tags": []
   },
   "outputs": [],
   "source": [
    "class MarketOnClosePortfolio(Portfolio):\n",
    "    def __init__(self, symbol, bars, signals, initial_capital=100000.0):\n",
    "        self.symbol = symbol\n",
    "        self.bars = bars\n",
    "        self.signals = signals\n",
    "        self.initial_capital = float(initial_capital)\n",
    "        self.positions = self.generate_positions()\n",
    "\n",
    "    def generate_positions(self):\n",
    "        positions = pd.DataFrame(index=self.bars.index).fillna(0.0)\n",
    "        positions[self.symbol] = 100 * self.signals[\"signal\"]\n",
    "        return positions.cumsum()\n",
    "\n",
    "    def backtest_portfolio(self):\n",
    "        # portfolio = pd.DataFrame({'pos_value': self.positions[self.symbol] * self.bars['Close']})\n",
    "\n",
    "        # pos_diff = self.positions.diff()\n",
    "\n",
    "        # portfolio['holdings'] = self.positions[self.symbol] * self.bars['Close']\n",
    "        # portfolio['cash'] = self.initial_capital - (pos_diff[self.symbol] * self.bars['Close']).cumsum()\n",
    "\n",
    "        # portfolio['total'] = portfolio['cash'] + portfolio['holdings']\n",
    "        # portfolio['returns'] = portfolio['total'].pct_change()\n",
    "\n",
    "        portfolio = pd.DataFrame(index=self.bars.index)\n",
    "        portfolio[\"holdings\"] = self.positions[self.symbol] * self.bars[\"Close\"]\n",
    "        pos_diff = self.positions.diff()\n",
    "        portfolio[\"cash\"] = (\n",
    "            self.initial_capital - (pos_diff[self.symbol] * self.bars[\"Close\"]).cumsum()\n",
    "        )\n",
    "        portfolio[\"total\"] = portfolio[\"cash\"] + portfolio[\"holdings\"]\n",
    "        portfolio[\"returns\"] = portfolio[\"total\"].pct_change()\n",
    "\n",
    "        return portfolio"
   ]
  },
  {
   "cell_type": "code",
   "execution_count": 103,
   "metadata": {
    "id": "NJFx0PhdxgUA",
    "tags": []
   },
   "outputs": [],
   "source": [
    "class MarketOnOpenPortfolio(Portfolio):\n",
    "    \"\"\"Inherits Portfolio to create a system that purchases 100 units of\n",
    "    a particular symbol upon a long/short signal, assuming the market\n",
    "    open price of a bar.\n",
    "\n",
    "    In addition, there are zero transaction costs and cash can be immediately\n",
    "    borrowed for shorting (no margin posting or interest requirements).\n",
    "\n",
    "    Requires:\n",
    "    symbol - A stock symbol which forms the basis of the portfolio.\n",
    "    bars - A DataFrame of bars for a symbol set.\n",
    "    signals - A pandas DataFrame of signals (1, 0, -1) for each symbol.\n",
    "    initial_capital - The amount in cash at the start of the portfolio.\"\"\"\n",
    "\n",
    "    def __init__(self, symbol, bars, signals, risk_ratio=0.05, stop_loss_percent=0.1, initial_capital=100000.0):\n",
    "        self.symbol = symbol\n",
    "        self.bars = bars\n",
    "        self.signals = signals\n",
    "        self.initial_capital = float(initial_capital)\n",
    "        # self.cash = self.initial_capital\n",
    "        self.risk_ratio = risk_ratio\n",
    "        self.stop_loss_percent = stop_loss_percent\n",
    "        self.positions = self.generate_positions()\n",
    "    \n",
    "    def generate_positions(self):\n",
    "        positions = pd.DataFrame(index=self.signals.index, columns=[self.symbol])\n",
    "        positions[self.symbol] = positions[self.symbol].mask(pd.isna(positions[self.symbol]), 0)\n",
    "        equity = [self.initial_capital] # length n\n",
    "        \n",
    "        for i in range(1, len(self.signals)):\n",
    "            signal = self.signals['signal'].iloc[i]\n",
    "            open_price = self.bars[\"Open\"].iloc[i]\n",
    "            prev_open_price = self.bars[\"Open\"].iloc[i-1]\n",
    "\n",
    "#             historical = [abs(j - self.initial_capital) for j in equity[:i]]\n",
    "#             if max(historical) != 0:\n",
    "#                 trade_risk = max(historical)\n",
    "#             else:\n",
    "#                 trade_risk = open_price\n",
    "\n",
    "#             num_of_contract = int(equity[i-1] * self.risk_ratio / trade_risk)\n",
    "            num_of_contract = int(equity[i-1] * self.risk_ratio / (open_price * self.stop_loss_percent))\n",
    "            \n",
    "            \n",
    "\n",
    "            if signal == 1:\n",
    "                positions.iloc[i] = num_of_contract\n",
    "            elif signal == -1:\n",
    "                positions.iloc[i] = 0\n",
    "            else:\n",
    "                positions.iloc[i] = positions.iloc[i-1]\n",
    "\n",
    "            pnl = float(positions.iloc[i-1].values) * (open_price - prev_open_price)\n",
    "            equity.append(equity[i-1] + pnl)\n",
    "\n",
    "        return positions\n",
    "    \n",
    "    \n",
    "    def backtest_portfolio(self):\n",
    "        \"\"\"Constructs a portfolio from the positions DataFrame by\n",
    "        assuming the ability to trade at the precise market open price\n",
    "        of each bar (an unrealistic assumption!).\n",
    "\n",
    "        Calculates the total of cash and the holdings (market price of\n",
    "        each position per bar), in order to generate an equity curve\n",
    "        ('total') and a set of bar-based returns ('returns').\n",
    "\n",
    "        Returns the portfolio object to be used elsewhere.\"\"\"\n",
    "    \n",
    "        portfolio = pd.DataFrame(index=self.bars.index)\n",
    "        portfolio[\"holdings\"] = self.positions[self.symbol] * self.bars[\"Open\"]\n",
    "        pos_diff = self.positions.diff()\n",
    "        portfolio[\"cash\"] = (\n",
    "            self.initial_capital - (pos_diff[self.symbol] * self.bars[\"Open\"]).cumsum()\n",
    "        )\n",
    "        portfolio[\"equity\"] = portfolio[\"cash\"] + portfolio[\"holdings\"]\n",
    "        portfolio[\"returns\"] = portfolio[\"equity\"].pct_change()\n",
    "        print(self.risk_ratio)\n",
    "\n",
    "        return portfolio"
   ]
  },
  {
   "cell_type": "code",
   "execution_count": 104,
   "metadata": {
    "tags": []
   },
   "outputs": [],
   "source": [
    "# initial_capital = 100000\n",
    "# symbol = 'AMD'\n",
    "# positions = pd.DataFrame(index=signals.index, columns=[symbol])\n",
    "# positions[symbol] = positions[symbol].mask(pd.isna(positions[symbol]), 0)\n",
    "# equity = [initial_capital] # length n\n",
    "# risk_ratio = 0.05\n",
    "\n",
    "# for i in range(1, len(signals)):\n",
    "#     signal = signals['signal'].iloc[i]\n",
    "#     open_price = bars[\"Open\"].iloc[i]\n",
    "#     prev_open_price = bars[\"Open\"].iloc[i-1]\n",
    "\n",
    "#     historical = [abs(i - initial_capital) for i in equity[:i]]\n",
    "#     if max(historical) != 0:\n",
    "#         trade_risk = max(historical)\n",
    "#     else:\n",
    "#         trade_risk = open_price\n",
    "    \n",
    "#     num_of_contract = int(equity[i-1] * risk_ratio / trade_risk)\n",
    "\n",
    "#     if signal != 0:\n",
    "#         positions.iloc[i] = num_of_contract\n",
    "\n",
    "#     else:\n",
    "#         positions.iloc[i] = positions.iloc[i-1]\n",
    "\n",
    "#     pnl = positions.iloc[i-1] * (open_price - prev_open_price)\n",
    "#     equity.append(equity[i-1] + pnl)\n",
    "\n",
    "# return positions"
   ]
  },
  {
   "cell_type": "code",
   "execution_count": 105,
   "metadata": {
    "tags": []
   },
   "outputs": [],
   "source": [
    "# initial_capital = 100000\n",
    "# symbol = 'AMD'\n",
    "# positions = pd.DataFrame(index=signals.index, columns=[symbol])\n",
    "# positions[symbol] = positions[symbol].mask(pd.isna(positions[symbol]), 0)\n",
    "# equity = [initial_capital] # length n\n",
    "# risk_ratio = 0.05"
   ]
  },
  {
   "cell_type": "markdown",
   "metadata": {},
   "source": [
    "# Performance"
   ]
  },
  {
   "cell_type": "code",
   "execution_count": 106,
   "metadata": {
    "tags": []
   },
   "outputs": [],
   "source": [
    "def create_sharpe_ratio(returns, risk_free_rate=0, periods=252):\n",
    "    \"\"\"\n",
    "    Create the Sharpe ratio for the strategy, based on a \n",
    "    benchmark of zero (i.e. no risk-free rate information).\n",
    "\n",
    "    Parameters:\n",
    "    returns - A pandas Series representing period percentage returns.\n",
    "    periods - Daily (252), Hourly (252*6.5), Minutely(252*6.5*60) etc.\n",
    "    \"\"\"\n",
    "    return np.sqrt(periods) * (np.mean(returns) - risk_free_rate) / np.std(returns)\n",
    "\n",
    "\n",
    "def create_drawdowns(equity_curve):\n",
    "    \"\"\"\n",
    "    Calculate the largest peak-to-trough drawdown of the PnL curve\n",
    "    as well as the duration of the drawdown. Requires that the \n",
    "    pnl_returns is a pandas Series.\n",
    "\n",
    "    Parameters:\n",
    "    pnl - A pandas Series representing period percentage returns.\n",
    "\n",
    "    Returns:\n",
    "    drawdown, duration - Highest peak-to-trough drawdown and duration.\n",
    "    \"\"\"\n",
    "    \n",
    "    # Calculate the cumulative returns curve \n",
    "    # and set up the High Water Mark\n",
    "    # Then create the drawdown and duration series\n",
    "    hwm = [0]\n",
    "    eq_idx = equity_curve.index\n",
    "    drawdown = pd.Series(index = eq_idx, dtype=float)\n",
    "    duration = pd.Series(index = eq_idx, dtype=float)\n",
    "\n",
    "    # Loop over the index range\n",
    "    for t in range(1, len(eq_idx)):\n",
    "        cur_hwm = max(hwm[t-1], equity_curve[t])\n",
    "        hwm.append(cur_hwm)\n",
    "        drawdown[t]= hwm[t] - equity_curve[t]\n",
    "        duration[t]= 0 if drawdown[t] == 0 else duration[t-1] + 1\n",
    "    return drawdown.max(), duration.max()"
   ]
  },
  {
   "cell_type": "code",
   "execution_count": null,
   "metadata": {
    "tags": []
   },
   "outputs": [],
   "source": []
  },
  {
   "cell_type": "markdown",
   "metadata": {
    "id": "V3bcsOH6jN8b"
   },
   "source": [
    "# Execution"
   ]
  },
  {
   "cell_type": "markdown",
   "metadata": {
    "id": "8evBw8Utp3UF"
   },
   "source": [
    "## Random Strategy Execution"
   ]
  },
  {
   "cell_type": "code",
   "execution_count": 107,
   "metadata": {
    "id": "DJBjdTaEx0pd",
    "tags": []
   },
   "outputs": [
    {
     "name": "stderr",
     "output_type": "stream",
     "text": [
      "[*********************100%***********************]  1 of 1 completed"
     ]
    },
    {
     "name": "stdout",
     "output_type": "stream",
     "text": [
      "0.05\n"
     ]
    },
    {
     "name": "stderr",
     "output_type": "stream",
     "text": [
      "\n",
      "/tmp/ipykernel_16118/1428518710.py:19: FutureWarning: ChainedAssignmentError: behaviour will change in pandas 3.0!\n",
      "You are setting values through chained assignment. Currently this works in certain cases, but when using Copy-on-Write (which will become the default behaviour in pandas 3.0) this will never work to update the original DataFrame or Series, because the intermediate object on which we are setting values will behave as a copy.\n",
      "A typical example is when you are setting values in a column of a DataFrame, like:\n",
      "\n",
      "df[\"col\"][row_indexer] = value\n",
      "\n",
      "Use `df.loc[row_indexer, \"col\"] = values` instead, to perform the assignment in a single step and ensure this keeps updating the original `df`.\n",
      "\n",
      "See the caveats in the documentation: https://pandas.pydata.org/pandas-docs/stable/user_guide/indexing.html#returning-a-view-versus-a-copy\n",
      "\n",
      "  signals[\"signal\"][0:5] = 0.0\n",
      "/tmp/ipykernel_16118/966422173.py:77: FutureWarning: Downcasting object dtype arrays on .fillna, .ffill, .bfill is deprecated and will change in a future version. Call result.infer_objects(copy=False) instead. To opt-in to the future behavior, set `pd.set_option('future.no_silent_downcasting', True)`\n",
      "  portfolio[\"returns\"] = portfolio[\"equity\"].pct_change()\n"
     ]
    }
   ],
   "source": [
    "if __name__ == \"__main__\":\n",
    "    # Obtain daily bars of SPY (ETF that generally\n",
    "    # follows the S&P500) from Quandl (requires 'pip install Quandl'\n",
    "    # on the command line)\n",
    "\n",
    "    # Fetch SPY data\n",
    "    symbol = \"SPY\"\n",
    "    bars = yf.download(symbol, period=\"2y\")  # start='2024-05-01'\n",
    "    bars.index = bars.index.date\n",
    "\n",
    "    # Create a set of random forecasting signals for SPY\n",
    "    rfs = RandomForecastingStrategy(symbol, bars)\n",
    "    signals = rfs.generate_signals()\n",
    "\n",
    "    # Create a portfolio of SPY\n",
    "    portfolio = MarketOnOpenPortfolio(symbol, bars, signals, initial_capital=100000.0)\n",
    "    returns = portfolio.backtest_portfolio()"
   ]
  },
  {
   "cell_type": "markdown",
   "metadata": {
    "id": "4tJJPoKKphUB"
   },
   "source": [
    "## Sentiment Analysis Execution"
   ]
  },
  {
   "cell_type": "code",
   "execution_count": 51,
   "metadata": {
    "colab": {
     "base_uri": "https://localhost:8080/",
     "height": 948
    },
    "id": "EfdA1M1agyzP",
    "outputId": "cd717749-73a4-4b84-bae5-a6d33d918ecb"
   },
   "outputs": [
    {
     "name": "stderr",
     "output_type": "stream",
     "text": [
      "[*********************100%%**********************]  1 of 1 completed\n"
     ]
    },
    {
     "data": {
      "image/png": "[encoded data removed]",
      "text/plain": [
       "<Figure size 1500x1000 with 2 Axes>"
      ]
     },
     "metadata": {},
     "output_type": "display_data"
    }
   ],
   "source": [
    "if __name__ == \"__main__\":\n",
    "    symbol = \"AMD\"\n",
    "    bars = yf.download(tickers=symbol, period=\"1mo\")\n",
    "    threshold = 0.2\n",
    "    news_api_key = userdata.get(\"news_api_key\")\n",
    "\n",
    "    senti_analysis = SentimentAnalysisStrategy(symbol, bars, threshold, news_api_key)\n",
    "    signals = senti_analysis.generate_signals()\n",
    "\n",
    "    portfolio = MarketOnClosePortfolio(symbol, bars, signals, initial_capital=100000.0)\n",
    "    returns = portfolio.backtest_portfolio()\n",
    "\n",
    "    fig, ax = plt.subplots(2, 1, figsize=(15, 10), tight_layout=True)\n",
    "    # fig.patch.set_facecolor('white')\n",
    "    ax[0].plot(bars[\"Close\"], label=\"Close\")\n",
    "    ax[0].scatter(\n",
    "        bars[\"Close\"][signals[\"signal\"] == 1.0].index,\n",
    "        bars[\"Close\"][signals[\"signal\"] == 1.0].values,\n",
    "        100,\n",
    "        c=\"green\",\n",
    "        marker=\"^\",\n",
    "        label=\"Buy\",\n",
    "    )\n",
    "    ax[0].scatter(\n",
    "        bars[\"Close\"][signals[\"signal\"] == -1.0].index,\n",
    "        bars[\"Close\"][signals[\"signal\"] == -1.0].values,\n",
    "        100,\n",
    "        c=\"red\",\n",
    "        marker=\"v\",\n",
    "        label=\"Sell\",\n",
    "    )\n",
    "\n",
    "    ax[0].legend()\n",
    "    ax[0].set_title(f\"{symbol} Close price and Sentiment Analysis signals\")\n",
    "    ax[0].set_xlabel(\"Date\")\n",
    "\n",
    "    ax[1].plot(returns[\"total\"], label=\"Portfolio value\")\n",
    "    ax[1].scatter(\n",
    "        returns[signals[\"signal\"] == 1.0].index,\n",
    "        returns[\"total\"][signals[\"signal\"] == 1.0],\n",
    "        s=100,\n",
    "        c=\"green\",\n",
    "        marker=\"^\",\n",
    "        label=\"Buy\",\n",
    "    )\n",
    "    ax[1].scatter(\n",
    "        returns[signals[\"signal\"] == -1.0].index,\n",
    "        returns[\"total\"][signals[\"signal\"] == -1.0],\n",
    "        s=100,\n",
    "        c=\"red\",\n",
    "        marker=\"v\",\n",
    "        label=\"Sell\",\n",
    "    )\n",
    "\n",
    "    ax[1].legend()\n",
    "    ax[1].set_title(f\"Portfolio value corresponding Sentiment Analysis\")\n",
    "    ax[1].set_xlabel(\"Date\")"
   ]
  },
  {
   "cell_type": "markdown",
   "metadata": {
    "id": "BKqfPS9mppno"
   },
   "source": [
    "## Moving Average Crossovers Strategy Execution"
   ]
  },
  {
   "cell_type": "code",
   "execution_count": 59,
   "metadata": {
    "tags": []
   },
   "outputs": [
    {
     "name": "stdout",
     "output_type": "stream",
     "text": [
      "Collecting backtrader\n",
      "  Downloading backtrader-1.9.78.123-py2.py3-none-any.whl.metadata (6.8 kB)\n",
      "Downloading backtrader-1.9.78.123-py2.py3-none-any.whl (419 kB)\n",
      "\u001b[2K   \u001b[90m━━━━━━━━━━━━━━━━━━━━━━━━━━━━━━━━━━━━━━━━\u001b[0m \u001b[32m419.5/419.5 kB\u001b[0m \u001b[31m16.4 MB/s\u001b[0m eta \u001b[36m0:00:00\u001b[0m\n",
      "\u001b[?25hInstalling collected packages: backtrader\n",
      "Successfully installed backtrader-1.9.78.123\n"
     ]
    }
   ],
   "source": [
    "!pip install backtrader"
   ]
  },
  {
   "cell_type": "code",
   "execution_count": 32,
   "metadata": {
    "tags": []
   },
   "outputs": [],
   "source": [
    "from datetime import datetime\n",
    "import backtrader as bt"
   ]
  },
  {
   "cell_type": "code",
   "execution_count": 71,
   "metadata": {
    "tags": []
   },
   "outputs": [
    {
     "data": {
      "text/html": [
       "<div>\n",
       "<style scoped>\n",
       "    .dataframe tbody tr th:only-of-type {\n",
       "        vertical-align: middle;\n",
       "    }\n",
       "\n",
       "    .dataframe tbody tr th {\n",
       "        vertical-align: top;\n",
       "    }\n",
       "\n",
       "    .dataframe thead th {\n",
       "        text-align: right;\n",
       "    }\n",
       "</style>\n",
       "<table border=\"1\" class=\"dataframe\">\n",
       "  <thead>\n",
       "    <tr style=\"text-align: right;\">\n",
       "      <th></th>\n",
       "      <th>timestamp</th>\n",
       "      <th>Open</th>\n",
       "      <th>High</th>\n",
       "      <th>Low</th>\n",
       "      <th>Close</th>\n",
       "      <th>Volume</th>\n",
       "    </tr>\n",
       "    <tr>\n",
       "      <th>Date</th>\n",
       "      <th></th>\n",
       "      <th></th>\n",
       "      <th></th>\n",
       "      <th></th>\n",
       "      <th></th>\n",
       "      <th></th>\n",
       "    </tr>\n",
       "  </thead>\n",
       "  <tbody>\n",
       "    <tr>\n",
       "      <th>2016-01-04</th>\n",
       "      <td>2016-01-04 05:00:00+00:00</td>\n",
       "      <td>32.290</td>\n",
       "      <td>32.580</td>\n",
       "      <td>32.040</td>\n",
       "      <td>32.370</td>\n",
       "      <td>9777779.0</td>\n",
       "    </tr>\n",
       "    <tr>\n",
       "      <th>2016-01-05</th>\n",
       "      <td>2016-01-05 05:00:00+00:00</td>\n",
       "      <td>32.980</td>\n",
       "      <td>33.440</td>\n",
       "      <td>32.500</td>\n",
       "      <td>32.890</td>\n",
       "      <td>13406139.0</td>\n",
       "    </tr>\n",
       "    <tr>\n",
       "      <th>2016-01-06</th>\n",
       "      <td>2016-01-06 05:00:00+00:00</td>\n",
       "      <td>32.350</td>\n",
       "      <td>32.500</td>\n",
       "      <td>31.160</td>\n",
       "      <td>31.530</td>\n",
       "      <td>11606505.0</td>\n",
       "    </tr>\n",
       "    <tr>\n",
       "      <th>2016-01-07</th>\n",
       "      <td>2016-01-07 05:00:00+00:00</td>\n",
       "      <td>30.740</td>\n",
       "      <td>30.953</td>\n",
       "      <td>29.880</td>\n",
       "      <td>30.280</td>\n",
       "      <td>16989171.0</td>\n",
       "    </tr>\n",
       "    <tr>\n",
       "      <th>2016-01-08</th>\n",
       "      <td>2016-01-08 05:00:00+00:00</td>\n",
       "      <td>30.670</td>\n",
       "      <td>30.700</td>\n",
       "      <td>29.565</td>\n",
       "      <td>29.630</td>\n",
       "      <td>10461559.0</td>\n",
       "    </tr>\n",
       "    <tr>\n",
       "      <th>...</th>\n",
       "      <td>...</td>\n",
       "      <td>...</td>\n",
       "      <td>...</td>\n",
       "      <td>...</td>\n",
       "      <td>...</td>\n",
       "      <td>...</td>\n",
       "    </tr>\n",
       "    <tr>\n",
       "      <th>2024-08-21</th>\n",
       "      <td>2024-08-21 04:00:00+00:00</td>\n",
       "      <td>127.315</td>\n",
       "      <td>129.350</td>\n",
       "      <td>126.660</td>\n",
       "      <td>128.500</td>\n",
       "      <td>257883572.0</td>\n",
       "    </tr>\n",
       "    <tr>\n",
       "      <th>2024-08-22</th>\n",
       "      <td>2024-08-22 04:00:00+00:00</td>\n",
       "      <td>130.020</td>\n",
       "      <td>130.750</td>\n",
       "      <td>123.100</td>\n",
       "      <td>123.740</td>\n",
       "      <td>376189076.0</td>\n",
       "    </tr>\n",
       "    <tr>\n",
       "      <th>2024-08-23</th>\n",
       "      <td>2024-08-23 04:00:00+00:00</td>\n",
       "      <td>125.860</td>\n",
       "      <td>129.600</td>\n",
       "      <td>125.220</td>\n",
       "      <td>129.370</td>\n",
       "      <td>323230332.0</td>\n",
       "    </tr>\n",
       "    <tr>\n",
       "      <th>2024-08-26</th>\n",
       "      <td>2024-08-26 04:00:00+00:00</td>\n",
       "      <td>129.570</td>\n",
       "      <td>131.260</td>\n",
       "      <td>124.370</td>\n",
       "      <td>126.460</td>\n",
       "      <td>331964672.0</td>\n",
       "    </tr>\n",
       "    <tr>\n",
       "      <th>2024-08-27</th>\n",
       "      <td>2024-08-27 04:00:00+00:00</td>\n",
       "      <td>125.050</td>\n",
       "      <td>127.600</td>\n",
       "      <td>123.880</td>\n",
       "      <td>126.495</td>\n",
       "      <td>84660436.0</td>\n",
       "    </tr>\n",
       "  </tbody>\n",
       "</table>\n",
       "<p>2177 rows × 6 columns</p>\n",
       "</div>"
      ],
      "text/plain": [
       "                           timestamp     Open     High      Low    Close  \\\n",
       "Date                                                                       \n",
       "2016-01-04 2016-01-04 05:00:00+00:00   32.290   32.580   32.040   32.370   \n",
       "2016-01-05 2016-01-05 05:00:00+00:00   32.980   33.440   32.500   32.890   \n",
       "2016-01-06 2016-01-06 05:00:00+00:00   32.350   32.500   31.160   31.530   \n",
       "2016-01-07 2016-01-07 05:00:00+00:00   30.740   30.953   29.880   30.280   \n",
       "2016-01-08 2016-01-08 05:00:00+00:00   30.670   30.700   29.565   29.630   \n",
       "...                              ...      ...      ...      ...      ...   \n",
       "2024-08-21 2024-08-21 04:00:00+00:00  127.315  129.350  126.660  128.500   \n",
       "2024-08-22 2024-08-22 04:00:00+00:00  130.020  130.750  123.100  123.740   \n",
       "2024-08-23 2024-08-23 04:00:00+00:00  125.860  129.600  125.220  129.370   \n",
       "2024-08-26 2024-08-26 04:00:00+00:00  129.570  131.260  124.370  126.460   \n",
       "2024-08-27 2024-08-27 04:00:00+00:00  125.050  127.600  123.880  126.495   \n",
       "\n",
       "                 Volume  \n",
       "Date                     \n",
       "2016-01-04    9777779.0  \n",
       "2016-01-05   13406139.0  \n",
       "2016-01-06   11606505.0  \n",
       "2016-01-07   16989171.0  \n",
       "2016-01-08   10461559.0  \n",
       "...                 ...  \n",
       "2024-08-21  257883572.0  \n",
       "2024-08-22  376189076.0  \n",
       "2024-08-23  323230332.0  \n",
       "2024-08-26  331964672.0  \n",
       "2024-08-27   84660436.0  \n",
       "\n",
       "[2177 rows x 6 columns]"
      ]
     },
     "execution_count": 71,
     "metadata": {},
     "output_type": "execute_result"
    }
   ],
   "source": [
    "bars"
   ]
  },
  {
   "cell_type": "code",
   "execution_count": 82,
   "metadata": {
    "tags": []
   },
   "outputs": [
    {
     "data": {
      "text/plain": [
       "array([[3.22900000e+01, 3.25800000e+01, 3.20400000e+01, 3.23700000e+01,\n",
       "        9.77777900e+06],\n",
       "       [3.29800000e+01, 3.34400000e+01, 3.25000000e+01, 3.28900000e+01,\n",
       "        1.34061390e+07],\n",
       "       [3.23500000e+01, 3.25000000e+01, 3.11600000e+01, 3.15300000e+01,\n",
       "        1.16065050e+07],\n",
       "       ...,\n",
       "       [1.25860000e+02, 1.29600000e+02, 1.25220000e+02, 1.29370000e+02,\n",
       "        3.23230332e+08],\n",
       "       [1.29570000e+02, 1.31260000e+02, 1.24370000e+02, 1.26460000e+02,\n",
       "        3.31964672e+08],\n",
       "       [1.25050000e+02, 1.28980000e+02, 1.23880000e+02, 1.28120000e+02,\n",
       "        1.43951705e+08]])"
      ]
     },
     "execution_count": 82,
     "metadata": {},
     "output_type": "execute_result"
    }
   ],
   "source": [
    "bars.values"
   ]
  },
  {
   "cell_type": "code",
   "execution_count": 84,
   "metadata": {
    "tags": []
   },
   "outputs": [
    {
     "data": {
      "text/plain": [
       "Timestamp('2016-01-04 00:00:00')"
      ]
     },
     "execution_count": 84,
     "metadata": {},
     "output_type": "execute_result"
    }
   ],
   "source": [
    "bars0 = pd.DataFrame(index=[pd.Timestamp(i) for i in bars.index])\n",
    "bars0[bars.columns.tolist()] = bars.values\n",
    "bars0"
   ]
  },
  {
   "cell_type": "code",
   "execution_count": 86,
   "metadata": {
    "tags": []
   },
   "outputs": [],
   "source": []
  },
  {
   "cell_type": "code",
   "execution_count": 87,
   "metadata": {
    "tags": []
   },
   "outputs": [
    {
     "data": {
      "application/javascript": "/* Put everything inside the global mpl namespace */\n/* global mpl */\nwindow.mpl = {};\n\nmpl.get_websocket_type = function () {\n    if (typeof WebSocket !== 'undefined') {\n        return WebSocket;\n    } else if (typeof MozWebSocket !== 'undefined') {\n        return MozWebSocket;\n    } else {\n        alert(\n            'Your browser does not have WebSocket support. ' +\n                'Please try Chrome, Safari or Firefox ≥ 6. ' +\n                'Firefox 4 and 5 are also supported but you ' +\n                'have to enable WebSockets in about:config.'\n        );\n    }\n};\n\nmpl.figure = function (figure_id, websocket, ondownload, parent_element) {\n    this.id = figure_id;\n\n    this.ws = websocket;\n\n    this.supports_binary = this.ws.binaryType !== undefined;\n\n    if (!this.supports_binary) {\n        var warnings = document.getElementById('mpl-warnings');\n        if (warnings) {\n            warnings.style.display = 'block';\n            warnings.textContent =\n                'This browser does not support binary websocket messages. ' +\n                'Performance may be slow.';\n        }\n    }\n\n    this.imageObj = new Image();\n\n    this.context = undefined;\n    this.message = undefined;\n    this.canvas = undefined;\n    this.rubberband_canvas = undefined;\n    this.rubberband_context = undefined;\n    this.format_dropdown = undefined;\n\n    this.image_mode = 'full';\n\n    this.root = document.createElement('div');\n    this.root.setAttribute('style', 'display: inline-block');\n    this._root_extra_style(this.root);\n\n    parent_element.appendChild(this.root);\n\n    this._init_header(this);\n    this._init_canvas(this);\n    this._init_toolbar(this);\n\n    var fig = this;\n\n    this.waiting = false;\n\n    this.ws.onopen = function () {\n        fig.send_message('supports_binary', { value: fig.supports_binary });\n        fig.send_message('send_image_mode', {});\n        if (fig.ratio !== 1) {\n            fig.send_message('set_device_pixel_ratio', {\n                device_pixel_ratio: fig.ratio,\n            });\n        }\n        fig.send_message('refresh', {});\n    };\n\n    this.imageObj.onload = function () {\n        if (fig.image_mode === 'full') {\n            // Full images could contain transparency (where diff images\n            // almost always do), so we need to clear the canvas so that\n            // there is no ghosting.\n            fig.context.clearRect(0, 0, fig.canvas.width, fig.canvas.height);\n        }\n        fig.context.drawImage(fig.imageObj, 0, 0);\n    };\n\n    this.imageObj.onunload = function () {\n        fig.ws.close();\n    };\n\n    this.ws.onmessage = this._make_on_message_function(this);\n\n    this.ondownload = ondownload;\n};\n\nmpl.figure.prototype._init_header = function () {\n    var titlebar = document.createElement('div');\n    titlebar.classList =\n        'ui-dialog-titlebar ui-widget-header ui-corner-all ui-helper-clearfix';\n    var titletext = document.createElement('div');\n    titletext.classList = 'ui-dialog-title';\n    titletext.setAttribute(\n        'style',\n        'width: 100%; text-align: center; padding: 3px;'\n    );\n    titlebar.appendChild(titletext);\n    this.root.appendChild(titlebar);\n    this.header = titletext;\n};\n\nmpl.figure.prototype._canvas_extra_style = function (_canvas_div) {};\n\nmpl.figure.prototype._root_extra_style = function (_canvas_div) {};\n\nmpl.figure.prototype._init_canvas = function () {\n    var fig = this;\n\n    var canvas_div = (this.canvas_div = document.createElement('div'));\n    canvas_div.setAttribute('tabindex', '0');\n    canvas_div.setAttribute(\n        'style',\n        'border: 1px solid #ddd;' +\n            'box-sizing: content-box;' +\n            'clear: both;' +\n            'min-height: 1px;' +\n            'min-width: 1px;' +\n            'outline: 0;' +\n            'overflow: hidden;' +\n            'position: relative;' +\n            'resize: both;' +\n            'z-index: 2;'\n    );\n\n    function on_keyboard_event_closure(name) {\n        return function (event) {\n            return fig.key_event(event, name);\n        };\n    }\n\n    canvas_div.addEventListener(\n        'keydown',\n        on_keyboard_event_closure('key_press')\n    );\n    canvas_div.addEventListener(\n        'keyup',\n        on_keyboard_event_closure('key_release')\n    );\n\n    this._canvas_extra_style(canvas_div);\n    this.root.appendChild(canvas_div);\n\n    var canvas = (this.canvas = document.createElement('canvas'));\n    canvas.classList.add('mpl-canvas');\n    canvas.setAttribute(\n        'style',\n        'box-sizing: content-box;' +\n            'pointer-events: none;' +\n            'position: relative;' +\n            'z-index: 0;'\n    );\n\n    this.context = canvas.getContext('2d');\n\n    var backingStore =\n        this.context.backingStorePixelRatio ||\n        this.context.webkitBackingStorePixelRatio ||\n        this.context.mozBackingStorePixelRatio ||\n        this.context.msBackingStorePixelRatio ||\n        this.context.oBackingStorePixelRatio ||\n        this.context.backingStorePixelRatio ||\n        1;\n\n    this.ratio = (window.devicePixelRatio || 1) / backingStore;\n\n    var rubberband_canvas = (this.rubberband_canvas = document.createElement(\n        'canvas'\n    ));\n    rubberband_canvas.setAttribute(\n        'style',\n        'box-sizing: content-box;' +\n            'left: 0;' +\n            'pointer-events: none;' +\n            'position: absolute;' +\n            'top: 0;' +\n            'z-index: 1;'\n    );\n\n    // Apply a ponyfill if ResizeObserver is not implemented by browser.\n    if (this.ResizeObserver === undefined) {\n        if (window.ResizeObserver !== undefined) {\n            this.ResizeObserver = window.ResizeObserver;\n        } else {\n            var obs = _JSXTOOLS_RESIZE_OBSERVER({});\n            this.ResizeObserver = obs.ResizeObserver;\n        }\n    }\n\n    this.resizeObserverInstance = new this.ResizeObserver(function (entries) {\n        var nentries = entries.length;\n        for (var i = 0; i < nentries; i++) {\n            var entry = entries[i];\n            var width, height;\n            if (entry.contentBoxSize) {\n                if (entry.contentBoxSize instanceof Array) {\n                    // Chrome 84 implements new version of spec.\n                    width = entry.contentBoxSize[0].inlineSize;\n                    height = entry.contentBoxSize[0].blockSize;\n                } else {\n                    // Firefox implements old version of spec.\n                    width = entry.contentBoxSize.inlineSize;\n                    height = entry.contentBoxSize.blockSize;\n                }\n            } else {\n                // Chrome <84 implements even older version of spec.\n                width = entry.contentRect.width;\n                height = entry.contentRect.height;\n            }\n\n            // Keep the size of the canvas and rubber band canvas in sync with\n            // the canvas container.\n            if (entry.devicePixelContentBoxSize) {\n                // Chrome 84 implements new version of spec.\n                canvas.setAttribute(\n                    'width',\n                    entry.devicePixelContentBoxSize[0].inlineSize\n                );\n                canvas.setAttribute(\n                    'height',\n                    entry.devicePixelContentBoxSize[0].blockSize\n                );\n            } else {\n                canvas.setAttribute('width', width * fig.ratio);\n                canvas.setAttribute('height', height * fig.ratio);\n            }\n            /* This rescales the canvas back to display pixels, so that it\n             * appears correct on HiDPI screens. */\n            canvas.style.width = width + 'px';\n            canvas.style.height = height + 'px';\n\n            rubberband_canvas.setAttribute('width', width);\n            rubberband_canvas.setAttribute('height', height);\n\n            // And update the size in Python. We ignore the initial 0/0 size\n            // that occurs as the element is placed into the DOM, which should\n            // otherwise not happen due to the minimum size styling.\n            if (fig.ws.readyState == 1 && width != 0 && height != 0) {\n                fig.request_resize(width, height);\n            }\n        }\n    });\n    this.resizeObserverInstance.observe(canvas_div);\n\n    function on_mouse_event_closure(name) {\n        /* User Agent sniffing is bad, but WebKit is busted:\n         * https://bugs.webkit.org/show_bug.cgi?id=144526\n         * https://bugs.webkit.org/show_bug.cgi?id=181818\n         * The worst that happens here is that they get an extra browser\n         * selection when dragging, if this check fails to catch them.\n         */\n        var UA = navigator.userAgent;\n        var isWebKit = /AppleWebKit/.test(UA) && !/Chrome/.test(UA);\n        if(isWebKit) {\n            return function (event) {\n                /* This prevents the web browser from automatically changing to\n                 * the text insertion cursor when the button is pressed. We\n                 * want to control all of the cursor setting manually through\n                 * the 'cursor' event from matplotlib */\n                event.preventDefault()\n                return fig.mouse_event(event, name);\n            };\n        } else {\n            return function (event) {\n                return fig.mouse_event(event, name);\n            };\n        }\n    }\n\n    canvas_div.addEventListener(\n        'mousedown',\n        on_mouse_event_closure('button_press')\n    );\n    canvas_div.addEventListener(\n        'mouseup',\n        on_mouse_event_closure('button_release')\n    );\n    canvas_div.addEventListener(\n        'dblclick',\n        on_mouse_event_closure('dblclick')\n    );\n    // Throttle sequential mouse events to 1 every 20ms.\n    canvas_div.addEventListener(\n        'mousemove',\n        on_mouse_event_closure('motion_notify')\n    );\n\n    canvas_div.addEventListener(\n        'mouseenter',\n        on_mouse_event_closure('figure_enter')\n    );\n    canvas_div.addEventListener(\n        'mouseleave',\n        on_mouse_event_closure('figure_leave')\n    );\n\n    canvas_div.addEventListener('wheel', function (event) {\n        if (event.deltaY < 0) {\n            event.step = 1;\n        } else {\n            event.step = -1;\n        }\n        on_mouse_event_closure('scroll')(event);\n    });\n\n    canvas_div.appendChild(canvas);\n    canvas_div.appendChild(rubberband_canvas);\n\n    this.rubberband_context = rubberband_canvas.getContext('2d');\n    this.rubberband_context.strokeStyle = '#000000';\n\n    this._resize_canvas = function (width, height, forward) {\n        if (forward) {\n            canvas_div.style.width = width + 'px';\n            canvas_div.style.height = height + 'px';\n        }\n    };\n\n    // Disable right mouse context menu.\n    canvas_div.addEventListener('contextmenu', function (_e) {\n        event.preventDefault();\n        return false;\n    });\n\n    function set_focus() {\n        canvas.focus();\n        canvas_div.focus();\n    }\n\n    window.setTimeout(set_focus, 100);\n};\n\nmpl.figure.prototype._init_toolbar = function () {\n    var fig = this;\n\n    var toolbar = document.createElement('div');\n    toolbar.classList = 'mpl-toolbar';\n    this.root.appendChild(toolbar);\n\n    function on_click_closure(name) {\n        return function (_event) {\n            return fig.toolbar_button_onclick(name);\n        };\n    }\n\n    function on_mouseover_closure(tooltip) {\n        return function (event) {\n            if (!event.currentTarget.disabled) {\n                return fig.toolbar_button_onmouseover(tooltip);\n            }\n        };\n    }\n\n    fig.buttons = {};\n    var buttonGroup = document.createElement('div');\n    buttonGroup.classList = 'mpl-button-group';\n    for (var toolbar_ind in mpl.toolbar_items) {\n        var name = mpl.toolbar_items[toolbar_ind][0];\n        var tooltip = mpl.toolbar_items[toolbar_ind][1];\n        var image = mpl.toolbar_items[toolbar_ind][2];\n        var method_name = mpl.toolbar_items[toolbar_ind][3];\n\n        if (!name) {\n            /* Instead of a spacer, we start a new button group. */\n            if (buttonGroup.hasChildNodes()) {\n                toolbar.appendChild(buttonGroup);\n            }\n            buttonGroup = document.createElement('div');\n            buttonGroup.classList = 'mpl-button-group';\n            continue;\n        }\n\n        var button = (fig.buttons[name] = document.createElement('button'));\n        button.classList = 'mpl-widget';\n        button.setAttribute('role', 'button');\n        button.setAttribute('aria-disabled', 'false');\n        button.addEventListener('click', on_click_closure(method_name));\n        button.addEventListener('mouseover', on_mouseover_closure(tooltip));\n\n        var icon_img = document.createElement('img');\n        icon_img.src = '_images/' + image + '.png';\n        icon_img.srcset = '_images/' + image + '_large.png 2x';\n        icon_img.alt = tooltip;\n        button.appendChild(icon_img);\n\n        buttonGroup.appendChild(button);\n    }\n\n    if (buttonGroup.hasChildNodes()) {\n        toolbar.appendChild(buttonGroup);\n    }\n\n    var fmt_picker = document.createElement('select');\n    fmt_picker.classList = 'mpl-widget';\n    toolbar.appendChild(fmt_picker);\n    this.format_dropdown = fmt_picker;\n\n    for (var ind in mpl.extensions) {\n        var fmt = mpl.extensions[ind];\n        var option = document.createElement('option');\n        option.selected = fmt === mpl.default_extension;\n        option.innerHTML = fmt;\n        fmt_picker.appendChild(option);\n    }\n\n    var status_bar = document.createElement('span');\n    status_bar.classList = 'mpl-message';\n    toolbar.appendChild(status_bar);\n    this.message = status_bar;\n};\n\nmpl.figure.prototype.request_resize = function (x_pixels, y_pixels) {\n    // Request matplotlib to resize the figure. Matplotlib will then trigger a resize in the client,\n    // which will in turn request a refresh of the image.\n    this.send_message('resize', { width: x_pixels, height: y_pixels });\n};\n\nmpl.figure.prototype.send_message = function (type, properties) {\n    properties['type'] = type;\n    properties['figure_id'] = this.id;\n    this.ws.send(JSON.stringify(properties));\n};\n\nmpl.figure.prototype.send_draw_message = function () {\n    if (!this.waiting) {\n        this.waiting = true;\n        this.ws.send(JSON.stringify({ type: 'draw', figure_id: this.id }));\n    }\n};\n\nmpl.figure.prototype.handle_save = function (fig, _msg) {\n    var format_dropdown = fig.format_dropdown;\n    var format = format_dropdown.options[format_dropdown.selectedIndex].value;\n    fig.ondownload(fig, format);\n};\n\nmpl.figure.prototype.handle_resize = function (fig, msg) {\n    var size = msg['size'];\n    if (size[0] !== fig.canvas.width || size[1] !== fig.canvas.height) {\n        fig._resize_canvas(size[0], size[1], msg['forward']);\n        fig.send_message('refresh', {});\n    }\n};\n\nmpl.figure.prototype.handle_rubberband = function (fig, msg) {\n    var x0 = msg['x0'] / fig.ratio;\n    var y0 = (fig.canvas.height - msg['y0']) / fig.ratio;\n    var x1 = msg['x1'] / fig.ratio;\n    var y1 = (fig.canvas.height - msg['y1']) / fig.ratio;\n    x0 = Math.floor(x0) + 0.5;\n    y0 = Math.floor(y0) + 0.5;\n    x1 = Math.floor(x1) + 0.5;\n    y1 = Math.floor(y1) + 0.5;\n    var min_x = Math.min(x0, x1);\n    var min_y = Math.min(y0, y1);\n    var width = Math.abs(x1 - x0);\n    var height = Math.abs(y1 - y0);\n\n    fig.rubberband_context.clearRect(\n        0,\n        0,\n        fig.canvas.width / fig.ratio,\n        fig.canvas.height / fig.ratio\n    );\n\n    fig.rubberband_context.strokeRect(min_x, min_y, width, height);\n};\n\nmpl.figure.prototype.handle_figure_label = function (fig, msg) {\n    // Updates the figure title.\n    fig.header.textContent = msg['label'];\n};\n\nmpl.figure.prototype.handle_cursor = function (fig, msg) {\n    fig.canvas_div.style.cursor = msg['cursor'];\n};\n\nmpl.figure.prototype.handle_message = function (fig, msg) {\n    fig.message.textContent = msg['message'];\n};\n\nmpl.figure.prototype.handle_draw = function (fig, _msg) {\n    // Request the server to send over a new figure.\n    fig.send_draw_message();\n};\n\nmpl.figure.prototype.handle_image_mode = function (fig, msg) {\n    fig.image_mode = msg['mode'];\n};\n\nmpl.figure.prototype.handle_history_buttons = function (fig, msg) {\n    for (var key in msg) {\n        if (!(key in fig.buttons)) {\n            continue;\n        }\n        fig.buttons[key].disabled = !msg[key];\n        fig.buttons[key].setAttribute('aria-disabled', !msg[key]);\n    }\n};\n\nmpl.figure.prototype.handle_navigate_mode = function (fig, msg) {\n    if (msg['mode'] === 'PAN') {\n        fig.buttons['Pan'].classList.add('active');\n        fig.buttons['Zoom'].classList.remove('active');\n    } else if (msg['mode'] === 'ZOOM') {\n        fig.buttons['Pan'].classList.remove('active');\n        fig.buttons['Zoom'].classList.add('active');\n    } else {\n        fig.buttons['Pan'].classList.remove('active');\n        fig.buttons['Zoom'].classList.remove('active');\n    }\n};\n\nmpl.figure.prototype.updated_canvas_event = function () {\n    // Called whenever the canvas gets updated.\n    this.send_message('ack', {});\n};\n\n// A function to construct a web socket function for onmessage handling.\n// Called in the figure constructor.\nmpl.figure.prototype._make_on_message_function = function (fig) {\n    return function socket_on_message(evt) {\n        if (evt.data instanceof Blob) {\n            var img = evt.data;\n            if (img.type !== 'image/png') {\n                /* FIXME: We get \"Resource interpreted as Image but\n                 * transferred with MIME type text/plain:\" errors on\n                 * Chrome.  But how to set the MIME type?  It doesn't seem\n                 * to be part of the websocket stream */\n                img.type = 'image/png';\n            }\n\n            /* Free the memory for the previous frames */\n            if (fig.imageObj.src) {\n                (window.URL || window.webkitURL).revokeObjectURL(\n                    fig.imageObj.src\n                );\n            }\n\n            fig.imageObj.src = (window.URL || window.webkitURL).createObjectURL(\n                img\n            );\n            fig.updated_canvas_event();\n            fig.waiting = false;\n            return;\n        } else if (\n            typeof evt.data === 'string' &&\n            evt.data.slice(0, 21) === 'data:image/png;base64'\n        ) {\n            fig.imageObj.src = evt.data;\n            fig.updated_canvas_event();\n            fig.waiting = false;\n            return;\n        }\n\n        var msg = JSON.parse(evt.data);\n        var msg_type = msg['type'];\n\n        // Call the  \"handle_{type}\" callback, which takes\n        // the figure and JSON message as its only arguments.\n        try {\n            var callback = fig['handle_' + msg_type];\n        } catch (e) {\n            console.log(\n                \"No handler for the '\" + msg_type + \"' message type: \",\n                msg\n            );\n            return;\n        }\n\n        if (callback) {\n            try {\n                // console.log(\"Handling '\" + msg_type + \"' message: \", msg);\n                callback(fig, msg);\n            } catch (e) {\n                console.log(\n                    \"Exception inside the 'handler_\" + msg_type + \"' callback:\",\n                    e,\n                    e.stack,\n                    msg\n                );\n            }\n        }\n    };\n};\n\nfunction getModifiers(event) {\n    var mods = [];\n    if (event.ctrlKey) {\n        mods.push('ctrl');\n    }\n    if (event.altKey) {\n        mods.push('alt');\n    }\n    if (event.shiftKey) {\n        mods.push('shift');\n    }\n    if (event.metaKey) {\n        mods.push('meta');\n    }\n    return mods;\n}\n\n/*\n * return a copy of an object with only non-object keys\n * we need this to avoid circular references\n * https://stackoverflow.com/a/24161582/3208463\n */\nfunction simpleKeys(original) {\n    return Object.keys(original).reduce(function (obj, key) {\n        if (typeof original[key] !== 'object') {\n            obj[key] = original[key];\n        }\n        return obj;\n    }, {});\n}\n\nmpl.figure.prototype.mouse_event = function (event, name) {\n    if (name === 'button_press') {\n        this.canvas.focus();\n        this.canvas_div.focus();\n    }\n\n    // from https://stackoverflow.com/q/1114465\n    var boundingRect = this.canvas.getBoundingClientRect();\n    var x = (event.clientX - boundingRect.left) * this.ratio;\n    var y = (event.clientY - boundingRect.top) * this.ratio;\n\n    this.send_message(name, {\n        x: x,\n        y: y,\n        button: event.button,\n        step: event.step,\n        modifiers: getModifiers(event),\n        guiEvent: simpleKeys(event),\n    });\n\n    return false;\n};\n\nmpl.figure.prototype._key_event_extra = function (_event, _name) {\n    // Handle any extra behaviour associated with a key event\n};\n\nmpl.figure.prototype.key_event = function (event, name) {\n    // Prevent repeat events\n    if (name === 'key_press') {\n        if (event.key === this._key) {\n            return;\n        } else {\n            this._key = event.key;\n        }\n    }\n    if (name === 'key_release') {\n        this._key = null;\n    }\n\n    var value = '';\n    if (event.ctrlKey && event.key !== 'Control') {\n        value += 'ctrl+';\n    }\n    else if (event.altKey && event.key !== 'Alt') {\n        value += 'alt+';\n    }\n    else if (event.shiftKey && event.key !== 'Shift') {\n        value += 'shift+';\n    }\n\n    value += 'k' + event.key;\n\n    this._key_event_extra(event, name);\n\n    this.send_message(name, { key: value, guiEvent: simpleKeys(event) });\n    return false;\n};\n\nmpl.figure.prototype.toolbar_button_onclick = function (name) {\n    if (name === 'download') {\n        this.handle_save(this, null);\n    } else {\n        this.send_message('toolbar_button', { name: name });\n    }\n};\n\nmpl.figure.prototype.toolbar_button_onmouseover = function (tooltip) {\n    this.message.textContent = tooltip;\n};\n\n///////////////// REMAINING CONTENT GENERATED BY embed_js.py /////////////////\n// prettier-ignore\nvar _JSXTOOLS_RESIZE_OBSERVER=function(A){var t,i=new WeakMap,n=new WeakMap,a=new WeakMap,r=new WeakMap,o=new Set;function s(e){if(!(this instanceof s))throw new TypeError(\"Constructor requires 'new' operator\");i.set(this,e)}function h(){throw new TypeError(\"Function is not a constructor\")}function c(e,t,i,n){e=0 in arguments?Number(arguments[0]):0,t=1 in arguments?Number(arguments[1]):0,i=2 in arguments?Number(arguments[2]):0,n=3 in arguments?Number(arguments[3]):0,this.right=(this.x=this.left=e)+(this.width=i),this.bottom=(this.y=this.top=t)+(this.height=n),Object.freeze(this)}function d(){t=requestAnimationFrame(d);var s=new WeakMap,p=new Set;o.forEach((function(t){r.get(t).forEach((function(i){var r=t instanceof window.SVGElement,o=a.get(t),d=r?0:parseFloat(o.paddingTop),f=r?0:parseFloat(o.paddingRight),l=r?0:parseFloat(o.paddingBottom),u=r?0:parseFloat(o.paddingLeft),g=r?0:parseFloat(o.borderTopWidth),m=r?0:parseFloat(o.borderRightWidth),w=r?0:parseFloat(o.borderBottomWidth),b=u+f,F=d+l,v=(r?0:parseFloat(o.borderLeftWidth))+m,W=g+w,y=r?0:t.offsetHeight-W-t.clientHeight,E=r?0:t.offsetWidth-v-t.clientWidth,R=b+v,z=F+W,M=r?t.width:parseFloat(o.width)-R-E,O=r?t.height:parseFloat(o.height)-z-y;if(n.has(t)){var k=n.get(t);if(k[0]===M&&k[1]===O)return}n.set(t,[M,O]);var S=Object.create(h.prototype);S.target=t,S.contentRect=new c(u,d,M,O),s.has(i)||(s.set(i,[]),p.add(i)),s.get(i).push(S)}))})),p.forEach((function(e){i.get(e).call(e,s.get(e),e)}))}return s.prototype.observe=function(i){if(i instanceof window.Element){r.has(i)||(r.set(i,new Set),o.add(i),a.set(i,window.getComputedStyle(i)));var n=r.get(i);n.has(this)||n.add(this),cancelAnimationFrame(t),t=requestAnimationFrame(d)}},s.prototype.unobserve=function(i){if(i instanceof window.Element&&r.has(i)){var n=r.get(i);n.has(this)&&(n.delete(this),n.size||(r.delete(i),o.delete(i))),n.size||r.delete(i),o.size||cancelAnimationFrame(t)}},A.DOMRectReadOnly=c,A.ResizeObserver=s,A.ResizeObserverEntry=h,A}; // eslint-disable-line\nmpl.toolbar_items = [[\"Home\", \"Reset original view\", \"fa fa-home\", \"home\"], [\"Back\", \"Back to previous view\", \"fa fa-arrow-left\", \"back\"], [\"Forward\", \"Forward to next view\", \"fa fa-arrow-right\", \"forward\"], [\"\", \"\", \"\", \"\"], [\"Pan\", \"Left button pans, Right button zooms\\nx/y fixes axis, CTRL fixes aspect\", \"fa fa-arrows\", \"pan\"], [\"Zoom\", \"Zoom to rectangle\\nx/y fixes axis\", \"fa fa-square-o\", \"zoom\"], [\"\", \"\", \"\", \"\"], [\"Download\", \"Download plot\", \"fa fa-floppy-o\", \"download\"]];\n\nmpl.extensions = [\"eps\", \"jpeg\", \"pgf\", \"pdf\", \"png\", \"ps\", \"raw\", \"svg\", \"tif\", \"webp\"];\n\nmpl.default_extension = \"png\";/* global mpl */\n\nvar comm_websocket_adapter = function (comm) {\n    // Create a \"websocket\"-like object which calls the given IPython comm\n    // object with the appropriate methods. Currently this is a non binary\n    // socket, so there is still some room for performance tuning.\n    var ws = {};\n\n    ws.binaryType = comm.kernel.ws.binaryType;\n    ws.readyState = comm.kernel.ws.readyState;\n    function updateReadyState(_event) {\n        if (comm.kernel.ws) {\n            ws.readyState = comm.kernel.ws.readyState;\n        } else {\n            ws.readyState = 3; // Closed state.\n        }\n    }\n    comm.kernel.ws.addEventListener('open', updateReadyState);\n    comm.kernel.ws.addEventListener('close', updateReadyState);\n    comm.kernel.ws.addEventListener('error', updateReadyState);\n\n    ws.close = function () {\n        comm.close();\n    };\n    ws.send = function (m) {\n        //console.log('sending', m);\n        comm.send(m);\n    };\n    // Register the callback with on_msg.\n    comm.on_msg(function (msg) {\n        //console.log('receiving', msg['content']['data'], msg);\n        var data = msg['content']['data'];\n        if (data['blob'] !== undefined) {\n            data = {\n                data: new Blob(msg['buffers'], { type: data['blob'] }),\n            };\n        }\n        // Pass the mpl event to the overridden (by mpl) onmessage function.\n        ws.onmessage(data);\n    });\n    return ws;\n};\n\nmpl.mpl_figure_comm = function (comm, msg) {\n    // This is the function which gets called when the mpl process\n    // starts-up an IPython Comm through the \"matplotlib\" channel.\n\n    var id = msg.content.data.id;\n    // Get hold of the div created by the display call when the Comm\n    // socket was opened in Python.\n    var element = document.getElementById(id);\n    var ws_proxy = comm_websocket_adapter(comm);\n\n    function ondownload(figure, _format) {\n        window.open(figure.canvas.toDataURL());\n    }\n\n    var fig = new mpl.figure(id, ws_proxy, ondownload, element);\n\n    // Call onopen now - mpl needs it, as it is assuming we've passed it a real\n    // web socket which is closed, not our websocket->open comm proxy.\n    ws_proxy.onopen();\n\n    fig.parent_element = element;\n    fig.cell_info = mpl.find_output_cell(\"<div id='\" + id + \"'></div>\");\n    if (!fig.cell_info) {\n        console.error('Failed to find cell for figure', id, fig);\n        return;\n    }\n    fig.cell_info[0].output_area.element.on(\n        'cleared',\n        { fig: fig },\n        fig._remove_fig_handler\n    );\n};\n\nmpl.figure.prototype.handle_close = function (fig, msg) {\n    var width = fig.canvas.width / fig.ratio;\n    fig.cell_info[0].output_area.element.off(\n        'cleared',\n        fig._remove_fig_handler\n    );\n    fig.resizeObserverInstance.unobserve(fig.canvas_div);\n\n    // Update the output cell to use the data from the current canvas.\n    fig.push_to_output();\n    var dataURL = fig.canvas.toDataURL();\n    // Re-enable the keyboard manager in IPython - without this line, in FF,\n    // the notebook keyboard shortcuts fail.\n    IPython.keyboard_manager.enable();\n    fig.parent_element.innerHTML =\n        '<img src=\"' + dataURL + '\" width=\"' + width + '\">';\n    fig.close_ws(fig, msg);\n};\n\nmpl.figure.prototype.close_ws = function (fig, msg) {\n    fig.send_message('closing', msg);\n    // fig.ws.close()\n};\n\nmpl.figure.prototype.push_to_output = function (_remove_interactive) {\n    // Turn the data on the canvas into data in the output cell.\n    var width = this.canvas.width / this.ratio;\n    var dataURL = this.canvas.toDataURL();\n    this.cell_info[1]['text/html'] =\n        '<img src=\"' + dataURL + '\" width=\"' + width + '\">';\n};\n\nmpl.figure.prototype.updated_canvas_event = function () {\n    // Tell IPython that the notebook contents must change.\n    IPython.notebook.set_dirty(true);\n    this.send_message('ack', {});\n    var fig = this;\n    // Wait a second, then push the new image to the DOM so\n    // that it is saved nicely (might be nice to debounce this).\n    setTimeout(function () {\n        fig.push_to_output();\n    }, 1000);\n};\n\nmpl.figure.prototype._init_toolbar = function () {\n    var fig = this;\n\n    var toolbar = document.createElement('div');\n    toolbar.classList = 'btn-toolbar';\n    this.root.appendChild(toolbar);\n\n    function on_click_closure(name) {\n        return function (_event) {\n            return fig.toolbar_button_onclick(name);\n        };\n    }\n\n    function on_mouseover_closure(tooltip) {\n        return function (event) {\n            if (!event.currentTarget.disabled) {\n                return fig.toolbar_button_onmouseover(tooltip);\n            }\n        };\n    }\n\n    fig.buttons = {};\n    var buttonGroup = document.createElement('div');\n    buttonGroup.classList = 'btn-group';\n    var button;\n    for (var toolbar_ind in mpl.toolbar_items) {\n        var name = mpl.toolbar_items[toolbar_ind][0];\n        var tooltip = mpl.toolbar_items[toolbar_ind][1];\n        var image = mpl.toolbar_items[toolbar_ind][2];\n        var method_name = mpl.toolbar_items[toolbar_ind][3];\n\n        if (!name) {\n            /* Instead of a spacer, we start a new button group. */\n            if (buttonGroup.hasChildNodes()) {\n                toolbar.appendChild(buttonGroup);\n            }\n            buttonGroup = document.createElement('div');\n            buttonGroup.classList = 'btn-group';\n            continue;\n        }\n\n        button = fig.buttons[name] = document.createElement('button');\n        button.classList = 'btn btn-default';\n        button.href = '#';\n        button.title = name;\n        button.innerHTML = '<i class=\"fa ' + image + ' fa-lg\"></i>';\n        button.addEventListener('click', on_click_closure(method_name));\n        button.addEventListener('mouseover', on_mouseover_closure(tooltip));\n        buttonGroup.appendChild(button);\n    }\n\n    if (buttonGroup.hasChildNodes()) {\n        toolbar.appendChild(buttonGroup);\n    }\n\n    // Add the status bar.\n    var status_bar = document.createElement('span');\n    status_bar.classList = 'mpl-message pull-right';\n    toolbar.appendChild(status_bar);\n    this.message = status_bar;\n\n    // Add the close button to the window.\n    var buttongrp = document.createElement('div');\n    buttongrp.classList = 'btn-group inline pull-right';\n    button = document.createElement('button');\n    button.classList = 'btn btn-mini btn-primary';\n    button.href = '#';\n    button.title = 'Stop Interaction';\n    button.innerHTML = '<i class=\"fa fa-power-off icon-remove icon-large\"></i>';\n    button.addEventListener('click', function (_evt) {\n        fig.handle_close(fig, {});\n    });\n    button.addEventListener(\n        'mouseover',\n        on_mouseover_closure('Stop Interaction')\n    );\n    buttongrp.appendChild(button);\n    var titlebar = this.root.querySelector('.ui-dialog-titlebar');\n    titlebar.insertBefore(buttongrp, titlebar.firstChild);\n};\n\nmpl.figure.prototype._remove_fig_handler = function (event) {\n    var fig = event.data.fig;\n    if (event.target !== this) {\n        // Ignore bubbled events from children.\n        return;\n    }\n    fig.close_ws(fig, {});\n};\n\nmpl.figure.prototype._root_extra_style = function (el) {\n    el.style.boxSizing = 'content-box'; // override notebook setting of border-box.\n};\n\nmpl.figure.prototype._canvas_extra_style = function (el) {\n    // this is important to make the div 'focusable\n    el.setAttribute('tabindex', 0);\n    // reach out to IPython and tell the keyboard manager to turn it's self\n    // off when our div gets focus\n\n    // location in version 3\n    if (IPython.notebook.keyboard_manager) {\n        IPython.notebook.keyboard_manager.register_events(el);\n    } else {\n        // location in version 2\n        IPython.keyboard_manager.register_events(el);\n    }\n};\n\nmpl.figure.prototype._key_event_extra = function (event, _name) {\n    // Check for shift+enter\n    if (event.shiftKey && event.which === 13) {\n        this.canvas_div.blur();\n        // select the cell after this one\n        var index = IPython.notebook.find_cell_index(this.cell_info[0]);\n        IPython.notebook.select(index + 1);\n    }\n};\n\nmpl.figure.prototype.handle_save = function (fig, _msg) {\n    fig.ondownload(fig, null);\n};\n\nmpl.find_output_cell = function (html_output) {\n    // Return the cell and output element which can be found *uniquely* in the notebook.\n    // Note - this is a bit hacky, but it is done because the \"notebook_saving.Notebook\"\n    // IPython event is triggered only after the cells have been serialised, which for\n    // our purposes (turning an active figure into a static one), is too late.\n    var cells = IPython.notebook.get_cells();\n    var ncells = cells.length;\n    for (var i = 0; i < ncells; i++) {\n        var cell = cells[i];\n        if (cell.cell_type === 'code') {\n            for (var j = 0; j < cell.output_area.outputs.length; j++) {\n                var data = cell.output_area.outputs[j];\n                if (data.data) {\n                    // IPython >= 3 moved mimebundle to data attribute of output\n                    data = data.data;\n                }\n                if (data['text/html'] === html_output) {\n                    return [cell, data, j];\n                }\n            }\n        }\n    }\n};\n\n// Register the function which deals with the matplotlib target/channel.\n// The kernel may be null if the page has been refreshed.\nif (IPython.notebook.kernel !== null) {\n    IPython.notebook.kernel.comm_manager.register_target(\n        'matplotlib',\n        mpl.mpl_figure_comm\n    );\n}\n",
      "text/plain": [
       "<IPython.core.display.Javascript object>"
      ]
     },
     "metadata": {},
     "output_type": "display_data"
    },
    {
     "data": {
      "text/html": [
       "<div id='7595112a-61c3-42e1-b828-8417f8a6496d'></div>"
      ],
      "text/plain": [
       "<IPython.core.display.HTML object>"
      ]
     },
     "metadata": {},
     "output_type": "display_data"
    },
    {
     "data": {
      "text/plain": [
       "[[<Figure size 640x480 with 5 Axes>]]"
      ]
     },
     "execution_count": 87,
     "metadata": {},
     "output_type": "execute_result"
    }
   ],
   "source": [
    "%matplotlib inline\n",
    "\n",
    "class SmaCross(bt.SignalStrategy):\n",
    "    def __init__(self):\n",
    "        sma1, sma2 = bt.ind.SMA(period=10), bt.ind.SMA(period=30)\n",
    "        crossover = bt.ind.CrossOver(sma1, sma2)\n",
    "        self.signal_add(bt.SIGNAL_LONG, crossover)\n",
    "\n",
    "cerebro = bt.Cerebro()\n",
    "cerebro.addstrategy(SmaCross)\n",
    "\n",
    "bars0 = pd.DataFrame(index=[pd.Timestamp(i) for i in bars.index])\n",
    "bars0[bars.columns.tolist()] = bars.values\n",
    "data0 = bt.feeds.PandasData(dataname=bars0)\n",
    "bars\n",
    "cerebro.adddata(data0)\n",
    "\n",
    "cerebro.run()\n",
    "cerebro.plot()"
   ]
  },
  {
   "cell_type": "code",
   "execution_count": 50,
   "metadata": {
    "tags": []
   },
   "outputs": [
    {
     "ename": "AttributeError",
     "evalue": "'str' object has no attribute 'to_pydatetime'",
     "output_type": "error",
     "traceback": [
      "\u001b[0;31m---------------------------------------------------------------------------\u001b[0m",
      "\u001b[0;31mAttributeError\u001b[0m                            Traceback (most recent call last)",
      "Cell \u001b[0;32mIn[50], line 1\u001b[0m\n\u001b[0;32m----> 1\u001b[0m \u001b[43mbars\u001b[49m\u001b[38;5;241;43m.\u001b[39;49m\u001b[43mindex\u001b[49m\u001b[43m[\u001b[49m\u001b[38;5;241;43m0\u001b[39;49m\u001b[43m]\u001b[49m\u001b[38;5;241;43m.\u001b[39;49m\u001b[43mto_pydatetime\u001b[49m()\n",
      "\u001b[0;31mAttributeError\u001b[0m: 'str' object has no attribute 'to_pydatetime'"
     ]
    }
   ],
   "source": [
    "bars.index[0].to_pydatetime()"
   ]
  },
  {
   "cell_type": "code",
   "execution_count": 24,
   "metadata": {
    "tags": []
   },
   "outputs": [],
   "source": [
    "from alpaca.data.timeframe import TimeFrame\n",
    "from alpaca.data.requests import StockBarsRequest\n",
    "from alpaca.data.historical import StockHistoricalDataClient # Create stock historical data client"
   ]
  },
  {
   "cell_type": "code",
   "execution_count": 468,
   "metadata": {
    "tags": []
   },
   "outputs": [
    {
     "data": {
      "text/html": [
       "<div>\n",
       "<style scoped>\n",
       "    .dataframe tbody tr th:only-of-type {\n",
       "        vertical-align: middle;\n",
       "    }\n",
       "\n",
       "    .dataframe tbody tr th {\n",
       "        vertical-align: top;\n",
       "    }\n",
       "\n",
       "    .dataframe thead th {\n",
       "        text-align: right;\n",
       "    }\n",
       "</style>\n",
       "<table border=\"1\" class=\"dataframe\">\n",
       "  <thead>\n",
       "    <tr style=\"text-align: right;\">\n",
       "      <th></th>\n",
       "      <th>Close</th>\n",
       "    </tr>\n",
       "    <tr>\n",
       "      <th>Date</th>\n",
       "      <th></th>\n",
       "    </tr>\n",
       "  </thead>\n",
       "  <tbody>\n",
       "    <tr>\n",
       "      <th>2016-01-04</th>\n",
       "      <td>32.37</td>\n",
       "    </tr>\n",
       "    <tr>\n",
       "      <th>2016-01-05</th>\n",
       "      <td>32.89</td>\n",
       "    </tr>\n",
       "    <tr>\n",
       "      <th>2016-01-06</th>\n",
       "      <td>31.53</td>\n",
       "    </tr>\n",
       "    <tr>\n",
       "      <th>2016-01-07</th>\n",
       "      <td>30.28</td>\n",
       "    </tr>\n",
       "    <tr>\n",
       "      <th>2016-01-08</th>\n",
       "      <td>29.63</td>\n",
       "    </tr>\n",
       "    <tr>\n",
       "      <th>...</th>\n",
       "      <td>...</td>\n",
       "    </tr>\n",
       "    <tr>\n",
       "      <th>2024-08-21</th>\n",
       "      <td>128.50</td>\n",
       "    </tr>\n",
       "    <tr>\n",
       "      <th>2024-08-22</th>\n",
       "      <td>123.74</td>\n",
       "    </tr>\n",
       "    <tr>\n",
       "      <th>2024-08-23</th>\n",
       "      <td>129.37</td>\n",
       "    </tr>\n",
       "    <tr>\n",
       "      <th>2024-08-26</th>\n",
       "      <td>126.46</td>\n",
       "    </tr>\n",
       "    <tr>\n",
       "      <th>2024-08-27</th>\n",
       "      <td>125.14</td>\n",
       "    </tr>\n",
       "  </tbody>\n",
       "</table>\n",
       "<p>2177 rows × 1 columns</p>\n",
       "</div>"
      ],
      "text/plain": [
       "             Close\n",
       "Date              \n",
       "2016-01-04   32.37\n",
       "2016-01-05   32.89\n",
       "2016-01-06   31.53\n",
       "2016-01-07   30.28\n",
       "2016-01-08   29.63\n",
       "...            ...\n",
       "2024-08-21  128.50\n",
       "2024-08-22  123.74\n",
       "2024-08-23  129.37\n",
       "2024-08-26  126.46\n",
       "2024-08-27  125.14\n",
       "\n",
       "[2177 rows x 1 columns]"
      ]
     },
     "execution_count": 468,
     "metadata": {},
     "output_type": "execute_result"
    }
   ],
   "source": [
    "bars[\"Close\"]"
   ]
  },
  {
   "cell_type": "code",
   "execution_count": 471,
   "metadata": {
    "tags": []
   },
   "outputs": [
    {
     "data": {
      "text/html": [
       "<div>\n",
       "<style scoped>\n",
       "    .dataframe tbody tr th:only-of-type {\n",
       "        vertical-align: middle;\n",
       "    }\n",
       "\n",
       "    .dataframe tbody tr th {\n",
       "        vertical-align: top;\n",
       "    }\n",
       "\n",
       "    .dataframe thead th {\n",
       "        text-align: right;\n",
       "    }\n",
       "</style>\n",
       "<table border=\"1\" class=\"dataframe\">\n",
       "  <thead>\n",
       "    <tr style=\"text-align: right;\">\n",
       "      <th></th>\n",
       "      <th>signal</th>\n",
       "      <th>short_mavg</th>\n",
       "      <th>long_mavg</th>\n",
       "    </tr>\n",
       "    <tr>\n",
       "      <th>Date</th>\n",
       "      <th></th>\n",
       "      <th></th>\n",
       "      <th></th>\n",
       "    </tr>\n",
       "  </thead>\n",
       "  <tbody>\n",
       "    <tr>\n",
       "      <th>2016-01-04</th>\n",
       "      <td>0.0</td>\n",
       "      <td>32.370000</td>\n",
       "      <td>32.370000</td>\n",
       "    </tr>\n",
       "    <tr>\n",
       "      <th>2016-01-05</th>\n",
       "      <td>0.0</td>\n",
       "      <td>32.630000</td>\n",
       "      <td>32.630000</td>\n",
       "    </tr>\n",
       "    <tr>\n",
       "      <th>2016-01-06</th>\n",
       "      <td>0.0</td>\n",
       "      <td>32.263333</td>\n",
       "      <td>32.263333</td>\n",
       "    </tr>\n",
       "    <tr>\n",
       "      <th>2016-01-07</th>\n",
       "      <td>0.0</td>\n",
       "      <td>31.767500</td>\n",
       "      <td>31.767500</td>\n",
       "    </tr>\n",
       "    <tr>\n",
       "      <th>2016-01-08</th>\n",
       "      <td>0.0</td>\n",
       "      <td>31.340000</td>\n",
       "      <td>31.340000</td>\n",
       "    </tr>\n",
       "    <tr>\n",
       "      <th>...</th>\n",
       "      <td>...</td>\n",
       "      <td>...</td>\n",
       "      <td>...</td>\n",
       "    </tr>\n",
       "    <tr>\n",
       "      <th>2024-08-21</th>\n",
       "      <td>0.0</td>\n",
       "      <td>120.759200</td>\n",
       "      <td>521.406800</td>\n",
       "    </tr>\n",
       "    <tr>\n",
       "      <th>2024-08-22</th>\n",
       "      <td>0.0</td>\n",
       "      <td>120.815800</td>\n",
       "      <td>513.607900</td>\n",
       "    </tr>\n",
       "    <tr>\n",
       "      <th>2024-08-23</th>\n",
       "      <td>0.0</td>\n",
       "      <td>120.899200</td>\n",
       "      <td>505.956400</td>\n",
       "    </tr>\n",
       "    <tr>\n",
       "      <th>2024-08-26</th>\n",
       "      <td>0.0</td>\n",
       "      <td>120.836200</td>\n",
       "      <td>498.324600</td>\n",
       "    </tr>\n",
       "    <tr>\n",
       "      <th>2024-08-27</th>\n",
       "      <td>0.0</td>\n",
       "      <td>120.701400</td>\n",
       "      <td>490.985500</td>\n",
       "    </tr>\n",
       "  </tbody>\n",
       "</table>\n",
       "<p>2177 rows × 3 columns</p>\n",
       "</div>"
      ],
      "text/plain": [
       "            signal  short_mavg   long_mavg\n",
       "Date                                      \n",
       "2016-01-04     0.0   32.370000   32.370000\n",
       "2016-01-05     0.0   32.630000   32.630000\n",
       "2016-01-06     0.0   32.263333   32.263333\n",
       "2016-01-07     0.0   31.767500   31.767500\n",
       "2016-01-08     0.0   31.340000   31.340000\n",
       "...            ...         ...         ...\n",
       "2024-08-21     0.0  120.759200  521.406800\n",
       "2024-08-22     0.0  120.815800  513.607900\n",
       "2024-08-23     0.0  120.899200  505.956400\n",
       "2024-08-26     0.0  120.836200  498.324600\n",
       "2024-08-27     0.0  120.701400  490.985500\n",
       "\n",
       "[2177 rows x 3 columns]"
      ]
     },
     "execution_count": 471,
     "metadata": {},
     "output_type": "execute_result"
    }
   ],
   "source": [
    "signals"
   ]
  },
  {
   "cell_type": "code",
   "execution_count": 56,
   "metadata": {
    "tags": []
   },
   "outputs": [],
   "source": [
    "def backtesting_plot(signals, returns):\n",
    "    \"\"\"\n",
    "    signals: dataframe with column 0/1\n",
    "    returns: dataframe with [[holdings, cash, equity, returns]]\n",
    "    \"\"\"\n",
    "    \n",
    "    # backtesting results\n",
    "    fig, ax = plt.subplots(2, 1, figsize=(15, 10), tight_layout=True)\n",
    "    # fig.patch.set_facecolor('white')\n",
    "    ax[0].plot(bars[\"Close\"], label=\"Close\")\n",
    "    ax[0].scatter(\n",
    "        bars[\"Close\"][signals[\"signal\"] == 1.0].index,\n",
    "        bars[\"Close\"][signals[\"signal\"] == 1.0],\n",
    "        100,\n",
    "        c=\"green\",\n",
    "        marker=\"^\",\n",
    "    ) # buy signals\n",
    "    ax[0].scatter(\n",
    "        bars[\"Close\"][signals[\"signal\"] == -1.0].index,\n",
    "        bars[\"Close\"][signals[\"signal\"] == -1.0],\n",
    "        100,\n",
    "        c=\"red\",\n",
    "        marker=\"v\",\n",
    "    ) # sell signals\n",
    "    \n",
    "    \n",
    "    if \"short_mavg\" in signals.columns:\n",
    "        # Long/short moving average\n",
    "        ax[0].plot(signals[[\"short_mavg\", \"long_mavg\"]], label=[\"short_sma\", \"long_sma\"])\n",
    "        ax[0].set_title(\n",
    "            f\"{symbol} Close price and {short_window}d-SMA and {long_window}d-SMA for {int(len(signals)/252)} years\"\n",
    "        )\n",
    "    else:\n",
    "        ax[0].set_title(\n",
    "            f\"{symbol} Close price for {int(len(signals)/252)} years\"\n",
    "        )\n",
    "    \n",
    "    ax[0].set_xlabel(\"Date\")\n",
    "    ax[0].legend()\n",
    "    \n",
    "    # Equity curve\n",
    "    ax[1].plot(returns[\"equity\"])\n",
    "    ax[1].scatter(\n",
    "        returns[signals[\"signal\"] == 1.0].index,\n",
    "        returns[\"equity\"][signals[\"signal\"] == 1.0],\n",
    "        s=100,\n",
    "        c=\"green\",\n",
    "        marker=\"^\",\n",
    "    )\n",
    "    ax[1].scatter(\n",
    "        returns[signals[\"signal\"] == -1.0].index,\n",
    "        returns[\"equity\"][signals[\"signal\"] == -1.0],\n",
    "        s=100,\n",
    "        c=\"red\",\n",
    "        marker=\"v\",\n",
    "    )"
   ]
  },
  {
   "cell_type": "code",
   "execution_count": 72,
   "metadata": {
    "colab": {
     "base_uri": "https://localhost:8080/",
     "height": 948
    },
    "id": "zsBSJDEJ2e_t",
    "outputId": "dd0ad7e7-5c87-4584-c871-1aae21758b84",
    "tags": []
   },
   "outputs": [
    {
     "name": "stderr",
     "output_type": "stream",
     "text": [
      "/tmp/ipykernel_26799/2782439365.py:22: FutureWarning: ChainedAssignmentError: behaviour will change in pandas 3.0!\n",
      "You are setting values through chained assignment. Currently this works in certain cases, but when using Copy-on-Write (which will become the default behaviour in pandas 3.0) this will never work to update the original DataFrame or Series, because the intermediate object on which we are setting values will behave as a copy.\n",
      "A typical example is when you are setting values in a column of a DataFrame, like:\n",
      "\n",
      "df[\"col\"][row_indexer] = value\n",
      "\n",
      "Use `df.loc[row_indexer, \"col\"] = values` instead, to perform the assignment in a single step and ensure this keeps updating the original `df`.\n",
      "\n",
      "See the caveats in the documentation: https://pandas.pydata.org/pandas-docs/stable/user_guide/indexing.html#returning-a-view-versus-a-copy\n",
      "\n",
      "  signals[\"signal\"][self.short_window :] = np.where(\n",
      "/tmp/ipykernel_26799/966422173.py:77: FutureWarning: Downcasting object dtype arrays on .fillna, .ffill, .bfill is deprecated and will change in a future version. Call result.infer_objects(copy=False) instead. To opt-in to the future behavior, set `pd.set_option('future.no_silent_downcasting', True)`\n",
      "  portfolio[\"returns\"] = portfolio[\"equity\"].pct_change()\n"
     ]
    },
    {
     "name": "stdout",
     "output_type": "stream",
     "text": [
      "0.05\n"
     ]
    },
    {
     "data": {
      "image/png": "[encoded data removed]",
      "text/plain": [
       "<Figure size 1500x1000 with 2 Axes>"
      ]
     },
     "metadata": {},
     "output_type": "display_data"
    }
   ],
   "source": [
    "if __name__ == \"__main__\":\n",
    "    # symbol = \"AMD\"\n",
    "    # symbol = 'NKE'\n",
    "    symbol = 'NVDA'\n",
    "    \n",
    "    # Load data\n",
    "    # bars = yf.download(tickers=symbol, period=\"10y\")\n",
    "    api_key = \"PK6IRONYS5AQ646ZTDKX\"\n",
    "    api_secret = \"HEYwi2T3MzAmYgednADOq0g6pEjuULcEz0Hbdqg8\"\n",
    "    start_date = \"2014-01-01 00:00:00\"\n",
    "    client = StockHistoricalDataClient(api_key, api_secret)\n",
    "    bars = DataLoader(client).fetch_historical_data(symbol, start_date)\n",
    "    \n",
    "    \n",
    "    short_window, long_window = 50, 100\n",
    "\n",
    "    mac = MovingAverageCrossStrategy(\n",
    "        symbol, bars, short_window=short_window, long_window=long_window\n",
    "    )\n",
    "    signals = mac.generate_signals()\n",
    "\n",
    "    portfolio = MarketOnOpenPortfolio(symbol, bars, signals, risk_ratio=0.05, stop_loss_percent=0.1, initial_capital=100000.0)\n",
    "    returns = portfolio.backtest_portfolio()\n",
    "    \n",
    "\n",
    "    backtesting_plot(signals, returns)"
   ]
  },
  {
   "cell_type": "code",
   "execution_count": null,
   "metadata": {},
   "outputs": [],
   "source": [
    "2016-01-04 05:00:00+00:00"
   ]
  },
  {
   "cell_type": "code",
   "execution_count": 458,
   "metadata": {
    "tags": []
   },
   "outputs": [
    {
     "data": {
      "text/plain": [
       "Date\n",
       "2016-03-30    1.0\n",
       "2017-05-19    1.0\n",
       "2018-06-07    1.0\n",
       "2019-03-29    1.0\n",
       "2019-09-03    1.0\n",
       "2021-02-09    1.0\n",
       "2021-12-02    1.0\n",
       "2022-12-22    1.0\n",
       "2023-12-05    1.0\n",
       "Name: signal, dtype: float64"
      ]
     },
     "execution_count": 458,
     "metadata": {},
     "output_type": "execute_result"
    }
   ],
   "source": [
    "signals[\"signal\"][signals[\"signal\"] == 1.0]"
   ]
  },
  {
   "cell_type": "code",
   "execution_count": null,
   "metadata": {},
   "outputs": [],
   "source": [
    "signals[signals[\"signal\"] == 1.0]"
   ]
  },
  {
   "cell_type": "code",
   "execution_count": 451,
   "metadata": {
    "tags": []
   },
   "outputs": [
    {
     "data": {
      "text/plain": [
       "-9.678937775024335e-06"
      ]
     },
     "execution_count": 451,
     "metadata": {},
     "output_type": "execute_result"
    }
   ],
   "source": [
    "np.mean(returns['returns'])"
   ]
  },
  {
   "cell_type": "code",
   "execution_count": 446,
   "metadata": {
    "tags": []
   },
   "outputs": [
    {
     "data": {
      "text/plain": [
       "-0.02359813746824778"
      ]
     },
     "execution_count": 446,
     "metadata": {},
     "output_type": "execute_result"
    }
   ],
   "source": [
    "create_sharpe_ratio(returns['returns'])"
   ]
  },
  {
   "cell_type": "code",
   "execution_count": 447,
   "metadata": {
    "tags": []
   },
   "outputs": [
    {
     "name": "stderr",
     "output_type": "stream",
     "text": [
      "/tmp/ipykernel_9001/208468363.py:36: FutureWarning: Series.__getitem__ treating keys as positions is deprecated. In a future version, integer keys will always be treated as labels (consistent with DataFrame behavior). To access a value by position, use `ser.iloc[pos]`\n",
      "  cur_hwm = max(hwm[t-1], equity_curve[t])\n",
      "/tmp/ipykernel_9001/208468363.py:38: FutureWarning: Series.__getitem__ treating keys as positions is deprecated. In a future version, integer keys will always be treated as labels (consistent with DataFrame behavior). To access a value by position, use `ser.iloc[pos]`\n",
      "  drawdown[t]= hwm[t] - equity_curve[t]\n",
      "/tmp/ipykernel_9001/208468363.py:38: FutureWarning: Series.__setitem__ treating keys as positions is deprecated. In a future version, integer keys will always be treated as labels (consistent with DataFrame behavior). To set a value by position, use `ser.iloc[pos] = value`\n",
      "  drawdown[t]= hwm[t] - equity_curve[t]\n",
      "/tmp/ipykernel_9001/208468363.py:39: FutureWarning: Series.__getitem__ treating keys as positions is deprecated. In a future version, integer keys will always be treated as labels (consistent with DataFrame behavior). To access a value by position, use `ser.iloc[pos]`\n",
      "  duration[t]= 0 if drawdown[t] == 0 else duration[t-1] + 1\n",
      "/tmp/ipykernel_9001/208468363.py:39: FutureWarning: Series.__setitem__ treating keys as positions is deprecated. In a future version, integer keys will always be treated as labels (consistent with DataFrame behavior). To set a value by position, use `ser.iloc[pos] = value`\n",
      "  duration[t]= 0 if drawdown[t] == 0 else duration[t-1] + 1\n"
     ]
    },
    {
     "data": {
      "text/plain": [
       "(0.14021876825638346, 986.0)"
      ]
     },
     "execution_count": 447,
     "metadata": {},
     "output_type": "execute_result"
    }
   ],
   "source": [
    "create_drawdowns(returns['returns'])"
   ]
  },
  {
   "cell_type": "code",
   "execution_count": 448,
   "metadata": {
    "tags": []
   },
   "outputs": [
    {
     "data": {
      "text/plain": [
       "8.626984126984127"
      ]
     },
     "execution_count": 448,
     "metadata": {},
     "output_type": "execute_result"
    }
   ],
   "source": [
    "len(returns['returns'].dropna().tolist()) / 252"
   ]
  },
  {
   "cell_type": "code",
   "execution_count": 449,
   "metadata": {
    "tags": []
   },
   "outputs": [
    {
     "name": "stdout",
     "output_type": "stream",
     "text": [
      "Annualized Return: 7.95%\n"
     ]
    },
    {
     "name": "stderr",
     "output_type": "stream",
     "text": [
      "/tmp/ipykernel_9001/3677910553.py:4: FutureWarning: Series.__getitem__ treating keys as positions is deprecated. In a future version, integer keys will always be treated as labels (consistent with DataFrame behavior). To access a value by position, use `ser.iloc[pos]`\n",
      "  total_return = returns['equity'][-1] / returns['equity'][1]\n"
     ]
    }
   ],
   "source": [
    "# Step 1: Calculate the total return over the entire period\n",
    "daily_returns = np.mean(returns['returns'].dropna().tolist())\n",
    "# total_return = np.prod(1 + daily_returns) - 1\n",
    "total_return = returns['equity'][-1] / returns['equity'][1]\n",
    "\n",
    "# Step 2: Calculate the number of years\n",
    "n_years = len(returns['returns'].dropna().tolist()) / 252  # Assuming 252 trading days in a year\n",
    "\n",
    "# Step 3: Calculate the annualized return\n",
    "annualized_return = (1 + total_return) ** (1 / n_years) - 1\n",
    "\n",
    "print(f\"Annualized Return: {annualized_return*100:.2f}%\")"
   ]
  },
  {
   "cell_type": "code",
   "execution_count": null,
   "metadata": {},
   "outputs": [],
   "source": []
  },
  {
   "cell_type": "markdown",
   "metadata": {},
   "source": [
    "## Logistic Regression execution"
   ]
  },
  {
   "cell_type": "code",
   "execution_count": 108,
   "metadata": {
    "tags": []
   },
   "outputs": [
    {
     "name": "stderr",
     "output_type": "stream",
     "text": [
      "/tmp/ipykernel_16118/966422173.py:77: FutureWarning: Downcasting object dtype arrays on .fillna, .ffill, .bfill is deprecated and will change in a future version. Call result.infer_objects(copy=False) instead. To opt-in to the future behavior, set `pd.set_option('future.no_silent_downcasting', True)`\n",
      "  portfolio[\"returns\"] = portfolio[\"equity\"].pct_change()\n",
      "/tmp/ipykernel_16118/2280836868.py:90: UserWarning: Boolean Series key will be reindexed to match DataFrame index.\n",
      "  returns[signals[\"signal\"] == 1.0].index,\n",
      "/tmp/ipykernel_16118/2280836868.py:97: UserWarning: Boolean Series key will be reindexed to match DataFrame index.\n",
      "  returns[signals[\"signal\"] == -1.0].index,\n"
     ]
    },
    {
     "name": "stdout",
     "output_type": "stream",
     "text": [
      "0.05\n"
     ]
    },
    {
     "data": {
      "image/png": "[encoded data removed]",
      "text/plain": [
       "<Figure size 1500x1000 with 2 Axes>"
      ]
     },
     "metadata": {},
     "output_type": "display_data"
    }
   ],
   "source": [
    "if __name__ == \"__main__\":\n",
    "    symbol = \"AMD\"\n",
    "    \n",
    "    # Load data\n",
    "    # bars = yf.download(tickers=symbol, period=\"10y\")\n",
    "#     api_key = \"PK6IRONYS5AQ646ZTDKX\"\n",
    "#     api_secret = \"HEYwi2T3MzAmYgednADOq0g6pEjuULcEz0Hbdqg8\"\n",
    "#     client = StockHistoricalDataClient(api_key, api_secret)\n",
    "#     request_params = StockBarsRequest(\n",
    "#                             symbol_or_symbols=[symbol],\n",
    "#                             timeframe=TimeFrame.Day,\n",
    "#                             start=\"2014-01-01 00:00:00\"\n",
    "#                      )\n",
    "#     bars = client.get_stock_bars(request_params)\n",
    "#     bars_df = bars.df\n",
    "\n",
    "#     bars_df = (\n",
    "#         bars_df[['open', 'high', 'low', 'close', 'volume']]\n",
    "#         .reset_index().drop('symbol', axis=1)\n",
    "#     )\n",
    "\n",
    "#     bars = (\n",
    "#         bars_df\n",
    "#         .set_index(pd.to_datetime(bars_df['timestamp']))\n",
    "#         .rename(columns={'open': 'Open', 'high': 'High', 'low': 'Low', 'close': 'Close', 'volume': 'Volume'})\n",
    "#     )\n",
    "\n",
    "#     bars.index = bars.index.strftime('%Y-%m-%d')\n",
    "#     bars.index.name = 'Date'\n",
    "\n",
    "    api_key = \"PK6IRONYS5AQ646ZTDKX\"\n",
    "    api_secret = \"HEYwi2T3MzAmYgednADOq0g6pEjuULcEz0Hbdqg8\"\n",
    "    client = StockHistoricalDataClient(api_key, api_secret)\n",
    "\n",
    "    start_date = \"2014-01-01 00:00:00\"\n",
    "\n",
    "    data_loader = DataLoader(client)\n",
    "    bars = data_loader.fetch_historical_data(symbol, start_date=start_date)\n",
    "    \n",
    "    \n",
    "    period = 3\n",
    "    full_data = bars.copy()\n",
    "    feature_lst = ['Open', 'High', 'Low', 'Close', 'Volume']\n",
    "    full_data[feature_lst] = full_data[feature_lst].rolling(period).mean()\n",
    "    full_data.dropna(inplace=True)\n",
    "#     full_data = pd.DataFrame()\n",
    "#     full_data.index = bars.index\n",
    "\n",
    "#     for i in range(1, period + 1):\n",
    "#         for feature in ['Open','High','Low','Close','Volume']: # ['Close','Volume']:\n",
    "#             full_data[f'{feature}_-{i}'] = bars[feature].shift(i)\n",
    "\n",
    "#     full_data.dropna(inplace=True)\n",
    "    \n",
    "    clf_pred = pickle.load(open(filename, 'rb'))\n",
    "    lgr = LogisticRegressionStrategy(threshold, symbol, full_data, clf_pred)\n",
    "    signals = lgr.generate_signals()\n",
    "    \n",
    "\n",
    "    portfolio = MarketOnOpenPortfolio(symbol, bars, signals, initial_capital=100000.0)\n",
    "    returns = portfolio.backtest_portfolio()[period:]\n",
    "    \n",
    "    \n",
    "    # backtesting results\n",
    "    fig, ax = plt.subplots(2, 1, figsize=(15, 10), tight_layout=True)\n",
    "    # fig.patch.set_facecolor('white')\n",
    "    ax[0].plot(bars[\"Close\"][period:], label=\"Close\")\n",
    "    ax[0].scatter(\n",
    "        signals[signals[\"signal\"] == 1.0].index,\n",
    "        signals[signals[\"signal\"] == 1.0],\n",
    "        100,\n",
    "        c=\"green\",\n",
    "        marker=\"^\",\n",
    "    )\n",
    "    ax[0].scatter(\n",
    "        signals[signals[\"signal\"] == -1.0].index,\n",
    "        signals[signals[\"signal\"] == -1.0],\n",
    "        100,\n",
    "        c=\"red\",\n",
    "        marker=\"v\",\n",
    "    )\n",
    "    ax[0].legend()\n",
    "    ax[0].set_title(\n",
    "        f\"{symbol} Close price for 10 years\"\n",
    "    )\n",
    "    ax[0].set_xlabel(\"Date\")\n",
    "\n",
    "    ax[1].plot(returns[\"equity\"])\n",
    "    ax[1].scatter(\n",
    "        returns[signals[\"signal\"] == 1.0].index,\n",
    "        returns[\"equity\"][signals[\"signal\"] == 1.0],\n",
    "        s=100,\n",
    "        c=\"green\",\n",
    "        marker=\"^\",\n",
    "    )\n",
    "    ax[1].scatter(\n",
    "        returns[signals[\"signal\"] == -1.0].index,\n",
    "        returns[\"equity\"][signals[\"signal\"] == -1.0],\n",
    "        s=100,\n",
    "        c=\"red\",\n",
    "        marker=\"v\",\n",
    "    )"
   ]
  },
  {
   "cell_type": "code",
   "execution_count": 174,
   "metadata": {
    "tags": []
   },
   "outputs": [
    {
     "data": {
      "text/html": [
       "<div>\n",
       "<style scoped>\n",
       "    .dataframe tbody tr th:only-of-type {\n",
       "        vertical-align: middle;\n",
       "    }\n",
       "\n",
       "    .dataframe tbody tr th {\n",
       "        vertical-align: top;\n",
       "    }\n",
       "\n",
       "    .dataframe thead th {\n",
       "        text-align: right;\n",
       "    }\n",
       "</style>\n",
       "<table border=\"1\" class=\"dataframe\">\n",
       "  <thead>\n",
       "    <tr style=\"text-align: right;\">\n",
       "      <th></th>\n",
       "      <th>AMD</th>\n",
       "    </tr>\n",
       "    <tr>\n",
       "      <th>Date</th>\n",
       "      <th></th>\n",
       "    </tr>\n",
       "  </thead>\n",
       "  <tbody>\n",
       "    <tr>\n",
       "      <th>2016-01-07</th>\n",
       "      <td>100</td>\n",
       "    </tr>\n",
       "    <tr>\n",
       "      <th>2016-01-08</th>\n",
       "      <td>200</td>\n",
       "    </tr>\n",
       "    <tr>\n",
       "      <th>2016-01-11</th>\n",
       "      <td>300</td>\n",
       "    </tr>\n",
       "    <tr>\n",
       "      <th>2016-01-12</th>\n",
       "      <td>400</td>\n",
       "    </tr>\n",
       "    <tr>\n",
       "      <th>2016-01-13</th>\n",
       "      <td>500</td>\n",
       "    </tr>\n",
       "    <tr>\n",
       "      <th>...</th>\n",
       "      <td>...</td>\n",
       "    </tr>\n",
       "    <tr>\n",
       "      <th>2024-08-19</th>\n",
       "      <td>216500</td>\n",
       "    </tr>\n",
       "    <tr>\n",
       "      <th>2024-08-20</th>\n",
       "      <td>216600</td>\n",
       "    </tr>\n",
       "    <tr>\n",
       "      <th>2024-08-21</th>\n",
       "      <td>216700</td>\n",
       "    </tr>\n",
       "    <tr>\n",
       "      <th>2024-08-22</th>\n",
       "      <td>216800</td>\n",
       "    </tr>\n",
       "    <tr>\n",
       "      <th>2024-08-23</th>\n",
       "      <td>216900</td>\n",
       "    </tr>\n",
       "  </tbody>\n",
       "</table>\n",
       "<p>2172 rows × 1 columns</p>\n",
       "</div>"
      ],
      "text/plain": [
       "               AMD\n",
       "Date              \n",
       "2016-01-07     100\n",
       "2016-01-08     200\n",
       "2016-01-11     300\n",
       "2016-01-12     400\n",
       "2016-01-13     500\n",
       "...            ...\n",
       "2024-08-19  216500\n",
       "2024-08-20  216600\n",
       "2024-08-21  216700\n",
       "2024-08-22  216800\n",
       "2024-08-23  216900\n",
       "\n",
       "[2172 rows x 1 columns]"
      ]
     },
     "execution_count": 174,
     "metadata": {},
     "output_type": "execute_result"
    }
   ],
   "source": [
    "portfolio.generate_positions()"
   ]
  },
  {
   "cell_type": "code",
   "execution_count": 176,
   "metadata": {
    "tags": []
   },
   "outputs": [
    {
     "data": {
      "text/html": [
       "<div>\n",
       "<style scoped>\n",
       "    .dataframe tbody tr th:only-of-type {\n",
       "        vertical-align: middle;\n",
       "    }\n",
       "\n",
       "    .dataframe tbody tr th {\n",
       "        vertical-align: top;\n",
       "    }\n",
       "\n",
       "    .dataframe thead th {\n",
       "        text-align: right;\n",
       "    }\n",
       "</style>\n",
       "<table border=\"1\" class=\"dataframe\">\n",
       "  <thead>\n",
       "    <tr style=\"text-align: right;\">\n",
       "      <th></th>\n",
       "      <th>holdings</th>\n",
       "      <th>cash</th>\n",
       "      <th>total</th>\n",
       "      <th>returns</th>\n",
       "    </tr>\n",
       "    <tr>\n",
       "      <th>Date</th>\n",
       "      <th></th>\n",
       "      <th></th>\n",
       "      <th></th>\n",
       "      <th></th>\n",
       "    </tr>\n",
       "  </thead>\n",
       "  <tbody>\n",
       "    <tr>\n",
       "      <th>2016-01-07</th>\n",
       "      <td>243.0</td>\n",
       "      <td>NaN</td>\n",
       "      <td>NaN</td>\n",
       "      <td>NaN</td>\n",
       "    </tr>\n",
       "    <tr>\n",
       "      <th>2016-01-08</th>\n",
       "      <td>472.0</td>\n",
       "      <td>99764.00</td>\n",
       "      <td>100236.00</td>\n",
       "      <td>NaN</td>\n",
       "    </tr>\n",
       "    <tr>\n",
       "      <th>2016-01-11</th>\n",
       "      <td>648.0</td>\n",
       "      <td>99548.00</td>\n",
       "      <td>100196.00</td>\n",
       "      <td>-0.000399</td>\n",
       "    </tr>\n",
       "    <tr>\n",
       "      <th>2016-01-12</th>\n",
       "      <td>960.0</td>\n",
       "      <td>99308.00</td>\n",
       "      <td>100268.00</td>\n",
       "      <td>0.000719</td>\n",
       "    </tr>\n",
       "    <tr>\n",
       "      <th>2016-01-13</th>\n",
       "      <td>1200.0</td>\n",
       "      <td>99068.00</td>\n",
       "      <td>100268.00</td>\n",
       "      <td>0.000000</td>\n",
       "    </tr>\n",
       "    <tr>\n",
       "      <th>...</th>\n",
       "      <td>...</td>\n",
       "      <td>...</td>\n",
       "      <td>...</td>\n",
       "      <td>...</td>\n",
       "    </tr>\n",
       "    <tr>\n",
       "      <th>2024-08-19</th>\n",
       "      <td>32135095.0</td>\n",
       "      <td>-13149397.27</td>\n",
       "      <td>18985697.73</td>\n",
       "      <td>0.032116</td>\n",
       "    </tr>\n",
       "    <tr>\n",
       "      <th>2024-08-20</th>\n",
       "      <td>33895734.0</td>\n",
       "      <td>-13165046.27</td>\n",
       "      <td>20730687.73</td>\n",
       "      <td>0.091911</td>\n",
       "    </tr>\n",
       "    <tr>\n",
       "      <th>2024-08-21</th>\n",
       "      <td>33831204.0</td>\n",
       "      <td>-13180658.27</td>\n",
       "      <td>20650545.73</td>\n",
       "      <td>-0.003866</td>\n",
       "    </tr>\n",
       "    <tr>\n",
       "      <th>2024-08-22</th>\n",
       "      <td>34443016.0</td>\n",
       "      <td>-13196545.27</td>\n",
       "      <td>21246470.73</td>\n",
       "      <td>0.028858</td>\n",
       "    </tr>\n",
       "    <tr>\n",
       "      <th>2024-08-23</th>\n",
       "      <td>33315840.0</td>\n",
       "      <td>-13211905.27</td>\n",
       "      <td>20103934.73</td>\n",
       "      <td>-0.053775</td>\n",
       "    </tr>\n",
       "  </tbody>\n",
       "</table>\n",
       "<p>2172 rows × 4 columns</p>\n",
       "</div>"
      ],
      "text/plain": [
       "              holdings         cash        total   returns\n",
       "Date                                                      \n",
       "2016-01-07       243.0          NaN          NaN       NaN\n",
       "2016-01-08       472.0     99764.00    100236.00       NaN\n",
       "2016-01-11       648.0     99548.00    100196.00 -0.000399\n",
       "2016-01-12       960.0     99308.00    100268.00  0.000719\n",
       "2016-01-13      1200.0     99068.00    100268.00  0.000000\n",
       "...                ...          ...          ...       ...\n",
       "2024-08-19  32135095.0 -13149397.27  18985697.73  0.032116\n",
       "2024-08-20  33895734.0 -13165046.27  20730687.73  0.091911\n",
       "2024-08-21  33831204.0 -13180658.27  20650545.73 -0.003866\n",
       "2024-08-22  34443016.0 -13196545.27  21246470.73  0.028858\n",
       "2024-08-23  33315840.0 -13211905.27  20103934.73 -0.053775\n",
       "\n",
       "[2172 rows x 4 columns]"
      ]
     },
     "execution_count": 176,
     "metadata": {},
     "output_type": "execute_result"
    }
   ],
   "source": [
    "returns"
   ]
  },
  {
   "cell_type": "code",
   "execution_count": 166,
   "metadata": {
    "tags": []
   },
   "outputs": [
    {
     "data": {
      "text/html": [
       "<div>\n",
       "<style scoped>\n",
       "    .dataframe tbody tr th:only-of-type {\n",
       "        vertical-align: middle;\n",
       "    }\n",
       "\n",
       "    .dataframe tbody tr th {\n",
       "        vertical-align: top;\n",
       "    }\n",
       "\n",
       "    .dataframe thead th {\n",
       "        text-align: right;\n",
       "    }\n",
       "</style>\n",
       "<table border=\"1\" class=\"dataframe\">\n",
       "  <thead>\n",
       "    <tr style=\"text-align: right;\">\n",
       "      <th></th>\n",
       "      <th>timestamp</th>\n",
       "      <th>Open</th>\n",
       "      <th>High</th>\n",
       "      <th>Low</th>\n",
       "      <th>Close</th>\n",
       "      <th>Volume</th>\n",
       "    </tr>\n",
       "    <tr>\n",
       "      <th>Date</th>\n",
       "      <th></th>\n",
       "      <th></th>\n",
       "      <th></th>\n",
       "      <th></th>\n",
       "      <th></th>\n",
       "      <th></th>\n",
       "    </tr>\n",
       "  </thead>\n",
       "  <tbody>\n",
       "    <tr>\n",
       "      <th>2016-01-07</th>\n",
       "      <td>2016-01-07 05:00:00+00:00</td>\n",
       "      <td>2.43</td>\n",
       "      <td>2.480</td>\n",
       "      <td>2.26</td>\n",
       "      <td>2.275</td>\n",
       "      <td>22577907.0</td>\n",
       "    </tr>\n",
       "    <tr>\n",
       "      <th>2016-01-08</th>\n",
       "      <td>2016-01-08 05:00:00+00:00</td>\n",
       "      <td>2.36</td>\n",
       "      <td>2.425</td>\n",
       "      <td>2.10</td>\n",
       "      <td>2.140</td>\n",
       "      <td>34037306.0</td>\n",
       "    </tr>\n",
       "    <tr>\n",
       "      <th>2016-01-11</th>\n",
       "      <td>2016-01-11 05:00:00+00:00</td>\n",
       "      <td>2.16</td>\n",
       "      <td>2.360</td>\n",
       "      <td>2.12</td>\n",
       "      <td>2.340</td>\n",
       "      <td>20210936.0</td>\n",
       "    </tr>\n",
       "    <tr>\n",
       "      <th>2016-01-12</th>\n",
       "      <td>2016-01-12 05:00:00+00:00</td>\n",
       "      <td>2.40</td>\n",
       "      <td>2.460</td>\n",
       "      <td>2.28</td>\n",
       "      <td>2.390</td>\n",
       "      <td>18704579.0</td>\n",
       "    </tr>\n",
       "    <tr>\n",
       "      <th>2016-01-13</th>\n",
       "      <td>2016-01-13 05:00:00+00:00</td>\n",
       "      <td>2.40</td>\n",
       "      <td>2.450</td>\n",
       "      <td>2.21</td>\n",
       "      <td>2.250</td>\n",
       "      <td>13427196.0</td>\n",
       "    </tr>\n",
       "    <tr>\n",
       "      <th>...</th>\n",
       "      <td>...</td>\n",
       "      <td>...</td>\n",
       "      <td>...</td>\n",
       "      <td>...</td>\n",
       "      <td>...</td>\n",
       "      <td>...</td>\n",
       "    </tr>\n",
       "    <tr>\n",
       "      <th>2024-08-19</th>\n",
       "      <td>2024-08-19 04:00:00+00:00</td>\n",
       "      <td>148.43</td>\n",
       "      <td>155.365</td>\n",
       "      <td>147.72</td>\n",
       "      <td>155.280</td>\n",
       "      <td>60766854.0</td>\n",
       "    </tr>\n",
       "    <tr>\n",
       "      <th>2024-08-20</th>\n",
       "      <td>2024-08-20 04:00:00+00:00</td>\n",
       "      <td>156.49</td>\n",
       "      <td>162.040</td>\n",
       "      <td>154.51</td>\n",
       "      <td>156.400</td>\n",
       "      <td>76851158.0</td>\n",
       "    </tr>\n",
       "    <tr>\n",
       "      <th>2024-08-21</th>\n",
       "      <td>2024-08-21 04:00:00+00:00</td>\n",
       "      <td>156.12</td>\n",
       "      <td>158.650</td>\n",
       "      <td>155.07</td>\n",
       "      <td>157.810</td>\n",
       "      <td>42791246.0</td>\n",
       "    </tr>\n",
       "    <tr>\n",
       "      <th>2024-08-22</th>\n",
       "      <td>2024-08-22 04:00:00+00:00</td>\n",
       "      <td>158.87</td>\n",
       "      <td>159.840</td>\n",
       "      <td>151.01</td>\n",
       "      <td>151.700</td>\n",
       "      <td>45737257.0</td>\n",
       "    </tr>\n",
       "    <tr>\n",
       "      <th>2024-08-23</th>\n",
       "      <td>2024-08-23 04:00:00+00:00</td>\n",
       "      <td>153.60</td>\n",
       "      <td>156.400</td>\n",
       "      <td>151.83</td>\n",
       "      <td>154.980</td>\n",
       "      <td>43694642.0</td>\n",
       "    </tr>\n",
       "  </tbody>\n",
       "</table>\n",
       "<p>2172 rows × 6 columns</p>\n",
       "</div>"
      ],
      "text/plain": [
       "                           timestamp    Open     High     Low    Close  \\\n",
       "Date                                                                     \n",
       "2016-01-07 2016-01-07 05:00:00+00:00    2.43    2.480    2.26    2.275   \n",
       "2016-01-08 2016-01-08 05:00:00+00:00    2.36    2.425    2.10    2.140   \n",
       "2016-01-11 2016-01-11 05:00:00+00:00    2.16    2.360    2.12    2.340   \n",
       "2016-01-12 2016-01-12 05:00:00+00:00    2.40    2.460    2.28    2.390   \n",
       "2016-01-13 2016-01-13 05:00:00+00:00    2.40    2.450    2.21    2.250   \n",
       "...                              ...     ...      ...     ...      ...   \n",
       "2024-08-19 2024-08-19 04:00:00+00:00  148.43  155.365  147.72  155.280   \n",
       "2024-08-20 2024-08-20 04:00:00+00:00  156.49  162.040  154.51  156.400   \n",
       "2024-08-21 2024-08-21 04:00:00+00:00  156.12  158.650  155.07  157.810   \n",
       "2024-08-22 2024-08-22 04:00:00+00:00  158.87  159.840  151.01  151.700   \n",
       "2024-08-23 2024-08-23 04:00:00+00:00  153.60  156.400  151.83  154.980   \n",
       "\n",
       "                Volume  \n",
       "Date                    \n",
       "2016-01-07  22577907.0  \n",
       "2016-01-08  34037306.0  \n",
       "2016-01-11  20210936.0  \n",
       "2016-01-12  18704579.0  \n",
       "2016-01-13  13427196.0  \n",
       "...                ...  \n",
       "2024-08-19  60766854.0  \n",
       "2024-08-20  76851158.0  \n",
       "2024-08-21  42791246.0  \n",
       "2024-08-22  45737257.0  \n",
       "2024-08-23  43694642.0  \n",
       "\n",
       "[2172 rows x 6 columns]"
      ]
     },
     "execution_count": 166,
     "metadata": {},
     "output_type": "execute_result"
    }
   ],
   "source": [
    "bars[period:]"
   ]
  },
  {
   "cell_type": "code",
   "execution_count": 168,
   "metadata": {
    "tags": []
   },
   "outputs": [
    {
     "data": {
      "text/plain": [
       "Date\n",
       "2016-01-07      2.275\n",
       "2016-01-08      2.140\n",
       "2016-01-11      2.340\n",
       "2016-01-12      2.390\n",
       "2016-01-13      2.250\n",
       "               ...   \n",
       "2024-08-19    155.280\n",
       "2024-08-20    156.400\n",
       "2024-08-21    157.810\n",
       "2024-08-22    151.700\n",
       "2024-08-23    154.980\n",
       "Name: Close, Length: 2172, dtype: float64"
      ]
     },
     "execution_count": 168,
     "metadata": {},
     "output_type": "execute_result"
    }
   ],
   "source": [
    "bars[\"Close\"][period:]"
   ]
  },
  {
   "cell_type": "code",
   "execution_count": null,
   "metadata": {},
   "outputs": [],
   "source": []
  }
 ],
 "metadata": {
  "colab": {
   "authorship_tag": "ABX9TyN0OdoRm92BLIZYFIZm6iEj",
   "include_colab_link": true,
   "provenance": [],
   "toc_visible": true
  },
  "kernelspec": {
   "display_name": ".venv",
   "language": "python",
   "name": "python3"
  },
  "language_info": {
   "codemirror_mode": {
    "name": "ipython",
    "version": 3
   },
   "file_extension": ".py",
   "mimetype": "text/x-python",
   "name": "python",
   "nbconvert_exporter": "python",
   "pygments_lexer": "ipython3",
   "version": "3.9.19"
  }
 },
 "nbformat": 4,
 "nbformat_minor": 4
}
